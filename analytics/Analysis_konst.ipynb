{
 "cells": [
  {
   "cell_type": "code",
   "execution_count": 21,
   "metadata": {},
   "outputs": [],
   "source": [
    "import pandas as pd\n",
    "import numpy as np\n",
    "import datetime as dt\n",
    "from tqdm import tqdm"
   ]
  },
  {
   "cell_type": "code",
   "execution_count": 2,
   "metadata": {},
   "outputs": [
    {
     "name": "stdout",
     "output_type": "stream",
     "text": [
      "(10000000, 6)\n"
     ]
    },
    {
     "data": {
      "text/html": [
       "<div>\n",
       "<style scoped>\n",
       "    .dataframe tbody tr th:only-of-type {\n",
       "        vertical-align: middle;\n",
       "    }\n",
       "\n",
       "    .dataframe tbody tr th {\n",
       "        vertical-align: top;\n",
       "    }\n",
       "\n",
       "    .dataframe thead th {\n",
       "        text-align: right;\n",
       "    }\n",
       "</style>\n",
       "<table border=\"1\" class=\"dataframe\">\n",
       "  <thead>\n",
       "    <tr style=\"text-align: right;\">\n",
       "      <th></th>\n",
       "      <th>purchdate</th>\n",
       "      <th>amount</th>\n",
       "      <th>mcc</th>\n",
       "      <th>mrchcity</th>\n",
       "      <th>mrchname</th>\n",
       "      <th>cnum</th>\n",
       "    </tr>\n",
       "  </thead>\n",
       "  <tbody>\n",
       "    <tr>\n",
       "      <th>0</th>\n",
       "      <td>2019-11-02 00:00:00</td>\n",
       "      <td>9000000.0</td>\n",
       "      <td>5691</td>\n",
       "      <td>MOSCOW</td>\n",
       "      <td>IA7D1H Z1D1T7</td>\n",
       "      <td>MJNLMQ</td>\n",
       "    </tr>\n",
       "    <tr>\n",
       "      <th>1</th>\n",
       "      <td>2019-11-02 00:00:00</td>\n",
       "      <td>9000000.0</td>\n",
       "      <td>5691</td>\n",
       "      <td>MOSCOW</td>\n",
       "      <td>IA7D1H Z1D1T7</td>\n",
       "      <td>MJNLMQ</td>\n",
       "    </tr>\n",
       "    <tr>\n",
       "      <th>2</th>\n",
       "      <td>2019-10-25 00:00:00</td>\n",
       "      <td>7716900.0</td>\n",
       "      <td>5691</td>\n",
       "      <td>MOSCOW</td>\n",
       "      <td>HXL4K TL4EEXD</td>\n",
       "      <td>ELETCO</td>\n",
       "    </tr>\n",
       "    <tr>\n",
       "      <th>3</th>\n",
       "      <td>2019-11-29 00:00:00</td>\n",
       "      <td>5100000.0</td>\n",
       "      <td>6513</td>\n",
       "      <td>SANKT-PETERBU</td>\n",
       "      <td>7X 1E7HXD H1DKW1IKCL</td>\n",
       "      <td>EL0KSF</td>\n",
       "    </tr>\n",
       "    <tr>\n",
       "      <th>4</th>\n",
       "      <td>2019-12-03 00:00:00</td>\n",
       "      <td>5023956.6</td>\n",
       "      <td>5944</td>\n",
       "      <td>MOSKVA</td>\n",
       "      <td>73 7HJXK7 (W7X)</td>\n",
       "      <td>MPKIJJ</td>\n",
       "    </tr>\n",
       "  </tbody>\n",
       "</table>\n",
       "</div>"
      ],
      "text/plain": [
       "             purchdate     amount   mcc       mrchcity              mrchname  \\\n",
       "0  2019-11-02 00:00:00  9000000.0  5691         MOSCOW         IA7D1H Z1D1T7   \n",
       "1  2019-11-02 00:00:00  9000000.0  5691         MOSCOW         IA7D1H Z1D1T7   \n",
       "2  2019-10-25 00:00:00  7716900.0  5691         MOSCOW         HXL4K TL4EEXD   \n",
       "3  2019-11-29 00:00:00  5100000.0  6513  SANKT-PETERBU  7X 1E7HXD H1DKW1IKCL   \n",
       "4  2019-12-03 00:00:00  5023956.6  5944         MOSKVA       73 7HJXK7 (W7X)   \n",
       "\n",
       "     cnum  \n",
       "0  MJNLMQ  \n",
       "1  MJNLMQ  \n",
       "2  ELETCO  \n",
       "3  EL0KSF  \n",
       "4  MPKIJJ  "
      ]
     },
     "execution_count": 2,
     "metadata": {},
     "output_type": "execute_result"
    }
   ],
   "source": [
    "df_trans = pd.read_csv('/tmp/.fr-2qZZCD/transactions_last_2.csv', delimiter=';', nrows=10e6)\n",
    "print(df_trans.shape)\n",
    "df_trans.head()"
   ]
  },
  {
   "cell_type": "code",
   "execution_count": 3,
   "metadata": {},
   "outputs": [
    {
     "name": "stdout",
     "output_type": "stream",
     "text": [
      "(27, 2)\n"
     ]
    },
    {
     "data": {
      "text/html": [
       "<div>\n",
       "<style scoped>\n",
       "    .dataframe tbody tr th:only-of-type {\n",
       "        vertical-align: middle;\n",
       "    }\n",
       "\n",
       "    .dataframe tbody tr th {\n",
       "        vertical-align: top;\n",
       "    }\n",
       "\n",
       "    .dataframe thead th {\n",
       "        text-align: right;\n",
       "    }\n",
       "</style>\n",
       "<table border=\"1\" class=\"dataframe\">\n",
       "  <thead>\n",
       "    <tr style=\"text-align: right;\">\n",
       "      <th></th>\n",
       "      <th>category</th>\n",
       "      <th>description</th>\n",
       "    </tr>\n",
       "  </thead>\n",
       "  <tbody>\n",
       "    <tr>\n",
       "      <th>0</th>\n",
       "      <td>10</td>\n",
       "      <td>VIP/ Management recommendations</td>\n",
       "    </tr>\n",
       "    <tr>\n",
       "      <th>1</th>\n",
       "      <td>11</td>\n",
       "      <td>VIP/ Management recommendations (family)</td>\n",
       "    </tr>\n",
       "    <tr>\n",
       "      <th>2</th>\n",
       "      <td>17</td>\n",
       "      <td>Private Banking customers walk-in</td>\n",
       "    </tr>\n",
       "    <tr>\n",
       "      <th>3</th>\n",
       "      <td>18</td>\n",
       "      <td>Private banking customers payroll</td>\n",
       "    </tr>\n",
       "    <tr>\n",
       "      <th>4</th>\n",
       "      <td>20</td>\n",
       "      <td>High income individuals</td>\n",
       "    </tr>\n",
       "  </tbody>\n",
       "</table>\n",
       "</div>"
      ],
      "text/plain": [
       "   category                               description\n",
       "0        10           VIP/ Management recommendations\n",
       "1        11  VIP/ Management recommendations (family)\n",
       "2        17         Private Banking customers walk-in\n",
       "3        18         Private banking customers payroll\n",
       "4        20                   High income individuals"
      ]
     },
     "execution_count": 3,
     "metadata": {},
     "output_type": "execute_result"
    }
   ],
   "source": [
    "df_cc = pd.read_csv('client_categories.csv', delimiter=';')\n",
    "print(df_cc.shape)\n",
    "df_cc.head()"
   ]
  },
  {
   "cell_type": "code",
   "execution_count": 4,
   "metadata": {},
   "outputs": [
    {
     "name": "stdout",
     "output_type": "stream",
     "text": [
      "(1355925, 6)\n"
     ]
    },
    {
     "data": {
      "text/html": [
       "<div>\n",
       "<style scoped>\n",
       "    .dataframe tbody tr th:only-of-type {\n",
       "        vertical-align: middle;\n",
       "    }\n",
       "\n",
       "    .dataframe tbody tr th {\n",
       "        vertical-align: top;\n",
       "    }\n",
       "\n",
       "    .dataframe thead th {\n",
       "        text-align: right;\n",
       "    }\n",
       "</style>\n",
       "<table border=\"1\" class=\"dataframe\">\n",
       "  <thead>\n",
       "    <tr style=\"text-align: right;\">\n",
       "      <th></th>\n",
       "      <th>cnum_</th>\n",
       "      <th>categorycode</th>\n",
       "      <th>gender</th>\n",
       "      <th>age</th>\n",
       "      <th>married_</th>\n",
       "      <th>residenttype</th>\n",
       "    </tr>\n",
       "  </thead>\n",
       "  <tbody>\n",
       "    <tr>\n",
       "      <th>0</th>\n",
       "      <td>0CCCDO</td>\n",
       "      <td>81</td>\n",
       "      <td>M</td>\n",
       "      <td>32</td>\n",
       "      <td>not_married</td>\n",
       "      <td>R</td>\n",
       "    </tr>\n",
       "    <tr>\n",
       "      <th>1</th>\n",
       "      <td>0CCCFO</td>\n",
       "      <td>70</td>\n",
       "      <td>F</td>\n",
       "      <td>42</td>\n",
       "      <td>not_married</td>\n",
       "      <td>R</td>\n",
       "    </tr>\n",
       "    <tr>\n",
       "      <th>2</th>\n",
       "      <td>0CCCGC</td>\n",
       "      <td>50</td>\n",
       "      <td>F</td>\n",
       "      <td>33</td>\n",
       "      <td>married</td>\n",
       "      <td>R</td>\n",
       "    </tr>\n",
       "    <tr>\n",
       "      <th>3</th>\n",
       "      <td>0CCCGG</td>\n",
       "      <td>70</td>\n",
       "      <td>M</td>\n",
       "      <td>58</td>\n",
       "      <td>not_married</td>\n",
       "      <td>R</td>\n",
       "    </tr>\n",
       "    <tr>\n",
       "      <th>4</th>\n",
       "      <td>0CCCGO</td>\n",
       "      <td>60</td>\n",
       "      <td>M</td>\n",
       "      <td>38</td>\n",
       "      <td>married</td>\n",
       "      <td>R</td>\n",
       "    </tr>\n",
       "  </tbody>\n",
       "</table>\n",
       "</div>"
      ],
      "text/plain": [
       "    cnum_  categorycode gender  age     married_ residenttype\n",
       "0  0CCCDO            81      M   32  not_married            R\n",
       "1  0CCCFO            70      F   42  not_married            R\n",
       "2  0CCCGC            50      F   33      married            R\n",
       "3  0CCCGG            70      M   58  not_married            R\n",
       "4  0CCCGO            60      M   38      married            R"
      ]
     },
     "execution_count": 4,
     "metadata": {},
     "output_type": "execute_result"
    }
   ],
   "source": [
    "df_cf = pd.read_csv('clients_last_2_fixed.csv', delimiter=';')\n",
    "print(df_cf.shape)\n",
    "df_cf.head()"
   ]
  },
  {
   "cell_type": "code",
   "execution_count": 5,
   "metadata": {},
   "outputs": [
    {
     "name": "stdout",
     "output_type": "stream",
     "text": [
      "(896, 2)\n"
     ]
    },
    {
     "data": {
      "text/html": [
       "<div>\n",
       "<style scoped>\n",
       "    .dataframe tbody tr th:only-of-type {\n",
       "        vertical-align: middle;\n",
       "    }\n",
       "\n",
       "    .dataframe tbody tr th {\n",
       "        vertical-align: top;\n",
       "    }\n",
       "\n",
       "    .dataframe thead th {\n",
       "        text-align: right;\n",
       "    }\n",
       "</style>\n",
       "<table border=\"1\" class=\"dataframe\">\n",
       "  <thead>\n",
       "    <tr style=\"text-align: right;\">\n",
       "      <th></th>\n",
       "      <th>mcc</th>\n",
       "      <th>category</th>\n",
       "    </tr>\n",
       "  </thead>\n",
       "  <tbody>\n",
       "    <tr>\n",
       "      <th>0</th>\n",
       "      <td>742</td>\n",
       "      <td>Pet</td>\n",
       "    </tr>\n",
       "    <tr>\n",
       "      <th>1</th>\n",
       "      <td>763</td>\n",
       "      <td>Other</td>\n",
       "    </tr>\n",
       "    <tr>\n",
       "      <th>2</th>\n",
       "      <td>780</td>\n",
       "      <td>Maintenance and building</td>\n",
       "    </tr>\n",
       "    <tr>\n",
       "      <th>3</th>\n",
       "      <td>1520</td>\n",
       "      <td>Maintenance and building</td>\n",
       "    </tr>\n",
       "    <tr>\n",
       "      <th>4</th>\n",
       "      <td>1711</td>\n",
       "      <td>Maintenance and building</td>\n",
       "    </tr>\n",
       "  </tbody>\n",
       "</table>\n",
       "</div>"
      ],
      "text/plain": [
       "    mcc                  category\n",
       "0   742                       Pet\n",
       "1   763                     Other\n",
       "2   780  Maintenance and building\n",
       "3  1520  Maintenance and building\n",
       "4  1711  Maintenance and building"
      ]
     },
     "execution_count": 5,
     "metadata": {},
     "output_type": "execute_result"
    }
   ],
   "source": [
    "df_mcc = pd.read_excel('MCC.xlsx', delimiter=';')\n",
    "print(df_mcc.shape)\n",
    "df_mcc.head()"
   ]
  },
  {
   "cell_type": "code",
   "execution_count": 6,
   "metadata": {},
   "outputs": [
    {
     "name": "stdout",
     "output_type": "stream",
     "text": [
      "(925, 2)\n"
     ]
    },
    {
     "data": {
      "text/html": [
       "<div>\n",
       "<style scoped>\n",
       "    .dataframe tbody tr th:only-of-type {\n",
       "        vertical-align: middle;\n",
       "    }\n",
       "\n",
       "    .dataframe tbody tr th {\n",
       "        vertical-align: top;\n",
       "    }\n",
       "\n",
       "    .dataframe thead th {\n",
       "        text-align: right;\n",
       "    }\n",
       "</style>\n",
       "<table border=\"1\" class=\"dataframe\">\n",
       "  <thead>\n",
       "    <tr style=\"text-align: right;\">\n",
       "      <th></th>\n",
       "      <th>mcc</th>\n",
       "      <th>category</th>\n",
       "    </tr>\n",
       "  </thead>\n",
       "  <tbody>\n",
       "    <tr>\n",
       "      <th>0</th>\n",
       "      <td>742</td>\n",
       "      <td>Pet</td>\n",
       "    </tr>\n",
       "    <tr>\n",
       "      <th>1</th>\n",
       "      <td>763</td>\n",
       "      <td>Other</td>\n",
       "    </tr>\n",
       "    <tr>\n",
       "      <th>2</th>\n",
       "      <td>780</td>\n",
       "      <td>Maintenance and building</td>\n",
       "    </tr>\n",
       "    <tr>\n",
       "      <th>3</th>\n",
       "      <td>1520</td>\n",
       "      <td>Maintenance and building</td>\n",
       "    </tr>\n",
       "    <tr>\n",
       "      <th>4</th>\n",
       "      <td>1711</td>\n",
       "      <td>Maintenance and building</td>\n",
       "    </tr>\n",
       "  </tbody>\n",
       "</table>\n",
       "</div>"
      ],
      "text/plain": [
       "    mcc                  category\n",
       "0   742                       Pet\n",
       "1   763                     Other\n",
       "2   780  Maintenance and building\n",
       "3  1520  Maintenance and building\n",
       "4  1711  Maintenance and building"
      ]
     },
     "execution_count": 6,
     "metadata": {},
     "output_type": "execute_result"
    }
   ],
   "source": [
    "df_mccl = pd.read_excel('MCC_last.xlsx', delimiter=';')\n",
    "print(df_mccl.shape)\n",
    "df_mccl.head()"
   ]
  },
  {
   "cell_type": "code",
   "execution_count": 7,
   "metadata": {},
   "outputs": [
    {
     "name": "stdout",
     "output_type": "stream",
     "text": [
      "(52, 8)\n"
     ]
    },
    {
     "data": {
      "text/html": [
       "<div>\n",
       "<style scoped>\n",
       "    .dataframe tbody tr th:only-of-type {\n",
       "        vertical-align: middle;\n",
       "    }\n",
       "\n",
       "    .dataframe tbody tr th {\n",
       "        vertical-align: top;\n",
       "    }\n",
       "\n",
       "    .dataframe thead th {\n",
       "        text-align: right;\n",
       "    }\n",
       "</style>\n",
       "<table border=\"1\" class=\"dataframe\">\n",
       "  <thead>\n",
       "    <tr style=\"text-align: right;\">\n",
       "      <th></th>\n",
       "      <th>partner_name</th>\n",
       "      <th>offer_name</th>\n",
       "      <th>category</th>\n",
       "      <th>percents_</th>\n",
       "      <th>selltype</th>\n",
       "      <th>city_name</th>\n",
       "      <th>comment</th>\n",
       "      <th>enddate</th>\n",
       "    </tr>\n",
       "  </thead>\n",
       "  <tbody>\n",
       "    <tr>\n",
       "      <th>0</th>\n",
       "      <td>Teana</td>\n",
       "      <td>Tean�</td>\n",
       "      <td>���������� � ���������</td>\n",
       "      <td>10.0</td>\n",
       "      <td>Online</td>\n",
       "      <td>NaN</td>\n",
       "      <td>����������� ������������� ������ � ��������-��...</td>\n",
       "      <td>2021-10-01 03:00:00</td>\n",
       "    </tr>\n",
       "    <tr>\n",
       "      <th>1</th>\n",
       "      <td>Prime Travel</td>\n",
       "      <td>Prime Travel</td>\n",
       "      <td>�����������</td>\n",
       "      <td>5.0</td>\n",
       "      <td>Online</td>\n",
       "      <td>NaN</td>\n",
       "      <td>������ � ������� �������.����� ���������� ����...</td>\n",
       "      <td>2020-12-31 03:00:00</td>\n",
       "    </tr>\n",
       "    <tr>\n",
       "      <th>2</th>\n",
       "      <td>Special Travel Club</td>\n",
       "      <td>Special Travel Club</td>\n",
       "      <td>�����������</td>\n",
       "      <td>12.0</td>\n",
       "      <td>Online</td>\n",
       "      <td>NaN</td>\n",
       "      <td>NaN</td>\n",
       "      <td>2020-12-31 03:00:00</td>\n",
       "    </tr>\n",
       "    <tr>\n",
       "      <th>3</th>\n",
       "      <td>Hotels.com</td>\n",
       "      <td>Hotels.com</td>\n",
       "      <td>�����������</td>\n",
       "      <td>10.0</td>\n",
       "      <td>NaN</td>\n",
       "      <td>NaN</td>\n",
       "      <td>�������� ��������� ������ �� �����, ����������...</td>\n",
       "      <td>2020-12-31 03:00:00</td>\n",
       "    </tr>\n",
       "    <tr>\n",
       "      <th>4</th>\n",
       "      <td>������.����</td>\n",
       "      <td>������.����</td>\n",
       "      <td>����� � �����������</td>\n",
       "      <td>NaN</td>\n",
       "      <td>Online</td>\n",
       "      <td>NaN</td>\n",
       "      <td>90 ���� �������� ������.����. ��������� �� ���...</td>\n",
       "      <td>2020-12-31 03:00:00</td>\n",
       "    </tr>\n",
       "  </tbody>\n",
       "</table>\n",
       "</div>"
      ],
      "text/plain": [
       "          partner_name           offer_name                category  \\\n",
       "0                Teana                Tean�  ���������� � ���������   \n",
       "1        Prime Travel          Prime Travel             �����������   \n",
       "2  Special Travel Club  Special Travel Club             �����������   \n",
       "3           Hotels.com           Hotels.com             �����������   \n",
       "4          ������.����          ������.����     ����� � �����������   \n",
       "\n",
       "   percents_ selltype city_name  \\\n",
       "0       10.0   Online       NaN   \n",
       "1        5.0   Online       NaN   \n",
       "2       12.0   Online       NaN   \n",
       "3       10.0      NaN       NaN   \n",
       "4        NaN   Online       NaN   \n",
       "\n",
       "                                             comment              enddate  \n",
       "0  ����������� ������������� ������ � ��������-��...  2021-10-01 03:00:00  \n",
       "1  ������ � ������� �������.����� ���������� ����...  2020-12-31 03:00:00  \n",
       "2                                                NaN  2020-12-31 03:00:00  \n",
       "3  �������� ��������� ������ �� �����, ����������...  2020-12-31 03:00:00  \n",
       "4  90 ���� �������� ������.����. ��������� �� ���...  2020-12-31 03:00:00  "
      ]
     },
     "execution_count": 7,
     "metadata": {},
     "output_type": "execute_result"
    }
   ],
   "source": [
    "df_s = pd.read_csv('skidki.csv', delimiter=';', engine='python')\n",
    "print(df_s.shape)\n",
    "df_s.head()"
   ]
  },
  {
   "cell_type": "code",
   "execution_count": 8,
   "metadata": {},
   "outputs": [
    {
     "name": "stdout",
     "output_type": "stream",
     "text": [
      "(503285, 2)\n"
     ]
    },
    {
     "data": {
      "text/html": [
       "<div>\n",
       "<style scoped>\n",
       "    .dataframe tbody tr th:only-of-type {\n",
       "        vertical-align: middle;\n",
       "    }\n",
       "\n",
       "    .dataframe tbody tr th {\n",
       "        vertical-align: top;\n",
       "    }\n",
       "\n",
       "    .dataframe thead th {\n",
       "        text-align: right;\n",
       "    }\n",
       "</style>\n",
       "<table border=\"1\" class=\"dataframe\">\n",
       "  <thead>\n",
       "    <tr style=\"text-align: right;\">\n",
       "      <th></th>\n",
       "      <th>store_name</th>\n",
       "      <th>merchant_name</th>\n",
       "    </tr>\n",
       "  </thead>\n",
       "  <tbody>\n",
       "    <tr>\n",
       "      <th>0</th>\n",
       "      <td>��������</td>\n",
       "      <td>VVVVVVVVVVVVSG/W7J4K 07ZL</td>\n",
       "    </tr>\n",
       "    <tr>\n",
       "      <th>1</th>\n",
       "      <td>����</td>\n",
       "      <td>VVVVVVVVVVVVR4U4 CXD1O</td>\n",
       "    </tr>\n",
       "    <tr>\n",
       "      <th>2</th>\n",
       "      <td>��������</td>\n",
       "      <td>VVVVVVVVVVV/078 WXWLH7J K</td>\n",
       "    </tr>\n",
       "    <tr>\n",
       "      <th>3</th>\n",
       "      <td>��������</td>\n",
       "      <td>VVVVVVVVVVV/08 7JJ4T7H AK</td>\n",
       "    </tr>\n",
       "    <tr>\n",
       "      <th>4</th>\n",
       "      <td>��������</td>\n",
       "      <td>VVVVVVVVVVV1SV6</td>\n",
       "    </tr>\n",
       "  </tbody>\n",
       "</table>\n",
       "</div>"
      ],
      "text/plain": [
       "  store_name              merchant_name\n",
       "0   ��������  VVVVVVVVVVVVSG/W7J4K 07ZL\n",
       "1       ����     VVVVVVVVVVVVR4U4 CXD1O\n",
       "2   ��������  VVVVVVVVVVV/078 WXWLH7J K\n",
       "3   ��������  VVVVVVVVVVV/08 7JJ4T7H AK\n",
       "4   ��������            VVVVVVVVVVV1SV6"
      ]
     },
     "execution_count": 8,
     "metadata": {},
     "output_type": "execute_result"
    }
   ],
   "source": [
    "df_sl = pd.read_csv('store_last_2.csv', delimiter=';', engine='python')\n",
    "print(df_sl.shape)\n",
    "df_sl.head()"
   ]
  },
  {
   "cell_type": "code",
   "execution_count": null,
   "metadata": {},
   "outputs": [],
   "source": []
  },
  {
   "cell_type": "code",
   "execution_count": 9,
   "metadata": {},
   "outputs": [
    {
     "name": "stdout",
     "output_type": "stream",
     "text": [
      "(4187626, 9)\n"
     ]
    },
    {
     "data": {
      "text/html": [
       "<div>\n",
       "<style scoped>\n",
       "    .dataframe tbody tr th:only-of-type {\n",
       "        vertical-align: middle;\n",
       "    }\n",
       "\n",
       "    .dataframe tbody tr th {\n",
       "        vertical-align: top;\n",
       "    }\n",
       "\n",
       "    .dataframe thead th {\n",
       "        text-align: right;\n",
       "    }\n",
       "</style>\n",
       "<table border=\"1\" class=\"dataframe\">\n",
       "  <thead>\n",
       "    <tr style=\"text-align: right;\">\n",
       "      <th></th>\n",
       "      <th>purchdate</th>\n",
       "      <th>amount</th>\n",
       "      <th>mcc</th>\n",
       "      <th>mrchcity</th>\n",
       "      <th>mrchname</th>\n",
       "      <th>cnum</th>\n",
       "      <th>category</th>\n",
       "      <th>store_name</th>\n",
       "      <th>merchant_name</th>\n",
       "    </tr>\n",
       "  </thead>\n",
       "  <tbody>\n",
       "    <tr>\n",
       "      <th>0</th>\n",
       "      <td>2019-11-02 00:00:00</td>\n",
       "      <td>9000000.0</td>\n",
       "      <td>5691</td>\n",
       "      <td>MOSCOW</td>\n",
       "      <td>IA7D1H Z1D1T7</td>\n",
       "      <td>MJNLMQ</td>\n",
       "      <td>Clothes</td>\n",
       "      <td>Chanel</td>\n",
       "      <td>IA7D1H Z1D1T7</td>\n",
       "    </tr>\n",
       "    <tr>\n",
       "      <th>1</th>\n",
       "      <td>2019-11-02 00:00:00</td>\n",
       "      <td>9000000.0</td>\n",
       "      <td>5691</td>\n",
       "      <td>MOSCOW</td>\n",
       "      <td>IA7D1H Z1D1T7</td>\n",
       "      <td>MJNLMQ</td>\n",
       "      <td>Clothes</td>\n",
       "      <td>Chanel</td>\n",
       "      <td>IA7D1H Z1D1T7</td>\n",
       "    </tr>\n",
       "    <tr>\n",
       "      <th>2</th>\n",
       "      <td>2019-11-02 00:00:00</td>\n",
       "      <td>5000000.0</td>\n",
       "      <td>5691</td>\n",
       "      <td>MOSCOW</td>\n",
       "      <td>IA7D1H Z1D1T7</td>\n",
       "      <td>MJNLMQ</td>\n",
       "      <td>Clothes</td>\n",
       "      <td>Chanel</td>\n",
       "      <td>IA7D1H Z1D1T7</td>\n",
       "    </tr>\n",
       "    <tr>\n",
       "      <th>3</th>\n",
       "      <td>2019-11-02 00:00:00</td>\n",
       "      <td>5000000.0</td>\n",
       "      <td>5691</td>\n",
       "      <td>MOSCOW</td>\n",
       "      <td>IA7D1H Z1D1T7</td>\n",
       "      <td>MJNLMQ</td>\n",
       "      <td>Clothes</td>\n",
       "      <td>Chanel</td>\n",
       "      <td>IA7D1H Z1D1T7</td>\n",
       "    </tr>\n",
       "    <tr>\n",
       "      <th>4</th>\n",
       "      <td>2019-12-10 00:00:00</td>\n",
       "      <td>2371100.0</td>\n",
       "      <td>5691</td>\n",
       "      <td>MOSCOW</td>\n",
       "      <td>IA7D1H Z1D1T7</td>\n",
       "      <td>EEQ4VM</td>\n",
       "      <td>Clothes</td>\n",
       "      <td>Chanel</td>\n",
       "      <td>IA7D1H Z1D1T7</td>\n",
       "    </tr>\n",
       "  </tbody>\n",
       "</table>\n",
       "</div>"
      ],
      "text/plain": [
       "             purchdate     amount   mcc mrchcity       mrchname    cnum  \\\n",
       "0  2019-11-02 00:00:00  9000000.0  5691   MOSCOW  IA7D1H Z1D1T7  MJNLMQ   \n",
       "1  2019-11-02 00:00:00  9000000.0  5691   MOSCOW  IA7D1H Z1D1T7  MJNLMQ   \n",
       "2  2019-11-02 00:00:00  5000000.0  5691   MOSCOW  IA7D1H Z1D1T7  MJNLMQ   \n",
       "3  2019-11-02 00:00:00  5000000.0  5691   MOSCOW  IA7D1H Z1D1T7  MJNLMQ   \n",
       "4  2019-12-10 00:00:00  2371100.0  5691   MOSCOW  IA7D1H Z1D1T7  EEQ4VM   \n",
       "\n",
       "  category store_name  merchant_name  \n",
       "0  Clothes     Chanel  IA7D1H Z1D1T7  \n",
       "1  Clothes     Chanel  IA7D1H Z1D1T7  \n",
       "2  Clothes     Chanel  IA7D1H Z1D1T7  \n",
       "3  Clothes     Chanel  IA7D1H Z1D1T7  \n",
       "4  Clothes     Chanel  IA7D1H Z1D1T7  "
      ]
     },
     "execution_count": 9,
     "metadata": {},
     "output_type": "execute_result"
    }
   ],
   "source": [
    "df_trans = df_trans.merge(df_mcc, on='mcc', how='inner')\n",
    "df_trans = df_trans.merge(df_sl, left_on='mrchname', right_on='merchant_name')\n",
    "print(df_trans.shape)\n",
    "df_trans.head()"
   ]
  },
  {
   "cell_type": "code",
   "execution_count": 10,
   "metadata": {},
   "outputs": [
    {
     "data": {
      "text/plain": [
       "Other                        2079940\n",
       "Supermarkets                  547866\n",
       "Clothes                       391317\n",
       "Tourism                       166757\n",
       "Payments                      161348\n",
       "Furniture, home               121088\n",
       "Medical                        84960\n",
       "Soft                           83896\n",
       "Beauty                         77101\n",
       "Restaurants                    61591\n",
       "Sport                          58773\n",
       "Cultural life                  49985\n",
       "Kids                           45341\n",
       "Railway and sea transport      43731\n",
       "Legal and  insurance           27473\n",
       "Auto                           26604\n",
       "Maintenance and building       24503\n",
       "Parking&Fuel                   22515\n",
       "Discount                       16566\n",
       "Postal services, delivery      15741\n",
       "Fast Food                      13237\n",
       "Alcohol and tobacco            11680\n",
       "Pet                             8875\n",
       "Providers                       7890\n",
       "Money                           6631\n",
       "Design, print                   5839\n",
       "Local and autotransport         5274\n",
       "Education                       5075\n",
       "Gambling                        4746\n",
       "Gift, hobby                     4438\n",
       "Taxi                            2993\n",
       "Services                        1969\n",
       "Video games                     1628\n",
       "Active rest                      255\n",
       "Name: category, dtype: int64"
      ]
     },
     "execution_count": 10,
     "metadata": {},
     "output_type": "execute_result"
    }
   ],
   "source": [
    "df_trans.category.value_counts()"
   ]
  },
  {
   "cell_type": "code",
   "execution_count": 67,
   "metadata": {},
   "outputs": [
    {
     "data": {
      "text/plain": [
       "�����                           124305\n",
       "����                             69044\n",
       "������ �����                     50801\n",
       "Metro Cash&Carry                 38641\n",
       "�����������                      29642\n",
       "                                 ...  \n",
       "����� ���� ������                    1\n",
       "�������� 2                           1\n",
       "Super �����                          1\n",
       "�� ����                              1\n",
       "��������� ������� ����������         1\n",
       "Name: store_name, Length: 644, dtype: int64"
      ]
     },
     "execution_count": 67,
     "metadata": {},
     "output_type": "execute_result"
    }
   ],
   "source": [
    "df_trans[df_trans.category == 'Supermarkets'].store_name.value_counts()"
   ]
  },
  {
   "cell_type": "code",
   "execution_count": 69,
   "metadata": {},
   "outputs": [],
   "source": [
    "store_name = 'Metro Cash&Carry'"
   ]
  },
  {
   "cell_type": "code",
   "execution_count": 14,
   "metadata": {},
   "outputs": [],
   "source": [
    "df_trans['created_at'] = df_trans.purchdate.apply(lambda x: dt.datetime.strptime(x, \"%Y-%m-%d %H:%M:%S\"))"
   ]
  },
  {
   "cell_type": "code",
   "execution_count": 118,
   "metadata": {},
   "outputs": [
    {
     "data": {
      "text/plain": [
       "Timestamp('2019-12-20 00:00:00')"
      ]
     },
     "execution_count": 118,
     "metadata": {},
     "output_type": "execute_result"
    }
   ],
   "source": [
    "df_trans.created_at.max()"
   ]
  },
  {
   "cell_type": "code",
   "execution_count": 28,
   "metadata": {},
   "outputs": [],
   "source": [
    "df_trans.sort_values(by=['store_name', 'created_at'], inplace=True)"
   ]
  },
  {
   "cell_type": "code",
   "execution_count": 54,
   "metadata": {},
   "outputs": [
    {
     "data": {
      "text/plain": [
       "4"
      ]
     },
     "execution_count": 54,
     "metadata": {},
     "output_type": "execute_result"
    }
   ],
   "source": [
    "dates_sorted = sorted(df_trans.created_at.apply(lambda x: x.replace(day=1)).unique())\n",
    "len(dates_sorted)"
   ]
  },
  {
   "cell_type": "code",
   "execution_count": 70,
   "metadata": {},
   "outputs": [
    {
     "name": "stderr",
     "output_type": "stream",
     "text": [
      "38653it [00:36, 1066.77it/s]\n"
     ]
    }
   ],
   "source": [
    "#dates_sorted = df_trans.created_at.sort_values().unique()\n",
    "#dates_sorted = sorted(set([d.replace(day=1) for d in dates_sorted if isinstance(d, )]))\n",
    "\n",
    "#dates_sorted = sorted(dates_sorted.created_at.apply(lambda x: x.replace(day=1)).unique())\n",
    "\n",
    "res = pd.DataFrame(np.zeros((len(dates_sorted), len(dates_sorted))), columns=list(range(len(dates_sorted))), index=dates_sorted)\n",
    "\n",
    "unique_users = list()\n",
    "dates = list()\n",
    "\n",
    "for idx, row in tqdm(df_trans[df_trans.store_name == store_name].iterrows()):\n",
    "    created_at = row.created_at.replace(day=1)\n",
    "    if row.cnum not in unique_users:\n",
    "        unique_users.append(row.cnum)\n",
    "        dates.append(created_at)\n",
    "    else:\n",
    "        #print(unique_users.index(row['cnum']))\n",
    "        #print(row['created_at'])\n",
    "        #print(dates[unique_users.index(row['cnum'])])\n",
    "        #print((row['created_at'] - dates[unique_users.index(row['cnum'])]).days)\n",
    "        res.loc[dates[unique_users.index(row['cnum'])], int((created_at - dates[unique_users.index(row['cnum'])]).days / 31)] += 1"
   ]
  },
  {
   "cell_type": "code",
   "execution_count": 71,
   "metadata": {},
   "outputs": [
    {
     "data": {
      "text/html": [
       "<div>\n",
       "<style scoped>\n",
       "    .dataframe tbody tr th:only-of-type {\n",
       "        vertical-align: middle;\n",
       "    }\n",
       "\n",
       "    .dataframe tbody tr th {\n",
       "        vertical-align: top;\n",
       "    }\n",
       "\n",
       "    .dataframe thead th {\n",
       "        text-align: right;\n",
       "    }\n",
       "</style>\n",
       "<table border=\"1\" class=\"dataframe\">\n",
       "  <thead>\n",
       "    <tr style=\"text-align: right;\">\n",
       "      <th></th>\n",
       "      <th>0</th>\n",
       "      <th>1</th>\n",
       "      <th>2</th>\n",
       "      <th>3</th>\n",
       "    </tr>\n",
       "  </thead>\n",
       "  <tbody>\n",
       "    <tr>\n",
       "      <th>2019-09-01</th>\n",
       "      <td>5192.0</td>\n",
       "      <td>3907.0</td>\n",
       "      <td>2226.0</td>\n",
       "      <td>0.0</td>\n",
       "    </tr>\n",
       "    <tr>\n",
       "      <th>2019-10-01</th>\n",
       "      <td>2033.0</td>\n",
       "      <td>4687.0</td>\n",
       "      <td>0.0</td>\n",
       "      <td>0.0</td>\n",
       "    </tr>\n",
       "    <tr>\n",
       "      <th>2019-11-01</th>\n",
       "      <td>2097.0</td>\n",
       "      <td>0.0</td>\n",
       "      <td>0.0</td>\n",
       "      <td>0.0</td>\n",
       "    </tr>\n",
       "    <tr>\n",
       "      <th>2019-12-01</th>\n",
       "      <td>623.0</td>\n",
       "      <td>0.0</td>\n",
       "      <td>0.0</td>\n",
       "      <td>0.0</td>\n",
       "    </tr>\n",
       "  </tbody>\n",
       "</table>\n",
       "</div>"
      ],
      "text/plain": [
       "                 0       1       2    3\n",
       "2019-09-01  5192.0  3907.0  2226.0  0.0\n",
       "2019-10-01  2033.0  4687.0     0.0  0.0\n",
       "2019-11-01  2097.0     0.0     0.0  0.0\n",
       "2019-12-01   623.0     0.0     0.0  0.0"
      ]
     },
     "execution_count": 71,
     "metadata": {},
     "output_type": "execute_result"
    }
   ],
   "source": [
    "res"
   ]
  },
  {
   "cell_type": "code",
   "execution_count": 74,
   "metadata": {},
   "outputs": [
    {
     "data": {
      "text/plain": [
       "0    1.000000\n",
       "1    0.864153\n",
       "2    0.223831\n",
       "3    0.000000\n",
       "dtype: float64"
      ]
     },
     "execution_count": 74,
     "metadata": {},
     "output_type": "execute_result"
    }
   ],
   "source": [
    "res.sum(axis=0) / res.sum(axis=0).max()"
   ]
  },
  {
   "cell_type": "code",
   "execution_count": 97,
   "metadata": {},
   "outputs": [
    {
     "name": "stdout",
     "output_type": "stream",
     "text": [
      "2019-10-12 00:00:00\n",
      "2019-12-01 00:00:00\n"
     ]
    }
   ],
   "source": [
    "print(row['created_at'])\n",
    "print(dates[unique_users.index(row['cnum'])])\n"
   ]
  },
  {
   "cell_type": "code",
   "execution_count": 100,
   "metadata": {},
   "outputs": [
    {
     "data": {
      "text/html": [
       "<div>\n",
       "<style scoped>\n",
       "    .dataframe tbody tr th:only-of-type {\n",
       "        vertical-align: middle;\n",
       "    }\n",
       "\n",
       "    .dataframe tbody tr th {\n",
       "        vertical-align: top;\n",
       "    }\n",
       "\n",
       "    .dataframe thead th {\n",
       "        text-align: right;\n",
       "    }\n",
       "</style>\n",
       "<table border=\"1\" class=\"dataframe\">\n",
       "  <thead>\n",
       "    <tr style=\"text-align: right;\">\n",
       "      <th></th>\n",
       "      <th>%</th>\n",
       "      <th>week_delta</th>\n",
       "    </tr>\n",
       "  </thead>\n",
       "  <tbody>\n",
       "    <tr>\n",
       "      <th>0</th>\n",
       "      <td>1.000000</td>\n",
       "      <td>0</td>\n",
       "    </tr>\n",
       "    <tr>\n",
       "      <th>1</th>\n",
       "      <td>0.864153</td>\n",
       "      <td>1</td>\n",
       "    </tr>\n",
       "    <tr>\n",
       "      <th>2</th>\n",
       "      <td>0.223831</td>\n",
       "      <td>2</td>\n",
       "    </tr>\n",
       "    <tr>\n",
       "      <th>3</th>\n",
       "      <td>0.000000</td>\n",
       "      <td>3</td>\n",
       "    </tr>\n",
       "  </tbody>\n",
       "</table>\n",
       "</div>"
      ],
      "text/plain": [
       "          %  week_delta\n",
       "0  1.000000           0\n",
       "1  0.864153           1\n",
       "2  0.223831           2\n",
       "3  0.000000           3"
      ]
     },
     "execution_count": 100,
     "metadata": {},
     "output_type": "execute_result"
    }
   ],
   "source": [
    "df_plot = pd.DataFrame(res.sum(axis=0) / res.sum(axis=0).max(), columns=['%'])\n",
    "df_plot['week_delta'] = range(len(df_plot))\n",
    "df_plot"
   ]
  },
  {
   "cell_type": "code",
   "execution_count": null,
   "metadata": {},
   "outputs": [],
   "source": []
  },
  {
   "cell_type": "code",
   "execution_count": 101,
   "metadata": {},
   "outputs": [
    {
     "data": {
      "image/png": "[encoded data removed]",
      "text/plain": [
       "<Figure size 432x288 with 1 Axes>"
      ]
     },
     "metadata": {
      "needs_background": "light"
     },
     "output_type": "display_data"
    }
   ],
   "source": [
    "import seaborn as sns\n",
    "\n",
    "ax = sns.lineplot(data=df_plot, x='week_delta', y='%');\n",
    "ax.set_title('Retention');"
   ]
  },
  {
   "cell_type": "code",
   "execution_count": null,
   "metadata": {},
   "outputs": [],
   "source": []
  }
 ],
 "metadata": {
  "kernelspec": {
   "display_name": "Python 3",
   "language": "python",
   "name": "python3"
  },
  "language_info": {
   "codemirror_mode": {
    "name": "ipython",
    "version": 3
   },
   "file_extension": ".py",
   "mimetype": "text/x-python",
   "name": "python",
   "nbconvert_exporter": "python",
   "pygments_lexer": "ipython3",
   "version": "3.8.3"
  }
 },
 "nbformat": 4,
 "nbformat_minor": 4
}
