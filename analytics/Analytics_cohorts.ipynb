{
 "cells": [
  {
   "cell_type": "code",
   "execution_count": 1,
   "metadata": {},
   "outputs": [],
   "source": [
    "import pandas as pd"
   ]
  },
  {
   "cell_type": "code",
   "execution_count": 107,
   "metadata": {},
   "outputs": [],
   "source": [
    "client_categories = pd.read_csv(\"client_categories.csv\", delimiter = ';')\n",
    "clients_last_2_fixed = pd.read_csv(\"clients_last_2_fixed.csv\", delimiter = ';')\n",
    "skidki = pd.read_csv('skidki.csv', delimiter=';', engine='python')\n",
    "MCC_last = pd.read_excel('MCC_last.xlsx', delimiter=';')\n",
    "MCC = pd.read_excel('MCC.xlsx', delimiter=';')\n",
    "store_last_2 = pd.read_csv('store_last_2.csv', delimiter=';', engine='python')"
   ]
  },
  {
   "cell_type": "code",
   "execution_count": 106,
   "metadata": {},
   "outputs": [],
   "source": [
    "transactions_last_2 = pd.read_csv(\"transactions_last_2.csv\", delimiter = ';', nrows=1000000)"
   ]
  },
  {
   "cell_type": "code",
   "execution_count": 108,
   "metadata": {},
   "outputs": [
    {
     "data": {
      "text/html": [
       "<div>\n",
       "<style scoped>\n",
       "    .dataframe tbody tr th:only-of-type {\n",
       "        vertical-align: middle;\n",
       "    }\n",
       "\n",
       "    .dataframe tbody tr th {\n",
       "        vertical-align: top;\n",
       "    }\n",
       "\n",
       "    .dataframe thead th {\n",
       "        text-align: right;\n",
       "    }\n",
       "</style>\n",
       "<table border=\"1\" class=\"dataframe\">\n",
       "  <thead>\n",
       "    <tr style=\"text-align: right;\">\n",
       "      <th></th>\n",
       "      <th>category</th>\n",
       "      <th>description</th>\n",
       "    </tr>\n",
       "  </thead>\n",
       "  <tbody>\n",
       "    <tr>\n",
       "      <th>0</th>\n",
       "      <td>10</td>\n",
       "      <td>VIP/ Management recommendations</td>\n",
       "    </tr>\n",
       "    <tr>\n",
       "      <th>1</th>\n",
       "      <td>11</td>\n",
       "      <td>VIP/ Management recommendations (family)</td>\n",
       "    </tr>\n",
       "    <tr>\n",
       "      <th>2</th>\n",
       "      <td>17</td>\n",
       "      <td>Private Banking customers walk-in</td>\n",
       "    </tr>\n",
       "    <tr>\n",
       "      <th>3</th>\n",
       "      <td>18</td>\n",
       "      <td>Private banking customers payroll</td>\n",
       "    </tr>\n",
       "    <tr>\n",
       "      <th>4</th>\n",
       "      <td>20</td>\n",
       "      <td>High income individuals</td>\n",
       "    </tr>\n",
       "    <tr>\n",
       "      <th>5</th>\n",
       "      <td>21</td>\n",
       "      <td>High income individuals (family)</td>\n",
       "    </tr>\n",
       "    <tr>\n",
       "      <th>6</th>\n",
       "      <td>30</td>\n",
       "      <td>Corporate customer manager/ VIP</td>\n",
       "    </tr>\n",
       "    <tr>\n",
       "      <th>7</th>\n",
       "      <td>31</td>\n",
       "      <td>Corporate customer manager/ VIP (family)</td>\n",
       "    </tr>\n",
       "    <tr>\n",
       "      <th>8</th>\n",
       "      <td>40</td>\n",
       "      <td>Corporate customer manager/ regular</td>\n",
       "    </tr>\n",
       "    <tr>\n",
       "      <th>9</th>\n",
       "      <td>41</td>\n",
       "      <td>Corporate customer manager/ regular (family)</td>\n",
       "    </tr>\n",
       "    <tr>\n",
       "      <th>10</th>\n",
       "      <td>50</td>\n",
       "      <td>Corporate customer employee/ payroll scheme</td>\n",
       "    </tr>\n",
       "    <tr>\n",
       "      <th>11</th>\n",
       "      <td>51</td>\n",
       "      <td>Corporate customer employee/ payroll scheme (f...</td>\n",
       "    </tr>\n",
       "    <tr>\n",
       "      <th>12</th>\n",
       "      <td>60</td>\n",
       "      <td>RBA employees</td>\n",
       "    </tr>\n",
       "    <tr>\n",
       "      <th>13</th>\n",
       "      <td>61</td>\n",
       "      <td>RBA employees (family)</td>\n",
       "    </tr>\n",
       "    <tr>\n",
       "      <th>14</th>\n",
       "      <td>70</td>\n",
       "      <td>Regular retail banking customer</td>\n",
       "    </tr>\n",
       "    <tr>\n",
       "      <th>15</th>\n",
       "      <td>71</td>\n",
       "      <td>Regular retail banking customer (family)</td>\n",
       "    </tr>\n",
       "    <tr>\n",
       "      <th>16</th>\n",
       "      <td>72</td>\n",
       "      <td>Mortgage clients purchased</td>\n",
       "    </tr>\n",
       "    <tr>\n",
       "      <th>17</th>\n",
       "      <td>80</td>\n",
       "      <td>Affluent Banking regular customer</td>\n",
       "    </tr>\n",
       "    <tr>\n",
       "      <th>18</th>\n",
       "      <td>81</td>\n",
       "      <td>Affluent Banking payroll customer</td>\n",
       "    </tr>\n",
       "    <tr>\n",
       "      <th>19</th>\n",
       "      <td>82</td>\n",
       "      <td>Affluent Banking potential regular customer</td>\n",
       "    </tr>\n",
       "    <tr>\n",
       "      <th>20</th>\n",
       "      <td>83</td>\n",
       "      <td>Affluent Banking potential payroll customer</td>\n",
       "    </tr>\n",
       "    <tr>\n",
       "      <th>21</th>\n",
       "      <td>84</td>\n",
       "      <td>Premium Direct Regular Customer</td>\n",
       "    </tr>\n",
       "    <tr>\n",
       "      <th>22</th>\n",
       "      <td>85</td>\n",
       "      <td>Premium Direct Payroll Customer</td>\n",
       "    </tr>\n",
       "    <tr>\n",
       "      <th>23</th>\n",
       "      <td>96</td>\n",
       "      <td>Deal Participant</td>\n",
       "    </tr>\n",
       "    <tr>\n",
       "      <th>24</th>\n",
       "      <td>97</td>\n",
       "      <td>Prospect</td>\n",
       "    </tr>\n",
       "    <tr>\n",
       "      <th>25</th>\n",
       "      <td>98</td>\n",
       "      <td>Sozaemshiki</td>\n",
       "    </tr>\n",
       "    <tr>\n",
       "      <th>26</th>\n",
       "      <td>99</td>\n",
       "      <td>Representative</td>\n",
       "    </tr>\n",
       "  </tbody>\n",
       "</table>\n",
       "</div>"
      ],
      "text/plain": [
       "    category                                        description\n",
       "0         10                    VIP/ Management recommendations\n",
       "1         11           VIP/ Management recommendations (family)\n",
       "2         17                  Private Banking customers walk-in\n",
       "3         18                  Private banking customers payroll\n",
       "4         20                            High income individuals\n",
       "5         21                   High income individuals (family)\n",
       "6         30                    Corporate customer manager/ VIP\n",
       "7         31           Corporate customer manager/ VIP (family)\n",
       "8         40                Corporate customer manager/ regular\n",
       "9         41       Corporate customer manager/ regular (family)\n",
       "10        50        Corporate customer employee/ payroll scheme\n",
       "11        51  Corporate customer employee/ payroll scheme (f...\n",
       "12        60                                      RBA employees\n",
       "13        61                             RBA employees (family)\n",
       "14        70                    Regular retail banking customer\n",
       "15        71           Regular retail banking customer (family)\n",
       "16        72                         Mortgage clients purchased\n",
       "17        80                  Affluent Banking regular customer\n",
       "18        81                  Affluent Banking payroll customer\n",
       "19        82        Affluent Banking potential regular customer\n",
       "20        83        Affluent Banking potential payroll customer\n",
       "21        84                    Premium Direct Regular Customer\n",
       "22        85                    Premium Direct Payroll Customer\n",
       "23        96                                   Deal Participant\n",
       "24        97                                           Prospect\n",
       "25        98                                        Sozaemshiki\n",
       "26        99                                     Representative"
      ]
     },
     "execution_count": 108,
     "metadata": {},
     "output_type": "execute_result"
    }
   ],
   "source": [
    "client_categories"
   ]
  },
  {
   "cell_type": "code",
   "execution_count": 96,
   "metadata": {},
   "outputs": [
    {
     "data": {
      "text/plain": [
       "Tourism                      631\n",
       "Other                         37\n",
       "Maintenance and building      24\n",
       "Medical                       20\n",
       "Auto                          18\n",
       "Clothes                       16\n",
       "Services                      15\n",
       "Cultural life                 15\n",
       "Legal and  insurance          14\n",
       "Active rest                   11\n",
       "Design, print                 11\n",
       "Furniture, home                9\n",
       "Supermarkets                   8\n",
       "Soft                           7\n",
       "Sport                          6\n",
       "Kids                           6\n",
       "Postal services, delivery      5\n",
       "Education                      5\n",
       "Providers                      4\n",
       "Payments                       4\n",
       "Discount                       4\n",
       "Railway and sea transport      3\n",
       "Parking&Fuel                   3\n",
       "Gift, hobby                    3\n",
       "Money                          3\n",
       "Beauty                         2\n",
       "Alcohol and tobacco            2\n",
       "Pet                            2\n",
       "Restaurants                    2\n",
       "Local and autotransport        2\n",
       "Taxi                           1\n",
       "Gambling                       1\n",
       "Fast Food                      1\n",
       "Video games                    1\n",
       "Name: category, dtype: int64"
      ]
     },
     "execution_count": 96,
     "metadata": {},
     "output_type": "execute_result"
    }
   ],
   "source": [
    "MCC['category'].value_counts()"
   ]
  },
  {
   "cell_type": "code",
   "execution_count": 45,
   "metadata": {},
   "outputs": [],
   "source": [
    "#transactions_last_2\n",
    "#purch_mrch = transactions_last_2.merge(MCC, left_on='mcc', right_on='mcc')\n",
    "transactions_last_2.merge(MCC, left_on='mcc', right_on='mcc').reset_index(inplace=True)"
   ]
  },
  {
   "cell_type": "code",
   "execution_count": 37,
   "metadata": {},
   "outputs": [
    {
     "data": {
      "text/html": [
       "<div>\n",
       "<style scoped>\n",
       "    .dataframe tbody tr th:only-of-type {\n",
       "        vertical-align: middle;\n",
       "    }\n",
       "\n",
       "    .dataframe tbody tr th {\n",
       "        vertical-align: top;\n",
       "    }\n",
       "\n",
       "    .dataframe thead th {\n",
       "        text-align: right;\n",
       "    }\n",
       "</style>\n",
       "<table border=\"1\" class=\"dataframe\">\n",
       "  <thead>\n",
       "    <tr style=\"text-align: right;\">\n",
       "      <th></th>\n",
       "      <th>purchdate</th>\n",
       "      <th>amount</th>\n",
       "      <th>mcc</th>\n",
       "      <th>mrchcity</th>\n",
       "      <th>mrchname</th>\n",
       "      <th>cnum</th>\n",
       "      <th>category</th>\n",
       "      <th>store_name</th>\n",
       "      <th>merchant_name</th>\n",
       "    </tr>\n",
       "  </thead>\n",
       "  <tbody>\n",
       "    <tr>\n",
       "      <th>0</th>\n",
       "      <td>2019-11-02 00:00:00</td>\n",
       "      <td>9000000.0</td>\n",
       "      <td>5691</td>\n",
       "      <td>MOSCOW</td>\n",
       "      <td>IA7D1H Z1D1T7</td>\n",
       "      <td>MJNLMQ</td>\n",
       "      <td>Clothes</td>\n",
       "      <td>Chanel</td>\n",
       "      <td>IA7D1H Z1D1T7</td>\n",
       "    </tr>\n",
       "    <tr>\n",
       "      <th>1</th>\n",
       "      <td>2019-11-02 00:00:00</td>\n",
       "      <td>9000000.0</td>\n",
       "      <td>5691</td>\n",
       "      <td>MOSCOW</td>\n",
       "      <td>IA7D1H Z1D1T7</td>\n",
       "      <td>MJNLMQ</td>\n",
       "      <td>Clothes</td>\n",
       "      <td>Chanel</td>\n",
       "      <td>IA7D1H Z1D1T7</td>\n",
       "    </tr>\n",
       "    <tr>\n",
       "      <th>2</th>\n",
       "      <td>2019-11-02 00:00:00</td>\n",
       "      <td>5000000.0</td>\n",
       "      <td>5691</td>\n",
       "      <td>MOSCOW</td>\n",
       "      <td>IA7D1H Z1D1T7</td>\n",
       "      <td>MJNLMQ</td>\n",
       "      <td>Clothes</td>\n",
       "      <td>Chanel</td>\n",
       "      <td>IA7D1H Z1D1T7</td>\n",
       "    </tr>\n",
       "    <tr>\n",
       "      <th>3</th>\n",
       "      <td>2019-11-02 00:00:00</td>\n",
       "      <td>5000000.0</td>\n",
       "      <td>5691</td>\n",
       "      <td>MOSCOW</td>\n",
       "      <td>IA7D1H Z1D1T7</td>\n",
       "      <td>MJNLMQ</td>\n",
       "      <td>Clothes</td>\n",
       "      <td>Chanel</td>\n",
       "      <td>IA7D1H Z1D1T7</td>\n",
       "    </tr>\n",
       "    <tr>\n",
       "      <th>4</th>\n",
       "      <td>2019-12-10 00:00:00</td>\n",
       "      <td>2371100.0</td>\n",
       "      <td>5691</td>\n",
       "      <td>MOSCOW</td>\n",
       "      <td>IA7D1H Z1D1T7</td>\n",
       "      <td>EEQ4VM</td>\n",
       "      <td>Clothes</td>\n",
       "      <td>Chanel</td>\n",
       "      <td>IA7D1H Z1D1T7</td>\n",
       "    </tr>\n",
       "  </tbody>\n",
       "</table>\n",
       "</div>"
      ],
      "text/plain": [
       "             purchdate     amount   mcc mrchcity       mrchname    cnum  \\\n",
       "0  2019-11-02 00:00:00  9000000.0  5691   MOSCOW  IA7D1H Z1D1T7  MJNLMQ   \n",
       "1  2019-11-02 00:00:00  9000000.0  5691   MOSCOW  IA7D1H Z1D1T7  MJNLMQ   \n",
       "2  2019-11-02 00:00:00  5000000.0  5691   MOSCOW  IA7D1H Z1D1T7  MJNLMQ   \n",
       "3  2019-11-02 00:00:00  5000000.0  5691   MOSCOW  IA7D1H Z1D1T7  MJNLMQ   \n",
       "4  2019-12-10 00:00:00  2371100.0  5691   MOSCOW  IA7D1H Z1D1T7  EEQ4VM   \n",
       "\n",
       "  category store_name  merchant_name  \n",
       "0  Clothes     Chanel  IA7D1H Z1D1T7  \n",
       "1  Clothes     Chanel  IA7D1H Z1D1T7  \n",
       "2  Clothes     Chanel  IA7D1H Z1D1T7  \n",
       "3  Clothes     Chanel  IA7D1H Z1D1T7  \n",
       "4  Clothes     Chanel  IA7D1H Z1D1T7  "
      ]
     },
     "execution_count": 37,
     "metadata": {},
     "output_type": "execute_result"
    }
   ],
   "source": [
    "#71JX9HXE W7X \n",
    "purch_store_category = purch_mrch.merge(store_last_2, left_on='mrchname', right_on='merchant_name')\n",
    "purch_store_category.head()\n"
   ]
  },
  {
   "cell_type": "code",
   "execution_count": 88,
   "metadata": {},
   "outputs": [],
   "source": [
    "#Chanel\t\n",
    "#Clothes\n",
    "\n",
    "Louis_Vuitton = pd.DataFrame(purch_store_category[purch_store_category['store_name'] == 'Louis Vuitton'].groupby(by='purchdate').mean()['amount']/1000).reset_index()"
   ]
  },
  {
   "cell_type": "code",
   "execution_count": 48,
   "metadata": {},
   "outputs": [
    {
     "data": {
      "text/plain": [
       "Louis Vuitton       486\n",
       "Bosco               464\n",
       "Снежная Королева    380\n",
       "ЦУМ                 365\n",
       "Prada               293\n",
       "                   ... \n",
       "Город ТЦ              1\n",
       "Outlandia             1\n",
       "Киномода              1\n",
       "Crocus Сток           1\n",
       "Laurel                1\n",
       "Name: store_name, Length: 435, dtype: int64"
      ]
     },
     "execution_count": 48,
     "metadata": {},
     "output_type": "execute_result"
    }
   ],
   "source": [
    "purch_store_category[purch_store_category['category'] == 'Clothes']['store_name'].value_counts()"
   ]
  },
  {
   "cell_type": "code",
   "execution_count": 59,
   "metadata": {},
   "outputs": [
    {
     "data": {
      "text/plain": [
       "purchdate\n",
       "2019-09-11 00:00:00    118.050000\n",
       "2019-09-15 00:00:00    123.581340\n",
       "2019-09-16 00:00:00    100.220728\n",
       "2019-09-17 00:00:00    156.077812\n",
       "2019-09-18 00:00:00    110.216663\n",
       "                          ...    \n",
       "2019-12-15 00:00:00    129.855694\n",
       "2019-12-16 00:00:00    156.504834\n",
       "2019-12-17 00:00:00    154.392002\n",
       "2019-12-18 00:00:00    133.139759\n",
       "2019-12-19 00:00:00     59.121667\n",
       "Name: amount, Length: 97, dtype: float64"
      ]
     },
     "execution_count": 59,
     "metadata": {},
     "output_type": "execute_result"
    }
   ],
   "source": [
    "purch_store_category[purch_store_category['category'] == 'Clothes'].groupby(by='purchdate').mean()['amount']/1000"
   ]
  },
  {
   "cell_type": "code",
   "execution_count": 84,
   "metadata": {},
   "outputs": [],
   "source": [
    "Clothers = pd.DataFrame(purch_store_category[purch_store_category['category'] == 'Clothes'].groupby(by='purchdate').mean()['amount']/1000).reset_index()"
   ]
  },
  {
   "cell_type": "code",
   "execution_count": 85,
   "metadata": {},
   "outputs": [
    {
     "data": {
      "text/html": [
       "<div>\n",
       "<style scoped>\n",
       "    .dataframe tbody tr th:only-of-type {\n",
       "        vertical-align: middle;\n",
       "    }\n",
       "\n",
       "    .dataframe tbody tr th {\n",
       "        vertical-align: top;\n",
       "    }\n",
       "\n",
       "    .dataframe thead th {\n",
       "        text-align: right;\n",
       "    }\n",
       "</style>\n",
       "<table border=\"1\" class=\"dataframe\">\n",
       "  <thead>\n",
       "    <tr style=\"text-align: right;\">\n",
       "      <th></th>\n",
       "      <th>purchdate</th>\n",
       "      <th>amount</th>\n",
       "    </tr>\n",
       "  </thead>\n",
       "  <tbody>\n",
       "    <tr>\n",
       "      <th>0</th>\n",
       "      <td>2019-09-11 00:00:00</td>\n",
       "      <td>118.050000</td>\n",
       "    </tr>\n",
       "    <tr>\n",
       "      <th>1</th>\n",
       "      <td>2019-09-15 00:00:00</td>\n",
       "      <td>123.581340</td>\n",
       "    </tr>\n",
       "    <tr>\n",
       "      <th>2</th>\n",
       "      <td>2019-09-16 00:00:00</td>\n",
       "      <td>100.220728</td>\n",
       "    </tr>\n",
       "    <tr>\n",
       "      <th>3</th>\n",
       "      <td>2019-09-17 00:00:00</td>\n",
       "      <td>156.077812</td>\n",
       "    </tr>\n",
       "    <tr>\n",
       "      <th>4</th>\n",
       "      <td>2019-09-18 00:00:00</td>\n",
       "      <td>110.216663</td>\n",
       "    </tr>\n",
       "    <tr>\n",
       "      <th>...</th>\n",
       "      <td>...</td>\n",
       "      <td>...</td>\n",
       "    </tr>\n",
       "    <tr>\n",
       "      <th>92</th>\n",
       "      <td>2019-12-15 00:00:00</td>\n",
       "      <td>129.855694</td>\n",
       "    </tr>\n",
       "    <tr>\n",
       "      <th>93</th>\n",
       "      <td>2019-12-16 00:00:00</td>\n",
       "      <td>156.504834</td>\n",
       "    </tr>\n",
       "    <tr>\n",
       "      <th>94</th>\n",
       "      <td>2019-12-17 00:00:00</td>\n",
       "      <td>154.392002</td>\n",
       "    </tr>\n",
       "    <tr>\n",
       "      <th>95</th>\n",
       "      <td>2019-12-18 00:00:00</td>\n",
       "      <td>133.139759</td>\n",
       "    </tr>\n",
       "    <tr>\n",
       "      <th>96</th>\n",
       "      <td>2019-12-19 00:00:00</td>\n",
       "      <td>59.121667</td>\n",
       "    </tr>\n",
       "  </tbody>\n",
       "</table>\n",
       "<p>97 rows × 2 columns</p>\n",
       "</div>"
      ],
      "text/plain": [
       "              purchdate      amount\n",
       "0   2019-09-11 00:00:00  118.050000\n",
       "1   2019-09-15 00:00:00  123.581340\n",
       "2   2019-09-16 00:00:00  100.220728\n",
       "3   2019-09-17 00:00:00  156.077812\n",
       "4   2019-09-18 00:00:00  110.216663\n",
       "..                  ...         ...\n",
       "92  2019-12-15 00:00:00  129.855694\n",
       "93  2019-12-16 00:00:00  156.504834\n",
       "94  2019-12-17 00:00:00  154.392002\n",
       "95  2019-12-18 00:00:00  133.139759\n",
       "96  2019-12-19 00:00:00   59.121667\n",
       "\n",
       "[97 rows x 2 columns]"
      ]
     },
     "execution_count": 85,
     "metadata": {},
     "output_type": "execute_result"
    }
   ],
   "source": [
    "#transactions_last_2.to_csv('trans_million.csv', index=False)\n",
    "Clothers"
   ]
  },
  {
   "cell_type": "code",
   "execution_count": 62,
   "metadata": {},
   "outputs": [],
   "source": [
    "import plotly.graph_objects as go"
   ]
  },
  {
   "cell_type": "code",
   "execution_count": 89,
   "metadata": {},
   "outputs": [
    {
     "data": {
      "application/vnd.plotly.v1+json": {
       "config": {
        "plotlyServerURL": "https://plot.ly"
       },
       "data": [
        {
         "type": "scatter",
         "x": [
          "2019-09-11 00:00:00",
          "2019-09-15 00:00:00",
          "2019-09-16 00:00:00",
          "2019-09-17 00:00:00",
          "2019-09-18 00:00:00",
          "2019-09-19 00:00:00",
          "2019-09-20 00:00:00",
          "2019-09-21 00:00:00",
          "2019-09-22 00:00:00",
          "2019-09-23 00:00:00",
          "2019-09-24 00:00:00",
          "2019-09-25 00:00:00",
          "2019-09-26 00:00:00",
          "2019-09-27 00:00:00",
          "2019-09-28 00:00:00",
          "2019-09-29 00:00:00",
          "2019-09-30 00:00:00",
          "2019-10-01 00:00:00",
          "2019-10-02 00:00:00",
          "2019-10-03 00:00:00",
          "2019-10-04 00:00:00",
          "2019-10-05 00:00:00",
          "2019-10-06 00:00:00",
          "2019-10-07 00:00:00",
          "2019-10-08 00:00:00",
          "2019-10-09 00:00:00",
          "2019-10-10 00:00:00",
          "2019-10-11 00:00:00",
          "2019-10-12 00:00:00",
          "2019-10-13 00:00:00",
          "2019-10-14 00:00:00",
          "2019-10-15 00:00:00",
          "2019-10-16 00:00:00",
          "2019-10-17 00:00:00",
          "2019-10-18 00:00:00",
          "2019-10-19 00:00:00",
          "2019-10-20 00:00:00",
          "2019-10-21 00:00:00",
          "2019-10-22 00:00:00",
          "2019-10-23 00:00:00",
          "2019-10-24 00:00:00",
          "2019-10-25 00:00:00",
          "2019-10-26 00:00:00",
          "2019-10-27 00:00:00",
          "2019-10-28 00:00:00",
          "2019-10-29 00:00:00",
          "2019-10-30 00:00:00",
          "2019-10-31 00:00:00",
          "2019-11-01 00:00:00",
          "2019-11-02 00:00:00",
          "2019-11-03 00:00:00",
          "2019-11-04 00:00:00",
          "2019-11-05 00:00:00",
          "2019-11-06 00:00:00",
          "2019-11-07 00:00:00",
          "2019-11-08 00:00:00",
          "2019-11-09 00:00:00",
          "2019-11-10 00:00:00",
          "2019-11-11 00:00:00",
          "2019-11-12 00:00:00",
          "2019-11-13 00:00:00",
          "2019-11-14 00:00:00",
          "2019-11-15 00:00:00",
          "2019-11-16 00:00:00",
          "2019-11-17 00:00:00",
          "2019-11-18 00:00:00",
          "2019-11-19 00:00:00",
          "2019-11-20 00:00:00",
          "2019-11-21 00:00:00",
          "2019-11-22 00:00:00",
          "2019-11-23 00:00:00",
          "2019-11-24 00:00:00",
          "2019-11-25 00:00:00",
          "2019-11-26 00:00:00",
          "2019-11-27 00:00:00",
          "2019-11-28 00:00:00",
          "2019-11-29 00:00:00",
          "2019-11-30 00:00:00",
          "2019-12-01 00:00:00",
          "2019-12-02 00:00:00",
          "2019-12-03 00:00:00",
          "2019-12-04 00:00:00",
          "2019-12-05 00:00:00",
          "2019-12-06 00:00:00",
          "2019-12-07 00:00:00",
          "2019-12-08 00:00:00",
          "2019-12-09 00:00:00",
          "2019-12-10 00:00:00",
          "2019-12-11 00:00:00",
          "2019-12-12 00:00:00",
          "2019-12-13 00:00:00",
          "2019-12-14 00:00:00",
          "2019-12-15 00:00:00",
          "2019-12-16 00:00:00",
          "2019-12-17 00:00:00",
          "2019-12-18 00:00:00",
          "2019-12-19 00:00:00"
         ],
         "y": [
          118.05,
          123.58134000000001,
          100.22072775000001,
          156.07781153846153,
          110.21666276595747,
          114.01898255319148,
          109.23649871794869,
          133.91097776859507,
          119.31794312000001,
          134.853796875,
          132.10488746478873,
          122.67132301204818,
          102.3960389380531,
          117.19853896907216,
          119.92749772058822,
          112.04854166666664,
          132.32404642857142,
          124.03619675,
          92.95734485294119,
          140.90197616438354,
          115.00860578947368,
          114.26887317241379,
          102.52785816000001,
          131.84452666666667,
          114.498958,
          136.24245200000001,
          99.11091084507042,
          92.84904880434783,
          113.30567063492063,
          112.3835348888889,
          108.80908712121213,
          131.56158311475411,
          104.71040588235293,
          130.78831914285715,
          97.65679681159419,
          111.39524729323308,
          133.35080247524752,
          103.57569059701494,
          130.40743061538458,
          131.34509030303033,
          101.51030555555556,
          214.7647854651163,
          120.62748343999999,
          93.57569096153846,
          116.1708750980392,
          128.7685759090909,
          103.21710069444444,
          101.11545194444444,
          153.92719533333334,
          309.46807633587787,
          91.8209787037037,
          119.9944973873874,
          103.27731276923078,
          159.01713310344826,
          91.5927724590164,
          97.74009970149254,
          104.58964888888889,
          115.01085052631578,
          90.2992651724138,
          108.0896196875,
          143.36199206349207,
          121.58428060606059,
          141.3154079787234,
          127.98288807407407,
          89.31262358333333,
          146.34052166666666,
          94.05350423076922,
          113.40238192982456,
          102.7684036470588,
          158.75236123966943,
          118.43237274285713,
          109.13639485875706,
          128.95855975609757,
          129.1447405882353,
          170.2783237037037,
          140.11820613636365,
          100.3303446357616,
          140.71232265957448,
          119.13733975903614,
          98.99083786666667,
          144.99220671052632,
          96.48239652173912,
          192.80173166666665,
          105.86058451219512,
          135.20306282208585,
          124.1181936231884,
          156.81956742424242,
          165.8590491780822,
          133.9767284883721,
          136.12767256410257,
          110.85631598214285,
          132.6818636036036,
          129.8556937593985,
          156.50483406779662,
          154.39200209302325,
          133.13975869565218,
          59.12166666666666
         ]
        }
       ],
       "layout": {
        "template": {
         "data": {
          "bar": [
           {
            "error_x": {
             "color": "#2a3f5f"
            },
            "error_y": {
             "color": "#2a3f5f"
            },
            "marker": {
             "line": {
              "color": "#E5ECF6",
              "width": 0.5
             }
            },
            "type": "bar"
           }
          ],
          "barpolar": [
           {
            "marker": {
             "line": {
              "color": "#E5ECF6",
              "width": 0.5
             }
            },
            "type": "barpolar"
           }
          ],
          "carpet": [
           {
            "aaxis": {
             "endlinecolor": "#2a3f5f",
             "gridcolor": "white",
             "linecolor": "white",
             "minorgridcolor": "white",
             "startlinecolor": "#2a3f5f"
            },
            "baxis": {
             "endlinecolor": "#2a3f5f",
             "gridcolor": "white",
             "linecolor": "white",
             "minorgridcolor": "white",
             "startlinecolor": "#2a3f5f"
            },
            "type": "carpet"
           }
          ],
          "choropleth": [
           {
            "colorbar": {
             "outlinewidth": 0,
             "ticks": ""
            },
            "type": "choropleth"
           }
          ],
          "contour": [
           {
            "colorbar": {
             "outlinewidth": 0,
             "ticks": ""
            },
            "colorscale": [
             [
              0,
              "#0d0887"
             ],
             [
              0.1111111111111111,
              "#46039f"
             ],
             [
              0.2222222222222222,
              "#7201a8"
             ],
             [
              0.3333333333333333,
              "#9c179e"
             ],
             [
              0.4444444444444444,
              "#bd3786"
             ],
             [
              0.5555555555555556,
              "#d8576b"
             ],
             [
              0.6666666666666666,
              "#ed7953"
             ],
             [
              0.7777777777777778,
              "#fb9f3a"
             ],
             [
              0.8888888888888888,
              "#fdca26"
             ],
             [
              1,
              "#f0f921"
             ]
            ],
            "type": "contour"
           }
          ],
          "contourcarpet": [
           {
            "colorbar": {
             "outlinewidth": 0,
             "ticks": ""
            },
            "type": "contourcarpet"
           }
          ],
          "heatmap": [
           {
            "colorbar": {
             "outlinewidth": 0,
             "ticks": ""
            },
            "colorscale": [
             [
              0,
              "#0d0887"
             ],
             [
              0.1111111111111111,
              "#46039f"
             ],
             [
              0.2222222222222222,
              "#7201a8"
             ],
             [
              0.3333333333333333,
              "#9c179e"
             ],
             [
              0.4444444444444444,
              "#bd3786"
             ],
             [
              0.5555555555555556,
              "#d8576b"
             ],
             [
              0.6666666666666666,
              "#ed7953"
             ],
             [
              0.7777777777777778,
              "#fb9f3a"
             ],
             [
              0.8888888888888888,
              "#fdca26"
             ],
             [
              1,
              "#f0f921"
             ]
            ],
            "type": "heatmap"
           }
          ],
          "heatmapgl": [
           {
            "colorbar": {
             "outlinewidth": 0,
             "ticks": ""
            },
            "colorscale": [
             [
              0,
              "#0d0887"
             ],
             [
              0.1111111111111111,
              "#46039f"
             ],
             [
              0.2222222222222222,
              "#7201a8"
             ],
             [
              0.3333333333333333,
              "#9c179e"
             ],
             [
              0.4444444444444444,
              "#bd3786"
             ],
             [
              0.5555555555555556,
              "#d8576b"
             ],
             [
              0.6666666666666666,
              "#ed7953"
             ],
             [
              0.7777777777777778,
              "#fb9f3a"
             ],
             [
              0.8888888888888888,
              "#fdca26"
             ],
             [
              1,
              "#f0f921"
             ]
            ],
            "type": "heatmapgl"
           }
          ],
          "histogram": [
           {
            "marker": {
             "colorbar": {
              "outlinewidth": 0,
              "ticks": ""
             }
            },
            "type": "histogram"
           }
          ],
          "histogram2d": [
           {
            "colorbar": {
             "outlinewidth": 0,
             "ticks": ""
            },
            "colorscale": [
             [
              0,
              "#0d0887"
             ],
             [
              0.1111111111111111,
              "#46039f"
             ],
             [
              0.2222222222222222,
              "#7201a8"
             ],
             [
              0.3333333333333333,
              "#9c179e"
             ],
             [
              0.4444444444444444,
              "#bd3786"
             ],
             [
              0.5555555555555556,
              "#d8576b"
             ],
             [
              0.6666666666666666,
              "#ed7953"
             ],
             [
              0.7777777777777778,
              "#fb9f3a"
             ],
             [
              0.8888888888888888,
              "#fdca26"
             ],
             [
              1,
              "#f0f921"
             ]
            ],
            "type": "histogram2d"
           }
          ],
          "histogram2dcontour": [
           {
            "colorbar": {
             "outlinewidth": 0,
             "ticks": ""
            },
            "colorscale": [
             [
              0,
              "#0d0887"
             ],
             [
              0.1111111111111111,
              "#46039f"
             ],
             [
              0.2222222222222222,
              "#7201a8"
             ],
             [
              0.3333333333333333,
              "#9c179e"
             ],
             [
              0.4444444444444444,
              "#bd3786"
             ],
             [
              0.5555555555555556,
              "#d8576b"
             ],
             [
              0.6666666666666666,
              "#ed7953"
             ],
             [
              0.7777777777777778,
              "#fb9f3a"
             ],
             [
              0.8888888888888888,
              "#fdca26"
             ],
             [
              1,
              "#f0f921"
             ]
            ],
            "type": "histogram2dcontour"
           }
          ],
          "mesh3d": [
           {
            "colorbar": {
             "outlinewidth": 0,
             "ticks": ""
            },
            "type": "mesh3d"
           }
          ],
          "parcoords": [
           {
            "line": {
             "colorbar": {
              "outlinewidth": 0,
              "ticks": ""
             }
            },
            "type": "parcoords"
           }
          ],
          "pie": [
           {
            "automargin": true,
            "type": "pie"
           }
          ],
          "scatter": [
           {
            "marker": {
             "colorbar": {
              "outlinewidth": 0,
              "ticks": ""
             }
            },
            "type": "scatter"
           }
          ],
          "scatter3d": [
           {
            "line": {
             "colorbar": {
              "outlinewidth": 0,
              "ticks": ""
             }
            },
            "marker": {
             "colorbar": {
              "outlinewidth": 0,
              "ticks": ""
             }
            },
            "type": "scatter3d"
           }
          ],
          "scattercarpet": [
           {
            "marker": {
             "colorbar": {
              "outlinewidth": 0,
              "ticks": ""
             }
            },
            "type": "scattercarpet"
           }
          ],
          "scattergeo": [
           {
            "marker": {
             "colorbar": {
              "outlinewidth": 0,
              "ticks": ""
             }
            },
            "type": "scattergeo"
           }
          ],
          "scattergl": [
           {
            "marker": {
             "colorbar": {
              "outlinewidth": 0,
              "ticks": ""
             }
            },
            "type": "scattergl"
           }
          ],
          "scattermapbox": [
           {
            "marker": {
             "colorbar": {
              "outlinewidth": 0,
              "ticks": ""
             }
            },
            "type": "scattermapbox"
           }
          ],
          "scatterpolar": [
           {
            "marker": {
             "colorbar": {
              "outlinewidth": 0,
              "ticks": ""
             }
            },
            "type": "scatterpolar"
           }
          ],
          "scatterpolargl": [
           {
            "marker": {
             "colorbar": {
              "outlinewidth": 0,
              "ticks": ""
             }
            },
            "type": "scatterpolargl"
           }
          ],
          "scatterternary": [
           {
            "marker": {
             "colorbar": {
              "outlinewidth": 0,
              "ticks": ""
             }
            },
            "type": "scatterternary"
           }
          ],
          "surface": [
           {
            "colorbar": {
             "outlinewidth": 0,
             "ticks": ""
            },
            "colorscale": [
             [
              0,
              "#0d0887"
             ],
             [
              0.1111111111111111,
              "#46039f"
             ],
             [
              0.2222222222222222,
              "#7201a8"
             ],
             [
              0.3333333333333333,
              "#9c179e"
             ],
             [
              0.4444444444444444,
              "#bd3786"
             ],
             [
              0.5555555555555556,
              "#d8576b"
             ],
             [
              0.6666666666666666,
              "#ed7953"
             ],
             [
              0.7777777777777778,
              "#fb9f3a"
             ],
             [
              0.8888888888888888,
              "#fdca26"
             ],
             [
              1,
              "#f0f921"
             ]
            ],
            "type": "surface"
           }
          ],
          "table": [
           {
            "cells": {
             "fill": {
              "color": "#EBF0F8"
             },
             "line": {
              "color": "white"
             }
            },
            "header": {
             "fill": {
              "color": "#C8D4E3"
             },
             "line": {
              "color": "white"
             }
            },
            "type": "table"
           }
          ]
         },
         "layout": {
          "annotationdefaults": {
           "arrowcolor": "#2a3f5f",
           "arrowhead": 0,
           "arrowwidth": 1
          },
          "coloraxis": {
           "colorbar": {
            "outlinewidth": 0,
            "ticks": ""
           }
          },
          "colorscale": {
           "diverging": [
            [
             0,
             "#8e0152"
            ],
            [
             0.1,
             "#c51b7d"
            ],
            [
             0.2,
             "#de77ae"
            ],
            [
             0.3,
             "#f1b6da"
            ],
            [
             0.4,
             "#fde0ef"
            ],
            [
             0.5,
             "#f7f7f7"
            ],
            [
             0.6,
             "#e6f5d0"
            ],
            [
             0.7,
             "#b8e186"
            ],
            [
             0.8,
             "#7fbc41"
            ],
            [
             0.9,
             "#4d9221"
            ],
            [
             1,
             "#276419"
            ]
           ],
           "sequential": [
            [
             0,
             "#0d0887"
            ],
            [
             0.1111111111111111,
             "#46039f"
            ],
            [
             0.2222222222222222,
             "#7201a8"
            ],
            [
             0.3333333333333333,
             "#9c179e"
            ],
            [
             0.4444444444444444,
             "#bd3786"
            ],
            [
             0.5555555555555556,
             "#d8576b"
            ],
            [
             0.6666666666666666,
             "#ed7953"
            ],
            [
             0.7777777777777778,
             "#fb9f3a"
            ],
            [
             0.8888888888888888,
             "#fdca26"
            ],
            [
             1,
             "#f0f921"
            ]
           ],
           "sequentialminus": [
            [
             0,
             "#0d0887"
            ],
            [
             0.1111111111111111,
             "#46039f"
            ],
            [
             0.2222222222222222,
             "#7201a8"
            ],
            [
             0.3333333333333333,
             "#9c179e"
            ],
            [
             0.4444444444444444,
             "#bd3786"
            ],
            [
             0.5555555555555556,
             "#d8576b"
            ],
            [
             0.6666666666666666,
             "#ed7953"
            ],
            [
             0.7777777777777778,
             "#fb9f3a"
            ],
            [
             0.8888888888888888,
             "#fdca26"
            ],
            [
             1,
             "#f0f921"
            ]
           ]
          },
          "colorway": [
           "#636efa",
           "#EF553B",
           "#00cc96",
           "#ab63fa",
           "#FFA15A",
           "#19d3f3",
           "#FF6692",
           "#B6E880",
           "#FF97FF",
           "#FECB52"
          ],
          "font": {
           "color": "#2a3f5f"
          },
          "geo": {
           "bgcolor": "white",
           "lakecolor": "white",
           "landcolor": "#E5ECF6",
           "showlakes": true,
           "showland": true,
           "subunitcolor": "white"
          },
          "hoverlabel": {
           "align": "left"
          },
          "hovermode": "closest",
          "mapbox": {
           "style": "light"
          },
          "paper_bgcolor": "white",
          "plot_bgcolor": "#E5ECF6",
          "polar": {
           "angularaxis": {
            "gridcolor": "white",
            "linecolor": "white",
            "ticks": ""
           },
           "bgcolor": "#E5ECF6",
           "radialaxis": {
            "gridcolor": "white",
            "linecolor": "white",
            "ticks": ""
           }
          },
          "scene": {
           "xaxis": {
            "backgroundcolor": "#E5ECF6",
            "gridcolor": "white",
            "gridwidth": 2,
            "linecolor": "white",
            "showbackground": true,
            "ticks": "",
            "zerolinecolor": "white"
           },
           "yaxis": {
            "backgroundcolor": "#E5ECF6",
            "gridcolor": "white",
            "gridwidth": 2,
            "linecolor": "white",
            "showbackground": true,
            "ticks": "",
            "zerolinecolor": "white"
           },
           "zaxis": {
            "backgroundcolor": "#E5ECF6",
            "gridcolor": "white",
            "gridwidth": 2,
            "linecolor": "white",
            "showbackground": true,
            "ticks": "",
            "zerolinecolor": "white"
           }
          },
          "shapedefaults": {
           "line": {
            "color": "#2a3f5f"
           }
          },
          "ternary": {
           "aaxis": {
            "gridcolor": "white",
            "linecolor": "white",
            "ticks": ""
           },
           "baxis": {
            "gridcolor": "white",
            "linecolor": "white",
            "ticks": ""
           },
           "bgcolor": "#E5ECF6",
           "caxis": {
            "gridcolor": "white",
            "linecolor": "white",
            "ticks": ""
           }
          },
          "title": {
           "x": 0.05
          },
          "xaxis": {
           "automargin": true,
           "gridcolor": "white",
           "linecolor": "white",
           "ticks": "",
           "title": {
            "standoff": 15
           },
           "zerolinecolor": "white",
           "zerolinewidth": 2
          },
          "yaxis": {
           "automargin": true,
           "gridcolor": "white",
           "linecolor": "white",
           "ticks": "",
           "title": {
            "standoff": 15
           },
           "zerolinecolor": "white",
           "zerolinewidth": 2
          }
         }
        }
       }
      },
      "text/html": [
       "<div>                            <div id=\"f49874d5-3194-4826-a996-d0ca0d34e480\" class=\"plotly-graph-div\" style=\"height:525px; width:100%;\"></div>            <script type=\"text/javascript\">                require([\"plotly\"], function(Plotly) {                    window.PLOTLYENV=window.PLOTLYENV || {};                                    if (document.getElementById(\"f49874d5-3194-4826-a996-d0ca0d34e480\")) {                    Plotly.newPlot(                        \"f49874d5-3194-4826-a996-d0ca0d34e480\",                        [{\"type\": \"scatter\", \"x\": [\"2019-09-11 00:00:00\", \"2019-09-15 00:00:00\", \"2019-09-16 00:00:00\", \"2019-09-17 00:00:00\", \"2019-09-18 00:00:00\", \"2019-09-19 00:00:00\", \"2019-09-20 00:00:00\", \"2019-09-21 00:00:00\", \"2019-09-22 00:00:00\", \"2019-09-23 00:00:00\", \"2019-09-24 00:00:00\", \"2019-09-25 00:00:00\", \"2019-09-26 00:00:00\", \"2019-09-27 00:00:00\", \"2019-09-28 00:00:00\", \"2019-09-29 00:00:00\", \"2019-09-30 00:00:00\", \"2019-10-01 00:00:00\", \"2019-10-02 00:00:00\", \"2019-10-03 00:00:00\", \"2019-10-04 00:00:00\", \"2019-10-05 00:00:00\", \"2019-10-06 00:00:00\", \"2019-10-07 00:00:00\", \"2019-10-08 00:00:00\", \"2019-10-09 00:00:00\", \"2019-10-10 00:00:00\", \"2019-10-11 00:00:00\", \"2019-10-12 00:00:00\", \"2019-10-13 00:00:00\", \"2019-10-14 00:00:00\", \"2019-10-15 00:00:00\", \"2019-10-16 00:00:00\", \"2019-10-17 00:00:00\", \"2019-10-18 00:00:00\", \"2019-10-19 00:00:00\", \"2019-10-20 00:00:00\", \"2019-10-21 00:00:00\", \"2019-10-22 00:00:00\", \"2019-10-23 00:00:00\", \"2019-10-24 00:00:00\", \"2019-10-25 00:00:00\", \"2019-10-26 00:00:00\", \"2019-10-27 00:00:00\", \"2019-10-28 00:00:00\", \"2019-10-29 00:00:00\", \"2019-10-30 00:00:00\", \"2019-10-31 00:00:00\", \"2019-11-01 00:00:00\", \"2019-11-02 00:00:00\", \"2019-11-03 00:00:00\", \"2019-11-04 00:00:00\", \"2019-11-05 00:00:00\", \"2019-11-06 00:00:00\", \"2019-11-07 00:00:00\", \"2019-11-08 00:00:00\", \"2019-11-09 00:00:00\", \"2019-11-10 00:00:00\", \"2019-11-11 00:00:00\", \"2019-11-12 00:00:00\", \"2019-11-13 00:00:00\", \"2019-11-14 00:00:00\", \"2019-11-15 00:00:00\", \"2019-11-16 00:00:00\", \"2019-11-17 00:00:00\", \"2019-11-18 00:00:00\", \"2019-11-19 00:00:00\", \"2019-11-20 00:00:00\", \"2019-11-21 00:00:00\", \"2019-11-22 00:00:00\", \"2019-11-23 00:00:00\", \"2019-11-24 00:00:00\", \"2019-11-25 00:00:00\", \"2019-11-26 00:00:00\", \"2019-11-27 00:00:00\", \"2019-11-28 00:00:00\", \"2019-11-29 00:00:00\", \"2019-11-30 00:00:00\", \"2019-12-01 00:00:00\", \"2019-12-02 00:00:00\", \"2019-12-03 00:00:00\", \"2019-12-04 00:00:00\", \"2019-12-05 00:00:00\", \"2019-12-06 00:00:00\", \"2019-12-07 00:00:00\", \"2019-12-08 00:00:00\", \"2019-12-09 00:00:00\", \"2019-12-10 00:00:00\", \"2019-12-11 00:00:00\", \"2019-12-12 00:00:00\", \"2019-12-13 00:00:00\", \"2019-12-14 00:00:00\", \"2019-12-15 00:00:00\", \"2019-12-16 00:00:00\", \"2019-12-17 00:00:00\", \"2019-12-18 00:00:00\", \"2019-12-19 00:00:00\"], \"y\": [118.05, 123.58134000000001, 100.22072775000001, 156.07781153846153, 110.21666276595747, 114.01898255319148, 109.23649871794869, 133.91097776859507, 119.31794312000001, 134.853796875, 132.10488746478873, 122.67132301204818, 102.3960389380531, 117.19853896907216, 119.92749772058822, 112.04854166666664, 132.32404642857142, 124.03619675, 92.95734485294119, 140.90197616438354, 115.00860578947368, 114.26887317241379, 102.52785816000001, 131.84452666666667, 114.498958, 136.24245200000001, 99.11091084507042, 92.84904880434783, 113.30567063492063, 112.3835348888889, 108.80908712121213, 131.56158311475411, 104.71040588235293, 130.78831914285715, 97.65679681159419, 111.39524729323308, 133.35080247524752, 103.57569059701494, 130.40743061538458, 131.34509030303033, 101.51030555555556, 214.7647854651163, 120.62748343999999, 93.57569096153846, 116.1708750980392, 128.7685759090909, 103.21710069444444, 101.11545194444444, 153.92719533333334, 309.46807633587787, 91.8209787037037, 119.9944973873874, 103.27731276923078, 159.01713310344826, 91.5927724590164, 97.74009970149254, 104.58964888888889, 115.01085052631578, 90.2992651724138, 108.0896196875, 143.36199206349207, 121.58428060606059, 141.3154079787234, 127.98288807407407, 89.31262358333333, 146.34052166666666, 94.05350423076922, 113.40238192982456, 102.7684036470588, 158.75236123966943, 118.43237274285713, 109.13639485875706, 128.95855975609757, 129.1447405882353, 170.2783237037037, 140.11820613636365, 100.3303446357616, 140.71232265957448, 119.13733975903614, 98.99083786666667, 144.99220671052632, 96.48239652173912, 192.80173166666665, 105.86058451219512, 135.20306282208585, 124.1181936231884, 156.81956742424242, 165.8590491780822, 133.9767284883721, 136.12767256410257, 110.85631598214285, 132.6818636036036, 129.8556937593985, 156.50483406779662, 154.39200209302325, 133.13975869565218, 59.12166666666666]}],                        {\"template\": {\"data\": {\"bar\": [{\"error_x\": {\"color\": \"#2a3f5f\"}, \"error_y\": {\"color\": \"#2a3f5f\"}, \"marker\": {\"line\": {\"color\": \"#E5ECF6\", \"width\": 0.5}}, \"type\": \"bar\"}], \"barpolar\": [{\"marker\": {\"line\": {\"color\": \"#E5ECF6\", \"width\": 0.5}}, \"type\": \"barpolar\"}], \"carpet\": [{\"aaxis\": {\"endlinecolor\": \"#2a3f5f\", \"gridcolor\": \"white\", \"linecolor\": \"white\", \"minorgridcolor\": \"white\", \"startlinecolor\": \"#2a3f5f\"}, \"baxis\": {\"endlinecolor\": \"#2a3f5f\", \"gridcolor\": \"white\", \"linecolor\": \"white\", \"minorgridcolor\": \"white\", \"startlinecolor\": \"#2a3f5f\"}, \"type\": \"carpet\"}], \"choropleth\": [{\"colorbar\": {\"outlinewidth\": 0, \"ticks\": \"\"}, \"type\": \"choropleth\"}], \"contour\": [{\"colorbar\": {\"outlinewidth\": 0, \"ticks\": \"\"}, \"colorscale\": [[0.0, \"#0d0887\"], [0.1111111111111111, \"#46039f\"], [0.2222222222222222, \"#7201a8\"], [0.3333333333333333, \"#9c179e\"], [0.4444444444444444, \"#bd3786\"], [0.5555555555555556, \"#d8576b\"], [0.6666666666666666, \"#ed7953\"], [0.7777777777777778, \"#fb9f3a\"], [0.8888888888888888, \"#fdca26\"], [1.0, \"#f0f921\"]], \"type\": \"contour\"}], \"contourcarpet\": [{\"colorbar\": {\"outlinewidth\": 0, \"ticks\": \"\"}, \"type\": \"contourcarpet\"}], \"heatmap\": [{\"colorbar\": {\"outlinewidth\": 0, \"ticks\": \"\"}, \"colorscale\": [[0.0, \"#0d0887\"], [0.1111111111111111, \"#46039f\"], [0.2222222222222222, \"#7201a8\"], [0.3333333333333333, \"#9c179e\"], [0.4444444444444444, \"#bd3786\"], [0.5555555555555556, \"#d8576b\"], [0.6666666666666666, \"#ed7953\"], [0.7777777777777778, \"#fb9f3a\"], [0.8888888888888888, \"#fdca26\"], [1.0, \"#f0f921\"]], \"type\": \"heatmap\"}], \"heatmapgl\": [{\"colorbar\": {\"outlinewidth\": 0, \"ticks\": \"\"}, \"colorscale\": [[0.0, \"#0d0887\"], [0.1111111111111111, \"#46039f\"], [0.2222222222222222, \"#7201a8\"], [0.3333333333333333, \"#9c179e\"], [0.4444444444444444, \"#bd3786\"], [0.5555555555555556, \"#d8576b\"], [0.6666666666666666, \"#ed7953\"], [0.7777777777777778, \"#fb9f3a\"], [0.8888888888888888, \"#fdca26\"], [1.0, \"#f0f921\"]], \"type\": \"heatmapgl\"}], \"histogram\": [{\"marker\": {\"colorbar\": {\"outlinewidth\": 0, \"ticks\": \"\"}}, \"type\": \"histogram\"}], \"histogram2d\": [{\"colorbar\": {\"outlinewidth\": 0, \"ticks\": \"\"}, \"colorscale\": [[0.0, \"#0d0887\"], [0.1111111111111111, \"#46039f\"], [0.2222222222222222, \"#7201a8\"], [0.3333333333333333, \"#9c179e\"], [0.4444444444444444, \"#bd3786\"], [0.5555555555555556, \"#d8576b\"], [0.6666666666666666, \"#ed7953\"], [0.7777777777777778, \"#fb9f3a\"], [0.8888888888888888, \"#fdca26\"], [1.0, \"#f0f921\"]], \"type\": \"histogram2d\"}], \"histogram2dcontour\": [{\"colorbar\": {\"outlinewidth\": 0, \"ticks\": \"\"}, \"colorscale\": [[0.0, \"#0d0887\"], [0.1111111111111111, \"#46039f\"], [0.2222222222222222, \"#7201a8\"], [0.3333333333333333, \"#9c179e\"], [0.4444444444444444, \"#bd3786\"], [0.5555555555555556, \"#d8576b\"], [0.6666666666666666, \"#ed7953\"], [0.7777777777777778, \"#fb9f3a\"], [0.8888888888888888, \"#fdca26\"], [1.0, \"#f0f921\"]], \"type\": \"histogram2dcontour\"}], \"mesh3d\": [{\"colorbar\": {\"outlinewidth\": 0, \"ticks\": \"\"}, \"type\": \"mesh3d\"}], \"parcoords\": [{\"line\": {\"colorbar\": {\"outlinewidth\": 0, \"ticks\": \"\"}}, \"type\": \"parcoords\"}], \"pie\": [{\"automargin\": true, \"type\": \"pie\"}], \"scatter\": [{\"marker\": {\"colorbar\": {\"outlinewidth\": 0, \"ticks\": \"\"}}, \"type\": \"scatter\"}], \"scatter3d\": [{\"line\": {\"colorbar\": {\"outlinewidth\": 0, \"ticks\": \"\"}}, \"marker\": {\"colorbar\": {\"outlinewidth\": 0, \"ticks\": \"\"}}, \"type\": \"scatter3d\"}], \"scattercarpet\": [{\"marker\": {\"colorbar\": {\"outlinewidth\": 0, \"ticks\": \"\"}}, \"type\": \"scattercarpet\"}], \"scattergeo\": [{\"marker\": {\"colorbar\": {\"outlinewidth\": 0, \"ticks\": \"\"}}, \"type\": \"scattergeo\"}], \"scattergl\": [{\"marker\": {\"colorbar\": {\"outlinewidth\": 0, \"ticks\": \"\"}}, \"type\": \"scattergl\"}], \"scattermapbox\": [{\"marker\": {\"colorbar\": {\"outlinewidth\": 0, \"ticks\": \"\"}}, \"type\": \"scattermapbox\"}], \"scatterpolar\": [{\"marker\": {\"colorbar\": {\"outlinewidth\": 0, \"ticks\": \"\"}}, \"type\": \"scatterpolar\"}], \"scatterpolargl\": [{\"marker\": {\"colorbar\": {\"outlinewidth\": 0, \"ticks\": \"\"}}, \"type\": \"scatterpolargl\"}], \"scatterternary\": [{\"marker\": {\"colorbar\": {\"outlinewidth\": 0, \"ticks\": \"\"}}, \"type\": \"scatterternary\"}], \"surface\": [{\"colorbar\": {\"outlinewidth\": 0, \"ticks\": \"\"}, \"colorscale\": [[0.0, \"#0d0887\"], [0.1111111111111111, \"#46039f\"], [0.2222222222222222, \"#7201a8\"], [0.3333333333333333, \"#9c179e\"], [0.4444444444444444, \"#bd3786\"], [0.5555555555555556, \"#d8576b\"], [0.6666666666666666, \"#ed7953\"], [0.7777777777777778, \"#fb9f3a\"], [0.8888888888888888, \"#fdca26\"], [1.0, \"#f0f921\"]], \"type\": \"surface\"}], \"table\": [{\"cells\": {\"fill\": {\"color\": \"#EBF0F8\"}, \"line\": {\"color\": \"white\"}}, \"header\": {\"fill\": {\"color\": \"#C8D4E3\"}, \"line\": {\"color\": \"white\"}}, \"type\": \"table\"}]}, \"layout\": {\"annotationdefaults\": {\"arrowcolor\": \"#2a3f5f\", \"arrowhead\": 0, \"arrowwidth\": 1}, \"coloraxis\": {\"colorbar\": {\"outlinewidth\": 0, \"ticks\": \"\"}}, \"colorscale\": {\"diverging\": [[0, \"#8e0152\"], [0.1, \"#c51b7d\"], [0.2, \"#de77ae\"], [0.3, \"#f1b6da\"], [0.4, \"#fde0ef\"], [0.5, \"#f7f7f7\"], [0.6, \"#e6f5d0\"], [0.7, \"#b8e186\"], [0.8, \"#7fbc41\"], [0.9, \"#4d9221\"], [1, \"#276419\"]], \"sequential\": [[0.0, \"#0d0887\"], [0.1111111111111111, \"#46039f\"], [0.2222222222222222, \"#7201a8\"], [0.3333333333333333, \"#9c179e\"], [0.4444444444444444, \"#bd3786\"], [0.5555555555555556, \"#d8576b\"], [0.6666666666666666, \"#ed7953\"], [0.7777777777777778, \"#fb9f3a\"], [0.8888888888888888, \"#fdca26\"], [1.0, \"#f0f921\"]], \"sequentialminus\": [[0.0, \"#0d0887\"], [0.1111111111111111, \"#46039f\"], [0.2222222222222222, \"#7201a8\"], [0.3333333333333333, \"#9c179e\"], [0.4444444444444444, \"#bd3786\"], [0.5555555555555556, \"#d8576b\"], [0.6666666666666666, \"#ed7953\"], [0.7777777777777778, \"#fb9f3a\"], [0.8888888888888888, \"#fdca26\"], [1.0, \"#f0f921\"]]}, \"colorway\": [\"#636efa\", \"#EF553B\", \"#00cc96\", \"#ab63fa\", \"#FFA15A\", \"#19d3f3\", \"#FF6692\", \"#B6E880\", \"#FF97FF\", \"#FECB52\"], \"font\": {\"color\": \"#2a3f5f\"}, \"geo\": {\"bgcolor\": \"white\", \"lakecolor\": \"white\", \"landcolor\": \"#E5ECF6\", \"showlakes\": true, \"showland\": true, \"subunitcolor\": \"white\"}, \"hoverlabel\": {\"align\": \"left\"}, \"hovermode\": \"closest\", \"mapbox\": {\"style\": \"light\"}, \"paper_bgcolor\": \"white\", \"plot_bgcolor\": \"#E5ECF6\", \"polar\": {\"angularaxis\": {\"gridcolor\": \"white\", \"linecolor\": \"white\", \"ticks\": \"\"}, \"bgcolor\": \"#E5ECF6\", \"radialaxis\": {\"gridcolor\": \"white\", \"linecolor\": \"white\", \"ticks\": \"\"}}, \"scene\": {\"xaxis\": {\"backgroundcolor\": \"#E5ECF6\", \"gridcolor\": \"white\", \"gridwidth\": 2, \"linecolor\": \"white\", \"showbackground\": true, \"ticks\": \"\", \"zerolinecolor\": \"white\"}, \"yaxis\": {\"backgroundcolor\": \"#E5ECF6\", \"gridcolor\": \"white\", \"gridwidth\": 2, \"linecolor\": \"white\", \"showbackground\": true, \"ticks\": \"\", \"zerolinecolor\": \"white\"}, \"zaxis\": {\"backgroundcolor\": \"#E5ECF6\", \"gridcolor\": \"white\", \"gridwidth\": 2, \"linecolor\": \"white\", \"showbackground\": true, \"ticks\": \"\", \"zerolinecolor\": \"white\"}}, \"shapedefaults\": {\"line\": {\"color\": \"#2a3f5f\"}}, \"ternary\": {\"aaxis\": {\"gridcolor\": \"white\", \"linecolor\": \"white\", \"ticks\": \"\"}, \"baxis\": {\"gridcolor\": \"white\", \"linecolor\": \"white\", \"ticks\": \"\"}, \"bgcolor\": \"#E5ECF6\", \"caxis\": {\"gridcolor\": \"white\", \"linecolor\": \"white\", \"ticks\": \"\"}}, \"title\": {\"x\": 0.05}, \"xaxis\": {\"automargin\": true, \"gridcolor\": \"white\", \"linecolor\": \"white\", \"ticks\": \"\", \"title\": {\"standoff\": 15}, \"zerolinecolor\": \"white\", \"zerolinewidth\": 2}, \"yaxis\": {\"automargin\": true, \"gridcolor\": \"white\", \"linecolor\": \"white\", \"ticks\": \"\", \"title\": {\"standoff\": 15}, \"zerolinecolor\": \"white\", \"zerolinewidth\": 2}}}},                        {\"responsive\": true}                    ).then(function(){\n",
       "                            \n",
       "var gd = document.getElementById('f49874d5-3194-4826-a996-d0ca0d34e480');\n",
       "var x = new MutationObserver(function (mutations, observer) {{\n",
       "        var display = window.getComputedStyle(gd).display;\n",
       "        if (!display || display === 'none') {{\n",
       "            console.log([gd, 'removed!']);\n",
       "            Plotly.purge(gd);\n",
       "            observer.disconnect();\n",
       "        }}\n",
       "}});\n",
       "\n",
       "// Listen for the removal of the full notebook cells\n",
       "var notebookContainer = gd.closest('#notebook-container');\n",
       "if (notebookContainer) {{\n",
       "    x.observe(notebookContainer, {childList: true});\n",
       "}}\n",
       "\n",
       "// Listen for the clearing of the current output cell\n",
       "var outputEl = gd.closest('.output');\n",
       "if (outputEl) {{\n",
       "    x.observe(outputEl, {childList: true});\n",
       "}}\n",
       "\n",
       "                        })                };                });            </script>        </div>"
      ]
     },
     "metadata": {},
     "output_type": "display_data"
    }
   ],
   "source": [
    "fig = go.Figure([go.Scatter(x=Clothers['purchdate'], y=Clothers['amount'])])\n",
    "fig.show()"
   ]
  },
  {
   "cell_type": "code",
   "execution_count": 95,
   "metadata": {},
   "outputs": [
    {
     "data": {
      "application/vnd.plotly.v1+json": {
       "config": {
        "plotlyServerURL": "https://plot.ly"
       },
       "data": [
        {
         "type": "scatter",
         "x": [
          "2019-09-16 00:00:00",
          "2019-09-17 00:00:00",
          "2019-09-18 00:00:00",
          "2019-09-19 00:00:00",
          "2019-09-20 00:00:00",
          "2019-09-21 00:00:00",
          "2019-09-22 00:00:00",
          "2019-09-23 00:00:00",
          "2019-09-24 00:00:00",
          "2019-09-25 00:00:00",
          "2019-09-26 00:00:00",
          "2019-09-27 00:00:00",
          "2019-09-28 00:00:00",
          "2019-09-29 00:00:00",
          "2019-09-30 00:00:00",
          "2019-10-01 00:00:00",
          "2019-10-02 00:00:00",
          "2019-10-03 00:00:00",
          "2019-10-04 00:00:00",
          "2019-10-05 00:00:00",
          "2019-10-06 00:00:00",
          "2019-10-07 00:00:00",
          "2019-10-08 00:00:00",
          "2019-10-09 00:00:00",
          "2019-10-10 00:00:00",
          "2019-10-11 00:00:00",
          "2019-10-12 00:00:00",
          "2019-10-13 00:00:00",
          "2019-10-14 00:00:00",
          "2019-10-15 00:00:00",
          "2019-10-16 00:00:00",
          "2019-10-17 00:00:00",
          "2019-10-18 00:00:00",
          "2019-10-19 00:00:00",
          "2019-10-20 00:00:00",
          "2019-10-21 00:00:00",
          "2019-10-22 00:00:00",
          "2019-10-23 00:00:00",
          "2019-10-24 00:00:00",
          "2019-10-25 00:00:00",
          "2019-10-26 00:00:00",
          "2019-10-27 00:00:00",
          "2019-10-28 00:00:00",
          "2019-10-29 00:00:00",
          "2019-10-30 00:00:00",
          "2019-10-31 00:00:00",
          "2019-11-01 00:00:00",
          "2019-11-02 00:00:00",
          "2019-11-03 00:00:00",
          "2019-11-04 00:00:00",
          "2019-11-05 00:00:00",
          "2019-11-06 00:00:00",
          "2019-11-07 00:00:00",
          "2019-11-08 00:00:00",
          "2019-11-09 00:00:00",
          "2019-11-10 00:00:00",
          "2019-11-12 00:00:00",
          "2019-11-13 00:00:00",
          "2019-11-14 00:00:00",
          "2019-11-15 00:00:00",
          "2019-11-16 00:00:00",
          "2019-11-17 00:00:00",
          "2019-11-18 00:00:00",
          "2019-11-19 00:00:00",
          "2019-11-20 00:00:00",
          "2019-11-21 00:00:00",
          "2019-11-22 00:00:00",
          "2019-11-23 00:00:00",
          "2019-11-24 00:00:00",
          "2019-11-25 00:00:00",
          "2019-11-26 00:00:00",
          "2019-11-27 00:00:00",
          "2019-11-28 00:00:00",
          "2019-11-29 00:00:00",
          "2019-11-30 00:00:00",
          "2019-12-01 00:00:00",
          "2019-12-02 00:00:00",
          "2019-12-03 00:00:00",
          "2019-12-04 00:00:00",
          "2019-12-05 00:00:00",
          "2019-12-06 00:00:00",
          "2019-12-07 00:00:00",
          "2019-12-08 00:00:00",
          "2019-12-09 00:00:00",
          "2019-12-10 00:00:00",
          "2019-12-11 00:00:00",
          "2019-12-12 00:00:00",
          "2019-12-13 00:00:00",
          "2019-12-14 00:00:00",
          "2019-12-15 00:00:00",
          "2019-12-16 00:00:00",
          "2019-12-17 00:00:00"
         ],
         "y": [
          160.375,
          87,
          114.44,
          143.27777777777777,
          207.75,
          90.16666666666667,
          94.52,
          276.75,
          101.48,
          157.8,
          99.925,
          139.04,
          110.66666666666667,
          161.72222222222223,
          241.4,
          98.85,
          128.925,
          50,
          79.125,
          110.9875,
          115.07142857142857,
          160.8,
          425.8,
          198.0625,
          120.95,
          121.8,
          81.7,
          93.35714285714286,
          92.25,
          155.35,
          150.99285714285713,
          155.36,
          150.53333333333333,
          139.16666666666666,
          136.16666666666666,
          127.6525,
          125.49166666666667,
          117,
          111.5375,
          1385.9833333333333,
          83.35714285714286,
          107.6,
          57.7,
          110.66666666666667,
          127.03333333333333,
          161.075,
          97.1,
          108.71428571428571,
          100.44,
          124,
          130.625,
          99.38125,
          94.33333333333333,
          206.9055,
          136.55,
          98.16666666666667,
          117,
          93.4,
          155.625,
          103.5,
          163.38888888888889,
          110.44,
          356.4166666666667,
          200.33333333333334,
          78.325,
          74.2,
          65.55,
          137.25666666666666,
          143.8,
          70.0625,
          58.95,
          102.7,
          127.64285714285714,
          160.86763200000001,
          156.525,
          111.27777777777779,
          72.13333333333333,
          84.725,
          87.56666666666668,
          73.6,
          118,
          155.3357142857143,
          234.45,
          106.43333333333332,
          117.4,
          79.525,
          79.25,
          173.16363636363636,
          168.6153846153846,
          143.8923076923077,
          67,
          119
         ]
        }
       ],
       "layout": {
        "template": {
         "data": {
          "bar": [
           {
            "error_x": {
             "color": "#2a3f5f"
            },
            "error_y": {
             "color": "#2a3f5f"
            },
            "marker": {
             "line": {
              "color": "#E5ECF6",
              "width": 0.5
             }
            },
            "type": "bar"
           }
          ],
          "barpolar": [
           {
            "marker": {
             "line": {
              "color": "#E5ECF6",
              "width": 0.5
             }
            },
            "type": "barpolar"
           }
          ],
          "carpet": [
           {
            "aaxis": {
             "endlinecolor": "#2a3f5f",
             "gridcolor": "white",
             "linecolor": "white",
             "minorgridcolor": "white",
             "startlinecolor": "#2a3f5f"
            },
            "baxis": {
             "endlinecolor": "#2a3f5f",
             "gridcolor": "white",
             "linecolor": "white",
             "minorgridcolor": "white",
             "startlinecolor": "#2a3f5f"
            },
            "type": "carpet"
           }
          ],
          "choropleth": [
           {
            "colorbar": {
             "outlinewidth": 0,
             "ticks": ""
            },
            "type": "choropleth"
           }
          ],
          "contour": [
           {
            "colorbar": {
             "outlinewidth": 0,
             "ticks": ""
            },
            "colorscale": [
             [
              0,
              "#0d0887"
             ],
             [
              0.1111111111111111,
              "#46039f"
             ],
             [
              0.2222222222222222,
              "#7201a8"
             ],
             [
              0.3333333333333333,
              "#9c179e"
             ],
             [
              0.4444444444444444,
              "#bd3786"
             ],
             [
              0.5555555555555556,
              "#d8576b"
             ],
             [
              0.6666666666666666,
              "#ed7953"
             ],
             [
              0.7777777777777778,
              "#fb9f3a"
             ],
             [
              0.8888888888888888,
              "#fdca26"
             ],
             [
              1,
              "#f0f921"
             ]
            ],
            "type": "contour"
           }
          ],
          "contourcarpet": [
           {
            "colorbar": {
             "outlinewidth": 0,
             "ticks": ""
            },
            "type": "contourcarpet"
           }
          ],
          "heatmap": [
           {
            "colorbar": {
             "outlinewidth": 0,
             "ticks": ""
            },
            "colorscale": [
             [
              0,
              "#0d0887"
             ],
             [
              0.1111111111111111,
              "#46039f"
             ],
             [
              0.2222222222222222,
              "#7201a8"
             ],
             [
              0.3333333333333333,
              "#9c179e"
             ],
             [
              0.4444444444444444,
              "#bd3786"
             ],
             [
              0.5555555555555556,
              "#d8576b"
             ],
             [
              0.6666666666666666,
              "#ed7953"
             ],
             [
              0.7777777777777778,
              "#fb9f3a"
             ],
             [
              0.8888888888888888,
              "#fdca26"
             ],
             [
              1,
              "#f0f921"
             ]
            ],
            "type": "heatmap"
           }
          ],
          "heatmapgl": [
           {
            "colorbar": {
             "outlinewidth": 0,
             "ticks": ""
            },
            "colorscale": [
             [
              0,
              "#0d0887"
             ],
             [
              0.1111111111111111,
              "#46039f"
             ],
             [
              0.2222222222222222,
              "#7201a8"
             ],
             [
              0.3333333333333333,
              "#9c179e"
             ],
             [
              0.4444444444444444,
              "#bd3786"
             ],
             [
              0.5555555555555556,
              "#d8576b"
             ],
             [
              0.6666666666666666,
              "#ed7953"
             ],
             [
              0.7777777777777778,
              "#fb9f3a"
             ],
             [
              0.8888888888888888,
              "#fdca26"
             ],
             [
              1,
              "#f0f921"
             ]
            ],
            "type": "heatmapgl"
           }
          ],
          "histogram": [
           {
            "marker": {
             "colorbar": {
              "outlinewidth": 0,
              "ticks": ""
             }
            },
            "type": "histogram"
           }
          ],
          "histogram2d": [
           {
            "colorbar": {
             "outlinewidth": 0,
             "ticks": ""
            },
            "colorscale": [
             [
              0,
              "#0d0887"
             ],
             [
              0.1111111111111111,
              "#46039f"
             ],
             [
              0.2222222222222222,
              "#7201a8"
             ],
             [
              0.3333333333333333,
              "#9c179e"
             ],
             [
              0.4444444444444444,
              "#bd3786"
             ],
             [
              0.5555555555555556,
              "#d8576b"
             ],
             [
              0.6666666666666666,
              "#ed7953"
             ],
             [
              0.7777777777777778,
              "#fb9f3a"
             ],
             [
              0.8888888888888888,
              "#fdca26"
             ],
             [
              1,
              "#f0f921"
             ]
            ],
            "type": "histogram2d"
           }
          ],
          "histogram2dcontour": [
           {
            "colorbar": {
             "outlinewidth": 0,
             "ticks": ""
            },
            "colorscale": [
             [
              0,
              "#0d0887"
             ],
             [
              0.1111111111111111,
              "#46039f"
             ],
             [
              0.2222222222222222,
              "#7201a8"
             ],
             [
              0.3333333333333333,
              "#9c179e"
             ],
             [
              0.4444444444444444,
              "#bd3786"
             ],
             [
              0.5555555555555556,
              "#d8576b"
             ],
             [
              0.6666666666666666,
              "#ed7953"
             ],
             [
              0.7777777777777778,
              "#fb9f3a"
             ],
             [
              0.8888888888888888,
              "#fdca26"
             ],
             [
              1,
              "#f0f921"
             ]
            ],
            "type": "histogram2dcontour"
           }
          ],
          "mesh3d": [
           {
            "colorbar": {
             "outlinewidth": 0,
             "ticks": ""
            },
            "type": "mesh3d"
           }
          ],
          "parcoords": [
           {
            "line": {
             "colorbar": {
              "outlinewidth": 0,
              "ticks": ""
             }
            },
            "type": "parcoords"
           }
          ],
          "pie": [
           {
            "automargin": true,
            "type": "pie"
           }
          ],
          "scatter": [
           {
            "marker": {
             "colorbar": {
              "outlinewidth": 0,
              "ticks": ""
             }
            },
            "type": "scatter"
           }
          ],
          "scatter3d": [
           {
            "line": {
             "colorbar": {
              "outlinewidth": 0,
              "ticks": ""
             }
            },
            "marker": {
             "colorbar": {
              "outlinewidth": 0,
              "ticks": ""
             }
            },
            "type": "scatter3d"
           }
          ],
          "scattercarpet": [
           {
            "marker": {
             "colorbar": {
              "outlinewidth": 0,
              "ticks": ""
             }
            },
            "type": "scattercarpet"
           }
          ],
          "scattergeo": [
           {
            "marker": {
             "colorbar": {
              "outlinewidth": 0,
              "ticks": ""
             }
            },
            "type": "scattergeo"
           }
          ],
          "scattergl": [
           {
            "marker": {
             "colorbar": {
              "outlinewidth": 0,
              "ticks": ""
             }
            },
            "type": "scattergl"
           }
          ],
          "scattermapbox": [
           {
            "marker": {
             "colorbar": {
              "outlinewidth": 0,
              "ticks": ""
             }
            },
            "type": "scattermapbox"
           }
          ],
          "scatterpolar": [
           {
            "marker": {
             "colorbar": {
              "outlinewidth": 0,
              "ticks": ""
             }
            },
            "type": "scatterpolar"
           }
          ],
          "scatterpolargl": [
           {
            "marker": {
             "colorbar": {
              "outlinewidth": 0,
              "ticks": ""
             }
            },
            "type": "scatterpolargl"
           }
          ],
          "scatterternary": [
           {
            "marker": {
             "colorbar": {
              "outlinewidth": 0,
              "ticks": ""
             }
            },
            "type": "scatterternary"
           }
          ],
          "surface": [
           {
            "colorbar": {
             "outlinewidth": 0,
             "ticks": ""
            },
            "colorscale": [
             [
              0,
              "#0d0887"
             ],
             [
              0.1111111111111111,
              "#46039f"
             ],
             [
              0.2222222222222222,
              "#7201a8"
             ],
             [
              0.3333333333333333,
              "#9c179e"
             ],
             [
              0.4444444444444444,
              "#bd3786"
             ],
             [
              0.5555555555555556,
              "#d8576b"
             ],
             [
              0.6666666666666666,
              "#ed7953"
             ],
             [
              0.7777777777777778,
              "#fb9f3a"
             ],
             [
              0.8888888888888888,
              "#fdca26"
             ],
             [
              1,
              "#f0f921"
             ]
            ],
            "type": "surface"
           }
          ],
          "table": [
           {
            "cells": {
             "fill": {
              "color": "#EBF0F8"
             },
             "line": {
              "color": "white"
             }
            },
            "header": {
             "fill": {
              "color": "#C8D4E3"
             },
             "line": {
              "color": "white"
             }
            },
            "type": "table"
           }
          ]
         },
         "layout": {
          "annotationdefaults": {
           "arrowcolor": "#2a3f5f",
           "arrowhead": 0,
           "arrowwidth": 1
          },
          "coloraxis": {
           "colorbar": {
            "outlinewidth": 0,
            "ticks": ""
           }
          },
          "colorscale": {
           "diverging": [
            [
             0,
             "#8e0152"
            ],
            [
             0.1,
             "#c51b7d"
            ],
            [
             0.2,
             "#de77ae"
            ],
            [
             0.3,
             "#f1b6da"
            ],
            [
             0.4,
             "#fde0ef"
            ],
            [
             0.5,
             "#f7f7f7"
            ],
            [
             0.6,
             "#e6f5d0"
            ],
            [
             0.7,
             "#b8e186"
            ],
            [
             0.8,
             "#7fbc41"
            ],
            [
             0.9,
             "#4d9221"
            ],
            [
             1,
             "#276419"
            ]
           ],
           "sequential": [
            [
             0,
             "#0d0887"
            ],
            [
             0.1111111111111111,
             "#46039f"
            ],
            [
             0.2222222222222222,
             "#7201a8"
            ],
            [
             0.3333333333333333,
             "#9c179e"
            ],
            [
             0.4444444444444444,
             "#bd3786"
            ],
            [
             0.5555555555555556,
             "#d8576b"
            ],
            [
             0.6666666666666666,
             "#ed7953"
            ],
            [
             0.7777777777777778,
             "#fb9f3a"
            ],
            [
             0.8888888888888888,
             "#fdca26"
            ],
            [
             1,
             "#f0f921"
            ]
           ],
           "sequentialminus": [
            [
             0,
             "#0d0887"
            ],
            [
             0.1111111111111111,
             "#46039f"
            ],
            [
             0.2222222222222222,
             "#7201a8"
            ],
            [
             0.3333333333333333,
             "#9c179e"
            ],
            [
             0.4444444444444444,
             "#bd3786"
            ],
            [
             0.5555555555555556,
             "#d8576b"
            ],
            [
             0.6666666666666666,
             "#ed7953"
            ],
            [
             0.7777777777777778,
             "#fb9f3a"
            ],
            [
             0.8888888888888888,
             "#fdca26"
            ],
            [
             1,
             "#f0f921"
            ]
           ]
          },
          "colorway": [
           "#636efa",
           "#EF553B",
           "#00cc96",
           "#ab63fa",
           "#FFA15A",
           "#19d3f3",
           "#FF6692",
           "#B6E880",
           "#FF97FF",
           "#FECB52"
          ],
          "font": {
           "color": "#2a3f5f"
          },
          "geo": {
           "bgcolor": "white",
           "lakecolor": "white",
           "landcolor": "#E5ECF6",
           "showlakes": true,
           "showland": true,
           "subunitcolor": "white"
          },
          "hoverlabel": {
           "align": "left"
          },
          "hovermode": "closest",
          "mapbox": {
           "style": "light"
          },
          "paper_bgcolor": "white",
          "plot_bgcolor": "#E5ECF6",
          "polar": {
           "angularaxis": {
            "gridcolor": "white",
            "linecolor": "white",
            "ticks": ""
           },
           "bgcolor": "#E5ECF6",
           "radialaxis": {
            "gridcolor": "white",
            "linecolor": "white",
            "ticks": ""
           }
          },
          "scene": {
           "xaxis": {
            "backgroundcolor": "#E5ECF6",
            "gridcolor": "white",
            "gridwidth": 2,
            "linecolor": "white",
            "showbackground": true,
            "ticks": "",
            "zerolinecolor": "white"
           },
           "yaxis": {
            "backgroundcolor": "#E5ECF6",
            "gridcolor": "white",
            "gridwidth": 2,
            "linecolor": "white",
            "showbackground": true,
            "ticks": "",
            "zerolinecolor": "white"
           },
           "zaxis": {
            "backgroundcolor": "#E5ECF6",
            "gridcolor": "white",
            "gridwidth": 2,
            "linecolor": "white",
            "showbackground": true,
            "ticks": "",
            "zerolinecolor": "white"
           }
          },
          "shapedefaults": {
           "line": {
            "color": "#2a3f5f"
           }
          },
          "ternary": {
           "aaxis": {
            "gridcolor": "white",
            "linecolor": "white",
            "ticks": ""
           },
           "baxis": {
            "gridcolor": "white",
            "linecolor": "white",
            "ticks": ""
           },
           "bgcolor": "#E5ECF6",
           "caxis": {
            "gridcolor": "white",
            "linecolor": "white",
            "ticks": ""
           }
          },
          "title": {
           "x": 0.05
          },
          "xaxis": {
           "automargin": true,
           "gridcolor": "white",
           "linecolor": "white",
           "ticks": "",
           "title": {
            "standoff": 15
           },
           "zerolinecolor": "white",
           "zerolinewidth": 2
          },
          "yaxis": {
           "automargin": true,
           "gridcolor": "white",
           "linecolor": "white",
           "ticks": "",
           "title": {
            "standoff": 15
           },
           "zerolinecolor": "white",
           "zerolinewidth": 2
          }
         }
        }
       }
      },
      "text/html": [
       "<div>                            <div id=\"6adca6f1-bc38-4c2e-8825-454f0c7cea39\" class=\"plotly-graph-div\" style=\"height:525px; width:100%;\"></div>            <script type=\"text/javascript\">                require([\"plotly\"], function(Plotly) {                    window.PLOTLYENV=window.PLOTLYENV || {};                                    if (document.getElementById(\"6adca6f1-bc38-4c2e-8825-454f0c7cea39\")) {                    Plotly.newPlot(                        \"6adca6f1-bc38-4c2e-8825-454f0c7cea39\",                        [{\"type\": \"scatter\", \"x\": [\"2019-09-16 00:00:00\", \"2019-09-17 00:00:00\", \"2019-09-18 00:00:00\", \"2019-09-19 00:00:00\", \"2019-09-20 00:00:00\", \"2019-09-21 00:00:00\", \"2019-09-22 00:00:00\", \"2019-09-23 00:00:00\", \"2019-09-24 00:00:00\", \"2019-09-25 00:00:00\", \"2019-09-26 00:00:00\", \"2019-09-27 00:00:00\", \"2019-09-28 00:00:00\", \"2019-09-29 00:00:00\", \"2019-09-30 00:00:00\", \"2019-10-01 00:00:00\", \"2019-10-02 00:00:00\", \"2019-10-03 00:00:00\", \"2019-10-04 00:00:00\", \"2019-10-05 00:00:00\", \"2019-10-06 00:00:00\", \"2019-10-07 00:00:00\", \"2019-10-08 00:00:00\", \"2019-10-09 00:00:00\", \"2019-10-10 00:00:00\", \"2019-10-11 00:00:00\", \"2019-10-12 00:00:00\", \"2019-10-13 00:00:00\", \"2019-10-14 00:00:00\", \"2019-10-15 00:00:00\", \"2019-10-16 00:00:00\", \"2019-10-17 00:00:00\", \"2019-10-18 00:00:00\", \"2019-10-19 00:00:00\", \"2019-10-20 00:00:00\", \"2019-10-21 00:00:00\", \"2019-10-22 00:00:00\", \"2019-10-23 00:00:00\", \"2019-10-24 00:00:00\", \"2019-10-25 00:00:00\", \"2019-10-26 00:00:00\", \"2019-10-27 00:00:00\", \"2019-10-28 00:00:00\", \"2019-10-29 00:00:00\", \"2019-10-30 00:00:00\", \"2019-10-31 00:00:00\", \"2019-11-01 00:00:00\", \"2019-11-02 00:00:00\", \"2019-11-03 00:00:00\", \"2019-11-04 00:00:00\", \"2019-11-05 00:00:00\", \"2019-11-06 00:00:00\", \"2019-11-07 00:00:00\", \"2019-11-08 00:00:00\", \"2019-11-09 00:00:00\", \"2019-11-10 00:00:00\", \"2019-11-12 00:00:00\", \"2019-11-13 00:00:00\", \"2019-11-14 00:00:00\", \"2019-11-15 00:00:00\", \"2019-11-16 00:00:00\", \"2019-11-17 00:00:00\", \"2019-11-18 00:00:00\", \"2019-11-19 00:00:00\", \"2019-11-20 00:00:00\", \"2019-11-21 00:00:00\", \"2019-11-22 00:00:00\", \"2019-11-23 00:00:00\", \"2019-11-24 00:00:00\", \"2019-11-25 00:00:00\", \"2019-11-26 00:00:00\", \"2019-11-27 00:00:00\", \"2019-11-28 00:00:00\", \"2019-11-29 00:00:00\", \"2019-11-30 00:00:00\", \"2019-12-01 00:00:00\", \"2019-12-02 00:00:00\", \"2019-12-03 00:00:00\", \"2019-12-04 00:00:00\", \"2019-12-05 00:00:00\", \"2019-12-06 00:00:00\", \"2019-12-07 00:00:00\", \"2019-12-08 00:00:00\", \"2019-12-09 00:00:00\", \"2019-12-10 00:00:00\", \"2019-12-11 00:00:00\", \"2019-12-12 00:00:00\", \"2019-12-13 00:00:00\", \"2019-12-14 00:00:00\", \"2019-12-15 00:00:00\", \"2019-12-16 00:00:00\", \"2019-12-17 00:00:00\"], \"y\": [160.375, 87.0, 114.44, 143.27777777777777, 207.75, 90.16666666666667, 94.52, 276.75, 101.48, 157.8, 99.925, 139.04, 110.66666666666667, 161.72222222222223, 241.4, 98.85, 128.925, 50.0, 79.125, 110.9875, 115.07142857142857, 160.8, 425.8, 198.0625, 120.95, 121.8, 81.7, 93.35714285714286, 92.25, 155.35, 150.99285714285713, 155.36, 150.53333333333333, 139.16666666666666, 136.16666666666666, 127.6525, 125.49166666666667, 117.0, 111.5375, 1385.9833333333333, 83.35714285714286, 107.6, 57.7, 110.66666666666667, 127.03333333333333, 161.075, 97.1, 108.71428571428571, 100.44, 124.0, 130.625, 99.38125, 94.33333333333333, 206.9055, 136.55, 98.16666666666667, 117.0, 93.4, 155.625, 103.5, 163.38888888888889, 110.44, 356.4166666666667, 200.33333333333334, 78.325, 74.2, 65.55, 137.25666666666666, 143.8, 70.0625, 58.95, 102.7, 127.64285714285714, 160.86763200000001, 156.525, 111.27777777777779, 72.13333333333333, 84.725, 87.56666666666668, 73.6, 118.0, 155.3357142857143, 234.45, 106.43333333333332, 117.4, 79.525, 79.25, 173.16363636363636, 168.6153846153846, 143.8923076923077, 67.0, 119.0]}],                        {\"template\": {\"data\": {\"bar\": [{\"error_x\": {\"color\": \"#2a3f5f\"}, \"error_y\": {\"color\": \"#2a3f5f\"}, \"marker\": {\"line\": {\"color\": \"#E5ECF6\", \"width\": 0.5}}, \"type\": \"bar\"}], \"barpolar\": [{\"marker\": {\"line\": {\"color\": \"#E5ECF6\", \"width\": 0.5}}, \"type\": \"barpolar\"}], \"carpet\": [{\"aaxis\": {\"endlinecolor\": \"#2a3f5f\", \"gridcolor\": \"white\", \"linecolor\": \"white\", \"minorgridcolor\": \"white\", \"startlinecolor\": \"#2a3f5f\"}, \"baxis\": {\"endlinecolor\": \"#2a3f5f\", \"gridcolor\": \"white\", \"linecolor\": \"white\", \"minorgridcolor\": \"white\", \"startlinecolor\": \"#2a3f5f\"}, \"type\": \"carpet\"}], \"choropleth\": [{\"colorbar\": {\"outlinewidth\": 0, \"ticks\": \"\"}, \"type\": \"choropleth\"}], \"contour\": [{\"colorbar\": {\"outlinewidth\": 0, \"ticks\": \"\"}, \"colorscale\": [[0.0, \"#0d0887\"], [0.1111111111111111, \"#46039f\"], [0.2222222222222222, \"#7201a8\"], [0.3333333333333333, \"#9c179e\"], [0.4444444444444444, \"#bd3786\"], [0.5555555555555556, \"#d8576b\"], [0.6666666666666666, \"#ed7953\"], [0.7777777777777778, \"#fb9f3a\"], [0.8888888888888888, \"#fdca26\"], [1.0, \"#f0f921\"]], \"type\": \"contour\"}], \"contourcarpet\": [{\"colorbar\": {\"outlinewidth\": 0, \"ticks\": \"\"}, \"type\": \"contourcarpet\"}], \"heatmap\": [{\"colorbar\": {\"outlinewidth\": 0, \"ticks\": \"\"}, \"colorscale\": [[0.0, \"#0d0887\"], [0.1111111111111111, \"#46039f\"], [0.2222222222222222, \"#7201a8\"], [0.3333333333333333, \"#9c179e\"], [0.4444444444444444, \"#bd3786\"], [0.5555555555555556, \"#d8576b\"], [0.6666666666666666, \"#ed7953\"], [0.7777777777777778, \"#fb9f3a\"], [0.8888888888888888, \"#fdca26\"], [1.0, \"#f0f921\"]], \"type\": \"heatmap\"}], \"heatmapgl\": [{\"colorbar\": {\"outlinewidth\": 0, \"ticks\": \"\"}, \"colorscale\": [[0.0, \"#0d0887\"], [0.1111111111111111, \"#46039f\"], [0.2222222222222222, \"#7201a8\"], [0.3333333333333333, \"#9c179e\"], [0.4444444444444444, \"#bd3786\"], [0.5555555555555556, \"#d8576b\"], [0.6666666666666666, \"#ed7953\"], [0.7777777777777778, \"#fb9f3a\"], [0.8888888888888888, \"#fdca26\"], [1.0, \"#f0f921\"]], \"type\": \"heatmapgl\"}], \"histogram\": [{\"marker\": {\"colorbar\": {\"outlinewidth\": 0, \"ticks\": \"\"}}, \"type\": \"histogram\"}], \"histogram2d\": [{\"colorbar\": {\"outlinewidth\": 0, \"ticks\": \"\"}, \"colorscale\": [[0.0, \"#0d0887\"], [0.1111111111111111, \"#46039f\"], [0.2222222222222222, \"#7201a8\"], [0.3333333333333333, \"#9c179e\"], [0.4444444444444444, \"#bd3786\"], [0.5555555555555556, \"#d8576b\"], [0.6666666666666666, \"#ed7953\"], [0.7777777777777778, \"#fb9f3a\"], [0.8888888888888888, \"#fdca26\"], [1.0, \"#f0f921\"]], \"type\": \"histogram2d\"}], \"histogram2dcontour\": [{\"colorbar\": {\"outlinewidth\": 0, \"ticks\": \"\"}, \"colorscale\": [[0.0, \"#0d0887\"], [0.1111111111111111, \"#46039f\"], [0.2222222222222222, \"#7201a8\"], [0.3333333333333333, \"#9c179e\"], [0.4444444444444444, \"#bd3786\"], [0.5555555555555556, \"#d8576b\"], [0.6666666666666666, \"#ed7953\"], [0.7777777777777778, \"#fb9f3a\"], [0.8888888888888888, \"#fdca26\"], [1.0, \"#f0f921\"]], \"type\": \"histogram2dcontour\"}], \"mesh3d\": [{\"colorbar\": {\"outlinewidth\": 0, \"ticks\": \"\"}, \"type\": \"mesh3d\"}], \"parcoords\": [{\"line\": {\"colorbar\": {\"outlinewidth\": 0, \"ticks\": \"\"}}, \"type\": \"parcoords\"}], \"pie\": [{\"automargin\": true, \"type\": \"pie\"}], \"scatter\": [{\"marker\": {\"colorbar\": {\"outlinewidth\": 0, \"ticks\": \"\"}}, \"type\": \"scatter\"}], \"scatter3d\": [{\"line\": {\"colorbar\": {\"outlinewidth\": 0, \"ticks\": \"\"}}, \"marker\": {\"colorbar\": {\"outlinewidth\": 0, \"ticks\": \"\"}}, \"type\": \"scatter3d\"}], \"scattercarpet\": [{\"marker\": {\"colorbar\": {\"outlinewidth\": 0, \"ticks\": \"\"}}, \"type\": \"scattercarpet\"}], \"scattergeo\": [{\"marker\": {\"colorbar\": {\"outlinewidth\": 0, \"ticks\": \"\"}}, \"type\": \"scattergeo\"}], \"scattergl\": [{\"marker\": {\"colorbar\": {\"outlinewidth\": 0, \"ticks\": \"\"}}, \"type\": \"scattergl\"}], \"scattermapbox\": [{\"marker\": {\"colorbar\": {\"outlinewidth\": 0, \"ticks\": \"\"}}, \"type\": \"scattermapbox\"}], \"scatterpolar\": [{\"marker\": {\"colorbar\": {\"outlinewidth\": 0, \"ticks\": \"\"}}, \"type\": \"scatterpolar\"}], \"scatterpolargl\": [{\"marker\": {\"colorbar\": {\"outlinewidth\": 0, \"ticks\": \"\"}}, \"type\": \"scatterpolargl\"}], \"scatterternary\": [{\"marker\": {\"colorbar\": {\"outlinewidth\": 0, \"ticks\": \"\"}}, \"type\": \"scatterternary\"}], \"surface\": [{\"colorbar\": {\"outlinewidth\": 0, \"ticks\": \"\"}, \"colorscale\": [[0.0, \"#0d0887\"], [0.1111111111111111, \"#46039f\"], [0.2222222222222222, \"#7201a8\"], [0.3333333333333333, \"#9c179e\"], [0.4444444444444444, \"#bd3786\"], [0.5555555555555556, \"#d8576b\"], [0.6666666666666666, \"#ed7953\"], [0.7777777777777778, \"#fb9f3a\"], [0.8888888888888888, \"#fdca26\"], [1.0, \"#f0f921\"]], \"type\": \"surface\"}], \"table\": [{\"cells\": {\"fill\": {\"color\": \"#EBF0F8\"}, \"line\": {\"color\": \"white\"}}, \"header\": {\"fill\": {\"color\": \"#C8D4E3\"}, \"line\": {\"color\": \"white\"}}, \"type\": \"table\"}]}, \"layout\": {\"annotationdefaults\": {\"arrowcolor\": \"#2a3f5f\", \"arrowhead\": 0, \"arrowwidth\": 1}, \"coloraxis\": {\"colorbar\": {\"outlinewidth\": 0, \"ticks\": \"\"}}, \"colorscale\": {\"diverging\": [[0, \"#8e0152\"], [0.1, \"#c51b7d\"], [0.2, \"#de77ae\"], [0.3, \"#f1b6da\"], [0.4, \"#fde0ef\"], [0.5, \"#f7f7f7\"], [0.6, \"#e6f5d0\"], [0.7, \"#b8e186\"], [0.8, \"#7fbc41\"], [0.9, \"#4d9221\"], [1, \"#276419\"]], \"sequential\": [[0.0, \"#0d0887\"], [0.1111111111111111, \"#46039f\"], [0.2222222222222222, \"#7201a8\"], [0.3333333333333333, \"#9c179e\"], [0.4444444444444444, \"#bd3786\"], [0.5555555555555556, \"#d8576b\"], [0.6666666666666666, \"#ed7953\"], [0.7777777777777778, \"#fb9f3a\"], [0.8888888888888888, \"#fdca26\"], [1.0, \"#f0f921\"]], \"sequentialminus\": [[0.0, \"#0d0887\"], [0.1111111111111111, \"#46039f\"], [0.2222222222222222, \"#7201a8\"], [0.3333333333333333, \"#9c179e\"], [0.4444444444444444, \"#bd3786\"], [0.5555555555555556, \"#d8576b\"], [0.6666666666666666, \"#ed7953\"], [0.7777777777777778, \"#fb9f3a\"], [0.8888888888888888, \"#fdca26\"], [1.0, \"#f0f921\"]]}, \"colorway\": [\"#636efa\", \"#EF553B\", \"#00cc96\", \"#ab63fa\", \"#FFA15A\", \"#19d3f3\", \"#FF6692\", \"#B6E880\", \"#FF97FF\", \"#FECB52\"], \"font\": {\"color\": \"#2a3f5f\"}, \"geo\": {\"bgcolor\": \"white\", \"lakecolor\": \"white\", \"landcolor\": \"#E5ECF6\", \"showlakes\": true, \"showland\": true, \"subunitcolor\": \"white\"}, \"hoverlabel\": {\"align\": \"left\"}, \"hovermode\": \"closest\", \"mapbox\": {\"style\": \"light\"}, \"paper_bgcolor\": \"white\", \"plot_bgcolor\": \"#E5ECF6\", \"polar\": {\"angularaxis\": {\"gridcolor\": \"white\", \"linecolor\": \"white\", \"ticks\": \"\"}, \"bgcolor\": \"#E5ECF6\", \"radialaxis\": {\"gridcolor\": \"white\", \"linecolor\": \"white\", \"ticks\": \"\"}}, \"scene\": {\"xaxis\": {\"backgroundcolor\": \"#E5ECF6\", \"gridcolor\": \"white\", \"gridwidth\": 2, \"linecolor\": \"white\", \"showbackground\": true, \"ticks\": \"\", \"zerolinecolor\": \"white\"}, \"yaxis\": {\"backgroundcolor\": \"#E5ECF6\", \"gridcolor\": \"white\", \"gridwidth\": 2, \"linecolor\": \"white\", \"showbackground\": true, \"ticks\": \"\", \"zerolinecolor\": \"white\"}, \"zaxis\": {\"backgroundcolor\": \"#E5ECF6\", \"gridcolor\": \"white\", \"gridwidth\": 2, \"linecolor\": \"white\", \"showbackground\": true, \"ticks\": \"\", \"zerolinecolor\": \"white\"}}, \"shapedefaults\": {\"line\": {\"color\": \"#2a3f5f\"}}, \"ternary\": {\"aaxis\": {\"gridcolor\": \"white\", \"linecolor\": \"white\", \"ticks\": \"\"}, \"baxis\": {\"gridcolor\": \"white\", \"linecolor\": \"white\", \"ticks\": \"\"}, \"bgcolor\": \"#E5ECF6\", \"caxis\": {\"gridcolor\": \"white\", \"linecolor\": \"white\", \"ticks\": \"\"}}, \"title\": {\"x\": 0.05}, \"xaxis\": {\"automargin\": true, \"gridcolor\": \"white\", \"linecolor\": \"white\", \"ticks\": \"\", \"title\": {\"standoff\": 15}, \"zerolinecolor\": \"white\", \"zerolinewidth\": 2}, \"yaxis\": {\"automargin\": true, \"gridcolor\": \"white\", \"linecolor\": \"white\", \"ticks\": \"\", \"title\": {\"standoff\": 15}, \"zerolinecolor\": \"white\", \"zerolinewidth\": 2}}}},                        {\"responsive\": true}                    ).then(function(){\n",
       "                            \n",
       "var gd = document.getElementById('6adca6f1-bc38-4c2e-8825-454f0c7cea39');\n",
       "var x = new MutationObserver(function (mutations, observer) {{\n",
       "        var display = window.getComputedStyle(gd).display;\n",
       "        if (!display || display === 'none') {{\n",
       "            console.log([gd, 'removed!']);\n",
       "            Plotly.purge(gd);\n",
       "            observer.disconnect();\n",
       "        }}\n",
       "}});\n",
       "\n",
       "// Listen for the removal of the full notebook cells\n",
       "var notebookContainer = gd.closest('#notebook-container');\n",
       "if (notebookContainer) {{\n",
       "    x.observe(notebookContainer, {childList: true});\n",
       "}}\n",
       "\n",
       "// Listen for the clearing of the current output cell\n",
       "var outputEl = gd.closest('.output');\n",
       "if (outputEl) {{\n",
       "    x.observe(outputEl, {childList: true});\n",
       "}}\n",
       "\n",
       "                        })                };                });            </script>        </div>"
      ]
     },
     "metadata": {},
     "output_type": "display_data"
    }
   ],
   "source": [
    "#Louis_Vuitton\n",
    "fig = go.Figure([go.Scatter(x=Louis_Vuitton['purchdate'], y=Louis_Vuitton['amount'])])\n",
    "fig.show()"
   ]
  },
  {
   "cell_type": "code",
   "execution_count": 260,
   "metadata": {},
   "outputs": [],
   "source": [
    "#transactions_clothes\n",
    "\n",
    "transactions_clothes = pd.read_csv(\"transactions_clothes.csv\")"
   ]
  },
  {
   "cell_type": "code",
   "execution_count": 261,
   "metadata": {},
   "outputs": [
    {
     "data": {
      "text/html": [
       "<div>\n",
       "<style scoped>\n",
       "    .dataframe tbody tr th:only-of-type {\n",
       "        vertical-align: middle;\n",
       "    }\n",
       "\n",
       "    .dataframe tbody tr th {\n",
       "        vertical-align: top;\n",
       "    }\n",
       "\n",
       "    .dataframe thead th {\n",
       "        text-align: right;\n",
       "    }\n",
       "</style>\n",
       "<table border=\"1\" class=\"dataframe\">\n",
       "  <thead>\n",
       "    <tr style=\"text-align: right;\">\n",
       "      <th></th>\n",
       "      <th>Unnamed: 0</th>\n",
       "      <th>purchdate</th>\n",
       "      <th>amount</th>\n",
       "      <th>mcc</th>\n",
       "      <th>mrchcity</th>\n",
       "      <th>mrchname</th>\n",
       "      <th>cnum</th>\n",
       "      <th>category</th>\n",
       "      <th>store_name</th>\n",
       "      <th>merchant_name</th>\n",
       "      <th>created_at</th>\n",
       "      <th>cnum_</th>\n",
       "      <th>categorycode</th>\n",
       "      <th>gender</th>\n",
       "      <th>age</th>\n",
       "      <th>married_</th>\n",
       "      <th>residenttype</th>\n",
       "    </tr>\n",
       "  </thead>\n",
       "  <tbody>\n",
       "    <tr>\n",
       "      <th>0</th>\n",
       "      <td>69</td>\n",
       "      <td>2019-10-26 00:00:00</td>\n",
       "      <td>2097.0</td>\n",
       "      <td>5651</td>\n",
       "      <td>KRASNOYARSK</td>\n",
       "      <td>A&amp;C F6G</td>\n",
       "      <td>ELCMDT</td>\n",
       "      <td>Clothes</td>\n",
       "      <td>H&amp;M</td>\n",
       "      <td>A&amp;C F6G</td>\n",
       "      <td>2019-10-26</td>\n",
       "      <td>ELCMDT</td>\n",
       "      <td>81</td>\n",
       "      <td>M</td>\n",
       "      <td>50</td>\n",
       "      <td>married</td>\n",
       "      <td>R</td>\n",
       "    </tr>\n",
       "    <tr>\n",
       "      <th>1</th>\n",
       "      <td>73</td>\n",
       "      <td>2019-11-02 00:00:00</td>\n",
       "      <td>6696.0</td>\n",
       "      <td>5651</td>\n",
       "      <td>PSKOV</td>\n",
       "      <td>XKE4D K29</td>\n",
       "      <td>ELCMDT</td>\n",
       "      <td>Clothes</td>\n",
       "      <td>O`Stin</td>\n",
       "      <td>XKE4D K29</td>\n",
       "      <td>2019-11-02</td>\n",
       "      <td>ELCMDT</td>\n",
       "      <td>81</td>\n",
       "      <td>M</td>\n",
       "      <td>50</td>\n",
       "      <td>married</td>\n",
       "      <td>R</td>\n",
       "    </tr>\n",
       "    <tr>\n",
       "      <th>2</th>\n",
       "      <td>82</td>\n",
       "      <td>2019-09-26 00:00:00</td>\n",
       "      <td>1997.0</td>\n",
       "      <td>5691</td>\n",
       "      <td>KRASNOYARSK</td>\n",
       "      <td>J1K1JT18</td>\n",
       "      <td>ELCMDT</td>\n",
       "      <td>Clothes</td>\n",
       "      <td>Reserved</td>\n",
       "      <td>J1K1JT18</td>\n",
       "      <td>2019-09-26</td>\n",
       "      <td>ELCMDT</td>\n",
       "      <td>81</td>\n",
       "      <td>M</td>\n",
       "      <td>50</td>\n",
       "      <td>married</td>\n",
       "      <td>R</td>\n",
       "    </tr>\n",
       "    <tr>\n",
       "      <th>3</th>\n",
       "      <td>126</td>\n",
       "      <td>2019-11-07 00:00:00</td>\n",
       "      <td>1299.0</td>\n",
       "      <td>5691</td>\n",
       "      <td>KRASNOYARSK</td>\n",
       "      <td>C7DZX WH7D1E7</td>\n",
       "      <td>ELCMDT</td>\n",
       "      <td>Clothes</td>\n",
       "      <td>�����</td>\n",
       "      <td>C7DZX WH7D1E7</td>\n",
       "      <td>2019-11-07</td>\n",
       "      <td>ELCMDT</td>\n",
       "      <td>81</td>\n",
       "      <td>M</td>\n",
       "      <td>50</td>\n",
       "      <td>married</td>\n",
       "      <td>R</td>\n",
       "    </tr>\n",
       "    <tr>\n",
       "      <th>4</th>\n",
       "      <td>127</td>\n",
       "      <td>2019-11-09 00:00:00</td>\n",
       "      <td>2249.0</td>\n",
       "      <td>5691</td>\n",
       "      <td>KRASNOYARSK</td>\n",
       "      <td>C7DZX WH7D1E7</td>\n",
       "      <td>ELCMDT</td>\n",
       "      <td>Clothes</td>\n",
       "      <td>�����</td>\n",
       "      <td>C7DZX WH7D1E7</td>\n",
       "      <td>2019-11-09</td>\n",
       "      <td>ELCMDT</td>\n",
       "      <td>81</td>\n",
       "      <td>M</td>\n",
       "      <td>50</td>\n",
       "      <td>married</td>\n",
       "      <td>R</td>\n",
       "    </tr>\n",
       "    <tr>\n",
       "      <th>...</th>\n",
       "      <td>...</td>\n",
       "      <td>...</td>\n",
       "      <td>...</td>\n",
       "      <td>...</td>\n",
       "      <td>...</td>\n",
       "      <td>...</td>\n",
       "      <td>...</td>\n",
       "      <td>...</td>\n",
       "      <td>...</td>\n",
       "      <td>...</td>\n",
       "      <td>...</td>\n",
       "      <td>...</td>\n",
       "      <td>...</td>\n",
       "      <td>...</td>\n",
       "      <td>...</td>\n",
       "      <td>...</td>\n",
       "      <td>...</td>\n",
       "    </tr>\n",
       "    <tr>\n",
       "      <th>1476465</th>\n",
       "      <td>70500231</td>\n",
       "      <td>2019-12-12 00:00:00</td>\n",
       "      <td>25000.0</td>\n",
       "      <td>5948</td>\n",
       "      <td>MOSCOW</td>\n",
       "      <td>1TJXW1YK34Y</td>\n",
       "      <td>MXGFYY</td>\n",
       "      <td>Clothes</td>\n",
       "      <td>�����������</td>\n",
       "      <td>1TJXW1YK34Y</td>\n",
       "      <td>2019-12-12</td>\n",
       "      <td>MXGFYY</td>\n",
       "      <td>70</td>\n",
       "      <td>M</td>\n",
       "      <td>42</td>\n",
       "      <td>married</td>\n",
       "      <td>R</td>\n",
       "    </tr>\n",
       "    <tr>\n",
       "      <th>1476466</th>\n",
       "      <td>70507511</td>\n",
       "      <td>2019-09-20 00:00:00</td>\n",
       "      <td>1999.0</td>\n",
       "      <td>5691</td>\n",
       "      <td>MOSKVA</td>\n",
       "      <td>37H148XKIXW1</td>\n",
       "      <td>E4AVHQ</td>\n",
       "      <td>Clothes</td>\n",
       "      <td>����������� ���</td>\n",
       "      <td>37H148XKIXW1</td>\n",
       "      <td>2019-09-20</td>\n",
       "      <td>E4AVHQ</td>\n",
       "      <td>70</td>\n",
       "      <td>M</td>\n",
       "      <td>70</td>\n",
       "      <td>not_married</td>\n",
       "      <td>R</td>\n",
       "    </tr>\n",
       "    <tr>\n",
       "      <th>1476467</th>\n",
       "      <td>70510166</td>\n",
       "      <td>2019-11-11 00:00:00</td>\n",
       "      <td>22.0</td>\n",
       "      <td>5621</td>\n",
       "      <td>SANKT-PETERBU</td>\n",
       "      <td>WJX8L3EO Q</td>\n",
       "      <td>EL5SX7</td>\n",
       "      <td>Clothes</td>\n",
       "      <td>����������� �������</td>\n",
       "      <td>WJX8L3EO Q</td>\n",
       "      <td>2019-11-11</td>\n",
       "      <td>EL5SX7</td>\n",
       "      <td>50</td>\n",
       "      <td>F</td>\n",
       "      <td>47</td>\n",
       "      <td>not_married</td>\n",
       "      <td>R</td>\n",
       "    </tr>\n",
       "    <tr>\n",
       "      <th>1476468</th>\n",
       "      <td>70510220</td>\n",
       "      <td>2019-11-16 00:00:00</td>\n",
       "      <td>30.0</td>\n",
       "      <td>5691</td>\n",
       "      <td>SURGUT</td>\n",
       "      <td>WJX8L3E4</td>\n",
       "      <td>8E44DO</td>\n",
       "      <td>Clothes</td>\n",
       "      <td>����������� �������</td>\n",
       "      <td>WJX8L3E4</td>\n",
       "      <td>2019-11-16</td>\n",
       "      <td>8E44DO</td>\n",
       "      <td>50</td>\n",
       "      <td>M</td>\n",
       "      <td>19</td>\n",
       "      <td>not_married</td>\n",
       "      <td>N</td>\n",
       "    </tr>\n",
       "    <tr>\n",
       "      <th>1476469</th>\n",
       "      <td>70513797</td>\n",
       "      <td>2019-09-25 00:00:00</td>\n",
       "      <td>200.0</td>\n",
       "      <td>5949</td>\n",
       "      <td>SURGUT</td>\n",
       "      <td>JL3X81HD4EK7</td>\n",
       "      <td>2XSFCS</td>\n",
       "      <td>Clothes</td>\n",
       "      <td>������������ ������</td>\n",
       "      <td>JL3X81HD4EK7</td>\n",
       "      <td>2019-09-25</td>\n",
       "      <td>2XSFCS</td>\n",
       "      <td>70</td>\n",
       "      <td>F</td>\n",
       "      <td>47</td>\n",
       "      <td>not_married</td>\n",
       "      <td>R</td>\n",
       "    </tr>\n",
       "  </tbody>\n",
       "</table>\n",
       "<p>1476470 rows × 17 columns</p>\n",
       "</div>"
      ],
      "text/plain": [
       "         Unnamed: 0            purchdate   amount   mcc       mrchcity  \\\n",
       "0                69  2019-10-26 00:00:00   2097.0  5651    KRASNOYARSK   \n",
       "1                73  2019-11-02 00:00:00   6696.0  5651          PSKOV   \n",
       "2                82  2019-09-26 00:00:00   1997.0  5691    KRASNOYARSK   \n",
       "3               126  2019-11-07 00:00:00   1299.0  5691    KRASNOYARSK   \n",
       "4               127  2019-11-09 00:00:00   2249.0  5691    KRASNOYARSK   \n",
       "...             ...                  ...      ...   ...            ...   \n",
       "1476465    70500231  2019-12-12 00:00:00  25000.0  5948         MOSCOW   \n",
       "1476466    70507511  2019-09-20 00:00:00   1999.0  5691         MOSKVA   \n",
       "1476467    70510166  2019-11-11 00:00:00     22.0  5621  SANKT-PETERBU   \n",
       "1476468    70510220  2019-11-16 00:00:00     30.0  5691         SURGUT   \n",
       "1476469    70513797  2019-09-25 00:00:00    200.0  5949         SURGUT   \n",
       "\n",
       "              mrchname    cnum category           store_name  merchant_name  \\\n",
       "0              A&C F6G  ELCMDT  Clothes                  H&M        A&C F6G   \n",
       "1            XKE4D K29  ELCMDT  Clothes               O`Stin      XKE4D K29   \n",
       "2             J1K1JT18  ELCMDT  Clothes             Reserved       J1K1JT18   \n",
       "3        C7DZX WH7D1E7  ELCMDT  Clothes                �����  C7DZX WH7D1E7   \n",
       "4        C7DZX WH7D1E7  ELCMDT  Clothes                �����  C7DZX WH7D1E7   \n",
       "...                ...     ...      ...                  ...            ...   \n",
       "1476465    1TJXW1YK34Y  MXGFYY  Clothes          �����������    1TJXW1YK34Y   \n",
       "1476466   37H148XKIXW1  E4AVHQ  Clothes      ����������� ���   37H148XKIXW1   \n",
       "1476467     WJX8L3EO Q  EL5SX7  Clothes  ����������� �������     WJX8L3EO Q   \n",
       "1476468       WJX8L3E4  8E44DO  Clothes  ����������� �������       WJX8L3E4   \n",
       "1476469   JL3X81HD4EK7  2XSFCS  Clothes  ������������ ������   JL3X81HD4EK7   \n",
       "\n",
       "         created_at   cnum_  categorycode gender  age     married_  \\\n",
       "0        2019-10-26  ELCMDT            81      M   50      married   \n",
       "1        2019-11-02  ELCMDT            81      M   50      married   \n",
       "2        2019-09-26  ELCMDT            81      M   50      married   \n",
       "3        2019-11-07  ELCMDT            81      M   50      married   \n",
       "4        2019-11-09  ELCMDT            81      M   50      married   \n",
       "...             ...     ...           ...    ...  ...          ...   \n",
       "1476465  2019-12-12  MXGFYY            70      M   42      married   \n",
       "1476466  2019-09-20  E4AVHQ            70      M   70  not_married   \n",
       "1476467  2019-11-11  EL5SX7            50      F   47  not_married   \n",
       "1476468  2019-11-16  8E44DO            50      M   19  not_married   \n",
       "1476469  2019-09-25  2XSFCS            70      F   47  not_married   \n",
       "\n",
       "        residenttype  \n",
       "0                  R  \n",
       "1                  R  \n",
       "2                  R  \n",
       "3                  R  \n",
       "4                  R  \n",
       "...              ...  \n",
       "1476465            R  \n",
       "1476466            R  \n",
       "1476467            R  \n",
       "1476468            N  \n",
       "1476469            R  \n",
       "\n",
       "[1476470 rows x 17 columns]"
      ]
     },
     "execution_count": 261,
     "metadata": {},
     "output_type": "execute_result"
    }
   ],
   "source": [
    "transactions_clothes"
   ]
  },
  {
   "cell_type": "code",
   "execution_count": 179,
   "metadata": {},
   "outputs": [],
   "source": [
    "Clothers = pd.DataFrame(transactions_clothes.groupby(by='purchdate').mean()['amount']).reset_index()"
   ]
  },
  {
   "cell_type": "code",
   "execution_count": 180,
   "metadata": {},
   "outputs": [
    {
     "data": {
      "application/vnd.plotly.v1+json": {
       "config": {
        "plotlyServerURL": "https://plot.ly"
       },
       "data": [
        {
         "type": "scatter",
         "x": [
          "2019-09-08 00:00:00",
          "2019-09-10 00:00:00",
          "2019-09-11 00:00:00",
          "2019-09-13 00:00:00",
          "2019-09-14 00:00:00",
          "2019-09-15 00:00:00",
          "2019-09-16 00:00:00",
          "2019-09-17 00:00:00",
          "2019-09-18 00:00:00",
          "2019-09-19 00:00:00",
          "2019-09-20 00:00:00",
          "2019-09-21 00:00:00",
          "2019-09-22 00:00:00",
          "2019-09-23 00:00:00",
          "2019-09-24 00:00:00",
          "2019-09-25 00:00:00",
          "2019-09-26 00:00:00",
          "2019-09-27 00:00:00",
          "2019-09-28 00:00:00",
          "2019-09-29 00:00:00",
          "2019-09-30 00:00:00",
          "2019-10-01 00:00:00",
          "2019-10-02 00:00:00",
          "2019-10-03 00:00:00",
          "2019-10-04 00:00:00",
          "2019-10-05 00:00:00",
          "2019-10-06 00:00:00",
          "2019-10-07 00:00:00",
          "2019-10-08 00:00:00",
          "2019-10-09 00:00:00",
          "2019-10-10 00:00:00",
          "2019-10-11 00:00:00",
          "2019-10-12 00:00:00",
          "2019-10-13 00:00:00",
          "2019-10-14 00:00:00",
          "2019-10-15 00:00:00",
          "2019-10-16 00:00:00",
          "2019-10-17 00:00:00",
          "2019-10-18 00:00:00",
          "2019-10-19 00:00:00",
          "2019-10-20 00:00:00",
          "2019-10-21 00:00:00",
          "2019-10-22 00:00:00",
          "2019-10-23 00:00:00",
          "2019-10-24 00:00:00",
          "2019-10-25 00:00:00",
          "2019-10-26 00:00:00",
          "2019-10-27 00:00:00",
          "2019-10-28 00:00:00",
          "2019-10-29 00:00:00",
          "2019-10-30 00:00:00",
          "2019-10-31 00:00:00",
          "2019-11-01 00:00:00",
          "2019-11-02 00:00:00",
          "2019-11-03 00:00:00",
          "2019-11-04 00:00:00",
          "2019-11-05 00:00:00",
          "2019-11-06 00:00:00",
          "2019-11-07 00:00:00",
          "2019-11-08 00:00:00",
          "2019-11-09 00:00:00",
          "2019-11-10 00:00:00",
          "2019-11-11 00:00:00",
          "2019-11-12 00:00:00",
          "2019-11-13 00:00:00",
          "2019-11-14 00:00:00",
          "2019-11-15 00:00:00",
          "2019-11-16 00:00:00",
          "2019-11-17 00:00:00",
          "2019-11-18 00:00:00",
          "2019-11-19 00:00:00",
          "2019-11-20 00:00:00",
          "2019-11-21 00:00:00",
          "2019-11-22 00:00:00",
          "2019-11-23 00:00:00",
          "2019-11-24 00:00:00",
          "2019-11-25 00:00:00",
          "2019-11-26 00:00:00",
          "2019-11-27 00:00:00",
          "2019-11-28 00:00:00",
          "2019-11-29 00:00:00",
          "2019-11-30 00:00:00",
          "2019-12-01 00:00:00",
          "2019-12-02 00:00:00",
          "2019-12-03 00:00:00",
          "2019-12-04 00:00:00",
          "2019-12-05 00:00:00",
          "2019-12-06 00:00:00",
          "2019-12-07 00:00:00",
          "2019-12-08 00:00:00",
          "2019-12-09 00:00:00",
          "2019-12-10 00:00:00",
          "2019-12-11 00:00:00",
          "2019-12-12 00:00:00",
          "2019-12-13 00:00:00",
          "2019-12-14 00:00:00",
          "2019-12-15 00:00:00",
          "2019-12-16 00:00:00",
          "2019-12-17 00:00:00",
          "2019-12-18 00:00:00",
          "2019-12-19 00:00:00",
          "2019-12-20 00:00:00"
         ],
         "y": [
          3999,
          3618,
          4150.007142857143,
          4697.38,
          1790,
          5263.047192042846,
          3622.278398921835,
          4128.931398560133,
          4216.782423173058,
          4184.931135855894,
          4019.0869932432356,
          4539.073488617702,
          4493.094348922885,
          4497.744429278633,
          4230.8956869200765,
          4123.284607970468,
          4267.597057120663,
          4214.681180103135,
          4472.02734102258,
          4534.484848876757,
          4287.867751360392,
          4236.072686629404,
          3868.679032012835,
          4291.095968084197,
          4144.243818588207,
          4663.236478399182,
          4560.6058516536,
          4336.842225964225,
          4414.976082449171,
          4509.121676519269,
          3904.923656846957,
          4072.9508534311185,
          4546.364127782399,
          4723.006798980506,
          4072.594155654703,
          3964.917903743308,
          4020.8669301712716,
          4137.617421484934,
          3852.2133462811084,
          4523.470039114044,
          4576.240651517476,
          4030.544285175402,
          4099.7108143026,
          4253.692806827415,
          3902.487404862571,
          4637.227181100149,
          4374.118465281054,
          4264.3125839164295,
          3852.1844155844083,
          4142.254939788635,
          4035.0205568598553,
          4052.0716101576545,
          4360.538510764754,
          5805.891119308419,
          4526.91551116274,
          4755.074726227844,
          4160.245782524268,
          4616.68653604301,
          4031.5035492862526,
          3856.111178556809,
          4495.238064194319,
          4410.45702160493,
          4012.511593013804,
          4051.3895494305957,
          4177.736843034991,
          4061.1006186474538,
          4289.819679504437,
          4610.593173863884,
          4340.948083928306,
          4125.568726864324,
          3807.4107998568415,
          3932.0732393899175,
          4165.807560576537,
          4780.89335838607,
          4771.458897186022,
          4835.849229344211,
          4136.231321048133,
          4121.16563797289,
          4576.914596867518,
          4650.311953983743,
          4340.199757279922,
          4734.865664798846,
          4743.899212234533,
          4287.024140860289,
          4430.3401028298085,
          4071.787847875442,
          4201.193629646379,
          4069.8776819090895,
          4665.070625891504,
          4536.539162306159,
          4263.685493573481,
          4132.833002816894,
          4059.0691172539814,
          3962.061705171242,
          3817.705050867041,
          3998.8075964200425,
          4130.3078900525725,
          3970.111437120468,
          4842.6909787556815,
          4041.717023988009,
          2387.104419889503,
          1003.194375
         ]
        }
       ],
       "layout": {
        "template": {
         "data": {
          "bar": [
           {
            "error_x": {
             "color": "#2a3f5f"
            },
            "error_y": {
             "color": "#2a3f5f"
            },
            "marker": {
             "line": {
              "color": "#E5ECF6",
              "width": 0.5
             }
            },
            "type": "bar"
           }
          ],
          "barpolar": [
           {
            "marker": {
             "line": {
              "color": "#E5ECF6",
              "width": 0.5
             }
            },
            "type": "barpolar"
           }
          ],
          "carpet": [
           {
            "aaxis": {
             "endlinecolor": "#2a3f5f",
             "gridcolor": "white",
             "linecolor": "white",
             "minorgridcolor": "white",
             "startlinecolor": "#2a3f5f"
            },
            "baxis": {
             "endlinecolor": "#2a3f5f",
             "gridcolor": "white",
             "linecolor": "white",
             "minorgridcolor": "white",
             "startlinecolor": "#2a3f5f"
            },
            "type": "carpet"
           }
          ],
          "choropleth": [
           {
            "colorbar": {
             "outlinewidth": 0,
             "ticks": ""
            },
            "type": "choropleth"
           }
          ],
          "contour": [
           {
            "colorbar": {
             "outlinewidth": 0,
             "ticks": ""
            },
            "colorscale": [
             [
              0,
              "#0d0887"
             ],
             [
              0.1111111111111111,
              "#46039f"
             ],
             [
              0.2222222222222222,
              "#7201a8"
             ],
             [
              0.3333333333333333,
              "#9c179e"
             ],
             [
              0.4444444444444444,
              "#bd3786"
             ],
             [
              0.5555555555555556,
              "#d8576b"
             ],
             [
              0.6666666666666666,
              "#ed7953"
             ],
             [
              0.7777777777777778,
              "#fb9f3a"
             ],
             [
              0.8888888888888888,
              "#fdca26"
             ],
             [
              1,
              "#f0f921"
             ]
            ],
            "type": "contour"
           }
          ],
          "contourcarpet": [
           {
            "colorbar": {
             "outlinewidth": 0,
             "ticks": ""
            },
            "type": "contourcarpet"
           }
          ],
          "heatmap": [
           {
            "colorbar": {
             "outlinewidth": 0,
             "ticks": ""
            },
            "colorscale": [
             [
              0,
              "#0d0887"
             ],
             [
              0.1111111111111111,
              "#46039f"
             ],
             [
              0.2222222222222222,
              "#7201a8"
             ],
             [
              0.3333333333333333,
              "#9c179e"
             ],
             [
              0.4444444444444444,
              "#bd3786"
             ],
             [
              0.5555555555555556,
              "#d8576b"
             ],
             [
              0.6666666666666666,
              "#ed7953"
             ],
             [
              0.7777777777777778,
              "#fb9f3a"
             ],
             [
              0.8888888888888888,
              "#fdca26"
             ],
             [
              1,
              "#f0f921"
             ]
            ],
            "type": "heatmap"
           }
          ],
          "heatmapgl": [
           {
            "colorbar": {
             "outlinewidth": 0,
             "ticks": ""
            },
            "colorscale": [
             [
              0,
              "#0d0887"
             ],
             [
              0.1111111111111111,
              "#46039f"
             ],
             [
              0.2222222222222222,
              "#7201a8"
             ],
             [
              0.3333333333333333,
              "#9c179e"
             ],
             [
              0.4444444444444444,
              "#bd3786"
             ],
             [
              0.5555555555555556,
              "#d8576b"
             ],
             [
              0.6666666666666666,
              "#ed7953"
             ],
             [
              0.7777777777777778,
              "#fb9f3a"
             ],
             [
              0.8888888888888888,
              "#fdca26"
             ],
             [
              1,
              "#f0f921"
             ]
            ],
            "type": "heatmapgl"
           }
          ],
          "histogram": [
           {
            "marker": {
             "colorbar": {
              "outlinewidth": 0,
              "ticks": ""
             }
            },
            "type": "histogram"
           }
          ],
          "histogram2d": [
           {
            "colorbar": {
             "outlinewidth": 0,
             "ticks": ""
            },
            "colorscale": [
             [
              0,
              "#0d0887"
             ],
             [
              0.1111111111111111,
              "#46039f"
             ],
             [
              0.2222222222222222,
              "#7201a8"
             ],
             [
              0.3333333333333333,
              "#9c179e"
             ],
             [
              0.4444444444444444,
              "#bd3786"
             ],
             [
              0.5555555555555556,
              "#d8576b"
             ],
             [
              0.6666666666666666,
              "#ed7953"
             ],
             [
              0.7777777777777778,
              "#fb9f3a"
             ],
             [
              0.8888888888888888,
              "#fdca26"
             ],
             [
              1,
              "#f0f921"
             ]
            ],
            "type": "histogram2d"
           }
          ],
          "histogram2dcontour": [
           {
            "colorbar": {
             "outlinewidth": 0,
             "ticks": ""
            },
            "colorscale": [
             [
              0,
              "#0d0887"
             ],
             [
              0.1111111111111111,
              "#46039f"
             ],
             [
              0.2222222222222222,
              "#7201a8"
             ],
             [
              0.3333333333333333,
              "#9c179e"
             ],
             [
              0.4444444444444444,
              "#bd3786"
             ],
             [
              0.5555555555555556,
              "#d8576b"
             ],
             [
              0.6666666666666666,
              "#ed7953"
             ],
             [
              0.7777777777777778,
              "#fb9f3a"
             ],
             [
              0.8888888888888888,
              "#fdca26"
             ],
             [
              1,
              "#f0f921"
             ]
            ],
            "type": "histogram2dcontour"
           }
          ],
          "mesh3d": [
           {
            "colorbar": {
             "outlinewidth": 0,
             "ticks": ""
            },
            "type": "mesh3d"
           }
          ],
          "parcoords": [
           {
            "line": {
             "colorbar": {
              "outlinewidth": 0,
              "ticks": ""
             }
            },
            "type": "parcoords"
           }
          ],
          "pie": [
           {
            "automargin": true,
            "type": "pie"
           }
          ],
          "scatter": [
           {
            "marker": {
             "colorbar": {
              "outlinewidth": 0,
              "ticks": ""
             }
            },
            "type": "scatter"
           }
          ],
          "scatter3d": [
           {
            "line": {
             "colorbar": {
              "outlinewidth": 0,
              "ticks": ""
             }
            },
            "marker": {
             "colorbar": {
              "outlinewidth": 0,
              "ticks": ""
             }
            },
            "type": "scatter3d"
           }
          ],
          "scattercarpet": [
           {
            "marker": {
             "colorbar": {
              "outlinewidth": 0,
              "ticks": ""
             }
            },
            "type": "scattercarpet"
           }
          ],
          "scattergeo": [
           {
            "marker": {
             "colorbar": {
              "outlinewidth": 0,
              "ticks": ""
             }
            },
            "type": "scattergeo"
           }
          ],
          "scattergl": [
           {
            "marker": {
             "colorbar": {
              "outlinewidth": 0,
              "ticks": ""
             }
            },
            "type": "scattergl"
           }
          ],
          "scattermapbox": [
           {
            "marker": {
             "colorbar": {
              "outlinewidth": 0,
              "ticks": ""
             }
            },
            "type": "scattermapbox"
           }
          ],
          "scatterpolar": [
           {
            "marker": {
             "colorbar": {
              "outlinewidth": 0,
              "ticks": ""
             }
            },
            "type": "scatterpolar"
           }
          ],
          "scatterpolargl": [
           {
            "marker": {
             "colorbar": {
              "outlinewidth": 0,
              "ticks": ""
             }
            },
            "type": "scatterpolargl"
           }
          ],
          "scatterternary": [
           {
            "marker": {
             "colorbar": {
              "outlinewidth": 0,
              "ticks": ""
             }
            },
            "type": "scatterternary"
           }
          ],
          "surface": [
           {
            "colorbar": {
             "outlinewidth": 0,
             "ticks": ""
            },
            "colorscale": [
             [
              0,
              "#0d0887"
             ],
             [
              0.1111111111111111,
              "#46039f"
             ],
             [
              0.2222222222222222,
              "#7201a8"
             ],
             [
              0.3333333333333333,
              "#9c179e"
             ],
             [
              0.4444444444444444,
              "#bd3786"
             ],
             [
              0.5555555555555556,
              "#d8576b"
             ],
             [
              0.6666666666666666,
              "#ed7953"
             ],
             [
              0.7777777777777778,
              "#fb9f3a"
             ],
             [
              0.8888888888888888,
              "#fdca26"
             ],
             [
              1,
              "#f0f921"
             ]
            ],
            "type": "surface"
           }
          ],
          "table": [
           {
            "cells": {
             "fill": {
              "color": "#EBF0F8"
             },
             "line": {
              "color": "white"
             }
            },
            "header": {
             "fill": {
              "color": "#C8D4E3"
             },
             "line": {
              "color": "white"
             }
            },
            "type": "table"
           }
          ]
         },
         "layout": {
          "annotationdefaults": {
           "arrowcolor": "#2a3f5f",
           "arrowhead": 0,
           "arrowwidth": 1
          },
          "coloraxis": {
           "colorbar": {
            "outlinewidth": 0,
            "ticks": ""
           }
          },
          "colorscale": {
           "diverging": [
            [
             0,
             "#8e0152"
            ],
            [
             0.1,
             "#c51b7d"
            ],
            [
             0.2,
             "#de77ae"
            ],
            [
             0.3,
             "#f1b6da"
            ],
            [
             0.4,
             "#fde0ef"
            ],
            [
             0.5,
             "#f7f7f7"
            ],
            [
             0.6,
             "#e6f5d0"
            ],
            [
             0.7,
             "#b8e186"
            ],
            [
             0.8,
             "#7fbc41"
            ],
            [
             0.9,
             "#4d9221"
            ],
            [
             1,
             "#276419"
            ]
           ],
           "sequential": [
            [
             0,
             "#0d0887"
            ],
            [
             0.1111111111111111,
             "#46039f"
            ],
            [
             0.2222222222222222,
             "#7201a8"
            ],
            [
             0.3333333333333333,
             "#9c179e"
            ],
            [
             0.4444444444444444,
             "#bd3786"
            ],
            [
             0.5555555555555556,
             "#d8576b"
            ],
            [
             0.6666666666666666,
             "#ed7953"
            ],
            [
             0.7777777777777778,
             "#fb9f3a"
            ],
            [
             0.8888888888888888,
             "#fdca26"
            ],
            [
             1,
             "#f0f921"
            ]
           ],
           "sequentialminus": [
            [
             0,
             "#0d0887"
            ],
            [
             0.1111111111111111,
             "#46039f"
            ],
            [
             0.2222222222222222,
             "#7201a8"
            ],
            [
             0.3333333333333333,
             "#9c179e"
            ],
            [
             0.4444444444444444,
             "#bd3786"
            ],
            [
             0.5555555555555556,
             "#d8576b"
            ],
            [
             0.6666666666666666,
             "#ed7953"
            ],
            [
             0.7777777777777778,
             "#fb9f3a"
            ],
            [
             0.8888888888888888,
             "#fdca26"
            ],
            [
             1,
             "#f0f921"
            ]
           ]
          },
          "colorway": [
           "#636efa",
           "#EF553B",
           "#00cc96",
           "#ab63fa",
           "#FFA15A",
           "#19d3f3",
           "#FF6692",
           "#B6E880",
           "#FF97FF",
           "#FECB52"
          ],
          "font": {
           "color": "#2a3f5f"
          },
          "geo": {
           "bgcolor": "white",
           "lakecolor": "white",
           "landcolor": "#E5ECF6",
           "showlakes": true,
           "showland": true,
           "subunitcolor": "white"
          },
          "hoverlabel": {
           "align": "left"
          },
          "hovermode": "closest",
          "mapbox": {
           "style": "light"
          },
          "paper_bgcolor": "white",
          "plot_bgcolor": "#E5ECF6",
          "polar": {
           "angularaxis": {
            "gridcolor": "white",
            "linecolor": "white",
            "ticks": ""
           },
           "bgcolor": "#E5ECF6",
           "radialaxis": {
            "gridcolor": "white",
            "linecolor": "white",
            "ticks": ""
           }
          },
          "scene": {
           "xaxis": {
            "backgroundcolor": "#E5ECF6",
            "gridcolor": "white",
            "gridwidth": 2,
            "linecolor": "white",
            "showbackground": true,
            "ticks": "",
            "zerolinecolor": "white"
           },
           "yaxis": {
            "backgroundcolor": "#E5ECF6",
            "gridcolor": "white",
            "gridwidth": 2,
            "linecolor": "white",
            "showbackground": true,
            "ticks": "",
            "zerolinecolor": "white"
           },
           "zaxis": {
            "backgroundcolor": "#E5ECF6",
            "gridcolor": "white",
            "gridwidth": 2,
            "linecolor": "white",
            "showbackground": true,
            "ticks": "",
            "zerolinecolor": "white"
           }
          },
          "shapedefaults": {
           "line": {
            "color": "#2a3f5f"
           }
          },
          "ternary": {
           "aaxis": {
            "gridcolor": "white",
            "linecolor": "white",
            "ticks": ""
           },
           "baxis": {
            "gridcolor": "white",
            "linecolor": "white",
            "ticks": ""
           },
           "bgcolor": "#E5ECF6",
           "caxis": {
            "gridcolor": "white",
            "linecolor": "white",
            "ticks": ""
           }
          },
          "title": {
           "x": 0.05
          },
          "xaxis": {
           "automargin": true,
           "gridcolor": "white",
           "linecolor": "white",
           "ticks": "",
           "title": {
            "standoff": 15
           },
           "zerolinecolor": "white",
           "zerolinewidth": 2
          },
          "yaxis": {
           "automargin": true,
           "gridcolor": "white",
           "linecolor": "white",
           "ticks": "",
           "title": {
            "standoff": 15
           },
           "zerolinecolor": "white",
           "zerolinewidth": 2
          }
         }
        }
       }
      },
      "text/html": [
       "<div>                            <div id=\"3aeeaf70-998e-461b-81f6-b3c294d1e316\" class=\"plotly-graph-div\" style=\"height:525px; width:100%;\"></div>            <script type=\"text/javascript\">                require([\"plotly\"], function(Plotly) {                    window.PLOTLYENV=window.PLOTLYENV || {};                                    if (document.getElementById(\"3aeeaf70-998e-461b-81f6-b3c294d1e316\")) {                    Plotly.newPlot(                        \"3aeeaf70-998e-461b-81f6-b3c294d1e316\",                        [{\"type\": \"scatter\", \"x\": [\"2019-09-08 00:00:00\", \"2019-09-10 00:00:00\", \"2019-09-11 00:00:00\", \"2019-09-13 00:00:00\", \"2019-09-14 00:00:00\", \"2019-09-15 00:00:00\", \"2019-09-16 00:00:00\", \"2019-09-17 00:00:00\", \"2019-09-18 00:00:00\", \"2019-09-19 00:00:00\", \"2019-09-20 00:00:00\", \"2019-09-21 00:00:00\", \"2019-09-22 00:00:00\", \"2019-09-23 00:00:00\", \"2019-09-24 00:00:00\", \"2019-09-25 00:00:00\", \"2019-09-26 00:00:00\", \"2019-09-27 00:00:00\", \"2019-09-28 00:00:00\", \"2019-09-29 00:00:00\", \"2019-09-30 00:00:00\", \"2019-10-01 00:00:00\", \"2019-10-02 00:00:00\", \"2019-10-03 00:00:00\", \"2019-10-04 00:00:00\", \"2019-10-05 00:00:00\", \"2019-10-06 00:00:00\", \"2019-10-07 00:00:00\", \"2019-10-08 00:00:00\", \"2019-10-09 00:00:00\", \"2019-10-10 00:00:00\", \"2019-10-11 00:00:00\", \"2019-10-12 00:00:00\", \"2019-10-13 00:00:00\", \"2019-10-14 00:00:00\", \"2019-10-15 00:00:00\", \"2019-10-16 00:00:00\", \"2019-10-17 00:00:00\", \"2019-10-18 00:00:00\", \"2019-10-19 00:00:00\", \"2019-10-20 00:00:00\", \"2019-10-21 00:00:00\", \"2019-10-22 00:00:00\", \"2019-10-23 00:00:00\", \"2019-10-24 00:00:00\", \"2019-10-25 00:00:00\", \"2019-10-26 00:00:00\", \"2019-10-27 00:00:00\", \"2019-10-28 00:00:00\", \"2019-10-29 00:00:00\", \"2019-10-30 00:00:00\", \"2019-10-31 00:00:00\", \"2019-11-01 00:00:00\", \"2019-11-02 00:00:00\", \"2019-11-03 00:00:00\", \"2019-11-04 00:00:00\", \"2019-11-05 00:00:00\", \"2019-11-06 00:00:00\", \"2019-11-07 00:00:00\", \"2019-11-08 00:00:00\", \"2019-11-09 00:00:00\", \"2019-11-10 00:00:00\", \"2019-11-11 00:00:00\", \"2019-11-12 00:00:00\", \"2019-11-13 00:00:00\", \"2019-11-14 00:00:00\", \"2019-11-15 00:00:00\", \"2019-11-16 00:00:00\", \"2019-11-17 00:00:00\", \"2019-11-18 00:00:00\", \"2019-11-19 00:00:00\", \"2019-11-20 00:00:00\", \"2019-11-21 00:00:00\", \"2019-11-22 00:00:00\", \"2019-11-23 00:00:00\", \"2019-11-24 00:00:00\", \"2019-11-25 00:00:00\", \"2019-11-26 00:00:00\", \"2019-11-27 00:00:00\", \"2019-11-28 00:00:00\", \"2019-11-29 00:00:00\", \"2019-11-30 00:00:00\", \"2019-12-01 00:00:00\", \"2019-12-02 00:00:00\", \"2019-12-03 00:00:00\", \"2019-12-04 00:00:00\", \"2019-12-05 00:00:00\", \"2019-12-06 00:00:00\", \"2019-12-07 00:00:00\", \"2019-12-08 00:00:00\", \"2019-12-09 00:00:00\", \"2019-12-10 00:00:00\", \"2019-12-11 00:00:00\", \"2019-12-12 00:00:00\", \"2019-12-13 00:00:00\", \"2019-12-14 00:00:00\", \"2019-12-15 00:00:00\", \"2019-12-16 00:00:00\", \"2019-12-17 00:00:00\", \"2019-12-18 00:00:00\", \"2019-12-19 00:00:00\", \"2019-12-20 00:00:00\"], \"y\": [3999.0, 3618.0, 4150.007142857143, 4697.38, 1790.0, 5263.047192042846, 3622.278398921835, 4128.931398560133, 4216.782423173058, 4184.931135855894, 4019.0869932432356, 4539.073488617702, 4493.094348922885, 4497.744429278633, 4230.8956869200765, 4123.284607970468, 4267.597057120663, 4214.681180103135, 4472.02734102258, 4534.484848876757, 4287.867751360392, 4236.072686629404, 3868.679032012835, 4291.095968084197, 4144.243818588207, 4663.236478399182, 4560.6058516536, 4336.842225964225, 4414.976082449171, 4509.121676519269, 3904.923656846957, 4072.9508534311185, 4546.364127782399, 4723.006798980506, 4072.594155654703, 3964.917903743308, 4020.8669301712716, 4137.617421484934, 3852.2133462811084, 4523.470039114044, 4576.240651517476, 4030.544285175402, 4099.7108143026, 4253.692806827415, 3902.487404862571, 4637.227181100149, 4374.118465281054, 4264.3125839164295, 3852.1844155844083, 4142.254939788635, 4035.0205568598553, 4052.0716101576545, 4360.538510764754, 5805.891119308419, 4526.91551116274, 4755.074726227844, 4160.245782524268, 4616.68653604301, 4031.5035492862526, 3856.111178556809, 4495.238064194319, 4410.45702160493, 4012.511593013804, 4051.3895494305957, 4177.736843034991, 4061.1006186474538, 4289.819679504437, 4610.593173863884, 4340.948083928306, 4125.568726864324, 3807.4107998568415, 3932.0732393899175, 4165.807560576537, 4780.89335838607, 4771.458897186022, 4835.849229344211, 4136.231321048133, 4121.16563797289, 4576.914596867518, 4650.311953983743, 4340.199757279922, 4734.865664798846, 4743.899212234533, 4287.024140860289, 4430.3401028298085, 4071.787847875442, 4201.193629646379, 4069.8776819090895, 4665.070625891504, 4536.539162306159, 4263.685493573481, 4132.833002816894, 4059.0691172539814, 3962.061705171242, 3817.705050867041, 3998.8075964200425, 4130.3078900525725, 3970.111437120468, 4842.6909787556815, 4041.717023988009, 2387.104419889503, 1003.194375]}],                        {\"template\": {\"data\": {\"bar\": [{\"error_x\": {\"color\": \"#2a3f5f\"}, \"error_y\": {\"color\": \"#2a3f5f\"}, \"marker\": {\"line\": {\"color\": \"#E5ECF6\", \"width\": 0.5}}, \"type\": \"bar\"}], \"barpolar\": [{\"marker\": {\"line\": {\"color\": \"#E5ECF6\", \"width\": 0.5}}, \"type\": \"barpolar\"}], \"carpet\": [{\"aaxis\": {\"endlinecolor\": \"#2a3f5f\", \"gridcolor\": \"white\", \"linecolor\": \"white\", \"minorgridcolor\": \"white\", \"startlinecolor\": \"#2a3f5f\"}, \"baxis\": {\"endlinecolor\": \"#2a3f5f\", \"gridcolor\": \"white\", \"linecolor\": \"white\", \"minorgridcolor\": \"white\", \"startlinecolor\": \"#2a3f5f\"}, \"type\": \"carpet\"}], \"choropleth\": [{\"colorbar\": {\"outlinewidth\": 0, \"ticks\": \"\"}, \"type\": \"choropleth\"}], \"contour\": [{\"colorbar\": {\"outlinewidth\": 0, \"ticks\": \"\"}, \"colorscale\": [[0.0, \"#0d0887\"], [0.1111111111111111, \"#46039f\"], [0.2222222222222222, \"#7201a8\"], [0.3333333333333333, \"#9c179e\"], [0.4444444444444444, \"#bd3786\"], [0.5555555555555556, \"#d8576b\"], [0.6666666666666666, \"#ed7953\"], [0.7777777777777778, \"#fb9f3a\"], [0.8888888888888888, \"#fdca26\"], [1.0, \"#f0f921\"]], \"type\": \"contour\"}], \"contourcarpet\": [{\"colorbar\": {\"outlinewidth\": 0, \"ticks\": \"\"}, \"type\": \"contourcarpet\"}], \"heatmap\": [{\"colorbar\": {\"outlinewidth\": 0, \"ticks\": \"\"}, \"colorscale\": [[0.0, \"#0d0887\"], [0.1111111111111111, \"#46039f\"], [0.2222222222222222, \"#7201a8\"], [0.3333333333333333, \"#9c179e\"], [0.4444444444444444, \"#bd3786\"], [0.5555555555555556, \"#d8576b\"], [0.6666666666666666, \"#ed7953\"], [0.7777777777777778, \"#fb9f3a\"], [0.8888888888888888, \"#fdca26\"], [1.0, \"#f0f921\"]], \"type\": \"heatmap\"}], \"heatmapgl\": [{\"colorbar\": {\"outlinewidth\": 0, \"ticks\": \"\"}, \"colorscale\": [[0.0, \"#0d0887\"], [0.1111111111111111, \"#46039f\"], [0.2222222222222222, \"#7201a8\"], [0.3333333333333333, \"#9c179e\"], [0.4444444444444444, \"#bd3786\"], [0.5555555555555556, \"#d8576b\"], [0.6666666666666666, \"#ed7953\"], [0.7777777777777778, \"#fb9f3a\"], [0.8888888888888888, \"#fdca26\"], [1.0, \"#f0f921\"]], \"type\": \"heatmapgl\"}], \"histogram\": [{\"marker\": {\"colorbar\": {\"outlinewidth\": 0, \"ticks\": \"\"}}, \"type\": \"histogram\"}], \"histogram2d\": [{\"colorbar\": {\"outlinewidth\": 0, \"ticks\": \"\"}, \"colorscale\": [[0.0, \"#0d0887\"], [0.1111111111111111, \"#46039f\"], [0.2222222222222222, \"#7201a8\"], [0.3333333333333333, \"#9c179e\"], [0.4444444444444444, \"#bd3786\"], [0.5555555555555556, \"#d8576b\"], [0.6666666666666666, \"#ed7953\"], [0.7777777777777778, \"#fb9f3a\"], [0.8888888888888888, \"#fdca26\"], [1.0, \"#f0f921\"]], \"type\": \"histogram2d\"}], \"histogram2dcontour\": [{\"colorbar\": {\"outlinewidth\": 0, \"ticks\": \"\"}, \"colorscale\": [[0.0, \"#0d0887\"], [0.1111111111111111, \"#46039f\"], [0.2222222222222222, \"#7201a8\"], [0.3333333333333333, \"#9c179e\"], [0.4444444444444444, \"#bd3786\"], [0.5555555555555556, \"#d8576b\"], [0.6666666666666666, \"#ed7953\"], [0.7777777777777778, \"#fb9f3a\"], [0.8888888888888888, \"#fdca26\"], [1.0, \"#f0f921\"]], \"type\": \"histogram2dcontour\"}], \"mesh3d\": [{\"colorbar\": {\"outlinewidth\": 0, \"ticks\": \"\"}, \"type\": \"mesh3d\"}], \"parcoords\": [{\"line\": {\"colorbar\": {\"outlinewidth\": 0, \"ticks\": \"\"}}, \"type\": \"parcoords\"}], \"pie\": [{\"automargin\": true, \"type\": \"pie\"}], \"scatter\": [{\"marker\": {\"colorbar\": {\"outlinewidth\": 0, \"ticks\": \"\"}}, \"type\": \"scatter\"}], \"scatter3d\": [{\"line\": {\"colorbar\": {\"outlinewidth\": 0, \"ticks\": \"\"}}, \"marker\": {\"colorbar\": {\"outlinewidth\": 0, \"ticks\": \"\"}}, \"type\": \"scatter3d\"}], \"scattercarpet\": [{\"marker\": {\"colorbar\": {\"outlinewidth\": 0, \"ticks\": \"\"}}, \"type\": \"scattercarpet\"}], \"scattergeo\": [{\"marker\": {\"colorbar\": {\"outlinewidth\": 0, \"ticks\": \"\"}}, \"type\": \"scattergeo\"}], \"scattergl\": [{\"marker\": {\"colorbar\": {\"outlinewidth\": 0, \"ticks\": \"\"}}, \"type\": \"scattergl\"}], \"scattermapbox\": [{\"marker\": {\"colorbar\": {\"outlinewidth\": 0, \"ticks\": \"\"}}, \"type\": \"scattermapbox\"}], \"scatterpolar\": [{\"marker\": {\"colorbar\": {\"outlinewidth\": 0, \"ticks\": \"\"}}, \"type\": \"scatterpolar\"}], \"scatterpolargl\": [{\"marker\": {\"colorbar\": {\"outlinewidth\": 0, \"ticks\": \"\"}}, \"type\": \"scatterpolargl\"}], \"scatterternary\": [{\"marker\": {\"colorbar\": {\"outlinewidth\": 0, \"ticks\": \"\"}}, \"type\": \"scatterternary\"}], \"surface\": [{\"colorbar\": {\"outlinewidth\": 0, \"ticks\": \"\"}, \"colorscale\": [[0.0, \"#0d0887\"], [0.1111111111111111, \"#46039f\"], [0.2222222222222222, \"#7201a8\"], [0.3333333333333333, \"#9c179e\"], [0.4444444444444444, \"#bd3786\"], [0.5555555555555556, \"#d8576b\"], [0.6666666666666666, \"#ed7953\"], [0.7777777777777778, \"#fb9f3a\"], [0.8888888888888888, \"#fdca26\"], [1.0, \"#f0f921\"]], \"type\": \"surface\"}], \"table\": [{\"cells\": {\"fill\": {\"color\": \"#EBF0F8\"}, \"line\": {\"color\": \"white\"}}, \"header\": {\"fill\": {\"color\": \"#C8D4E3\"}, \"line\": {\"color\": \"white\"}}, \"type\": \"table\"}]}, \"layout\": {\"annotationdefaults\": {\"arrowcolor\": \"#2a3f5f\", \"arrowhead\": 0, \"arrowwidth\": 1}, \"coloraxis\": {\"colorbar\": {\"outlinewidth\": 0, \"ticks\": \"\"}}, \"colorscale\": {\"diverging\": [[0, \"#8e0152\"], [0.1, \"#c51b7d\"], [0.2, \"#de77ae\"], [0.3, \"#f1b6da\"], [0.4, \"#fde0ef\"], [0.5, \"#f7f7f7\"], [0.6, \"#e6f5d0\"], [0.7, \"#b8e186\"], [0.8, \"#7fbc41\"], [0.9, \"#4d9221\"], [1, \"#276419\"]], \"sequential\": [[0.0, \"#0d0887\"], [0.1111111111111111, \"#46039f\"], [0.2222222222222222, \"#7201a8\"], [0.3333333333333333, \"#9c179e\"], [0.4444444444444444, \"#bd3786\"], [0.5555555555555556, \"#d8576b\"], [0.6666666666666666, \"#ed7953\"], [0.7777777777777778, \"#fb9f3a\"], [0.8888888888888888, \"#fdca26\"], [1.0, \"#f0f921\"]], \"sequentialminus\": [[0.0, \"#0d0887\"], [0.1111111111111111, \"#46039f\"], [0.2222222222222222, \"#7201a8\"], [0.3333333333333333, \"#9c179e\"], [0.4444444444444444, \"#bd3786\"], [0.5555555555555556, \"#d8576b\"], [0.6666666666666666, \"#ed7953\"], [0.7777777777777778, \"#fb9f3a\"], [0.8888888888888888, \"#fdca26\"], [1.0, \"#f0f921\"]]}, \"colorway\": [\"#636efa\", \"#EF553B\", \"#00cc96\", \"#ab63fa\", \"#FFA15A\", \"#19d3f3\", \"#FF6692\", \"#B6E880\", \"#FF97FF\", \"#FECB52\"], \"font\": {\"color\": \"#2a3f5f\"}, \"geo\": {\"bgcolor\": \"white\", \"lakecolor\": \"white\", \"landcolor\": \"#E5ECF6\", \"showlakes\": true, \"showland\": true, \"subunitcolor\": \"white\"}, \"hoverlabel\": {\"align\": \"left\"}, \"hovermode\": \"closest\", \"mapbox\": {\"style\": \"light\"}, \"paper_bgcolor\": \"white\", \"plot_bgcolor\": \"#E5ECF6\", \"polar\": {\"angularaxis\": {\"gridcolor\": \"white\", \"linecolor\": \"white\", \"ticks\": \"\"}, \"bgcolor\": \"#E5ECF6\", \"radialaxis\": {\"gridcolor\": \"white\", \"linecolor\": \"white\", \"ticks\": \"\"}}, \"scene\": {\"xaxis\": {\"backgroundcolor\": \"#E5ECF6\", \"gridcolor\": \"white\", \"gridwidth\": 2, \"linecolor\": \"white\", \"showbackground\": true, \"ticks\": \"\", \"zerolinecolor\": \"white\"}, \"yaxis\": {\"backgroundcolor\": \"#E5ECF6\", \"gridcolor\": \"white\", \"gridwidth\": 2, \"linecolor\": \"white\", \"showbackground\": true, \"ticks\": \"\", \"zerolinecolor\": \"white\"}, \"zaxis\": {\"backgroundcolor\": \"#E5ECF6\", \"gridcolor\": \"white\", \"gridwidth\": 2, \"linecolor\": \"white\", \"showbackground\": true, \"ticks\": \"\", \"zerolinecolor\": \"white\"}}, \"shapedefaults\": {\"line\": {\"color\": \"#2a3f5f\"}}, \"ternary\": {\"aaxis\": {\"gridcolor\": \"white\", \"linecolor\": \"white\", \"ticks\": \"\"}, \"baxis\": {\"gridcolor\": \"white\", \"linecolor\": \"white\", \"ticks\": \"\"}, \"bgcolor\": \"#E5ECF6\", \"caxis\": {\"gridcolor\": \"white\", \"linecolor\": \"white\", \"ticks\": \"\"}}, \"title\": {\"x\": 0.05}, \"xaxis\": {\"automargin\": true, \"gridcolor\": \"white\", \"linecolor\": \"white\", \"ticks\": \"\", \"title\": {\"standoff\": 15}, \"zerolinecolor\": \"white\", \"zerolinewidth\": 2}, \"yaxis\": {\"automargin\": true, \"gridcolor\": \"white\", \"linecolor\": \"white\", \"ticks\": \"\", \"title\": {\"standoff\": 15}, \"zerolinecolor\": \"white\", \"zerolinewidth\": 2}}}},                        {\"responsive\": true}                    ).then(function(){\n",
       "                            \n",
       "var gd = document.getElementById('3aeeaf70-998e-461b-81f6-b3c294d1e316');\n",
       "var x = new MutationObserver(function (mutations, observer) {{\n",
       "        var display = window.getComputedStyle(gd).display;\n",
       "        if (!display || display === 'none') {{\n",
       "            console.log([gd, 'removed!']);\n",
       "            Plotly.purge(gd);\n",
       "            observer.disconnect();\n",
       "        }}\n",
       "}});\n",
       "\n",
       "// Listen for the removal of the full notebook cells\n",
       "var notebookContainer = gd.closest('#notebook-container');\n",
       "if (notebookContainer) {{\n",
       "    x.observe(notebookContainer, {childList: true});\n",
       "}}\n",
       "\n",
       "// Listen for the clearing of the current output cell\n",
       "var outputEl = gd.closest('.output');\n",
       "if (outputEl) {{\n",
       "    x.observe(outputEl, {childList: true});\n",
       "}}\n",
       "\n",
       "                        })                };                });            </script>        </div>"
      ]
     },
     "metadata": {},
     "output_type": "display_data"
    }
   ],
   "source": [
    "#Clothers\n",
    "fig = go.Figure([go.Scatter(x=Clothers['purchdate'], y=Clothers['amount'])])\n",
    "fig.show()"
   ]
  },
  {
   "cell_type": "code",
   "execution_count": 144,
   "metadata": {},
   "outputs": [],
   "source": [
    "import numpy as np\n",
    "import seaborn as sns\n",
    "import matplotlib as plt\n",
    "display = pd.DataFrame(transactions_clothes.groupby(by='cnum').sum()['amount']).reset_index()"
   ]
  },
  {
   "cell_type": "code",
   "execution_count": 199,
   "metadata": {},
   "outputs": [
    {
     "data": {
      "text/html": [
       "<div>\n",
       "<style scoped>\n",
       "    .dataframe tbody tr th:only-of-type {\n",
       "        vertical-align: middle;\n",
       "    }\n",
       "\n",
       "    .dataframe tbody tr th {\n",
       "        vertical-align: top;\n",
       "    }\n",
       "\n",
       "    .dataframe thead th {\n",
       "        text-align: right;\n",
       "    }\n",
       "</style>\n",
       "<table border=\"1\" class=\"dataframe\">\n",
       "  <thead>\n",
       "    <tr style=\"text-align: right;\">\n",
       "      <th></th>\n",
       "      <th>cnum</th>\n",
       "      <th>amount</th>\n",
       "    </tr>\n",
       "  </thead>\n",
       "  <tbody>\n",
       "    <tr>\n",
       "      <th>24</th>\n",
       "      <td>0CCHOF</td>\n",
       "      <td>678.3</td>\n",
       "    </tr>\n",
       "    <tr>\n",
       "      <th>32</th>\n",
       "      <td>0CCNGN</td>\n",
       "      <td>144.0</td>\n",
       "    </tr>\n",
       "    <tr>\n",
       "      <th>33</th>\n",
       "      <td>0CCNHX</td>\n",
       "      <td>998.0</td>\n",
       "    </tr>\n",
       "    <tr>\n",
       "      <th>37</th>\n",
       "      <td>0CCNNX</td>\n",
       "      <td>629.0</td>\n",
       "    </tr>\n",
       "    <tr>\n",
       "      <th>46</th>\n",
       "      <td>0CCSFC</td>\n",
       "      <td>710.0</td>\n",
       "    </tr>\n",
       "    <tr>\n",
       "      <th>...</th>\n",
       "      <td>...</td>\n",
       "      <td>...</td>\n",
       "    </tr>\n",
       "    <tr>\n",
       "      <th>440874</th>\n",
       "      <td>ZYYDNF</td>\n",
       "      <td>999.0</td>\n",
       "    </tr>\n",
       "    <tr>\n",
       "      <th>440879</th>\n",
       "      <td>ZYYFNF</td>\n",
       "      <td>999.0</td>\n",
       "    </tr>\n",
       "    <tr>\n",
       "      <th>440880</th>\n",
       "      <td>ZYYFNN</td>\n",
       "      <td>499.0</td>\n",
       "    </tr>\n",
       "    <tr>\n",
       "      <th>440901</th>\n",
       "      <td>ZYYXNG</td>\n",
       "      <td>897.0</td>\n",
       "    </tr>\n",
       "    <tr>\n",
       "      <th>440910</th>\n",
       "      <td>ZYYXYX</td>\n",
       "      <td>996.0</td>\n",
       "    </tr>\n",
       "  </tbody>\n",
       "</table>\n",
       "<p>57789 rows × 2 columns</p>\n",
       "</div>"
      ],
      "text/plain": [
       "          cnum  amount\n",
       "24      0CCHOF   678.3\n",
       "32      0CCNGN   144.0\n",
       "33      0CCNHX   998.0\n",
       "37      0CCNNX   629.0\n",
       "46      0CCSFC   710.0\n",
       "...        ...     ...\n",
       "440874  ZYYDNF   999.0\n",
       "440879  ZYYFNF   999.0\n",
       "440880  ZYYFNN   499.0\n",
       "440901  ZYYXNG   897.0\n",
       "440910  ZYYXYX   996.0\n",
       "\n",
       "[57789 rows x 2 columns]"
      ]
     },
     "execution_count": 199,
     "metadata": {},
     "output_type": "execute_result"
    }
   ],
   "source": [
    "#plt.rcParams['figure.figsize'] = 12, 7\n",
    "display[display['amount'] <= 1000]\n",
    "#display"
   ]
  },
  {
   "cell_type": "code",
   "execution_count": 181,
   "metadata": {},
   "outputs": [],
   "source": [
    "Louis_Vuitton = pd.DataFrame(transactions_clothes[transactions_clothes['store_name'] == 'Louis Vuitton'].groupby(by='purchdate').mean()['amount']).reset_index()\n",
    "H_M = pd.DataFrame(transactions_clothes[transactions_clothes['store_name'] == 'H&M'].groupby(by='purchdate').mean()['amount']).reset_index()"
   ]
  },
  {
   "cell_type": "code",
   "execution_count": 182,
   "metadata": {},
   "outputs": [
    {
     "data": {
      "application/vnd.plotly.v1+json": {
       "config": {
        "plotlyServerURL": "https://plot.ly"
       },
       "data": [
        {
         "type": "scatter",
         "x": [
          "2019-09-16 00:00:00",
          "2019-09-17 00:00:00",
          "2019-09-18 00:00:00",
          "2019-09-19 00:00:00",
          "2019-09-20 00:00:00",
          "2019-09-21 00:00:00",
          "2019-09-22 00:00:00",
          "2019-09-23 00:00:00",
          "2019-09-24 00:00:00",
          "2019-09-25 00:00:00",
          "2019-09-26 00:00:00",
          "2019-09-27 00:00:00",
          "2019-09-28 00:00:00",
          "2019-09-29 00:00:00",
          "2019-09-30 00:00:00",
          "2019-10-01 00:00:00",
          "2019-10-02 00:00:00",
          "2019-10-03 00:00:00",
          "2019-10-04 00:00:00",
          "2019-10-05 00:00:00",
          "2019-10-06 00:00:00",
          "2019-10-07 00:00:00",
          "2019-10-08 00:00:00",
          "2019-10-09 00:00:00",
          "2019-10-10 00:00:00",
          "2019-10-11 00:00:00",
          "2019-10-12 00:00:00",
          "2019-10-13 00:00:00",
          "2019-10-14 00:00:00",
          "2019-10-15 00:00:00",
          "2019-10-16 00:00:00",
          "2019-10-17 00:00:00",
          "2019-10-18 00:00:00",
          "2019-10-19 00:00:00",
          "2019-10-20 00:00:00",
          "2019-10-21 00:00:00",
          "2019-10-22 00:00:00",
          "2019-10-23 00:00:00",
          "2019-10-24 00:00:00",
          "2019-10-25 00:00:00",
          "2019-10-26 00:00:00",
          "2019-10-27 00:00:00",
          "2019-10-28 00:00:00",
          "2019-10-29 00:00:00",
          "2019-10-30 00:00:00",
          "2019-10-31 00:00:00",
          "2019-11-01 00:00:00",
          "2019-11-02 00:00:00",
          "2019-11-03 00:00:00",
          "2019-11-04 00:00:00",
          "2019-11-05 00:00:00",
          "2019-11-06 00:00:00",
          "2019-11-07 00:00:00",
          "2019-11-08 00:00:00",
          "2019-11-09 00:00:00",
          "2019-11-10 00:00:00",
          "2019-11-11 00:00:00",
          "2019-11-12 00:00:00",
          "2019-11-13 00:00:00",
          "2019-11-14 00:00:00",
          "2019-11-15 00:00:00",
          "2019-11-16 00:00:00",
          "2019-11-17 00:00:00",
          "2019-11-18 00:00:00",
          "2019-11-19 00:00:00",
          "2019-11-20 00:00:00",
          "2019-11-21 00:00:00",
          "2019-11-22 00:00:00",
          "2019-11-23 00:00:00",
          "2019-11-24 00:00:00",
          "2019-11-25 00:00:00",
          "2019-11-26 00:00:00",
          "2019-11-27 00:00:00",
          "2019-11-28 00:00:00",
          "2019-11-29 00:00:00",
          "2019-11-30 00:00:00",
          "2019-12-01 00:00:00",
          "2019-12-02 00:00:00",
          "2019-12-03 00:00:00",
          "2019-12-04 00:00:00",
          "2019-12-05 00:00:00",
          "2019-12-06 00:00:00",
          "2019-12-07 00:00:00",
          "2019-12-08 00:00:00",
          "2019-12-09 00:00:00",
          "2019-12-10 00:00:00",
          "2019-12-11 00:00:00",
          "2019-12-12 00:00:00",
          "2019-12-13 00:00:00",
          "2019-12-14 00:00:00",
          "2019-12-15 00:00:00",
          "2019-12-16 00:00:00",
          "2019-12-17 00:00:00"
         ],
         "y": [
          136400,
          36637.5,
          95161.53846153847,
          143277.77777777778,
          78914.28571428571,
          51971.42857142857,
          78300,
          123130,
          52286.666666666664,
          110162.5,
          52254.545454545456,
          96062.5,
          79150,
          137790.9090909091,
          125645.45454545454,
          75700,
          109440,
          28262.5,
          62614.28571428572,
          102500,
          96300,
          109912.5,
          177487.5,
          140325,
          88744.44444444444,
          55933.333333333336,
          55480,
          57773.333333333336,
          45571.42857142857,
          90700,
          107968.18181818182,
          133300,
          84169.23076923077,
          94480,
          64222.22222222222,
          84311.11111111111,
          77650,
          95125,
          94470,
          710800,
          65640,
          62788.88888888889,
          35425,
          79280,
          64781.25,
          74900,
          36840,
          79790.90909090909,
          80000,
          53566.666666666664,
          78962.5,
          70414.61538461539,
          57728.57142857143,
          105644.44444444444,
          86583.33333333333,
          78625,
          27400,
          43737.5,
          68600,
          103557.14285714286,
          70333.33333333333,
          98582.35294117648,
          83166.66666666667,
          223170,
          131960,
          53150,
          55812.5,
          65550,
          63640,
          108288.88888888889,
          54115.38461538462,
          47000,
          44400,
          92980,
          121076.88,
          128466.66666666667,
          74120,
          44075,
          58796.42857142857,
          46506.25,
          46990.90909090909,
          41728.57142857143,
          90418.51851851853,
          94063.15789473684,
          63357.142857142855,
          78766.66666666667,
          53093.75,
          49662.5,
          115330.55555555556,
          142881.25,
          96872.72727272728,
          40925,
          68450
         ]
        }
       ],
       "layout": {
        "template": {
         "data": {
          "bar": [
           {
            "error_x": {
             "color": "#2a3f5f"
            },
            "error_y": {
             "color": "#2a3f5f"
            },
            "marker": {
             "line": {
              "color": "#E5ECF6",
              "width": 0.5
             }
            },
            "type": "bar"
           }
          ],
          "barpolar": [
           {
            "marker": {
             "line": {
              "color": "#E5ECF6",
              "width": 0.5
             }
            },
            "type": "barpolar"
           }
          ],
          "carpet": [
           {
            "aaxis": {
             "endlinecolor": "#2a3f5f",
             "gridcolor": "white",
             "linecolor": "white",
             "minorgridcolor": "white",
             "startlinecolor": "#2a3f5f"
            },
            "baxis": {
             "endlinecolor": "#2a3f5f",
             "gridcolor": "white",
             "linecolor": "white",
             "minorgridcolor": "white",
             "startlinecolor": "#2a3f5f"
            },
            "type": "carpet"
           }
          ],
          "choropleth": [
           {
            "colorbar": {
             "outlinewidth": 0,
             "ticks": ""
            },
            "type": "choropleth"
           }
          ],
          "contour": [
           {
            "colorbar": {
             "outlinewidth": 0,
             "ticks": ""
            },
            "colorscale": [
             [
              0,
              "#0d0887"
             ],
             [
              0.1111111111111111,
              "#46039f"
             ],
             [
              0.2222222222222222,
              "#7201a8"
             ],
             [
              0.3333333333333333,
              "#9c179e"
             ],
             [
              0.4444444444444444,
              "#bd3786"
             ],
             [
              0.5555555555555556,
              "#d8576b"
             ],
             [
              0.6666666666666666,
              "#ed7953"
             ],
             [
              0.7777777777777778,
              "#fb9f3a"
             ],
             [
              0.8888888888888888,
              "#fdca26"
             ],
             [
              1,
              "#f0f921"
             ]
            ],
            "type": "contour"
           }
          ],
          "contourcarpet": [
           {
            "colorbar": {
             "outlinewidth": 0,
             "ticks": ""
            },
            "type": "contourcarpet"
           }
          ],
          "heatmap": [
           {
            "colorbar": {
             "outlinewidth": 0,
             "ticks": ""
            },
            "colorscale": [
             [
              0,
              "#0d0887"
             ],
             [
              0.1111111111111111,
              "#46039f"
             ],
             [
              0.2222222222222222,
              "#7201a8"
             ],
             [
              0.3333333333333333,
              "#9c179e"
             ],
             [
              0.4444444444444444,
              "#bd3786"
             ],
             [
              0.5555555555555556,
              "#d8576b"
             ],
             [
              0.6666666666666666,
              "#ed7953"
             ],
             [
              0.7777777777777778,
              "#fb9f3a"
             ],
             [
              0.8888888888888888,
              "#fdca26"
             ],
             [
              1,
              "#f0f921"
             ]
            ],
            "type": "heatmap"
           }
          ],
          "heatmapgl": [
           {
            "colorbar": {
             "outlinewidth": 0,
             "ticks": ""
            },
            "colorscale": [
             [
              0,
              "#0d0887"
             ],
             [
              0.1111111111111111,
              "#46039f"
             ],
             [
              0.2222222222222222,
              "#7201a8"
             ],
             [
              0.3333333333333333,
              "#9c179e"
             ],
             [
              0.4444444444444444,
              "#bd3786"
             ],
             [
              0.5555555555555556,
              "#d8576b"
             ],
             [
              0.6666666666666666,
              "#ed7953"
             ],
             [
              0.7777777777777778,
              "#fb9f3a"
             ],
             [
              0.8888888888888888,
              "#fdca26"
             ],
             [
              1,
              "#f0f921"
             ]
            ],
            "type": "heatmapgl"
           }
          ],
          "histogram": [
           {
            "marker": {
             "colorbar": {
              "outlinewidth": 0,
              "ticks": ""
             }
            },
            "type": "histogram"
           }
          ],
          "histogram2d": [
           {
            "colorbar": {
             "outlinewidth": 0,
             "ticks": ""
            },
            "colorscale": [
             [
              0,
              "#0d0887"
             ],
             [
              0.1111111111111111,
              "#46039f"
             ],
             [
              0.2222222222222222,
              "#7201a8"
             ],
             [
              0.3333333333333333,
              "#9c179e"
             ],
             [
              0.4444444444444444,
              "#bd3786"
             ],
             [
              0.5555555555555556,
              "#d8576b"
             ],
             [
              0.6666666666666666,
              "#ed7953"
             ],
             [
              0.7777777777777778,
              "#fb9f3a"
             ],
             [
              0.8888888888888888,
              "#fdca26"
             ],
             [
              1,
              "#f0f921"
             ]
            ],
            "type": "histogram2d"
           }
          ],
          "histogram2dcontour": [
           {
            "colorbar": {
             "outlinewidth": 0,
             "ticks": ""
            },
            "colorscale": [
             [
              0,
              "#0d0887"
             ],
             [
              0.1111111111111111,
              "#46039f"
             ],
             [
              0.2222222222222222,
              "#7201a8"
             ],
             [
              0.3333333333333333,
              "#9c179e"
             ],
             [
              0.4444444444444444,
              "#bd3786"
             ],
             [
              0.5555555555555556,
              "#d8576b"
             ],
             [
              0.6666666666666666,
              "#ed7953"
             ],
             [
              0.7777777777777778,
              "#fb9f3a"
             ],
             [
              0.8888888888888888,
              "#fdca26"
             ],
             [
              1,
              "#f0f921"
             ]
            ],
            "type": "histogram2dcontour"
           }
          ],
          "mesh3d": [
           {
            "colorbar": {
             "outlinewidth": 0,
             "ticks": ""
            },
            "type": "mesh3d"
           }
          ],
          "parcoords": [
           {
            "line": {
             "colorbar": {
              "outlinewidth": 0,
              "ticks": ""
             }
            },
            "type": "parcoords"
           }
          ],
          "pie": [
           {
            "automargin": true,
            "type": "pie"
           }
          ],
          "scatter": [
           {
            "marker": {
             "colorbar": {
              "outlinewidth": 0,
              "ticks": ""
             }
            },
            "type": "scatter"
           }
          ],
          "scatter3d": [
           {
            "line": {
             "colorbar": {
              "outlinewidth": 0,
              "ticks": ""
             }
            },
            "marker": {
             "colorbar": {
              "outlinewidth": 0,
              "ticks": ""
             }
            },
            "type": "scatter3d"
           }
          ],
          "scattercarpet": [
           {
            "marker": {
             "colorbar": {
              "outlinewidth": 0,
              "ticks": ""
             }
            },
            "type": "scattercarpet"
           }
          ],
          "scattergeo": [
           {
            "marker": {
             "colorbar": {
              "outlinewidth": 0,
              "ticks": ""
             }
            },
            "type": "scattergeo"
           }
          ],
          "scattergl": [
           {
            "marker": {
             "colorbar": {
              "outlinewidth": 0,
              "ticks": ""
             }
            },
            "type": "scattergl"
           }
          ],
          "scattermapbox": [
           {
            "marker": {
             "colorbar": {
              "outlinewidth": 0,
              "ticks": ""
             }
            },
            "type": "scattermapbox"
           }
          ],
          "scatterpolar": [
           {
            "marker": {
             "colorbar": {
              "outlinewidth": 0,
              "ticks": ""
             }
            },
            "type": "scatterpolar"
           }
          ],
          "scatterpolargl": [
           {
            "marker": {
             "colorbar": {
              "outlinewidth": 0,
              "ticks": ""
             }
            },
            "type": "scatterpolargl"
           }
          ],
          "scatterternary": [
           {
            "marker": {
             "colorbar": {
              "outlinewidth": 0,
              "ticks": ""
             }
            },
            "type": "scatterternary"
           }
          ],
          "surface": [
           {
            "colorbar": {
             "outlinewidth": 0,
             "ticks": ""
            },
            "colorscale": [
             [
              0,
              "#0d0887"
             ],
             [
              0.1111111111111111,
              "#46039f"
             ],
             [
              0.2222222222222222,
              "#7201a8"
             ],
             [
              0.3333333333333333,
              "#9c179e"
             ],
             [
              0.4444444444444444,
              "#bd3786"
             ],
             [
              0.5555555555555556,
              "#d8576b"
             ],
             [
              0.6666666666666666,
              "#ed7953"
             ],
             [
              0.7777777777777778,
              "#fb9f3a"
             ],
             [
              0.8888888888888888,
              "#fdca26"
             ],
             [
              1,
              "#f0f921"
             ]
            ],
            "type": "surface"
           }
          ],
          "table": [
           {
            "cells": {
             "fill": {
              "color": "#EBF0F8"
             },
             "line": {
              "color": "white"
             }
            },
            "header": {
             "fill": {
              "color": "#C8D4E3"
             },
             "line": {
              "color": "white"
             }
            },
            "type": "table"
           }
          ]
         },
         "layout": {
          "annotationdefaults": {
           "arrowcolor": "#2a3f5f",
           "arrowhead": 0,
           "arrowwidth": 1
          },
          "coloraxis": {
           "colorbar": {
            "outlinewidth": 0,
            "ticks": ""
           }
          },
          "colorscale": {
           "diverging": [
            [
             0,
             "#8e0152"
            ],
            [
             0.1,
             "#c51b7d"
            ],
            [
             0.2,
             "#de77ae"
            ],
            [
             0.3,
             "#f1b6da"
            ],
            [
             0.4,
             "#fde0ef"
            ],
            [
             0.5,
             "#f7f7f7"
            ],
            [
             0.6,
             "#e6f5d0"
            ],
            [
             0.7,
             "#b8e186"
            ],
            [
             0.8,
             "#7fbc41"
            ],
            [
             0.9,
             "#4d9221"
            ],
            [
             1,
             "#276419"
            ]
           ],
           "sequential": [
            [
             0,
             "#0d0887"
            ],
            [
             0.1111111111111111,
             "#46039f"
            ],
            [
             0.2222222222222222,
             "#7201a8"
            ],
            [
             0.3333333333333333,
             "#9c179e"
            ],
            [
             0.4444444444444444,
             "#bd3786"
            ],
            [
             0.5555555555555556,
             "#d8576b"
            ],
            [
             0.6666666666666666,
             "#ed7953"
            ],
            [
             0.7777777777777778,
             "#fb9f3a"
            ],
            [
             0.8888888888888888,
             "#fdca26"
            ],
            [
             1,
             "#f0f921"
            ]
           ],
           "sequentialminus": [
            [
             0,
             "#0d0887"
            ],
            [
             0.1111111111111111,
             "#46039f"
            ],
            [
             0.2222222222222222,
             "#7201a8"
            ],
            [
             0.3333333333333333,
             "#9c179e"
            ],
            [
             0.4444444444444444,
             "#bd3786"
            ],
            [
             0.5555555555555556,
             "#d8576b"
            ],
            [
             0.6666666666666666,
             "#ed7953"
            ],
            [
             0.7777777777777778,
             "#fb9f3a"
            ],
            [
             0.8888888888888888,
             "#fdca26"
            ],
            [
             1,
             "#f0f921"
            ]
           ]
          },
          "colorway": [
           "#636efa",
           "#EF553B",
           "#00cc96",
           "#ab63fa",
           "#FFA15A",
           "#19d3f3",
           "#FF6692",
           "#B6E880",
           "#FF97FF",
           "#FECB52"
          ],
          "font": {
           "color": "#2a3f5f"
          },
          "geo": {
           "bgcolor": "white",
           "lakecolor": "white",
           "landcolor": "#E5ECF6",
           "showlakes": true,
           "showland": true,
           "subunitcolor": "white"
          },
          "hoverlabel": {
           "align": "left"
          },
          "hovermode": "closest",
          "mapbox": {
           "style": "light"
          },
          "paper_bgcolor": "white",
          "plot_bgcolor": "#E5ECF6",
          "polar": {
           "angularaxis": {
            "gridcolor": "white",
            "linecolor": "white",
            "ticks": ""
           },
           "bgcolor": "#E5ECF6",
           "radialaxis": {
            "gridcolor": "white",
            "linecolor": "white",
            "ticks": ""
           }
          },
          "scene": {
           "xaxis": {
            "backgroundcolor": "#E5ECF6",
            "gridcolor": "white",
            "gridwidth": 2,
            "linecolor": "white",
            "showbackground": true,
            "ticks": "",
            "zerolinecolor": "white"
           },
           "yaxis": {
            "backgroundcolor": "#E5ECF6",
            "gridcolor": "white",
            "gridwidth": 2,
            "linecolor": "white",
            "showbackground": true,
            "ticks": "",
            "zerolinecolor": "white"
           },
           "zaxis": {
            "backgroundcolor": "#E5ECF6",
            "gridcolor": "white",
            "gridwidth": 2,
            "linecolor": "white",
            "showbackground": true,
            "ticks": "",
            "zerolinecolor": "white"
           }
          },
          "shapedefaults": {
           "line": {
            "color": "#2a3f5f"
           }
          },
          "ternary": {
           "aaxis": {
            "gridcolor": "white",
            "linecolor": "white",
            "ticks": ""
           },
           "baxis": {
            "gridcolor": "white",
            "linecolor": "white",
            "ticks": ""
           },
           "bgcolor": "#E5ECF6",
           "caxis": {
            "gridcolor": "white",
            "linecolor": "white",
            "ticks": ""
           }
          },
          "title": {
           "x": 0.05
          },
          "xaxis": {
           "automargin": true,
           "gridcolor": "white",
           "linecolor": "white",
           "ticks": "",
           "title": {
            "standoff": 15
           },
           "zerolinecolor": "white",
           "zerolinewidth": 2
          },
          "yaxis": {
           "automargin": true,
           "gridcolor": "white",
           "linecolor": "white",
           "ticks": "",
           "title": {
            "standoff": 15
           },
           "zerolinecolor": "white",
           "zerolinewidth": 2
          }
         }
        }
       }
      },
      "text/html": [
       "<div>                            <div id=\"b64f3ff3-c1a1-4f1b-be53-791fd065f634\" class=\"plotly-graph-div\" style=\"height:525px; width:100%;\"></div>            <script type=\"text/javascript\">                require([\"plotly\"], function(Plotly) {                    window.PLOTLYENV=window.PLOTLYENV || {};                                    if (document.getElementById(\"b64f3ff3-c1a1-4f1b-be53-791fd065f634\")) {                    Plotly.newPlot(                        \"b64f3ff3-c1a1-4f1b-be53-791fd065f634\",                        [{\"type\": \"scatter\", \"x\": [\"2019-09-16 00:00:00\", \"2019-09-17 00:00:00\", \"2019-09-18 00:00:00\", \"2019-09-19 00:00:00\", \"2019-09-20 00:00:00\", \"2019-09-21 00:00:00\", \"2019-09-22 00:00:00\", \"2019-09-23 00:00:00\", \"2019-09-24 00:00:00\", \"2019-09-25 00:00:00\", \"2019-09-26 00:00:00\", \"2019-09-27 00:00:00\", \"2019-09-28 00:00:00\", \"2019-09-29 00:00:00\", \"2019-09-30 00:00:00\", \"2019-10-01 00:00:00\", \"2019-10-02 00:00:00\", \"2019-10-03 00:00:00\", \"2019-10-04 00:00:00\", \"2019-10-05 00:00:00\", \"2019-10-06 00:00:00\", \"2019-10-07 00:00:00\", \"2019-10-08 00:00:00\", \"2019-10-09 00:00:00\", \"2019-10-10 00:00:00\", \"2019-10-11 00:00:00\", \"2019-10-12 00:00:00\", \"2019-10-13 00:00:00\", \"2019-10-14 00:00:00\", \"2019-10-15 00:00:00\", \"2019-10-16 00:00:00\", \"2019-10-17 00:00:00\", \"2019-10-18 00:00:00\", \"2019-10-19 00:00:00\", \"2019-10-20 00:00:00\", \"2019-10-21 00:00:00\", \"2019-10-22 00:00:00\", \"2019-10-23 00:00:00\", \"2019-10-24 00:00:00\", \"2019-10-25 00:00:00\", \"2019-10-26 00:00:00\", \"2019-10-27 00:00:00\", \"2019-10-28 00:00:00\", \"2019-10-29 00:00:00\", \"2019-10-30 00:00:00\", \"2019-10-31 00:00:00\", \"2019-11-01 00:00:00\", \"2019-11-02 00:00:00\", \"2019-11-03 00:00:00\", \"2019-11-04 00:00:00\", \"2019-11-05 00:00:00\", \"2019-11-06 00:00:00\", \"2019-11-07 00:00:00\", \"2019-11-08 00:00:00\", \"2019-11-09 00:00:00\", \"2019-11-10 00:00:00\", \"2019-11-11 00:00:00\", \"2019-11-12 00:00:00\", \"2019-11-13 00:00:00\", \"2019-11-14 00:00:00\", \"2019-11-15 00:00:00\", \"2019-11-16 00:00:00\", \"2019-11-17 00:00:00\", \"2019-11-18 00:00:00\", \"2019-11-19 00:00:00\", \"2019-11-20 00:00:00\", \"2019-11-21 00:00:00\", \"2019-11-22 00:00:00\", \"2019-11-23 00:00:00\", \"2019-11-24 00:00:00\", \"2019-11-25 00:00:00\", \"2019-11-26 00:00:00\", \"2019-11-27 00:00:00\", \"2019-11-28 00:00:00\", \"2019-11-29 00:00:00\", \"2019-11-30 00:00:00\", \"2019-12-01 00:00:00\", \"2019-12-02 00:00:00\", \"2019-12-03 00:00:00\", \"2019-12-04 00:00:00\", \"2019-12-05 00:00:00\", \"2019-12-06 00:00:00\", \"2019-12-07 00:00:00\", \"2019-12-08 00:00:00\", \"2019-12-09 00:00:00\", \"2019-12-10 00:00:00\", \"2019-12-11 00:00:00\", \"2019-12-12 00:00:00\", \"2019-12-13 00:00:00\", \"2019-12-14 00:00:00\", \"2019-12-15 00:00:00\", \"2019-12-16 00:00:00\", \"2019-12-17 00:00:00\"], \"y\": [136400.0, 36637.5, 95161.53846153847, 143277.77777777778, 78914.28571428571, 51971.42857142857, 78300.0, 123130.0, 52286.666666666664, 110162.5, 52254.545454545456, 96062.5, 79150.0, 137790.9090909091, 125645.45454545454, 75700.0, 109440.0, 28262.5, 62614.28571428572, 102500.0, 96300.0, 109912.5, 177487.5, 140325.0, 88744.44444444444, 55933.333333333336, 55480.0, 57773.333333333336, 45571.42857142857, 90700.0, 107968.18181818182, 133300.0, 84169.23076923077, 94480.0, 64222.22222222222, 84311.11111111111, 77650.0, 95125.0, 94470.0, 710800.0, 65640.0, 62788.88888888889, 35425.0, 79280.0, 64781.25, 74900.0, 36840.0, 79790.90909090909, 80000.0, 53566.666666666664, 78962.5, 70414.61538461539, 57728.57142857143, 105644.44444444444, 86583.33333333333, 78625.0, 27400.0, 43737.5, 68600.0, 103557.14285714286, 70333.33333333333, 98582.35294117648, 83166.66666666667, 223170.0, 131960.0, 53150.0, 55812.5, 65550.0, 63640.0, 108288.88888888889, 54115.38461538462, 47000.0, 44400.0, 92980.0, 121076.88, 128466.66666666667, 74120.0, 44075.0, 58796.42857142857, 46506.25, 46990.90909090909, 41728.57142857143, 90418.51851851853, 94063.15789473684, 63357.142857142855, 78766.66666666667, 53093.75, 49662.5, 115330.55555555556, 142881.25, 96872.72727272728, 40925.0, 68450.0]}],                        {\"template\": {\"data\": {\"bar\": [{\"error_x\": {\"color\": \"#2a3f5f\"}, \"error_y\": {\"color\": \"#2a3f5f\"}, \"marker\": {\"line\": {\"color\": \"#E5ECF6\", \"width\": 0.5}}, \"type\": \"bar\"}], \"barpolar\": [{\"marker\": {\"line\": {\"color\": \"#E5ECF6\", \"width\": 0.5}}, \"type\": \"barpolar\"}], \"carpet\": [{\"aaxis\": {\"endlinecolor\": \"#2a3f5f\", \"gridcolor\": \"white\", \"linecolor\": \"white\", \"minorgridcolor\": \"white\", \"startlinecolor\": \"#2a3f5f\"}, \"baxis\": {\"endlinecolor\": \"#2a3f5f\", \"gridcolor\": \"white\", \"linecolor\": \"white\", \"minorgridcolor\": \"white\", \"startlinecolor\": \"#2a3f5f\"}, \"type\": \"carpet\"}], \"choropleth\": [{\"colorbar\": {\"outlinewidth\": 0, \"ticks\": \"\"}, \"type\": \"choropleth\"}], \"contour\": [{\"colorbar\": {\"outlinewidth\": 0, \"ticks\": \"\"}, \"colorscale\": [[0.0, \"#0d0887\"], [0.1111111111111111, \"#46039f\"], [0.2222222222222222, \"#7201a8\"], [0.3333333333333333, \"#9c179e\"], [0.4444444444444444, \"#bd3786\"], [0.5555555555555556, \"#d8576b\"], [0.6666666666666666, \"#ed7953\"], [0.7777777777777778, \"#fb9f3a\"], [0.8888888888888888, \"#fdca26\"], [1.0, \"#f0f921\"]], \"type\": \"contour\"}], \"contourcarpet\": [{\"colorbar\": {\"outlinewidth\": 0, \"ticks\": \"\"}, \"type\": \"contourcarpet\"}], \"heatmap\": [{\"colorbar\": {\"outlinewidth\": 0, \"ticks\": \"\"}, \"colorscale\": [[0.0, \"#0d0887\"], [0.1111111111111111, \"#46039f\"], [0.2222222222222222, \"#7201a8\"], [0.3333333333333333, \"#9c179e\"], [0.4444444444444444, \"#bd3786\"], [0.5555555555555556, \"#d8576b\"], [0.6666666666666666, \"#ed7953\"], [0.7777777777777778, \"#fb9f3a\"], [0.8888888888888888, \"#fdca26\"], [1.0, \"#f0f921\"]], \"type\": \"heatmap\"}], \"heatmapgl\": [{\"colorbar\": {\"outlinewidth\": 0, \"ticks\": \"\"}, \"colorscale\": [[0.0, \"#0d0887\"], [0.1111111111111111, \"#46039f\"], [0.2222222222222222, \"#7201a8\"], [0.3333333333333333, \"#9c179e\"], [0.4444444444444444, \"#bd3786\"], [0.5555555555555556, \"#d8576b\"], [0.6666666666666666, \"#ed7953\"], [0.7777777777777778, \"#fb9f3a\"], [0.8888888888888888, \"#fdca26\"], [1.0, \"#f0f921\"]], \"type\": \"heatmapgl\"}], \"histogram\": [{\"marker\": {\"colorbar\": {\"outlinewidth\": 0, \"ticks\": \"\"}}, \"type\": \"histogram\"}], \"histogram2d\": [{\"colorbar\": {\"outlinewidth\": 0, \"ticks\": \"\"}, \"colorscale\": [[0.0, \"#0d0887\"], [0.1111111111111111, \"#46039f\"], [0.2222222222222222, \"#7201a8\"], [0.3333333333333333, \"#9c179e\"], [0.4444444444444444, \"#bd3786\"], [0.5555555555555556, \"#d8576b\"], [0.6666666666666666, \"#ed7953\"], [0.7777777777777778, \"#fb9f3a\"], [0.8888888888888888, \"#fdca26\"], [1.0, \"#f0f921\"]], \"type\": \"histogram2d\"}], \"histogram2dcontour\": [{\"colorbar\": {\"outlinewidth\": 0, \"ticks\": \"\"}, \"colorscale\": [[0.0, \"#0d0887\"], [0.1111111111111111, \"#46039f\"], [0.2222222222222222, \"#7201a8\"], [0.3333333333333333, \"#9c179e\"], [0.4444444444444444, \"#bd3786\"], [0.5555555555555556, \"#d8576b\"], [0.6666666666666666, \"#ed7953\"], [0.7777777777777778, \"#fb9f3a\"], [0.8888888888888888, \"#fdca26\"], [1.0, \"#f0f921\"]], \"type\": \"histogram2dcontour\"}], \"mesh3d\": [{\"colorbar\": {\"outlinewidth\": 0, \"ticks\": \"\"}, \"type\": \"mesh3d\"}], \"parcoords\": [{\"line\": {\"colorbar\": {\"outlinewidth\": 0, \"ticks\": \"\"}}, \"type\": \"parcoords\"}], \"pie\": [{\"automargin\": true, \"type\": \"pie\"}], \"scatter\": [{\"marker\": {\"colorbar\": {\"outlinewidth\": 0, \"ticks\": \"\"}}, \"type\": \"scatter\"}], \"scatter3d\": [{\"line\": {\"colorbar\": {\"outlinewidth\": 0, \"ticks\": \"\"}}, \"marker\": {\"colorbar\": {\"outlinewidth\": 0, \"ticks\": \"\"}}, \"type\": \"scatter3d\"}], \"scattercarpet\": [{\"marker\": {\"colorbar\": {\"outlinewidth\": 0, \"ticks\": \"\"}}, \"type\": \"scattercarpet\"}], \"scattergeo\": [{\"marker\": {\"colorbar\": {\"outlinewidth\": 0, \"ticks\": \"\"}}, \"type\": \"scattergeo\"}], \"scattergl\": [{\"marker\": {\"colorbar\": {\"outlinewidth\": 0, \"ticks\": \"\"}}, \"type\": \"scattergl\"}], \"scattermapbox\": [{\"marker\": {\"colorbar\": {\"outlinewidth\": 0, \"ticks\": \"\"}}, \"type\": \"scattermapbox\"}], \"scatterpolar\": [{\"marker\": {\"colorbar\": {\"outlinewidth\": 0, \"ticks\": \"\"}}, \"type\": \"scatterpolar\"}], \"scatterpolargl\": [{\"marker\": {\"colorbar\": {\"outlinewidth\": 0, \"ticks\": \"\"}}, \"type\": \"scatterpolargl\"}], \"scatterternary\": [{\"marker\": {\"colorbar\": {\"outlinewidth\": 0, \"ticks\": \"\"}}, \"type\": \"scatterternary\"}], \"surface\": [{\"colorbar\": {\"outlinewidth\": 0, \"ticks\": \"\"}, \"colorscale\": [[0.0, \"#0d0887\"], [0.1111111111111111, \"#46039f\"], [0.2222222222222222, \"#7201a8\"], [0.3333333333333333, \"#9c179e\"], [0.4444444444444444, \"#bd3786\"], [0.5555555555555556, \"#d8576b\"], [0.6666666666666666, \"#ed7953\"], [0.7777777777777778, \"#fb9f3a\"], [0.8888888888888888, \"#fdca26\"], [1.0, \"#f0f921\"]], \"type\": \"surface\"}], \"table\": [{\"cells\": {\"fill\": {\"color\": \"#EBF0F8\"}, \"line\": {\"color\": \"white\"}}, \"header\": {\"fill\": {\"color\": \"#C8D4E3\"}, \"line\": {\"color\": \"white\"}}, \"type\": \"table\"}]}, \"layout\": {\"annotationdefaults\": {\"arrowcolor\": \"#2a3f5f\", \"arrowhead\": 0, \"arrowwidth\": 1}, \"coloraxis\": {\"colorbar\": {\"outlinewidth\": 0, \"ticks\": \"\"}}, \"colorscale\": {\"diverging\": [[0, \"#8e0152\"], [0.1, \"#c51b7d\"], [0.2, \"#de77ae\"], [0.3, \"#f1b6da\"], [0.4, \"#fde0ef\"], [0.5, \"#f7f7f7\"], [0.6, \"#e6f5d0\"], [0.7, \"#b8e186\"], [0.8, \"#7fbc41\"], [0.9, \"#4d9221\"], [1, \"#276419\"]], \"sequential\": [[0.0, \"#0d0887\"], [0.1111111111111111, \"#46039f\"], [0.2222222222222222, \"#7201a8\"], [0.3333333333333333, \"#9c179e\"], [0.4444444444444444, \"#bd3786\"], [0.5555555555555556, \"#d8576b\"], [0.6666666666666666, \"#ed7953\"], [0.7777777777777778, \"#fb9f3a\"], [0.8888888888888888, \"#fdca26\"], [1.0, \"#f0f921\"]], \"sequentialminus\": [[0.0, \"#0d0887\"], [0.1111111111111111, \"#46039f\"], [0.2222222222222222, \"#7201a8\"], [0.3333333333333333, \"#9c179e\"], [0.4444444444444444, \"#bd3786\"], [0.5555555555555556, \"#d8576b\"], [0.6666666666666666, \"#ed7953\"], [0.7777777777777778, \"#fb9f3a\"], [0.8888888888888888, \"#fdca26\"], [1.0, \"#f0f921\"]]}, \"colorway\": [\"#636efa\", \"#EF553B\", \"#00cc96\", \"#ab63fa\", \"#FFA15A\", \"#19d3f3\", \"#FF6692\", \"#B6E880\", \"#FF97FF\", \"#FECB52\"], \"font\": {\"color\": \"#2a3f5f\"}, \"geo\": {\"bgcolor\": \"white\", \"lakecolor\": \"white\", \"landcolor\": \"#E5ECF6\", \"showlakes\": true, \"showland\": true, \"subunitcolor\": \"white\"}, \"hoverlabel\": {\"align\": \"left\"}, \"hovermode\": \"closest\", \"mapbox\": {\"style\": \"light\"}, \"paper_bgcolor\": \"white\", \"plot_bgcolor\": \"#E5ECF6\", \"polar\": {\"angularaxis\": {\"gridcolor\": \"white\", \"linecolor\": \"white\", \"ticks\": \"\"}, \"bgcolor\": \"#E5ECF6\", \"radialaxis\": {\"gridcolor\": \"white\", \"linecolor\": \"white\", \"ticks\": \"\"}}, \"scene\": {\"xaxis\": {\"backgroundcolor\": \"#E5ECF6\", \"gridcolor\": \"white\", \"gridwidth\": 2, \"linecolor\": \"white\", \"showbackground\": true, \"ticks\": \"\", \"zerolinecolor\": \"white\"}, \"yaxis\": {\"backgroundcolor\": \"#E5ECF6\", \"gridcolor\": \"white\", \"gridwidth\": 2, \"linecolor\": \"white\", \"showbackground\": true, \"ticks\": \"\", \"zerolinecolor\": \"white\"}, \"zaxis\": {\"backgroundcolor\": \"#E5ECF6\", \"gridcolor\": \"white\", \"gridwidth\": 2, \"linecolor\": \"white\", \"showbackground\": true, \"ticks\": \"\", \"zerolinecolor\": \"white\"}}, \"shapedefaults\": {\"line\": {\"color\": \"#2a3f5f\"}}, \"ternary\": {\"aaxis\": {\"gridcolor\": \"white\", \"linecolor\": \"white\", \"ticks\": \"\"}, \"baxis\": {\"gridcolor\": \"white\", \"linecolor\": \"white\", \"ticks\": \"\"}, \"bgcolor\": \"#E5ECF6\", \"caxis\": {\"gridcolor\": \"white\", \"linecolor\": \"white\", \"ticks\": \"\"}}, \"title\": {\"x\": 0.05}, \"xaxis\": {\"automargin\": true, \"gridcolor\": \"white\", \"linecolor\": \"white\", \"ticks\": \"\", \"title\": {\"standoff\": 15}, \"zerolinecolor\": \"white\", \"zerolinewidth\": 2}, \"yaxis\": {\"automargin\": true, \"gridcolor\": \"white\", \"linecolor\": \"white\", \"ticks\": \"\", \"title\": {\"standoff\": 15}, \"zerolinecolor\": \"white\", \"zerolinewidth\": 2}}}},                        {\"responsive\": true}                    ).then(function(){\n",
       "                            \n",
       "var gd = document.getElementById('b64f3ff3-c1a1-4f1b-be53-791fd065f634');\n",
       "var x = new MutationObserver(function (mutations, observer) {{\n",
       "        var display = window.getComputedStyle(gd).display;\n",
       "        if (!display || display === 'none') {{\n",
       "            console.log([gd, 'removed!']);\n",
       "            Plotly.purge(gd);\n",
       "            observer.disconnect();\n",
       "        }}\n",
       "}});\n",
       "\n",
       "// Listen for the removal of the full notebook cells\n",
       "var notebookContainer = gd.closest('#notebook-container');\n",
       "if (notebookContainer) {{\n",
       "    x.observe(notebookContainer, {childList: true});\n",
       "}}\n",
       "\n",
       "// Listen for the clearing of the current output cell\n",
       "var outputEl = gd.closest('.output');\n",
       "if (outputEl) {{\n",
       "    x.observe(outputEl, {childList: true});\n",
       "}}\n",
       "\n",
       "                        })                };                });            </script>        </div>"
      ]
     },
     "metadata": {},
     "output_type": "display_data"
    }
   ],
   "source": [
    "#Louis_Vuitton\n",
    "fig = go.Figure([go.Scatter(x=Louis_Vuitton['purchdate'], y=Louis_Vuitton['amount'])])\n",
    "fig.show()"
   ]
  },
  {
   "cell_type": "code",
   "execution_count": 176,
   "metadata": {},
   "outputs": [
    {
     "data": {
      "application/vnd.plotly.v1+json": {
       "config": {
        "plotlyServerURL": "https://plot.ly"
       },
       "data": [
        {
         "type": "scatter",
         "x": [
          "2019-09-17 00:00:00",
          "2019-09-18 00:00:00",
          "2019-09-19 00:00:00",
          "2019-09-20 00:00:00",
          "2019-09-21 00:00:00",
          "2019-09-22 00:00:00",
          "2019-09-23 00:00:00",
          "2019-09-24 00:00:00",
          "2019-09-25 00:00:00",
          "2019-09-26 00:00:00",
          "2019-09-27 00:00:00",
          "2019-09-28 00:00:00",
          "2019-09-29 00:00:00",
          "2019-09-30 00:00:00",
          "2019-10-01 00:00:00",
          "2019-10-02 00:00:00",
          "2019-10-03 00:00:00",
          "2019-10-04 00:00:00",
          "2019-10-05 00:00:00",
          "2019-10-06 00:00:00",
          "2019-10-07 00:00:00",
          "2019-10-08 00:00:00",
          "2019-10-09 00:00:00",
          "2019-10-10 00:00:00",
          "2019-10-11 00:00:00",
          "2019-10-12 00:00:00",
          "2019-10-13 00:00:00",
          "2019-10-14 00:00:00",
          "2019-10-15 00:00:00",
          "2019-10-16 00:00:00",
          "2019-10-17 00:00:00",
          "2019-10-18 00:00:00",
          "2019-10-19 00:00:00",
          "2019-10-20 00:00:00",
          "2019-10-21 00:00:00",
          "2019-10-22 00:00:00",
          "2019-10-23 00:00:00",
          "2019-10-24 00:00:00",
          "2019-10-25 00:00:00",
          "2019-10-26 00:00:00",
          "2019-10-27 00:00:00",
          "2019-10-28 00:00:00",
          "2019-10-29 00:00:00",
          "2019-10-30 00:00:00",
          "2019-10-31 00:00:00",
          "2019-11-01 00:00:00",
          "2019-11-02 00:00:00",
          "2019-11-03 00:00:00",
          "2019-11-04 00:00:00",
          "2019-11-05 00:00:00",
          "2019-11-06 00:00:00",
          "2019-11-07 00:00:00",
          "2019-11-08 00:00:00",
          "2019-11-09 00:00:00",
          "2019-11-10 00:00:00",
          "2019-11-11 00:00:00",
          "2019-11-12 00:00:00",
          "2019-11-13 00:00:00",
          "2019-11-14 00:00:00",
          "2019-11-15 00:00:00",
          "2019-11-16 00:00:00",
          "2019-11-17 00:00:00",
          "2019-11-18 00:00:00",
          "2019-11-19 00:00:00",
          "2019-11-20 00:00:00",
          "2019-11-21 00:00:00",
          "2019-11-22 00:00:00",
          "2019-11-23 00:00:00",
          "2019-11-24 00:00:00",
          "2019-11-25 00:00:00",
          "2019-11-26 00:00:00",
          "2019-11-27 00:00:00",
          "2019-11-28 00:00:00",
          "2019-11-29 00:00:00",
          "2019-11-30 00:00:00",
          "2019-12-01 00:00:00",
          "2019-12-02 00:00:00",
          "2019-12-03 00:00:00",
          "2019-12-04 00:00:00",
          "2019-12-05 00:00:00",
          "2019-12-06 00:00:00",
          "2019-12-07 00:00:00",
          "2019-12-08 00:00:00",
          "2019-12-09 00:00:00",
          "2019-12-10 00:00:00",
          "2019-12-11 00:00:00",
          "2019-12-12 00:00:00",
          "2019-12-13 00:00:00",
          "2019-12-14 00:00:00",
          "2019-12-15 00:00:00",
          "2019-12-16 00:00:00",
          "2019-12-17 00:00:00",
          "2019-12-18 00:00:00"
         ],
         "y": [
          4840.785714285715,
          2323.556338797813,
          2213.257767094016,
          2408.271984805313,
          2535.995224445642,
          2559.1796329787194,
          2116.3038414006164,
          2244.648363201908,
          2186.934010869563,
          2101.4605792349716,
          2098.999504405284,
          2269.65650920245,
          2321.5723624161014,
          2261.172759643917,
          2169.882925457103,
          2101.769479843952,
          2185.7400404312657,
          2036.6251388888854,
          2473.6920224019864,
          2408.063942745604,
          2254.2473423980196,
          2272.2396653796636,
          2027.009744572157,
          2201.581758118698,
          2104.607653688523,
          2202.791537958112,
          2227.4824915824856,
          2041.0464928909967,
          2073.53788595271,
          2084.2066032608695,
          2112.5345571428566,
          2152.0223878787865,
          2296.654455994452,
          2306.812383292379,
          2037.0350170648474,
          2031.6600000000014,
          2086.493053311795,
          2029.8298000000002,
          2141.616191037735,
          2105.1551262798616,
          2185.069437060199,
          2057.2868435754162,
          2074.2405931034464,
          2044.0116172839487,
          2033.120888625591,
          1964.019053905387,
          2150.7125606276704,
          2177.2470481927667,
          2204.8737734311267,
          2012.4075396825403,
          2078.8557520661157,
          2930.6224398073828,
          2059.8622599531614,
          2227.888588154265,
          2167.6237819548815,
          2077.4379474548437,
          2174.990750000001,
          2158.8871813285464,
          2125.5029949238597,
          2129.576348167539,
          2262.4084564254013,
          2041.7127466456166,
          1937.2083669354847,
          2084.3410356536483,
          2017.1132288401243,
          1955.6299999999999,
          2064.4113469387753,
          2157.810562218885,
          2229.6958692052945,
          1920.1867419354828,
          1962.4346127366614,
          1962.8852050473154,
          1988.557602627258,
          1923.2369259724073,
          1928.304271002726,
          2198.872062745092,
          1823.8521113243762,
          2246.117069306931,
          1850.4829545454554,
          2006.9508468468475,
          2049.3616923076925,
          2241.8104487658907,
          2064.776560457512,
          2081.5609022556396,
          1970.389171511627,
          2018.709063829787,
          2022.6688959390856,
          1878.0827272727263,
          2038.285543547357,
          2124.363251612898,
          2024.5753157121867,
          1930.8540768277533,
          2118.844658682633
         ]
        }
       ],
       "layout": {
        "template": {
         "data": {
          "bar": [
           {
            "error_x": {
             "color": "#2a3f5f"
            },
            "error_y": {
             "color": "#2a3f5f"
            },
            "marker": {
             "line": {
              "color": "#E5ECF6",
              "width": 0.5
             }
            },
            "type": "bar"
           }
          ],
          "barpolar": [
           {
            "marker": {
             "line": {
              "color": "#E5ECF6",
              "width": 0.5
             }
            },
            "type": "barpolar"
           }
          ],
          "carpet": [
           {
            "aaxis": {
             "endlinecolor": "#2a3f5f",
             "gridcolor": "white",
             "linecolor": "white",
             "minorgridcolor": "white",
             "startlinecolor": "#2a3f5f"
            },
            "baxis": {
             "endlinecolor": "#2a3f5f",
             "gridcolor": "white",
             "linecolor": "white",
             "minorgridcolor": "white",
             "startlinecolor": "#2a3f5f"
            },
            "type": "carpet"
           }
          ],
          "choropleth": [
           {
            "colorbar": {
             "outlinewidth": 0,
             "ticks": ""
            },
            "type": "choropleth"
           }
          ],
          "contour": [
           {
            "colorbar": {
             "outlinewidth": 0,
             "ticks": ""
            },
            "colorscale": [
             [
              0,
              "#0d0887"
             ],
             [
              0.1111111111111111,
              "#46039f"
             ],
             [
              0.2222222222222222,
              "#7201a8"
             ],
             [
              0.3333333333333333,
              "#9c179e"
             ],
             [
              0.4444444444444444,
              "#bd3786"
             ],
             [
              0.5555555555555556,
              "#d8576b"
             ],
             [
              0.6666666666666666,
              "#ed7953"
             ],
             [
              0.7777777777777778,
              "#fb9f3a"
             ],
             [
              0.8888888888888888,
              "#fdca26"
             ],
             [
              1,
              "#f0f921"
             ]
            ],
            "type": "contour"
           }
          ],
          "contourcarpet": [
           {
            "colorbar": {
             "outlinewidth": 0,
             "ticks": ""
            },
            "type": "contourcarpet"
           }
          ],
          "heatmap": [
           {
            "colorbar": {
             "outlinewidth": 0,
             "ticks": ""
            },
            "colorscale": [
             [
              0,
              "#0d0887"
             ],
             [
              0.1111111111111111,
              "#46039f"
             ],
             [
              0.2222222222222222,
              "#7201a8"
             ],
             [
              0.3333333333333333,
              "#9c179e"
             ],
             [
              0.4444444444444444,
              "#bd3786"
             ],
             [
              0.5555555555555556,
              "#d8576b"
             ],
             [
              0.6666666666666666,
              "#ed7953"
             ],
             [
              0.7777777777777778,
              "#fb9f3a"
             ],
             [
              0.8888888888888888,
              "#fdca26"
             ],
             [
              1,
              "#f0f921"
             ]
            ],
            "type": "heatmap"
           }
          ],
          "heatmapgl": [
           {
            "colorbar": {
             "outlinewidth": 0,
             "ticks": ""
            },
            "colorscale": [
             [
              0,
              "#0d0887"
             ],
             [
              0.1111111111111111,
              "#46039f"
             ],
             [
              0.2222222222222222,
              "#7201a8"
             ],
             [
              0.3333333333333333,
              "#9c179e"
             ],
             [
              0.4444444444444444,
              "#bd3786"
             ],
             [
              0.5555555555555556,
              "#d8576b"
             ],
             [
              0.6666666666666666,
              "#ed7953"
             ],
             [
              0.7777777777777778,
              "#fb9f3a"
             ],
             [
              0.8888888888888888,
              "#fdca26"
             ],
             [
              1,
              "#f0f921"
             ]
            ],
            "type": "heatmapgl"
           }
          ],
          "histogram": [
           {
            "marker": {
             "colorbar": {
              "outlinewidth": 0,
              "ticks": ""
             }
            },
            "type": "histogram"
           }
          ],
          "histogram2d": [
           {
            "colorbar": {
             "outlinewidth": 0,
             "ticks": ""
            },
            "colorscale": [
             [
              0,
              "#0d0887"
             ],
             [
              0.1111111111111111,
              "#46039f"
             ],
             [
              0.2222222222222222,
              "#7201a8"
             ],
             [
              0.3333333333333333,
              "#9c179e"
             ],
             [
              0.4444444444444444,
              "#bd3786"
             ],
             [
              0.5555555555555556,
              "#d8576b"
             ],
             [
              0.6666666666666666,
              "#ed7953"
             ],
             [
              0.7777777777777778,
              "#fb9f3a"
             ],
             [
              0.8888888888888888,
              "#fdca26"
             ],
             [
              1,
              "#f0f921"
             ]
            ],
            "type": "histogram2d"
           }
          ],
          "histogram2dcontour": [
           {
            "colorbar": {
             "outlinewidth": 0,
             "ticks": ""
            },
            "colorscale": [
             [
              0,
              "#0d0887"
             ],
             [
              0.1111111111111111,
              "#46039f"
             ],
             [
              0.2222222222222222,
              "#7201a8"
             ],
             [
              0.3333333333333333,
              "#9c179e"
             ],
             [
              0.4444444444444444,
              "#bd3786"
             ],
             [
              0.5555555555555556,
              "#d8576b"
             ],
             [
              0.6666666666666666,
              "#ed7953"
             ],
             [
              0.7777777777777778,
              "#fb9f3a"
             ],
             [
              0.8888888888888888,
              "#fdca26"
             ],
             [
              1,
              "#f0f921"
             ]
            ],
            "type": "histogram2dcontour"
           }
          ],
          "mesh3d": [
           {
            "colorbar": {
             "outlinewidth": 0,
             "ticks": ""
            },
            "type": "mesh3d"
           }
          ],
          "parcoords": [
           {
            "line": {
             "colorbar": {
              "outlinewidth": 0,
              "ticks": ""
             }
            },
            "type": "parcoords"
           }
          ],
          "pie": [
           {
            "automargin": true,
            "type": "pie"
           }
          ],
          "scatter": [
           {
            "marker": {
             "colorbar": {
              "outlinewidth": 0,
              "ticks": ""
             }
            },
            "type": "scatter"
           }
          ],
          "scatter3d": [
           {
            "line": {
             "colorbar": {
              "outlinewidth": 0,
              "ticks": ""
             }
            },
            "marker": {
             "colorbar": {
              "outlinewidth": 0,
              "ticks": ""
             }
            },
            "type": "scatter3d"
           }
          ],
          "scattercarpet": [
           {
            "marker": {
             "colorbar": {
              "outlinewidth": 0,
              "ticks": ""
             }
            },
            "type": "scattercarpet"
           }
          ],
          "scattergeo": [
           {
            "marker": {
             "colorbar": {
              "outlinewidth": 0,
              "ticks": ""
             }
            },
            "type": "scattergeo"
           }
          ],
          "scattergl": [
           {
            "marker": {
             "colorbar": {
              "outlinewidth": 0,
              "ticks": ""
             }
            },
            "type": "scattergl"
           }
          ],
          "scattermapbox": [
           {
            "marker": {
             "colorbar": {
              "outlinewidth": 0,
              "ticks": ""
             }
            },
            "type": "scattermapbox"
           }
          ],
          "scatterpolar": [
           {
            "marker": {
             "colorbar": {
              "outlinewidth": 0,
              "ticks": ""
             }
            },
            "type": "scatterpolar"
           }
          ],
          "scatterpolargl": [
           {
            "marker": {
             "colorbar": {
              "outlinewidth": 0,
              "ticks": ""
             }
            },
            "type": "scatterpolargl"
           }
          ],
          "scatterternary": [
           {
            "marker": {
             "colorbar": {
              "outlinewidth": 0,
              "ticks": ""
             }
            },
            "type": "scatterternary"
           }
          ],
          "surface": [
           {
            "colorbar": {
             "outlinewidth": 0,
             "ticks": ""
            },
            "colorscale": [
             [
              0,
              "#0d0887"
             ],
             [
              0.1111111111111111,
              "#46039f"
             ],
             [
              0.2222222222222222,
              "#7201a8"
             ],
             [
              0.3333333333333333,
              "#9c179e"
             ],
             [
              0.4444444444444444,
              "#bd3786"
             ],
             [
              0.5555555555555556,
              "#d8576b"
             ],
             [
              0.6666666666666666,
              "#ed7953"
             ],
             [
              0.7777777777777778,
              "#fb9f3a"
             ],
             [
              0.8888888888888888,
              "#fdca26"
             ],
             [
              1,
              "#f0f921"
             ]
            ],
            "type": "surface"
           }
          ],
          "table": [
           {
            "cells": {
             "fill": {
              "color": "#EBF0F8"
             },
             "line": {
              "color": "white"
             }
            },
            "header": {
             "fill": {
              "color": "#C8D4E3"
             },
             "line": {
              "color": "white"
             }
            },
            "type": "table"
           }
          ]
         },
         "layout": {
          "annotationdefaults": {
           "arrowcolor": "#2a3f5f",
           "arrowhead": 0,
           "arrowwidth": 1
          },
          "coloraxis": {
           "colorbar": {
            "outlinewidth": 0,
            "ticks": ""
           }
          },
          "colorscale": {
           "diverging": [
            [
             0,
             "#8e0152"
            ],
            [
             0.1,
             "#c51b7d"
            ],
            [
             0.2,
             "#de77ae"
            ],
            [
             0.3,
             "#f1b6da"
            ],
            [
             0.4,
             "#fde0ef"
            ],
            [
             0.5,
             "#f7f7f7"
            ],
            [
             0.6,
             "#e6f5d0"
            ],
            [
             0.7,
             "#b8e186"
            ],
            [
             0.8,
             "#7fbc41"
            ],
            [
             0.9,
             "#4d9221"
            ],
            [
             1,
             "#276419"
            ]
           ],
           "sequential": [
            [
             0,
             "#0d0887"
            ],
            [
             0.1111111111111111,
             "#46039f"
            ],
            [
             0.2222222222222222,
             "#7201a8"
            ],
            [
             0.3333333333333333,
             "#9c179e"
            ],
            [
             0.4444444444444444,
             "#bd3786"
            ],
            [
             0.5555555555555556,
             "#d8576b"
            ],
            [
             0.6666666666666666,
             "#ed7953"
            ],
            [
             0.7777777777777778,
             "#fb9f3a"
            ],
            [
             0.8888888888888888,
             "#fdca26"
            ],
            [
             1,
             "#f0f921"
            ]
           ],
           "sequentialminus": [
            [
             0,
             "#0d0887"
            ],
            [
             0.1111111111111111,
             "#46039f"
            ],
            [
             0.2222222222222222,
             "#7201a8"
            ],
            [
             0.3333333333333333,
             "#9c179e"
            ],
            [
             0.4444444444444444,
             "#bd3786"
            ],
            [
             0.5555555555555556,
             "#d8576b"
            ],
            [
             0.6666666666666666,
             "#ed7953"
            ],
            [
             0.7777777777777778,
             "#fb9f3a"
            ],
            [
             0.8888888888888888,
             "#fdca26"
            ],
            [
             1,
             "#f0f921"
            ]
           ]
          },
          "colorway": [
           "#636efa",
           "#EF553B",
           "#00cc96",
           "#ab63fa",
           "#FFA15A",
           "#19d3f3",
           "#FF6692",
           "#B6E880",
           "#FF97FF",
           "#FECB52"
          ],
          "font": {
           "color": "#2a3f5f"
          },
          "geo": {
           "bgcolor": "white",
           "lakecolor": "white",
           "landcolor": "#E5ECF6",
           "showlakes": true,
           "showland": true,
           "subunitcolor": "white"
          },
          "hoverlabel": {
           "align": "left"
          },
          "hovermode": "closest",
          "mapbox": {
           "style": "light"
          },
          "paper_bgcolor": "white",
          "plot_bgcolor": "#E5ECF6",
          "polar": {
           "angularaxis": {
            "gridcolor": "white",
            "linecolor": "white",
            "ticks": ""
           },
           "bgcolor": "#E5ECF6",
           "radialaxis": {
            "gridcolor": "white",
            "linecolor": "white",
            "ticks": ""
           }
          },
          "scene": {
           "xaxis": {
            "backgroundcolor": "#E5ECF6",
            "gridcolor": "white",
            "gridwidth": 2,
            "linecolor": "white",
            "showbackground": true,
            "ticks": "",
            "zerolinecolor": "white"
           },
           "yaxis": {
            "backgroundcolor": "#E5ECF6",
            "gridcolor": "white",
            "gridwidth": 2,
            "linecolor": "white",
            "showbackground": true,
            "ticks": "",
            "zerolinecolor": "white"
           },
           "zaxis": {
            "backgroundcolor": "#E5ECF6",
            "gridcolor": "white",
            "gridwidth": 2,
            "linecolor": "white",
            "showbackground": true,
            "ticks": "",
            "zerolinecolor": "white"
           }
          },
          "shapedefaults": {
           "line": {
            "color": "#2a3f5f"
           }
          },
          "ternary": {
           "aaxis": {
            "gridcolor": "white",
            "linecolor": "white",
            "ticks": ""
           },
           "baxis": {
            "gridcolor": "white",
            "linecolor": "white",
            "ticks": ""
           },
           "bgcolor": "#E5ECF6",
           "caxis": {
            "gridcolor": "white",
            "linecolor": "white",
            "ticks": ""
           }
          },
          "title": {
           "x": 0.05
          },
          "xaxis": {
           "automargin": true,
           "gridcolor": "white",
           "linecolor": "white",
           "ticks": "",
           "title": {
            "standoff": 15
           },
           "zerolinecolor": "white",
           "zerolinewidth": 2
          },
          "yaxis": {
           "automargin": true,
           "gridcolor": "white",
           "linecolor": "white",
           "ticks": "",
           "title": {
            "standoff": 15
           },
           "zerolinecolor": "white",
           "zerolinewidth": 2
          }
         }
        }
       }
      },
      "text/html": [
       "<div>                            <div id=\"7ee5e63d-5129-4eb7-a1b6-99013e02e26e\" class=\"plotly-graph-div\" style=\"height:525px; width:100%;\"></div>            <script type=\"text/javascript\">                require([\"plotly\"], function(Plotly) {                    window.PLOTLYENV=window.PLOTLYENV || {};                                    if (document.getElementById(\"7ee5e63d-5129-4eb7-a1b6-99013e02e26e\")) {                    Plotly.newPlot(                        \"7ee5e63d-5129-4eb7-a1b6-99013e02e26e\",                        [{\"type\": \"scatter\", \"x\": [\"2019-09-17 00:00:00\", \"2019-09-18 00:00:00\", \"2019-09-19 00:00:00\", \"2019-09-20 00:00:00\", \"2019-09-21 00:00:00\", \"2019-09-22 00:00:00\", \"2019-09-23 00:00:00\", \"2019-09-24 00:00:00\", \"2019-09-25 00:00:00\", \"2019-09-26 00:00:00\", \"2019-09-27 00:00:00\", \"2019-09-28 00:00:00\", \"2019-09-29 00:00:00\", \"2019-09-30 00:00:00\", \"2019-10-01 00:00:00\", \"2019-10-02 00:00:00\", \"2019-10-03 00:00:00\", \"2019-10-04 00:00:00\", \"2019-10-05 00:00:00\", \"2019-10-06 00:00:00\", \"2019-10-07 00:00:00\", \"2019-10-08 00:00:00\", \"2019-10-09 00:00:00\", \"2019-10-10 00:00:00\", \"2019-10-11 00:00:00\", \"2019-10-12 00:00:00\", \"2019-10-13 00:00:00\", \"2019-10-14 00:00:00\", \"2019-10-15 00:00:00\", \"2019-10-16 00:00:00\", \"2019-10-17 00:00:00\", \"2019-10-18 00:00:00\", \"2019-10-19 00:00:00\", \"2019-10-20 00:00:00\", \"2019-10-21 00:00:00\", \"2019-10-22 00:00:00\", \"2019-10-23 00:00:00\", \"2019-10-24 00:00:00\", \"2019-10-25 00:00:00\", \"2019-10-26 00:00:00\", \"2019-10-27 00:00:00\", \"2019-10-28 00:00:00\", \"2019-10-29 00:00:00\", \"2019-10-30 00:00:00\", \"2019-10-31 00:00:00\", \"2019-11-01 00:00:00\", \"2019-11-02 00:00:00\", \"2019-11-03 00:00:00\", \"2019-11-04 00:00:00\", \"2019-11-05 00:00:00\", \"2019-11-06 00:00:00\", \"2019-11-07 00:00:00\", \"2019-11-08 00:00:00\", \"2019-11-09 00:00:00\", \"2019-11-10 00:00:00\", \"2019-11-11 00:00:00\", \"2019-11-12 00:00:00\", \"2019-11-13 00:00:00\", \"2019-11-14 00:00:00\", \"2019-11-15 00:00:00\", \"2019-11-16 00:00:00\", \"2019-11-17 00:00:00\", \"2019-11-18 00:00:00\", \"2019-11-19 00:00:00\", \"2019-11-20 00:00:00\", \"2019-11-21 00:00:00\", \"2019-11-22 00:00:00\", \"2019-11-23 00:00:00\", \"2019-11-24 00:00:00\", \"2019-11-25 00:00:00\", \"2019-11-26 00:00:00\", \"2019-11-27 00:00:00\", \"2019-11-28 00:00:00\", \"2019-11-29 00:00:00\", \"2019-11-30 00:00:00\", \"2019-12-01 00:00:00\", \"2019-12-02 00:00:00\", \"2019-12-03 00:00:00\", \"2019-12-04 00:00:00\", \"2019-12-05 00:00:00\", \"2019-12-06 00:00:00\", \"2019-12-07 00:00:00\", \"2019-12-08 00:00:00\", \"2019-12-09 00:00:00\", \"2019-12-10 00:00:00\", \"2019-12-11 00:00:00\", \"2019-12-12 00:00:00\", \"2019-12-13 00:00:00\", \"2019-12-14 00:00:00\", \"2019-12-15 00:00:00\", \"2019-12-16 00:00:00\", \"2019-12-17 00:00:00\", \"2019-12-18 00:00:00\"], \"y\": [4840.785714285715, 2323.556338797813, 2213.257767094016, 2408.271984805313, 2535.995224445642, 2559.1796329787194, 2116.3038414006164, 2244.648363201908, 2186.934010869563, 2101.4605792349716, 2098.999504405284, 2269.65650920245, 2321.5723624161014, 2261.172759643917, 2169.882925457103, 2101.769479843952, 2185.7400404312657, 2036.6251388888854, 2473.6920224019864, 2408.063942745604, 2254.2473423980196, 2272.2396653796636, 2027.009744572157, 2201.581758118698, 2104.607653688523, 2202.791537958112, 2227.4824915824856, 2041.0464928909967, 2073.53788595271, 2084.2066032608695, 2112.5345571428566, 2152.0223878787865, 2296.654455994452, 2306.812383292379, 2037.0350170648474, 2031.6600000000014, 2086.493053311795, 2029.8298000000002, 2141.616191037735, 2105.1551262798616, 2185.069437060199, 2057.2868435754162, 2074.2405931034464, 2044.0116172839487, 2033.120888625591, 1964.019053905387, 2150.7125606276704, 2177.2470481927667, 2204.8737734311267, 2012.4075396825403, 2078.8557520661157, 2930.6224398073828, 2059.8622599531614, 2227.888588154265, 2167.6237819548815, 2077.4379474548437, 2174.990750000001, 2158.8871813285464, 2125.5029949238597, 2129.576348167539, 2262.4084564254013, 2041.7127466456166, 1937.2083669354847, 2084.3410356536483, 2017.1132288401243, 1955.6299999999999, 2064.4113469387753, 2157.810562218885, 2229.6958692052945, 1920.1867419354828, 1962.4346127366614, 1962.8852050473154, 1988.557602627258, 1923.2369259724073, 1928.304271002726, 2198.872062745092, 1823.8521113243762, 2246.117069306931, 1850.4829545454554, 2006.9508468468475, 2049.3616923076925, 2241.8104487658907, 2064.776560457512, 2081.5609022556396, 1970.389171511627, 2018.709063829787, 2022.6688959390856, 1878.0827272727263, 2038.285543547357, 2124.363251612898, 2024.5753157121867, 1930.8540768277533, 2118.844658682633]}],                        {\"template\": {\"data\": {\"bar\": [{\"error_x\": {\"color\": \"#2a3f5f\"}, \"error_y\": {\"color\": \"#2a3f5f\"}, \"marker\": {\"line\": {\"color\": \"#E5ECF6\", \"width\": 0.5}}, \"type\": \"bar\"}], \"barpolar\": [{\"marker\": {\"line\": {\"color\": \"#E5ECF6\", \"width\": 0.5}}, \"type\": \"barpolar\"}], \"carpet\": [{\"aaxis\": {\"endlinecolor\": \"#2a3f5f\", \"gridcolor\": \"white\", \"linecolor\": \"white\", \"minorgridcolor\": \"white\", \"startlinecolor\": \"#2a3f5f\"}, \"baxis\": {\"endlinecolor\": \"#2a3f5f\", \"gridcolor\": \"white\", \"linecolor\": \"white\", \"minorgridcolor\": \"white\", \"startlinecolor\": \"#2a3f5f\"}, \"type\": \"carpet\"}], \"choropleth\": [{\"colorbar\": {\"outlinewidth\": 0, \"ticks\": \"\"}, \"type\": \"choropleth\"}], \"contour\": [{\"colorbar\": {\"outlinewidth\": 0, \"ticks\": \"\"}, \"colorscale\": [[0.0, \"#0d0887\"], [0.1111111111111111, \"#46039f\"], [0.2222222222222222, \"#7201a8\"], [0.3333333333333333, \"#9c179e\"], [0.4444444444444444, \"#bd3786\"], [0.5555555555555556, \"#d8576b\"], [0.6666666666666666, \"#ed7953\"], [0.7777777777777778, \"#fb9f3a\"], [0.8888888888888888, \"#fdca26\"], [1.0, \"#f0f921\"]], \"type\": \"contour\"}], \"contourcarpet\": [{\"colorbar\": {\"outlinewidth\": 0, \"ticks\": \"\"}, \"type\": \"contourcarpet\"}], \"heatmap\": [{\"colorbar\": {\"outlinewidth\": 0, \"ticks\": \"\"}, \"colorscale\": [[0.0, \"#0d0887\"], [0.1111111111111111, \"#46039f\"], [0.2222222222222222, \"#7201a8\"], [0.3333333333333333, \"#9c179e\"], [0.4444444444444444, \"#bd3786\"], [0.5555555555555556, \"#d8576b\"], [0.6666666666666666, \"#ed7953\"], [0.7777777777777778, \"#fb9f3a\"], [0.8888888888888888, \"#fdca26\"], [1.0, \"#f0f921\"]], \"type\": \"heatmap\"}], \"heatmapgl\": [{\"colorbar\": {\"outlinewidth\": 0, \"ticks\": \"\"}, \"colorscale\": [[0.0, \"#0d0887\"], [0.1111111111111111, \"#46039f\"], [0.2222222222222222, \"#7201a8\"], [0.3333333333333333, \"#9c179e\"], [0.4444444444444444, \"#bd3786\"], [0.5555555555555556, \"#d8576b\"], [0.6666666666666666, \"#ed7953\"], [0.7777777777777778, \"#fb9f3a\"], [0.8888888888888888, \"#fdca26\"], [1.0, \"#f0f921\"]], \"type\": \"heatmapgl\"}], \"histogram\": [{\"marker\": {\"colorbar\": {\"outlinewidth\": 0, \"ticks\": \"\"}}, \"type\": \"histogram\"}], \"histogram2d\": [{\"colorbar\": {\"outlinewidth\": 0, \"ticks\": \"\"}, \"colorscale\": [[0.0, \"#0d0887\"], [0.1111111111111111, \"#46039f\"], [0.2222222222222222, \"#7201a8\"], [0.3333333333333333, \"#9c179e\"], [0.4444444444444444, \"#bd3786\"], [0.5555555555555556, \"#d8576b\"], [0.6666666666666666, \"#ed7953\"], [0.7777777777777778, \"#fb9f3a\"], [0.8888888888888888, \"#fdca26\"], [1.0, \"#f0f921\"]], \"type\": \"histogram2d\"}], \"histogram2dcontour\": [{\"colorbar\": {\"outlinewidth\": 0, \"ticks\": \"\"}, \"colorscale\": [[0.0, \"#0d0887\"], [0.1111111111111111, \"#46039f\"], [0.2222222222222222, \"#7201a8\"], [0.3333333333333333, \"#9c179e\"], [0.4444444444444444, \"#bd3786\"], [0.5555555555555556, \"#d8576b\"], [0.6666666666666666, \"#ed7953\"], [0.7777777777777778, \"#fb9f3a\"], [0.8888888888888888, \"#fdca26\"], [1.0, \"#f0f921\"]], \"type\": \"histogram2dcontour\"}], \"mesh3d\": [{\"colorbar\": {\"outlinewidth\": 0, \"ticks\": \"\"}, \"type\": \"mesh3d\"}], \"parcoords\": [{\"line\": {\"colorbar\": {\"outlinewidth\": 0, \"ticks\": \"\"}}, \"type\": \"parcoords\"}], \"pie\": [{\"automargin\": true, \"type\": \"pie\"}], \"scatter\": [{\"marker\": {\"colorbar\": {\"outlinewidth\": 0, \"ticks\": \"\"}}, \"type\": \"scatter\"}], \"scatter3d\": [{\"line\": {\"colorbar\": {\"outlinewidth\": 0, \"ticks\": \"\"}}, \"marker\": {\"colorbar\": {\"outlinewidth\": 0, \"ticks\": \"\"}}, \"type\": \"scatter3d\"}], \"scattercarpet\": [{\"marker\": {\"colorbar\": {\"outlinewidth\": 0, \"ticks\": \"\"}}, \"type\": \"scattercarpet\"}], \"scattergeo\": [{\"marker\": {\"colorbar\": {\"outlinewidth\": 0, \"ticks\": \"\"}}, \"type\": \"scattergeo\"}], \"scattergl\": [{\"marker\": {\"colorbar\": {\"outlinewidth\": 0, \"ticks\": \"\"}}, \"type\": \"scattergl\"}], \"scattermapbox\": [{\"marker\": {\"colorbar\": {\"outlinewidth\": 0, \"ticks\": \"\"}}, \"type\": \"scattermapbox\"}], \"scatterpolar\": [{\"marker\": {\"colorbar\": {\"outlinewidth\": 0, \"ticks\": \"\"}}, \"type\": \"scatterpolar\"}], \"scatterpolargl\": [{\"marker\": {\"colorbar\": {\"outlinewidth\": 0, \"ticks\": \"\"}}, \"type\": \"scatterpolargl\"}], \"scatterternary\": [{\"marker\": {\"colorbar\": {\"outlinewidth\": 0, \"ticks\": \"\"}}, \"type\": \"scatterternary\"}], \"surface\": [{\"colorbar\": {\"outlinewidth\": 0, \"ticks\": \"\"}, \"colorscale\": [[0.0, \"#0d0887\"], [0.1111111111111111, \"#46039f\"], [0.2222222222222222, \"#7201a8\"], [0.3333333333333333, \"#9c179e\"], [0.4444444444444444, \"#bd3786\"], [0.5555555555555556, \"#d8576b\"], [0.6666666666666666, \"#ed7953\"], [0.7777777777777778, \"#fb9f3a\"], [0.8888888888888888, \"#fdca26\"], [1.0, \"#f0f921\"]], \"type\": \"surface\"}], \"table\": [{\"cells\": {\"fill\": {\"color\": \"#EBF0F8\"}, \"line\": {\"color\": \"white\"}}, \"header\": {\"fill\": {\"color\": \"#C8D4E3\"}, \"line\": {\"color\": \"white\"}}, \"type\": \"table\"}]}, \"layout\": {\"annotationdefaults\": {\"arrowcolor\": \"#2a3f5f\", \"arrowhead\": 0, \"arrowwidth\": 1}, \"coloraxis\": {\"colorbar\": {\"outlinewidth\": 0, \"ticks\": \"\"}}, \"colorscale\": {\"diverging\": [[0, \"#8e0152\"], [0.1, \"#c51b7d\"], [0.2, \"#de77ae\"], [0.3, \"#f1b6da\"], [0.4, \"#fde0ef\"], [0.5, \"#f7f7f7\"], [0.6, \"#e6f5d0\"], [0.7, \"#b8e186\"], [0.8, \"#7fbc41\"], [0.9, \"#4d9221\"], [1, \"#276419\"]], \"sequential\": [[0.0, \"#0d0887\"], [0.1111111111111111, \"#46039f\"], [0.2222222222222222, \"#7201a8\"], [0.3333333333333333, \"#9c179e\"], [0.4444444444444444, \"#bd3786\"], [0.5555555555555556, \"#d8576b\"], [0.6666666666666666, \"#ed7953\"], [0.7777777777777778, \"#fb9f3a\"], [0.8888888888888888, \"#fdca26\"], [1.0, \"#f0f921\"]], \"sequentialminus\": [[0.0, \"#0d0887\"], [0.1111111111111111, \"#46039f\"], [0.2222222222222222, \"#7201a8\"], [0.3333333333333333, \"#9c179e\"], [0.4444444444444444, \"#bd3786\"], [0.5555555555555556, \"#d8576b\"], [0.6666666666666666, \"#ed7953\"], [0.7777777777777778, \"#fb9f3a\"], [0.8888888888888888, \"#fdca26\"], [1.0, \"#f0f921\"]]}, \"colorway\": [\"#636efa\", \"#EF553B\", \"#00cc96\", \"#ab63fa\", \"#FFA15A\", \"#19d3f3\", \"#FF6692\", \"#B6E880\", \"#FF97FF\", \"#FECB52\"], \"font\": {\"color\": \"#2a3f5f\"}, \"geo\": {\"bgcolor\": \"white\", \"lakecolor\": \"white\", \"landcolor\": \"#E5ECF6\", \"showlakes\": true, \"showland\": true, \"subunitcolor\": \"white\"}, \"hoverlabel\": {\"align\": \"left\"}, \"hovermode\": \"closest\", \"mapbox\": {\"style\": \"light\"}, \"paper_bgcolor\": \"white\", \"plot_bgcolor\": \"#E5ECF6\", \"polar\": {\"angularaxis\": {\"gridcolor\": \"white\", \"linecolor\": \"white\", \"ticks\": \"\"}, \"bgcolor\": \"#E5ECF6\", \"radialaxis\": {\"gridcolor\": \"white\", \"linecolor\": \"white\", \"ticks\": \"\"}}, \"scene\": {\"xaxis\": {\"backgroundcolor\": \"#E5ECF6\", \"gridcolor\": \"white\", \"gridwidth\": 2, \"linecolor\": \"white\", \"showbackground\": true, \"ticks\": \"\", \"zerolinecolor\": \"white\"}, \"yaxis\": {\"backgroundcolor\": \"#E5ECF6\", \"gridcolor\": \"white\", \"gridwidth\": 2, \"linecolor\": \"white\", \"showbackground\": true, \"ticks\": \"\", \"zerolinecolor\": \"white\"}, \"zaxis\": {\"backgroundcolor\": \"#E5ECF6\", \"gridcolor\": \"white\", \"gridwidth\": 2, \"linecolor\": \"white\", \"showbackground\": true, \"ticks\": \"\", \"zerolinecolor\": \"white\"}}, \"shapedefaults\": {\"line\": {\"color\": \"#2a3f5f\"}}, \"ternary\": {\"aaxis\": {\"gridcolor\": \"white\", \"linecolor\": \"white\", \"ticks\": \"\"}, \"baxis\": {\"gridcolor\": \"white\", \"linecolor\": \"white\", \"ticks\": \"\"}, \"bgcolor\": \"#E5ECF6\", \"caxis\": {\"gridcolor\": \"white\", \"linecolor\": \"white\", \"ticks\": \"\"}}, \"title\": {\"x\": 0.05}, \"xaxis\": {\"automargin\": true, \"gridcolor\": \"white\", \"linecolor\": \"white\", \"ticks\": \"\", \"title\": {\"standoff\": 15}, \"zerolinecolor\": \"white\", \"zerolinewidth\": 2}, \"yaxis\": {\"automargin\": true, \"gridcolor\": \"white\", \"linecolor\": \"white\", \"ticks\": \"\", \"title\": {\"standoff\": 15}, \"zerolinecolor\": \"white\", \"zerolinewidth\": 2}}}},                        {\"responsive\": true}                    ).then(function(){\n",
       "                            \n",
       "var gd = document.getElementById('7ee5e63d-5129-4eb7-a1b6-99013e02e26e');\n",
       "var x = new MutationObserver(function (mutations, observer) {{\n",
       "        var display = window.getComputedStyle(gd).display;\n",
       "        if (!display || display === 'none') {{\n",
       "            console.log([gd, 'removed!']);\n",
       "            Plotly.purge(gd);\n",
       "            observer.disconnect();\n",
       "        }}\n",
       "}});\n",
       "\n",
       "// Listen for the removal of the full notebook cells\n",
       "var notebookContainer = gd.closest('#notebook-container');\n",
       "if (notebookContainer) {{\n",
       "    x.observe(notebookContainer, {childList: true});\n",
       "}}\n",
       "\n",
       "// Listen for the clearing of the current output cell\n",
       "var outputEl = gd.closest('.output');\n",
       "if (outputEl) {{\n",
       "    x.observe(outputEl, {childList: true});\n",
       "}}\n",
       "\n",
       "                        })                };                });            </script>        </div>"
      ]
     },
     "metadata": {},
     "output_type": "display_data"
    }
   ],
   "source": [
    "#H_M\n",
    "fig = go.Figure([go.Scatter(x=H_M['purchdate'], y=H_M['amount'])])\n",
    "fig.show()"
   ]
  },
  {
   "cell_type": "code",
   "execution_count": 197,
   "metadata": {},
   "outputs": [
    {
     "data": {
      "text/html": [
       "<div>\n",
       "<style scoped>\n",
       "    .dataframe tbody tr th:only-of-type {\n",
       "        vertical-align: middle;\n",
       "    }\n",
       "\n",
       "    .dataframe tbody tr th {\n",
       "        vertical-align: top;\n",
       "    }\n",
       "\n",
       "    .dataframe thead th {\n",
       "        text-align: right;\n",
       "    }\n",
       "</style>\n",
       "<table border=\"1\" class=\"dataframe\">\n",
       "  <thead>\n",
       "    <tr style=\"text-align: right;\">\n",
       "      <th></th>\n",
       "      <th>Unnamed: 0</th>\n",
       "      <th>purchdate</th>\n",
       "      <th>amount</th>\n",
       "      <th>mcc</th>\n",
       "      <th>mrchcity</th>\n",
       "      <th>mrchname</th>\n",
       "      <th>cnum</th>\n",
       "      <th>category</th>\n",
       "      <th>store_name</th>\n",
       "      <th>merchant_name</th>\n",
       "      <th>created_at</th>\n",
       "      <th>cnum_</th>\n",
       "      <th>categorycode</th>\n",
       "      <th>gender</th>\n",
       "      <th>age</th>\n",
       "      <th>married_</th>\n",
       "      <th>residenttype</th>\n",
       "    </tr>\n",
       "  </thead>\n",
       "  <tbody>\n",
       "    <tr>\n",
       "      <th>16110</th>\n",
       "      <td>648613</td>\n",
       "      <td>2019-10-25 00:00:00</td>\n",
       "      <td>120000.00</td>\n",
       "      <td>5661</td>\n",
       "      <td>NOVOSIBIRSK</td>\n",
       "      <td>04HH4XD7J1</td>\n",
       "      <td>E4GHYY</td>\n",
       "      <td>Clothes</td>\n",
       "      <td>Billionaire</td>\n",
       "      <td>04HH4XD7J1</td>\n",
       "      <td>2019-10-25</td>\n",
       "      <td>E4GHYY</td>\n",
       "      <td>80</td>\n",
       "      <td>M</td>\n",
       "      <td>35</td>\n",
       "      <td>married</td>\n",
       "      <td>R</td>\n",
       "    </tr>\n",
       "    <tr>\n",
       "      <th>20844</th>\n",
       "      <td>782705</td>\n",
       "      <td>2019-10-25 00:00:00</td>\n",
       "      <td>7716900.00</td>\n",
       "      <td>5691</td>\n",
       "      <td>MOSCOW</td>\n",
       "      <td>HXL4K TL4EEXD</td>\n",
       "      <td>ELETCO</td>\n",
       "      <td>Clothes</td>\n",
       "      <td>Louis Vuitton</td>\n",
       "      <td>HXL4K TL4EEXD</td>\n",
       "      <td>2019-10-25</td>\n",
       "      <td>ELETCO</td>\n",
       "      <td>80</td>\n",
       "      <td>F</td>\n",
       "      <td>51</td>\n",
       "      <td>married</td>\n",
       "      <td>R</td>\n",
       "    </tr>\n",
       "    <tr>\n",
       "      <th>26641</th>\n",
       "      <td>906796</td>\n",
       "      <td>2019-10-25 00:00:00</td>\n",
       "      <td>136000.00</td>\n",
       "      <td>5691</td>\n",
       "      <td>MOSCOW</td>\n",
       "      <td>HXL4K TL4EEXD</td>\n",
       "      <td>MMKMLR</td>\n",
       "      <td>Clothes</td>\n",
       "      <td>Louis Vuitton</td>\n",
       "      <td>HXL4K TL4EEXD</td>\n",
       "      <td>2019-10-25</td>\n",
       "      <td>MMKMLR</td>\n",
       "      <td>18</td>\n",
       "      <td>M</td>\n",
       "      <td>38</td>\n",
       "      <td>married</td>\n",
       "      <td>R</td>\n",
       "    </tr>\n",
       "    <tr>\n",
       "      <th>61818</th>\n",
       "      <td>2461589</td>\n",
       "      <td>2019-10-25 00:00:00</td>\n",
       "      <td>111030.00</td>\n",
       "      <td>5691</td>\n",
       "      <td>SANKT-PETERBU</td>\n",
       "      <td>C7J3 31YD</td>\n",
       "      <td>QDYSFX</td>\n",
       "      <td>Clothes</td>\n",
       "      <td>Marccain</td>\n",
       "      <td>C7J3 31YD</td>\n",
       "      <td>2019-10-25</td>\n",
       "      <td>QDYSFX</td>\n",
       "      <td>84</td>\n",
       "      <td>F</td>\n",
       "      <td>39</td>\n",
       "      <td>not_married</td>\n",
       "      <td>R</td>\n",
       "    </tr>\n",
       "    <tr>\n",
       "      <th>66144</th>\n",
       "      <td>2638066</td>\n",
       "      <td>2019-10-25 00:00:00</td>\n",
       "      <td>106246.00</td>\n",
       "      <td>5691</td>\n",
       "      <td>MOSCOW</td>\n",
       "      <td>U4H801JJ41K</td>\n",
       "      <td>0GCCNS</td>\n",
       "      <td>Clothes</td>\n",
       "      <td>Wildberries</td>\n",
       "      <td>U4H801JJ41K</td>\n",
       "      <td>2019-10-25</td>\n",
       "      <td>0GCCNS</td>\n",
       "      <td>50</td>\n",
       "      <td>M</td>\n",
       "      <td>37</td>\n",
       "      <td>married</td>\n",
       "      <td>R</td>\n",
       "    </tr>\n",
       "    <tr>\n",
       "      <th>98016</th>\n",
       "      <td>4036929</td>\n",
       "      <td>2019-10-25 00:00:00</td>\n",
       "      <td>125987.40</td>\n",
       "      <td>5611</td>\n",
       "      <td>MOSCOW</td>\n",
       "      <td>C7Z724DO 0XKIX.</td>\n",
       "      <td>KRQILI</td>\n",
       "      <td>Clothes</td>\n",
       "      <td>Bosco</td>\n",
       "      <td>C7Z724DO 0XKIX.</td>\n",
       "      <td>2019-10-25</td>\n",
       "      <td>KRQILI</td>\n",
       "      <td>50</td>\n",
       "      <td>F</td>\n",
       "      <td>42</td>\n",
       "      <td>married</td>\n",
       "      <td>R</td>\n",
       "    </tr>\n",
       "    <tr>\n",
       "      <th>148614</th>\n",
       "      <td>6211180</td>\n",
       "      <td>2019-10-25 00:00:00</td>\n",
       "      <td>114608.00</td>\n",
       "      <td>5691</td>\n",
       "      <td>MOSCOW</td>\n",
       "      <td>C7N C7J7 U1131D8</td>\n",
       "      <td>EE92GR</td>\n",
       "      <td>Clothes</td>\n",
       "      <td>���� ���� ������</td>\n",
       "      <td>C7N C7J7 U1131D8</td>\n",
       "      <td>2019-10-25</td>\n",
       "      <td>EE92GR</td>\n",
       "      <td>80</td>\n",
       "      <td>M</td>\n",
       "      <td>48</td>\n",
       "      <td>married</td>\n",
       "      <td>R</td>\n",
       "    </tr>\n",
       "    <tr>\n",
       "      <th>183426</th>\n",
       "      <td>7655339</td>\n",
       "      <td>2019-10-25 00:00:00</td>\n",
       "      <td>168000.00</td>\n",
       "      <td>5691</td>\n",
       "      <td>MOSCOW</td>\n",
       "      <td>HXL4K TL4EEXD</td>\n",
       "      <td>MPRPTK</td>\n",
       "      <td>Clothes</td>\n",
       "      <td>Louis Vuitton</td>\n",
       "      <td>HXL4K TL4EEXD</td>\n",
       "      <td>2019-10-25</td>\n",
       "      <td>MPRPTK</td>\n",
       "      <td>18</td>\n",
       "      <td>M</td>\n",
       "      <td>49</td>\n",
       "      <td>not_married</td>\n",
       "      <td>R</td>\n",
       "    </tr>\n",
       "    <tr>\n",
       "      <th>249381</th>\n",
       "      <td>9537380</td>\n",
       "      <td>2019-10-25 00:00:00</td>\n",
       "      <td>235026.00</td>\n",
       "      <td>5691</td>\n",
       "      <td>KRASNOGORSK</td>\n",
       "      <td>1JC7DDX KI1JT4DX</td>\n",
       "      <td>LKPTKN</td>\n",
       "      <td>Clothes</td>\n",
       "      <td>Ermanno Scervino</td>\n",
       "      <td>1JC7DDX KI1JT4DX</td>\n",
       "      <td>2019-10-25</td>\n",
       "      <td>LKPTKN</td>\n",
       "      <td>80</td>\n",
       "      <td>F</td>\n",
       "      <td>41</td>\n",
       "      <td>married</td>\n",
       "      <td>R</td>\n",
       "    </tr>\n",
       "    <tr>\n",
       "      <th>249382</th>\n",
       "      <td>9537381</td>\n",
       "      <td>2019-10-25 00:00:00</td>\n",
       "      <td>164557.80</td>\n",
       "      <td>5691</td>\n",
       "      <td>KRASNOGORSK</td>\n",
       "      <td>1EJX</td>\n",
       "      <td>LKPTKN</td>\n",
       "      <td>Clothes</td>\n",
       "      <td>Etro</td>\n",
       "      <td>1EJX</td>\n",
       "      <td>2019-10-25</td>\n",
       "      <td>LKPTKN</td>\n",
       "      <td>80</td>\n",
       "      <td>F</td>\n",
       "      <td>41</td>\n",
       "      <td>married</td>\n",
       "      <td>R</td>\n",
       "    </tr>\n",
       "    <tr>\n",
       "      <th>261133</th>\n",
       "      <td>9865383</td>\n",
       "      <td>2019-10-25 00:00:00</td>\n",
       "      <td>138000.00</td>\n",
       "      <td>5691</td>\n",
       "      <td>SANKT-PETERBU</td>\n",
       "      <td>HXL4K TL4EEXD</td>\n",
       "      <td>RNNMIK</td>\n",
       "      <td>Clothes</td>\n",
       "      <td>Louis Vuitton</td>\n",
       "      <td>HXL4K TL4EEXD</td>\n",
       "      <td>2019-10-25</td>\n",
       "      <td>RNNMIK</td>\n",
       "      <td>81</td>\n",
       "      <td>M</td>\n",
       "      <td>51</td>\n",
       "      <td>not_married</td>\n",
       "      <td>R</td>\n",
       "    </tr>\n",
       "    <tr>\n",
       "      <th>269691</th>\n",
       "      <td>10107997</td>\n",
       "      <td>2019-10-25 00:00:00</td>\n",
       "      <td>100836.90</td>\n",
       "      <td>5691</td>\n",
       "      <td>KRASNOGORSK</td>\n",
       "      <td>1EJX</td>\n",
       "      <td>MIRILQ</td>\n",
       "      <td>Clothes</td>\n",
       "      <td>Etro</td>\n",
       "      <td>1EJX</td>\n",
       "      <td>2019-10-25</td>\n",
       "      <td>MIRILQ</td>\n",
       "      <td>81</td>\n",
       "      <td>M</td>\n",
       "      <td>55</td>\n",
       "      <td>married</td>\n",
       "      <td>R</td>\n",
       "    </tr>\n",
       "    <tr>\n",
       "      <th>279685</th>\n",
       "      <td>10392372</td>\n",
       "      <td>2019-10-25 00:00:00</td>\n",
       "      <td>112500.00</td>\n",
       "      <td>5944</td>\n",
       "      <td>MOSCOW</td>\n",
       "      <td>Z7H1J1O7 C43A7OHXT</td>\n",
       "      <td>EERKDC</td>\n",
       "      <td>Clothes</td>\n",
       "      <td>������� ��������</td>\n",
       "      <td>Z7H1J1O7 C43A7OHXT</td>\n",
       "      <td>2019-10-25</td>\n",
       "      <td>EERKDC</td>\n",
       "      <td>80</td>\n",
       "      <td>M</td>\n",
       "      <td>35</td>\n",
       "      <td>not_married</td>\n",
       "      <td>R</td>\n",
       "    </tr>\n",
       "    <tr>\n",
       "      <th>302481</th>\n",
       "      <td>11262494</td>\n",
       "      <td>2019-10-25 00:00:00</td>\n",
       "      <td>139782.00</td>\n",
       "      <td>5611</td>\n",
       "      <td>KRASNOGORSK</td>\n",
       "      <td>7H04XD1</td>\n",
       "      <td>ELKFU2</td>\n",
       "      <td>Clothes</td>\n",
       "      <td>Albione</td>\n",
       "      <td>7H04XD1</td>\n",
       "      <td>2019-10-25</td>\n",
       "      <td>ELKFU2</td>\n",
       "      <td>70</td>\n",
       "      <td>M</td>\n",
       "      <td>39</td>\n",
       "      <td>not_married</td>\n",
       "      <td>R</td>\n",
       "    </tr>\n",
       "    <tr>\n",
       "      <th>432701</th>\n",
       "      <td>17360728</td>\n",
       "      <td>2019-10-25 00:00:00</td>\n",
       "      <td>134392.00</td>\n",
       "      <td>5691</td>\n",
       "      <td>SANKT-PETERBU</td>\n",
       "      <td>87O D4ZAE</td>\n",
       "      <td>MNJQQR</td>\n",
       "      <td>Clothes</td>\n",
       "      <td>Daynight</td>\n",
       "      <td>87O D4ZAE</td>\n",
       "      <td>2019-10-25</td>\n",
       "      <td>MNJQQR</td>\n",
       "      <td>81</td>\n",
       "      <td>M</td>\n",
       "      <td>69</td>\n",
       "      <td>married</td>\n",
       "      <td>R</td>\n",
       "    </tr>\n",
       "    <tr>\n",
       "      <th>456688</th>\n",
       "      <td>18504657</td>\n",
       "      <td>2019-10-25 00:00:00</td>\n",
       "      <td>118150.00</td>\n",
       "      <td>5651</td>\n",
       "      <td>KRASNOYARSK</td>\n",
       "      <td>AOZX 0XKK</td>\n",
       "      <td>ELF98A</td>\n",
       "      <td>Clothes</td>\n",
       "      <td>Hugo Boss</td>\n",
       "      <td>AOZX 0XKK</td>\n",
       "      <td>2019-10-25</td>\n",
       "      <td>ELF98A</td>\n",
       "      <td>70</td>\n",
       "      <td>M</td>\n",
       "      <td>58</td>\n",
       "      <td>married</td>\n",
       "      <td>R</td>\n",
       "    </tr>\n",
       "    <tr>\n",
       "      <th>458852</th>\n",
       "      <td>18591192</td>\n",
       "      <td>2019-10-25 00:00:00</td>\n",
       "      <td>103512.00</td>\n",
       "      <td>5611</td>\n",
       "      <td>MOSCOW</td>\n",
       "      <td>C7Z724DO 0XKIX.</td>\n",
       "      <td>EEQSZ0</td>\n",
       "      <td>Clothes</td>\n",
       "      <td>Bosco</td>\n",
       "      <td>C7Z724DO 0XKIX.</td>\n",
       "      <td>2019-10-25</td>\n",
       "      <td>EEQSZ0</td>\n",
       "      <td>81</td>\n",
       "      <td>F</td>\n",
       "      <td>50</td>\n",
       "      <td>married</td>\n",
       "      <td>R</td>\n",
       "    </tr>\n",
       "    <tr>\n",
       "      <th>465986</th>\n",
       "      <td>18861946</td>\n",
       "      <td>2019-10-25 00:00:00</td>\n",
       "      <td>166000.00</td>\n",
       "      <td>5944</td>\n",
       "      <td>MOSKVA</td>\n",
       "      <td>I7JE41J ZLC</td>\n",
       "      <td>KGCHCO</td>\n",
       "      <td>Clothes</td>\n",
       "      <td>Cartier</td>\n",
       "      <td>I7JE41J ZLC</td>\n",
       "      <td>2019-10-25</td>\n",
       "      <td>KGCHCO</td>\n",
       "      <td>81</td>\n",
       "      <td>M</td>\n",
       "      <td>39</td>\n",
       "      <td>married</td>\n",
       "      <td>R</td>\n",
       "    </tr>\n",
       "    <tr>\n",
       "      <th>485189</th>\n",
       "      <td>19971265</td>\n",
       "      <td>2019-10-25 00:00:00</td>\n",
       "      <td>1070000.00</td>\n",
       "      <td>5944</td>\n",
       "      <td>MOSKVA</td>\n",
       "      <td>I7JE41J W1EJXT37</td>\n",
       "      <td>MIJQRN</td>\n",
       "      <td>Clothes</td>\n",
       "      <td>Cartier</td>\n",
       "      <td>I7JE41J W1EJXT37</td>\n",
       "      <td>2019-10-25</td>\n",
       "      <td>MIJQRN</td>\n",
       "      <td>80</td>\n",
       "      <td>M</td>\n",
       "      <td>50</td>\n",
       "      <td>married</td>\n",
       "      <td>R</td>\n",
       "    </tr>\n",
       "    <tr>\n",
       "      <th>486231</th>\n",
       "      <td>20018189</td>\n",
       "      <td>2019-10-25 00:00:00</td>\n",
       "      <td>228550.00</td>\n",
       "      <td>5691</td>\n",
       "      <td>MOSCOW</td>\n",
       "      <td>C4L C4L KEXH1KAD43XT</td>\n",
       "      <td>EE1BPD</td>\n",
       "      <td>Clothes</td>\n",
       "      <td>Miu Miu</td>\n",
       "      <td>C4L C4L KEXH1KAD43XT</td>\n",
       "      <td>2019-10-25</td>\n",
       "      <td>EE1BPD</td>\n",
       "      <td>85</td>\n",
       "      <td>F</td>\n",
       "      <td>35</td>\n",
       "      <td>not_married</td>\n",
       "      <td>R</td>\n",
       "    </tr>\n",
       "    <tr>\n",
       "      <th>486234</th>\n",
       "      <td>20018195</td>\n",
       "      <td>2019-10-25 00:00:00</td>\n",
       "      <td>115500.00</td>\n",
       "      <td>5699</td>\n",
       "      <td>MOSKVA</td>\n",
       "      <td>WJ787 KEXH1KAD43XT</td>\n",
       "      <td>EE1BPD</td>\n",
       "      <td>Clothes</td>\n",
       "      <td>Prada</td>\n",
       "      <td>WJ787 KEXH1KAD43XT</td>\n",
       "      <td>2019-10-25</td>\n",
       "      <td>EE1BPD</td>\n",
       "      <td>85</td>\n",
       "      <td>F</td>\n",
       "      <td>35</td>\n",
       "      <td>not_married</td>\n",
       "      <td>R</td>\n",
       "    </tr>\n",
       "    <tr>\n",
       "      <th>488313</th>\n",
       "      <td>20141543</td>\n",
       "      <td>2019-10-25 00:00:00</td>\n",
       "      <td>132982.50</td>\n",
       "      <td>5691</td>\n",
       "      <td>ROSTOV-NA-DON</td>\n",
       "      <td>KXAX</td>\n",
       "      <td>ELOVAZ</td>\n",
       "      <td>Clothes</td>\n",
       "      <td>Soho Bar</td>\n",
       "      <td>KXAX</td>\n",
       "      <td>2019-10-25</td>\n",
       "      <td>ELOVAZ</td>\n",
       "      <td>80</td>\n",
       "      <td>M</td>\n",
       "      <td>53</td>\n",
       "      <td>married</td>\n",
       "      <td>R</td>\n",
       "    </tr>\n",
       "    <tr>\n",
       "      <th>499835</th>\n",
       "      <td>20808352</td>\n",
       "      <td>2019-10-25 00:00:00</td>\n",
       "      <td>134613.90</td>\n",
       "      <td>5651</td>\n",
       "      <td>MILANO</td>\n",
       "      <td>IAJ4KE47D 84XJ 4E7H47</td>\n",
       "      <td>ELH52L</td>\n",
       "      <td>Clothes</td>\n",
       "      <td>Dior</td>\n",
       "      <td>IAJ4KE47D 84XJ 4E7H47</td>\n",
       "      <td>2019-10-25</td>\n",
       "      <td>ELH52L</td>\n",
       "      <td>81</td>\n",
       "      <td>F</td>\n",
       "      <td>48</td>\n",
       "      <td>not_married</td>\n",
       "      <td>R</td>\n",
       "    </tr>\n",
       "    <tr>\n",
       "      <th>501069</th>\n",
       "      <td>20868580</td>\n",
       "      <td>2019-10-25 00:00:00</td>\n",
       "      <td>205700.00</td>\n",
       "      <td>5699</td>\n",
       "      <td>MOSCOW</td>\n",
       "      <td>EKLC-4DE1JD1E C7Z724D</td>\n",
       "      <td>PHODHO</td>\n",
       "      <td>Clothes</td>\n",
       "      <td>���</td>\n",
       "      <td>EKLC-4DE1JD1E C7Z724D</td>\n",
       "      <td>2019-10-25</td>\n",
       "      <td>PHODHO</td>\n",
       "      <td>80</td>\n",
       "      <td>F</td>\n",
       "      <td>38</td>\n",
       "      <td>married</td>\n",
       "      <td>R</td>\n",
       "    </tr>\n",
       "    <tr>\n",
       "      <th>517076</th>\n",
       "      <td>21700807</td>\n",
       "      <td>2019-10-25 00:00:00</td>\n",
       "      <td>400000.00</td>\n",
       "      <td>5691</td>\n",
       "      <td>MOSCOW</td>\n",
       "      <td>C4L C4L KEXH1KAD43XT</td>\n",
       "      <td>EE1BIH</td>\n",
       "      <td>Clothes</td>\n",
       "      <td>Miu Miu</td>\n",
       "      <td>C4L C4L KEXH1KAD43XT</td>\n",
       "      <td>2019-10-25</td>\n",
       "      <td>EE1BIH</td>\n",
       "      <td>85</td>\n",
       "      <td>F</td>\n",
       "      <td>40</td>\n",
       "      <td>married</td>\n",
       "      <td>R</td>\n",
       "    </tr>\n",
       "    <tr>\n",
       "      <th>517573</th>\n",
       "      <td>21727225</td>\n",
       "      <td>2019-10-25 00:00:00</td>\n",
       "      <td>117550.00</td>\n",
       "      <td>5661</td>\n",
       "      <td>SANKT-PETERBU</td>\n",
       "      <td>07H84D4D4</td>\n",
       "      <td>EE9IV1</td>\n",
       "      <td>Clothes</td>\n",
       "      <td>Baldinini</td>\n",
       "      <td>07H84D4D4</td>\n",
       "      <td>2019-10-25</td>\n",
       "      <td>EE9IV1</td>\n",
       "      <td>81</td>\n",
       "      <td>M</td>\n",
       "      <td>54</td>\n",
       "      <td>married</td>\n",
       "      <td>R</td>\n",
       "    </tr>\n",
       "    <tr>\n",
       "      <th>587190</th>\n",
       "      <td>25173384</td>\n",
       "      <td>2019-10-25 00:00:00</td>\n",
       "      <td>338500.00</td>\n",
       "      <td>5699</td>\n",
       "      <td>SANKT-PETERBU</td>\n",
       "      <td>IAJ4KE47D 84XJ</td>\n",
       "      <td>IKIMNQ</td>\n",
       "      <td>Clothes</td>\n",
       "      <td>Dior</td>\n",
       "      <td>IAJ4KE47D 84XJ</td>\n",
       "      <td>2019-10-25</td>\n",
       "      <td>IKIMNQ</td>\n",
       "      <td>81</td>\n",
       "      <td>F</td>\n",
       "      <td>50</td>\n",
       "      <td>married</td>\n",
       "      <td>R</td>\n",
       "    </tr>\n",
       "    <tr>\n",
       "      <th>676012</th>\n",
       "      <td>28749760</td>\n",
       "      <td>2019-10-25 00:00:00</td>\n",
       "      <td>475000.00</td>\n",
       "      <td>5944</td>\n",
       "      <td>KRASNOGORSK</td>\n",
       "      <td>C1JILJO</td>\n",
       "      <td>RNRNQM</td>\n",
       "      <td>Clothes</td>\n",
       "      <td>Mercury</td>\n",
       "      <td>C1JILJO</td>\n",
       "      <td>2019-10-25</td>\n",
       "      <td>RNRNQM</td>\n",
       "      <td>81</td>\n",
       "      <td>M</td>\n",
       "      <td>40</td>\n",
       "      <td>not_married</td>\n",
       "      <td>R</td>\n",
       "    </tr>\n",
       "    <tr>\n",
       "      <th>742261</th>\n",
       "      <td>32152656</td>\n",
       "      <td>2019-10-25 00:00:00</td>\n",
       "      <td>246200.00</td>\n",
       "      <td>5944</td>\n",
       "      <td>MOSCOW</td>\n",
       "      <td>XC1Z7</td>\n",
       "      <td>ELX0DA</td>\n",
       "      <td>Clothes</td>\n",
       "      <td>Omega</td>\n",
       "      <td>XC1Z7</td>\n",
       "      <td>2019-10-25</td>\n",
       "      <td>ELX0DA</td>\n",
       "      <td>50</td>\n",
       "      <td>M</td>\n",
       "      <td>28</td>\n",
       "      <td>not_married</td>\n",
       "      <td>R</td>\n",
       "    </tr>\n",
       "    <tr>\n",
       "      <th>923111</th>\n",
       "      <td>39817683</td>\n",
       "      <td>2019-10-25 00:00:00</td>\n",
       "      <td>108500.00</td>\n",
       "      <td>5691</td>\n",
       "      <td>MOSCOW</td>\n",
       "      <td>HXL4K TL4EEXD</td>\n",
       "      <td>EL5KYY</td>\n",
       "      <td>Clothes</td>\n",
       "      <td>Louis Vuitton</td>\n",
       "      <td>HXL4K TL4EEXD</td>\n",
       "      <td>2019-10-25</td>\n",
       "      <td>EL5KYY</td>\n",
       "      <td>50</td>\n",
       "      <td>F</td>\n",
       "      <td>49</td>\n",
       "      <td>married</td>\n",
       "      <td>R</td>\n",
       "    </tr>\n",
       "    <tr>\n",
       "      <th>924635</th>\n",
       "      <td>39882825</td>\n",
       "      <td>2019-10-25 00:00:00</td>\n",
       "      <td>318350.00</td>\n",
       "      <td>5651</td>\n",
       "      <td>MOSKVA</td>\n",
       "      <td>0XEE1Z7 T1D1E7</td>\n",
       "      <td>QNRJQK</td>\n",
       "      <td>Clothes</td>\n",
       "      <td>Bottega Veneta</td>\n",
       "      <td>0XEE1Z7 T1D1E7</td>\n",
       "      <td>2019-10-25</td>\n",
       "      <td>QNRJQK</td>\n",
       "      <td>18</td>\n",
       "      <td>M</td>\n",
       "      <td>63</td>\n",
       "      <td>married</td>\n",
       "      <td>R</td>\n",
       "    </tr>\n",
       "    <tr>\n",
       "      <th>932774</th>\n",
       "      <td>40226307</td>\n",
       "      <td>2019-10-25 00:00:00</td>\n",
       "      <td>220000.00</td>\n",
       "      <td>5699</td>\n",
       "      <td>MOSKVA</td>\n",
       "      <td>IA7D1H</td>\n",
       "      <td>MRQNRI</td>\n",
       "      <td>Clothes</td>\n",
       "      <td>Chanel</td>\n",
       "      <td>IA7D1H</td>\n",
       "      <td>2019-10-25</td>\n",
       "      <td>MRQNRI</td>\n",
       "      <td>80</td>\n",
       "      <td>F</td>\n",
       "      <td>50</td>\n",
       "      <td>married</td>\n",
       "      <td>R</td>\n",
       "    </tr>\n",
       "    <tr>\n",
       "      <th>933038</th>\n",
       "      <td>40231598</td>\n",
       "      <td>2019-10-25 00:00:00</td>\n",
       "      <td>111100.95</td>\n",
       "      <td>5611</td>\n",
       "      <td>MOSCOW</td>\n",
       "      <td>C7Z724DO 0XKIX</td>\n",
       "      <td>MIQKMR</td>\n",
       "      <td>Clothes</td>\n",
       "      <td>Bosco</td>\n",
       "      <td>C7Z724DO 0XKIX</td>\n",
       "      <td>2019-10-25</td>\n",
       "      <td>MIQKMR</td>\n",
       "      <td>81</td>\n",
       "      <td>F</td>\n",
       "      <td>60</td>\n",
       "      <td>married</td>\n",
       "      <td>R</td>\n",
       "    </tr>\n",
       "    <tr>\n",
       "      <th>936156</th>\n",
       "      <td>40330659</td>\n",
       "      <td>2019-10-25 00:00:00</td>\n",
       "      <td>496800.00</td>\n",
       "      <td>5699</td>\n",
       "      <td>MOSKVA</td>\n",
       "      <td>IA7D1H</td>\n",
       "      <td>EL5JGP</td>\n",
       "      <td>Clothes</td>\n",
       "      <td>Chanel</td>\n",
       "      <td>IA7D1H</td>\n",
       "      <td>2019-10-25</td>\n",
       "      <td>EL5JGP</td>\n",
       "      <td>81</td>\n",
       "      <td>M</td>\n",
       "      <td>36</td>\n",
       "      <td>not_married</td>\n",
       "      <td>R</td>\n",
       "    </tr>\n",
       "    <tr>\n",
       "      <th>1162698</th>\n",
       "      <td>50412936</td>\n",
       "      <td>2019-10-25 00:00:00</td>\n",
       "      <td>345000.00</td>\n",
       "      <td>5699</td>\n",
       "      <td>BARVIKHA D.</td>\n",
       "      <td>97KA4XD</td>\n",
       "      <td>MINLMT</td>\n",
       "      <td>Clothes</td>\n",
       "      <td>Fashion</td>\n",
       "      <td>97KA4XD</td>\n",
       "      <td>2019-10-25</td>\n",
       "      <td>MINLMT</td>\n",
       "      <td>80</td>\n",
       "      <td>F</td>\n",
       "      <td>44</td>\n",
       "      <td>not_married</td>\n",
       "      <td>R</td>\n",
       "    </tr>\n",
       "    <tr>\n",
       "      <th>1214788</th>\n",
       "      <td>53172910</td>\n",
       "      <td>2019-10-25 00:00:00</td>\n",
       "      <td>105519.00</td>\n",
       "      <td>5691</td>\n",
       "      <td>SANKT-PETERBU</td>\n",
       "      <td>C7N C7J7 C7J4D7 J4D7H8</td>\n",
       "      <td>LTJMTI</td>\n",
       "      <td>Clothes</td>\n",
       "      <td>Max Mara</td>\n",
       "      <td>C7N C7J7 C7J4D7 J4D7H8</td>\n",
       "      <td>2019-10-25</td>\n",
       "      <td>LTJMTI</td>\n",
       "      <td>81</td>\n",
       "      <td>F</td>\n",
       "      <td>58</td>\n",
       "      <td>not_married</td>\n",
       "      <td>R</td>\n",
       "    </tr>\n",
       "  </tbody>\n",
       "</table>\n",
       "</div>"
      ],
      "text/plain": [
       "         Unnamed: 0            purchdate      amount   mcc       mrchcity  \\\n",
       "16110        648613  2019-10-25 00:00:00   120000.00  5661    NOVOSIBIRSK   \n",
       "20844        782705  2019-10-25 00:00:00  7716900.00  5691         MOSCOW   \n",
       "26641        906796  2019-10-25 00:00:00   136000.00  5691         MOSCOW   \n",
       "61818       2461589  2019-10-25 00:00:00   111030.00  5691  SANKT-PETERBU   \n",
       "66144       2638066  2019-10-25 00:00:00   106246.00  5691         MOSCOW   \n",
       "98016       4036929  2019-10-25 00:00:00   125987.40  5611         MOSCOW   \n",
       "148614      6211180  2019-10-25 00:00:00   114608.00  5691         MOSCOW   \n",
       "183426      7655339  2019-10-25 00:00:00   168000.00  5691         MOSCOW   \n",
       "249381      9537380  2019-10-25 00:00:00   235026.00  5691    KRASNOGORSK   \n",
       "249382      9537381  2019-10-25 00:00:00   164557.80  5691    KRASNOGORSK   \n",
       "261133      9865383  2019-10-25 00:00:00   138000.00  5691  SANKT-PETERBU   \n",
       "269691     10107997  2019-10-25 00:00:00   100836.90  5691    KRASNOGORSK   \n",
       "279685     10392372  2019-10-25 00:00:00   112500.00  5944         MOSCOW   \n",
       "302481     11262494  2019-10-25 00:00:00   139782.00  5611    KRASNOGORSK   \n",
       "432701     17360728  2019-10-25 00:00:00   134392.00  5691  SANKT-PETERBU   \n",
       "456688     18504657  2019-10-25 00:00:00   118150.00  5651    KRASNOYARSK   \n",
       "458852     18591192  2019-10-25 00:00:00   103512.00  5611         MOSCOW   \n",
       "465986     18861946  2019-10-25 00:00:00   166000.00  5944         MOSKVA   \n",
       "485189     19971265  2019-10-25 00:00:00  1070000.00  5944         MOSKVA   \n",
       "486231     20018189  2019-10-25 00:00:00   228550.00  5691         MOSCOW   \n",
       "486234     20018195  2019-10-25 00:00:00   115500.00  5699         MOSKVA   \n",
       "488313     20141543  2019-10-25 00:00:00   132982.50  5691  ROSTOV-NA-DON   \n",
       "499835     20808352  2019-10-25 00:00:00   134613.90  5651         MILANO   \n",
       "501069     20868580  2019-10-25 00:00:00   205700.00  5699         MOSCOW   \n",
       "517076     21700807  2019-10-25 00:00:00   400000.00  5691         MOSCOW   \n",
       "517573     21727225  2019-10-25 00:00:00   117550.00  5661  SANKT-PETERBU   \n",
       "587190     25173384  2019-10-25 00:00:00   338500.00  5699  SANKT-PETERBU   \n",
       "676012     28749760  2019-10-25 00:00:00   475000.00  5944    KRASNOGORSK   \n",
       "742261     32152656  2019-10-25 00:00:00   246200.00  5944         MOSCOW   \n",
       "923111     39817683  2019-10-25 00:00:00   108500.00  5691         MOSCOW   \n",
       "924635     39882825  2019-10-25 00:00:00   318350.00  5651         MOSKVA   \n",
       "932774     40226307  2019-10-25 00:00:00   220000.00  5699         MOSKVA   \n",
       "933038     40231598  2019-10-25 00:00:00   111100.95  5611         MOSCOW   \n",
       "936156     40330659  2019-10-25 00:00:00   496800.00  5699         MOSKVA   \n",
       "1162698    50412936  2019-10-25 00:00:00   345000.00  5699    BARVIKHA D.   \n",
       "1214788    53172910  2019-10-25 00:00:00   105519.00  5691  SANKT-PETERBU   \n",
       "\n",
       "                       mrchname    cnum category        store_name  \\\n",
       "16110                04HH4XD7J1  E4GHYY  Clothes       Billionaire   \n",
       "20844             HXL4K TL4EEXD  ELETCO  Clothes     Louis Vuitton   \n",
       "26641             HXL4K TL4EEXD  MMKMLR  Clothes     Louis Vuitton   \n",
       "61818                 C7J3 31YD  QDYSFX  Clothes          Marccain   \n",
       "66144               U4H801JJ41K  0GCCNS  Clothes       Wildberries   \n",
       "98016           C7Z724DO 0XKIX.  KRQILI  Clothes             Bosco   \n",
       "148614         C7N C7J7 U1131D8  EE92GR  Clothes  ���� ���� ������   \n",
       "183426            HXL4K TL4EEXD  MPRPTK  Clothes     Louis Vuitton   \n",
       "249381         1JC7DDX KI1JT4DX  LKPTKN  Clothes  Ermanno Scervino   \n",
       "249382                     1EJX  LKPTKN  Clothes              Etro   \n",
       "261133            HXL4K TL4EEXD  RNNMIK  Clothes     Louis Vuitton   \n",
       "269691                     1EJX  MIRILQ  Clothes              Etro   \n",
       "279685       Z7H1J1O7 C43A7OHXT  EERKDC  Clothes  ������� ��������   \n",
       "302481                  7H04XD1  ELKFU2  Clothes           Albione   \n",
       "432701                87O D4ZAE  MNJQQR  Clothes          Daynight   \n",
       "456688                AOZX 0XKK  ELF98A  Clothes         Hugo Boss   \n",
       "458852          C7Z724DO 0XKIX.  EEQSZ0  Clothes             Bosco   \n",
       "465986              I7JE41J ZLC  KGCHCO  Clothes           Cartier   \n",
       "485189         I7JE41J W1EJXT37  MIJQRN  Clothes           Cartier   \n",
       "486231     C4L C4L KEXH1KAD43XT  EE1BPD  Clothes           Miu Miu   \n",
       "486234       WJ787 KEXH1KAD43XT  EE1BPD  Clothes             Prada   \n",
       "488313                     KXAX  ELOVAZ  Clothes          Soho Bar   \n",
       "499835    IAJ4KE47D 84XJ 4E7H47  ELH52L  Clothes              Dior   \n",
       "501069    EKLC-4DE1JD1E C7Z724D  PHODHO  Clothes               ���   \n",
       "517076     C4L C4L KEXH1KAD43XT  EE1BIH  Clothes           Miu Miu   \n",
       "517573                07H84D4D4  EE9IV1  Clothes         Baldinini   \n",
       "587190           IAJ4KE47D 84XJ  IKIMNQ  Clothes              Dior   \n",
       "676012                  C1JILJO  RNRNQM  Clothes           Mercury   \n",
       "742261                    XC1Z7  ELX0DA  Clothes             Omega   \n",
       "923111            HXL4K TL4EEXD  EL5KYY  Clothes     Louis Vuitton   \n",
       "924635           0XEE1Z7 T1D1E7  QNRJQK  Clothes    Bottega Veneta   \n",
       "932774                   IA7D1H  MRQNRI  Clothes            Chanel   \n",
       "933038           C7Z724DO 0XKIX  MIQKMR  Clothes             Bosco   \n",
       "936156                   IA7D1H  EL5JGP  Clothes            Chanel   \n",
       "1162698                 97KA4XD  MINLMT  Clothes           Fashion   \n",
       "1214788  C7N C7J7 C7J4D7 J4D7H8  LTJMTI  Clothes          Max Mara   \n",
       "\n",
       "                  merchant_name  created_at   cnum_  categorycode gender  age  \\\n",
       "16110                04HH4XD7J1  2019-10-25  E4GHYY            80      M   35   \n",
       "20844             HXL4K TL4EEXD  2019-10-25  ELETCO            80      F   51   \n",
       "26641             HXL4K TL4EEXD  2019-10-25  MMKMLR            18      M   38   \n",
       "61818                 C7J3 31YD  2019-10-25  QDYSFX            84      F   39   \n",
       "66144               U4H801JJ41K  2019-10-25  0GCCNS            50      M   37   \n",
       "98016           C7Z724DO 0XKIX.  2019-10-25  KRQILI            50      F   42   \n",
       "148614         C7N C7J7 U1131D8  2019-10-25  EE92GR            80      M   48   \n",
       "183426            HXL4K TL4EEXD  2019-10-25  MPRPTK            18      M   49   \n",
       "249381         1JC7DDX KI1JT4DX  2019-10-25  LKPTKN            80      F   41   \n",
       "249382                     1EJX  2019-10-25  LKPTKN            80      F   41   \n",
       "261133            HXL4K TL4EEXD  2019-10-25  RNNMIK            81      M   51   \n",
       "269691                     1EJX  2019-10-25  MIRILQ            81      M   55   \n",
       "279685       Z7H1J1O7 C43A7OHXT  2019-10-25  EERKDC            80      M   35   \n",
       "302481                  7H04XD1  2019-10-25  ELKFU2            70      M   39   \n",
       "432701                87O D4ZAE  2019-10-25  MNJQQR            81      M   69   \n",
       "456688                AOZX 0XKK  2019-10-25  ELF98A            70      M   58   \n",
       "458852          C7Z724DO 0XKIX.  2019-10-25  EEQSZ0            81      F   50   \n",
       "465986              I7JE41J ZLC  2019-10-25  KGCHCO            81      M   39   \n",
       "485189         I7JE41J W1EJXT37  2019-10-25  MIJQRN            80      M   50   \n",
       "486231     C4L C4L KEXH1KAD43XT  2019-10-25  EE1BPD            85      F   35   \n",
       "486234       WJ787 KEXH1KAD43XT  2019-10-25  EE1BPD            85      F   35   \n",
       "488313                     KXAX  2019-10-25  ELOVAZ            80      M   53   \n",
       "499835    IAJ4KE47D 84XJ 4E7H47  2019-10-25  ELH52L            81      F   48   \n",
       "501069    EKLC-4DE1JD1E C7Z724D  2019-10-25  PHODHO            80      F   38   \n",
       "517076     C4L C4L KEXH1KAD43XT  2019-10-25  EE1BIH            85      F   40   \n",
       "517573                07H84D4D4  2019-10-25  EE9IV1            81      M   54   \n",
       "587190           IAJ4KE47D 84XJ  2019-10-25  IKIMNQ            81      F   50   \n",
       "676012                  C1JILJO  2019-10-25  RNRNQM            81      M   40   \n",
       "742261                    XC1Z7  2019-10-25  ELX0DA            50      M   28   \n",
       "923111            HXL4K TL4EEXD  2019-10-25  EL5KYY            50      F   49   \n",
       "924635           0XEE1Z7 T1D1E7  2019-10-25  QNRJQK            18      M   63   \n",
       "932774                   IA7D1H  2019-10-25  MRQNRI            80      F   50   \n",
       "933038           C7Z724DO 0XKIX  2019-10-25  MIQKMR            81      F   60   \n",
       "936156                   IA7D1H  2019-10-25  EL5JGP            81      M   36   \n",
       "1162698                 97KA4XD  2019-10-25  MINLMT            80      F   44   \n",
       "1214788  C7N C7J7 C7J4D7 J4D7H8  2019-10-25  LTJMTI            81      F   58   \n",
       "\n",
       "            married_ residenttype  \n",
       "16110        married            R  \n",
       "20844        married            R  \n",
       "26641        married            R  \n",
       "61818    not_married            R  \n",
       "66144        married            R  \n",
       "98016        married            R  \n",
       "148614       married            R  \n",
       "183426   not_married            R  \n",
       "249381       married            R  \n",
       "249382       married            R  \n",
       "261133   not_married            R  \n",
       "269691       married            R  \n",
       "279685   not_married            R  \n",
       "302481   not_married            R  \n",
       "432701       married            R  \n",
       "456688       married            R  \n",
       "458852       married            R  \n",
       "465986       married            R  \n",
       "485189       married            R  \n",
       "486231   not_married            R  \n",
       "486234   not_married            R  \n",
       "488313       married            R  \n",
       "499835   not_married            R  \n",
       "501069       married            R  \n",
       "517076       married            R  \n",
       "517573       married            R  \n",
       "587190       married            R  \n",
       "676012   not_married            R  \n",
       "742261   not_married            R  \n",
       "923111       married            R  \n",
       "924635       married            R  \n",
       "932774       married            R  \n",
       "933038       married            R  \n",
       "936156   not_married            R  \n",
       "1162698  not_married            R  \n",
       "1214788  not_married            R  "
      ]
     },
     "execution_count": 197,
     "metadata": {},
     "output_type": "execute_result"
    }
   ],
   "source": [
    "transactions_clothes[(transactions_clothes['purchdate'] == '2019-10-25 00:00:00') & (transactions_clothes['amount'] >= 100000)]"
   ]
  },
  {
   "cell_type": "code",
   "execution_count": 262,
   "metadata": {},
   "outputs": [],
   "source": [
    "#transactions_clothes\n",
    "\n",
    "def get_week(date):\n",
    "    day = date.day\n",
    "    if day < 7:\n",
    "        day = 1\n",
    "    elif day < 14:\n",
    "        day = 7\n",
    "    elif day < 21:\n",
    "        day = 14\n",
    "    else:\n",
    "        day = 21\n",
    "    return date.replace(day=day)"
   ]
  },
  {
   "cell_type": "code",
   "execution_count": 284,
   "metadata": {},
   "outputs": [
    {
     "name": "stderr",
     "output_type": "stream",
     "text": [
      "C:\\Users\\Vasya\\Anaconda3\\lib\\site-packages\\tqdm\\std.py:668: FutureWarning:\n",
      "\n",
      "The Panel class is removed from pandas. Accessing it from the top-level namespace will also be removed in the next version\n",
      "\n",
      "100%|█████████████████████████████████████████████████████████████████████| 1476470/1476470 [00:48<00:00, 30215.44it/s]\n"
     ]
    }
   ],
   "source": [
    "tqdm.pandas()\n",
    "transactions_clothes['created_at'] = transactions_clothes.purchdate.progress_apply(lambda x: dt.datetime.strptime(x, \"%Y-%m-%d %H:%M:%S\"))"
   ]
  },
  {
   "cell_type": "code",
   "execution_count": 285,
   "metadata": {},
   "outputs": [],
   "source": [
    "import datetime as dt\n",
    "from tqdm import tqdm\n",
    "transactions_clothes['week'] = transactions_clothes.created_at.apply(get_week)\n"
   ]
  },
  {
   "cell_type": "code",
   "execution_count": 286,
   "metadata": {},
   "outputs": [
    {
     "data": {
      "text/plain": [
       "0         2019-10-21\n",
       "1         2019-11-01\n",
       "2         2019-09-21\n",
       "3         2019-11-07\n",
       "4         2019-11-07\n",
       "             ...    \n",
       "1476465   2019-12-07\n",
       "1476466   2019-09-14\n",
       "1476467   2019-11-07\n",
       "1476468   2019-11-14\n",
       "1476469   2019-09-21\n",
       "Name: week, Length: 1476470, dtype: datetime64[ns]"
      ]
     },
     "execution_count": 286,
     "metadata": {},
     "output_type": "execute_result"
    }
   ],
   "source": [
    "transactions_clothes['week']"
   ]
  },
  {
   "cell_type": "markdown",
   "metadata": {},
   "source": [
    "# Финал\n"
   ]
  },
  {
   "cell_type": "code",
   "execution_count": 266,
   "metadata": {},
   "outputs": [],
   "source": [
    "display = pd.DataFrame(transactions_clothes.groupby(by='cnum').sum()['amount']).reset_index()"
   ]
  },
  {
   "cell_type": "code",
   "execution_count": 267,
   "metadata": {},
   "outputs": [
    {
     "data": {
      "text/html": [
       "<div>\n",
       "<style scoped>\n",
       "    .dataframe tbody tr th:only-of-type {\n",
       "        vertical-align: middle;\n",
       "    }\n",
       "\n",
       "    .dataframe tbody tr th {\n",
       "        vertical-align: top;\n",
       "    }\n",
       "\n",
       "    .dataframe thead th {\n",
       "        text-align: right;\n",
       "    }\n",
       "</style>\n",
       "<table border=\"1\" class=\"dataframe\">\n",
       "  <thead>\n",
       "    <tr style=\"text-align: right;\">\n",
       "      <th></th>\n",
       "      <th>Unnamed: 0</th>\n",
       "      <th>purchdate</th>\n",
       "      <th>amount_x</th>\n",
       "      <th>mcc</th>\n",
       "      <th>mrchcity</th>\n",
       "      <th>mrchname</th>\n",
       "      <th>cnum</th>\n",
       "      <th>category</th>\n",
       "      <th>store_name</th>\n",
       "      <th>merchant_name</th>\n",
       "      <th>created_at</th>\n",
       "      <th>cnum_</th>\n",
       "      <th>categorycode</th>\n",
       "      <th>gender</th>\n",
       "      <th>age</th>\n",
       "      <th>married_</th>\n",
       "      <th>residenttype</th>\n",
       "      <th>week</th>\n",
       "      <th>amount_y</th>\n",
       "      <th>Income</th>\n",
       "    </tr>\n",
       "  </thead>\n",
       "  <tbody>\n",
       "    <tr>\n",
       "      <th>0</th>\n",
       "      <td>69</td>\n",
       "      <td>2019-10-26 00:00:00</td>\n",
       "      <td>2097.0</td>\n",
       "      <td>5651</td>\n",
       "      <td>KRASNOYARSK</td>\n",
       "      <td>A&amp;C F6G</td>\n",
       "      <td>ELCMDT</td>\n",
       "      <td>Clothes</td>\n",
       "      <td>H&amp;M</td>\n",
       "      <td>A&amp;C F6G</td>\n",
       "      <td>2019-10-26</td>\n",
       "      <td>ELCMDT</td>\n",
       "      <td>81</td>\n",
       "      <td>M</td>\n",
       "      <td>50</td>\n",
       "      <td>married</td>\n",
       "      <td>R</td>\n",
       "      <td>2019-10-21</td>\n",
       "      <td>21988.0</td>\n",
       "      <td>Rich</td>\n",
       "    </tr>\n",
       "    <tr>\n",
       "      <th>1</th>\n",
       "      <td>73</td>\n",
       "      <td>2019-11-02 00:00:00</td>\n",
       "      <td>6696.0</td>\n",
       "      <td>5651</td>\n",
       "      <td>PSKOV</td>\n",
       "      <td>XKE4D K29</td>\n",
       "      <td>ELCMDT</td>\n",
       "      <td>Clothes</td>\n",
       "      <td>O`Stin</td>\n",
       "      <td>XKE4D K29</td>\n",
       "      <td>2019-11-02</td>\n",
       "      <td>ELCMDT</td>\n",
       "      <td>81</td>\n",
       "      <td>M</td>\n",
       "      <td>50</td>\n",
       "      <td>married</td>\n",
       "      <td>R</td>\n",
       "      <td>2019-11-01</td>\n",
       "      <td>21988.0</td>\n",
       "      <td>Rich</td>\n",
       "    </tr>\n",
       "    <tr>\n",
       "      <th>2</th>\n",
       "      <td>82</td>\n",
       "      <td>2019-09-26 00:00:00</td>\n",
       "      <td>1997.0</td>\n",
       "      <td>5691</td>\n",
       "      <td>KRASNOYARSK</td>\n",
       "      <td>J1K1JT18</td>\n",
       "      <td>ELCMDT</td>\n",
       "      <td>Clothes</td>\n",
       "      <td>Reserved</td>\n",
       "      <td>J1K1JT18</td>\n",
       "      <td>2019-09-26</td>\n",
       "      <td>ELCMDT</td>\n",
       "      <td>81</td>\n",
       "      <td>M</td>\n",
       "      <td>50</td>\n",
       "      <td>married</td>\n",
       "      <td>R</td>\n",
       "      <td>2019-09-21</td>\n",
       "      <td>21988.0</td>\n",
       "      <td>Rich</td>\n",
       "    </tr>\n",
       "    <tr>\n",
       "      <th>3</th>\n",
       "      <td>126</td>\n",
       "      <td>2019-11-07 00:00:00</td>\n",
       "      <td>1299.0</td>\n",
       "      <td>5691</td>\n",
       "      <td>KRASNOYARSK</td>\n",
       "      <td>C7DZX WH7D1E7</td>\n",
       "      <td>ELCMDT</td>\n",
       "      <td>Clothes</td>\n",
       "      <td>�����</td>\n",
       "      <td>C7DZX WH7D1E7</td>\n",
       "      <td>2019-11-07</td>\n",
       "      <td>ELCMDT</td>\n",
       "      <td>81</td>\n",
       "      <td>M</td>\n",
       "      <td>50</td>\n",
       "      <td>married</td>\n",
       "      <td>R</td>\n",
       "      <td>2019-11-07</td>\n",
       "      <td>21988.0</td>\n",
       "      <td>Rich</td>\n",
       "    </tr>\n",
       "    <tr>\n",
       "      <th>4</th>\n",
       "      <td>127</td>\n",
       "      <td>2019-11-09 00:00:00</td>\n",
       "      <td>2249.0</td>\n",
       "      <td>5691</td>\n",
       "      <td>KRASNOYARSK</td>\n",
       "      <td>C7DZX WH7D1E7</td>\n",
       "      <td>ELCMDT</td>\n",
       "      <td>Clothes</td>\n",
       "      <td>�����</td>\n",
       "      <td>C7DZX WH7D1E7</td>\n",
       "      <td>2019-11-09</td>\n",
       "      <td>ELCMDT</td>\n",
       "      <td>81</td>\n",
       "      <td>M</td>\n",
       "      <td>50</td>\n",
       "      <td>married</td>\n",
       "      <td>R</td>\n",
       "      <td>2019-11-07</td>\n",
       "      <td>21988.0</td>\n",
       "      <td>Rich</td>\n",
       "    </tr>\n",
       "    <tr>\n",
       "      <th>...</th>\n",
       "      <td>...</td>\n",
       "      <td>...</td>\n",
       "      <td>...</td>\n",
       "      <td>...</td>\n",
       "      <td>...</td>\n",
       "      <td>...</td>\n",
       "      <td>...</td>\n",
       "      <td>...</td>\n",
       "      <td>...</td>\n",
       "      <td>...</td>\n",
       "      <td>...</td>\n",
       "      <td>...</td>\n",
       "      <td>...</td>\n",
       "      <td>...</td>\n",
       "      <td>...</td>\n",
       "      <td>...</td>\n",
       "      <td>...</td>\n",
       "      <td>...</td>\n",
       "      <td>...</td>\n",
       "      <td>...</td>\n",
       "    </tr>\n",
       "    <tr>\n",
       "      <th>1476465</th>\n",
       "      <td>70500231</td>\n",
       "      <td>2019-12-12 00:00:00</td>\n",
       "      <td>25000.0</td>\n",
       "      <td>5948</td>\n",
       "      <td>MOSCOW</td>\n",
       "      <td>1TJXW1YK34Y</td>\n",
       "      <td>MXGFYY</td>\n",
       "      <td>Clothes</td>\n",
       "      <td>�����������</td>\n",
       "      <td>1TJXW1YK34Y</td>\n",
       "      <td>2019-12-12</td>\n",
       "      <td>MXGFYY</td>\n",
       "      <td>70</td>\n",
       "      <td>M</td>\n",
       "      <td>42</td>\n",
       "      <td>married</td>\n",
       "      <td>R</td>\n",
       "      <td>2019-12-07</td>\n",
       "      <td>25000.0</td>\n",
       "      <td>Rich</td>\n",
       "    </tr>\n",
       "    <tr>\n",
       "      <th>1476466</th>\n",
       "      <td>70507511</td>\n",
       "      <td>2019-09-20 00:00:00</td>\n",
       "      <td>1999.0</td>\n",
       "      <td>5691</td>\n",
       "      <td>MOSKVA</td>\n",
       "      <td>37H148XKIXW1</td>\n",
       "      <td>E4AVHQ</td>\n",
       "      <td>Clothes</td>\n",
       "      <td>����������� ���</td>\n",
       "      <td>37H148XKIXW1</td>\n",
       "      <td>2019-09-20</td>\n",
       "      <td>E4AVHQ</td>\n",
       "      <td>70</td>\n",
       "      <td>M</td>\n",
       "      <td>70</td>\n",
       "      <td>not_married</td>\n",
       "      <td>R</td>\n",
       "      <td>2019-09-14</td>\n",
       "      <td>1999.0</td>\n",
       "      <td>Poor</td>\n",
       "    </tr>\n",
       "    <tr>\n",
       "      <th>1476467</th>\n",
       "      <td>70510166</td>\n",
       "      <td>2019-11-11 00:00:00</td>\n",
       "      <td>22.0</td>\n",
       "      <td>5621</td>\n",
       "      <td>SANKT-PETERBU</td>\n",
       "      <td>WJX8L3EO Q</td>\n",
       "      <td>EL5SX7</td>\n",
       "      <td>Clothes</td>\n",
       "      <td>����������� �������</td>\n",
       "      <td>WJX8L3EO Q</td>\n",
       "      <td>2019-11-11</td>\n",
       "      <td>EL5SX7</td>\n",
       "      <td>50</td>\n",
       "      <td>F</td>\n",
       "      <td>47</td>\n",
       "      <td>not_married</td>\n",
       "      <td>R</td>\n",
       "      <td>2019-11-07</td>\n",
       "      <td>22.0</td>\n",
       "      <td>Poor</td>\n",
       "    </tr>\n",
       "    <tr>\n",
       "      <th>1476468</th>\n",
       "      <td>70510220</td>\n",
       "      <td>2019-11-16 00:00:00</td>\n",
       "      <td>30.0</td>\n",
       "      <td>5691</td>\n",
       "      <td>SURGUT</td>\n",
       "      <td>WJX8L3E4</td>\n",
       "      <td>8E44DO</td>\n",
       "      <td>Clothes</td>\n",
       "      <td>����������� �������</td>\n",
       "      <td>WJX8L3E4</td>\n",
       "      <td>2019-11-16</td>\n",
       "      <td>8E44DO</td>\n",
       "      <td>50</td>\n",
       "      <td>M</td>\n",
       "      <td>19</td>\n",
       "      <td>not_married</td>\n",
       "      <td>N</td>\n",
       "      <td>2019-11-14</td>\n",
       "      <td>30.0</td>\n",
       "      <td>Poor</td>\n",
       "    </tr>\n",
       "    <tr>\n",
       "      <th>1476469</th>\n",
       "      <td>70513797</td>\n",
       "      <td>2019-09-25 00:00:00</td>\n",
       "      <td>200.0</td>\n",
       "      <td>5949</td>\n",
       "      <td>SURGUT</td>\n",
       "      <td>JL3X81HD4EK7</td>\n",
       "      <td>2XSFCS</td>\n",
       "      <td>Clothes</td>\n",
       "      <td>������������ ������</td>\n",
       "      <td>JL3X81HD4EK7</td>\n",
       "      <td>2019-09-25</td>\n",
       "      <td>2XSFCS</td>\n",
       "      <td>70</td>\n",
       "      <td>F</td>\n",
       "      <td>47</td>\n",
       "      <td>not_married</td>\n",
       "      <td>R</td>\n",
       "      <td>2019-09-21</td>\n",
       "      <td>200.0</td>\n",
       "      <td>Poor</td>\n",
       "    </tr>\n",
       "  </tbody>\n",
       "</table>\n",
       "<p>1476470 rows × 20 columns</p>\n",
       "</div>"
      ],
      "text/plain": [
       "         Unnamed: 0            purchdate  amount_x   mcc       mrchcity  \\\n",
       "0                69  2019-10-26 00:00:00    2097.0  5651    KRASNOYARSK   \n",
       "1                73  2019-11-02 00:00:00    6696.0  5651          PSKOV   \n",
       "2                82  2019-09-26 00:00:00    1997.0  5691    KRASNOYARSK   \n",
       "3               126  2019-11-07 00:00:00    1299.0  5691    KRASNOYARSK   \n",
       "4               127  2019-11-09 00:00:00    2249.0  5691    KRASNOYARSK   \n",
       "...             ...                  ...       ...   ...            ...   \n",
       "1476465    70500231  2019-12-12 00:00:00   25000.0  5948         MOSCOW   \n",
       "1476466    70507511  2019-09-20 00:00:00    1999.0  5691         MOSKVA   \n",
       "1476467    70510166  2019-11-11 00:00:00      22.0  5621  SANKT-PETERBU   \n",
       "1476468    70510220  2019-11-16 00:00:00      30.0  5691         SURGUT   \n",
       "1476469    70513797  2019-09-25 00:00:00     200.0  5949         SURGUT   \n",
       "\n",
       "              mrchname    cnum category           store_name  merchant_name  \\\n",
       "0              A&C F6G  ELCMDT  Clothes                  H&M        A&C F6G   \n",
       "1            XKE4D K29  ELCMDT  Clothes               O`Stin      XKE4D K29   \n",
       "2             J1K1JT18  ELCMDT  Clothes             Reserved       J1K1JT18   \n",
       "3        C7DZX WH7D1E7  ELCMDT  Clothes                �����  C7DZX WH7D1E7   \n",
       "4        C7DZX WH7D1E7  ELCMDT  Clothes                �����  C7DZX WH7D1E7   \n",
       "...                ...     ...      ...                  ...            ...   \n",
       "1476465    1TJXW1YK34Y  MXGFYY  Clothes          �����������    1TJXW1YK34Y   \n",
       "1476466   37H148XKIXW1  E4AVHQ  Clothes      ����������� ���   37H148XKIXW1   \n",
       "1476467     WJX8L3EO Q  EL5SX7  Clothes  ����������� �������     WJX8L3EO Q   \n",
       "1476468       WJX8L3E4  8E44DO  Clothes  ����������� �������       WJX8L3E4   \n",
       "1476469   JL3X81HD4EK7  2XSFCS  Clothes  ������������ ������   JL3X81HD4EK7   \n",
       "\n",
       "        created_at   cnum_  categorycode gender  age     married_  \\\n",
       "0       2019-10-26  ELCMDT            81      M   50      married   \n",
       "1       2019-11-02  ELCMDT            81      M   50      married   \n",
       "2       2019-09-26  ELCMDT            81      M   50      married   \n",
       "3       2019-11-07  ELCMDT            81      M   50      married   \n",
       "4       2019-11-09  ELCMDT            81      M   50      married   \n",
       "...            ...     ...           ...    ...  ...          ...   \n",
       "1476465 2019-12-12  MXGFYY            70      M   42      married   \n",
       "1476466 2019-09-20  E4AVHQ            70      M   70  not_married   \n",
       "1476467 2019-11-11  EL5SX7            50      F   47  not_married   \n",
       "1476468 2019-11-16  8E44DO            50      M   19  not_married   \n",
       "1476469 2019-09-25  2XSFCS            70      F   47  not_married   \n",
       "\n",
       "        residenttype       week  amount_y Income  \n",
       "0                  R 2019-10-21   21988.0   Rich  \n",
       "1                  R 2019-11-01   21988.0   Rich  \n",
       "2                  R 2019-09-21   21988.0   Rich  \n",
       "3                  R 2019-11-07   21988.0   Rich  \n",
       "4                  R 2019-11-07   21988.0   Rich  \n",
       "...              ...        ...       ...    ...  \n",
       "1476465            R 2019-12-07   25000.0   Rich  \n",
       "1476466            R 2019-09-14    1999.0   Poor  \n",
       "1476467            R 2019-11-07      22.0   Poor  \n",
       "1476468            N 2019-11-14      30.0   Poor  \n",
       "1476469            R 2019-09-21     200.0   Poor  \n",
       "\n",
       "[1476470 rows x 20 columns]"
      ]
     },
     "execution_count": 267,
     "metadata": {},
     "output_type": "execute_result"
    }
   ],
   "source": [
    "#display['income']\n",
    "def get_income(price):\n",
    "    if price <= 3000:\n",
    "        return 'Poor'\n",
    "    elif price>3000 and price<=20000:\n",
    "        return 'Middle'\n",
    "    else:\n",
    "        return 'Rich'\n",
    "    \n",
    "#get_income(1200)\n",
    "\n",
    "display['Income'] = display.amount.apply(get_income)\n",
    "display['Income'].value_counts()\n",
    "\n",
    "transactions_clothes=transactions_clothes.merge(display, left_on='cnum', right_on='cnum')\n",
    "transactions_clothes"
   ]
  },
  {
   "cell_type": "code",
   "execution_count": 274,
   "metadata": {},
   "outputs": [],
   "source": [
    "Clothers = pd.DataFrame(transactions_clothes[transactions_clothes['Income']=='Rich'].groupby(by='week').mean()['amount_x']).reset_index()"
   ]
  },
  {
   "cell_type": "code",
   "execution_count": 275,
   "metadata": {},
   "outputs": [
    {
     "data": {
      "text/html": [
       "<div>\n",
       "<style scoped>\n",
       "    .dataframe tbody tr th:only-of-type {\n",
       "        vertical-align: middle;\n",
       "    }\n",
       "\n",
       "    .dataframe tbody tr th {\n",
       "        vertical-align: top;\n",
       "    }\n",
       "\n",
       "    .dataframe thead th {\n",
       "        text-align: right;\n",
       "    }\n",
       "</style>\n",
       "<table border=\"1\" class=\"dataframe\">\n",
       "  <thead>\n",
       "    <tr style=\"text-align: right;\">\n",
       "      <th></th>\n",
       "      <th>week</th>\n",
       "      <th>amount_x</th>\n",
       "    </tr>\n",
       "  </thead>\n",
       "  <tbody>\n",
       "    <tr>\n",
       "      <th>0</th>\n",
       "      <td>2019-09-07</td>\n",
       "      <td>8833.203333</td>\n",
       "    </tr>\n",
       "    <tr>\n",
       "      <th>1</th>\n",
       "      <td>2019-09-14</td>\n",
       "      <td>7139.950363</td>\n",
       "    </tr>\n",
       "    <tr>\n",
       "      <th>2</th>\n",
       "      <td>2019-09-21</td>\n",
       "      <td>7530.603446</td>\n",
       "    </tr>\n",
       "    <tr>\n",
       "      <th>3</th>\n",
       "      <td>2019-10-01</td>\n",
       "      <td>7362.792047</td>\n",
       "    </tr>\n",
       "    <tr>\n",
       "      <th>4</th>\n",
       "      <td>2019-10-07</td>\n",
       "      <td>7415.982105</td>\n",
       "    </tr>\n",
       "    <tr>\n",
       "      <th>5</th>\n",
       "      <td>2019-10-14</td>\n",
       "      <td>7222.736217</td>\n",
       "    </tr>\n",
       "    <tr>\n",
       "      <th>6</th>\n",
       "      <td>2019-10-21</td>\n",
       "      <td>7173.408365</td>\n",
       "    </tr>\n",
       "    <tr>\n",
       "      <th>7</th>\n",
       "      <td>2019-11-01</td>\n",
       "      <td>8287.202005</td>\n",
       "    </tr>\n",
       "    <tr>\n",
       "      <th>8</th>\n",
       "      <td>2019-11-07</td>\n",
       "      <td>7048.662339</td>\n",
       "    </tr>\n",
       "    <tr>\n",
       "      <th>9</th>\n",
       "      <td>2019-11-14</td>\n",
       "      <td>7270.531805</td>\n",
       "    </tr>\n",
       "    <tr>\n",
       "      <th>10</th>\n",
       "      <td>2019-11-21</td>\n",
       "      <td>7944.440305</td>\n",
       "    </tr>\n",
       "    <tr>\n",
       "      <th>11</th>\n",
       "      <td>2019-12-01</td>\n",
       "      <td>7433.523842</td>\n",
       "    </tr>\n",
       "    <tr>\n",
       "      <th>12</th>\n",
       "      <td>2019-12-07</td>\n",
       "      <td>7495.025405</td>\n",
       "    </tr>\n",
       "    <tr>\n",
       "      <th>13</th>\n",
       "      <td>2019-12-14</td>\n",
       "      <td>7198.682358</td>\n",
       "    </tr>\n",
       "  </tbody>\n",
       "</table>\n",
       "</div>"
      ],
      "text/plain": [
       "         week     amount_x\n",
       "0  2019-09-07  8833.203333\n",
       "1  2019-09-14  7139.950363\n",
       "2  2019-09-21  7530.603446\n",
       "3  2019-10-01  7362.792047\n",
       "4  2019-10-07  7415.982105\n",
       "5  2019-10-14  7222.736217\n",
       "6  2019-10-21  7173.408365\n",
       "7  2019-11-01  8287.202005\n",
       "8  2019-11-07  7048.662339\n",
       "9  2019-11-14  7270.531805\n",
       "10 2019-11-21  7944.440305\n",
       "11 2019-12-01  7433.523842\n",
       "12 2019-12-07  7495.025405\n",
       "13 2019-12-14  7198.682358"
      ]
     },
     "execution_count": 275,
     "metadata": {},
     "output_type": "execute_result"
    }
   ],
   "source": [
    "Clothers\n"
   ]
  },
  {
   "cell_type": "code",
   "execution_count": 276,
   "metadata": {},
   "outputs": [
    {
     "data": {
      "application/vnd.plotly.v1+json": {
       "config": {
        "plotlyServerURL": "https://plot.ly"
       },
       "data": [
        {
         "type": "scatter",
         "x": [
          "2019-09-07T00:00:00",
          "2019-09-14T00:00:00",
          "2019-09-21T00:00:00",
          "2019-10-01T00:00:00",
          "2019-10-07T00:00:00",
          "2019-10-14T00:00:00",
          "2019-10-21T00:00:00",
          "2019-11-01T00:00:00",
          "2019-11-07T00:00:00",
          "2019-11-14T00:00:00",
          "2019-11-21T00:00:00",
          "2019-12-01T00:00:00",
          "2019-12-07T00:00:00",
          "2019-12-14T00:00:00"
         ],
         "y": [
          8833.203333333333,
          7139.950362712166,
          7530.603446339034,
          7362.792047350409,
          7415.982104582196,
          7222.736216781367,
          7173.408364560715,
          8287.202004611867,
          7048.662338999819,
          7270.531804952303,
          7944.440304803975,
          7433.523842110885,
          7495.025405357091,
          7198.682358086639
         ]
        }
       ],
       "layout": {
        "template": {
         "data": {
          "bar": [
           {
            "error_x": {
             "color": "#2a3f5f"
            },
            "error_y": {
             "color": "#2a3f5f"
            },
            "marker": {
             "line": {
              "color": "#E5ECF6",
              "width": 0.5
             }
            },
            "type": "bar"
           }
          ],
          "barpolar": [
           {
            "marker": {
             "line": {
              "color": "#E5ECF6",
              "width": 0.5
             }
            },
            "type": "barpolar"
           }
          ],
          "carpet": [
           {
            "aaxis": {
             "endlinecolor": "#2a3f5f",
             "gridcolor": "white",
             "linecolor": "white",
             "minorgridcolor": "white",
             "startlinecolor": "#2a3f5f"
            },
            "baxis": {
             "endlinecolor": "#2a3f5f",
             "gridcolor": "white",
             "linecolor": "white",
             "minorgridcolor": "white",
             "startlinecolor": "#2a3f5f"
            },
            "type": "carpet"
           }
          ],
          "choropleth": [
           {
            "colorbar": {
             "outlinewidth": 0,
             "ticks": ""
            },
            "type": "choropleth"
           }
          ],
          "contour": [
           {
            "colorbar": {
             "outlinewidth": 0,
             "ticks": ""
            },
            "colorscale": [
             [
              0,
              "#0d0887"
             ],
             [
              0.1111111111111111,
              "#46039f"
             ],
             [
              0.2222222222222222,
              "#7201a8"
             ],
             [
              0.3333333333333333,
              "#9c179e"
             ],
             [
              0.4444444444444444,
              "#bd3786"
             ],
             [
              0.5555555555555556,
              "#d8576b"
             ],
             [
              0.6666666666666666,
              "#ed7953"
             ],
             [
              0.7777777777777778,
              "#fb9f3a"
             ],
             [
              0.8888888888888888,
              "#fdca26"
             ],
             [
              1,
              "#f0f921"
             ]
            ],
            "type": "contour"
           }
          ],
          "contourcarpet": [
           {
            "colorbar": {
             "outlinewidth": 0,
             "ticks": ""
            },
            "type": "contourcarpet"
           }
          ],
          "heatmap": [
           {
            "colorbar": {
             "outlinewidth": 0,
             "ticks": ""
            },
            "colorscale": [
             [
              0,
              "#0d0887"
             ],
             [
              0.1111111111111111,
              "#46039f"
             ],
             [
              0.2222222222222222,
              "#7201a8"
             ],
             [
              0.3333333333333333,
              "#9c179e"
             ],
             [
              0.4444444444444444,
              "#bd3786"
             ],
             [
              0.5555555555555556,
              "#d8576b"
             ],
             [
              0.6666666666666666,
              "#ed7953"
             ],
             [
              0.7777777777777778,
              "#fb9f3a"
             ],
             [
              0.8888888888888888,
              "#fdca26"
             ],
             [
              1,
              "#f0f921"
             ]
            ],
            "type": "heatmap"
           }
          ],
          "heatmapgl": [
           {
            "colorbar": {
             "outlinewidth": 0,
             "ticks": ""
            },
            "colorscale": [
             [
              0,
              "#0d0887"
             ],
             [
              0.1111111111111111,
              "#46039f"
             ],
             [
              0.2222222222222222,
              "#7201a8"
             ],
             [
              0.3333333333333333,
              "#9c179e"
             ],
             [
              0.4444444444444444,
              "#bd3786"
             ],
             [
              0.5555555555555556,
              "#d8576b"
             ],
             [
              0.6666666666666666,
              "#ed7953"
             ],
             [
              0.7777777777777778,
              "#fb9f3a"
             ],
             [
              0.8888888888888888,
              "#fdca26"
             ],
             [
              1,
              "#f0f921"
             ]
            ],
            "type": "heatmapgl"
           }
          ],
          "histogram": [
           {
            "marker": {
             "colorbar": {
              "outlinewidth": 0,
              "ticks": ""
             }
            },
            "type": "histogram"
           }
          ],
          "histogram2d": [
           {
            "colorbar": {
             "outlinewidth": 0,
             "ticks": ""
            },
            "colorscale": [
             [
              0,
              "#0d0887"
             ],
             [
              0.1111111111111111,
              "#46039f"
             ],
             [
              0.2222222222222222,
              "#7201a8"
             ],
             [
              0.3333333333333333,
              "#9c179e"
             ],
             [
              0.4444444444444444,
              "#bd3786"
             ],
             [
              0.5555555555555556,
              "#d8576b"
             ],
             [
              0.6666666666666666,
              "#ed7953"
             ],
             [
              0.7777777777777778,
              "#fb9f3a"
             ],
             [
              0.8888888888888888,
              "#fdca26"
             ],
             [
              1,
              "#f0f921"
             ]
            ],
            "type": "histogram2d"
           }
          ],
          "histogram2dcontour": [
           {
            "colorbar": {
             "outlinewidth": 0,
             "ticks": ""
            },
            "colorscale": [
             [
              0,
              "#0d0887"
             ],
             [
              0.1111111111111111,
              "#46039f"
             ],
             [
              0.2222222222222222,
              "#7201a8"
             ],
             [
              0.3333333333333333,
              "#9c179e"
             ],
             [
              0.4444444444444444,
              "#bd3786"
             ],
             [
              0.5555555555555556,
              "#d8576b"
             ],
             [
              0.6666666666666666,
              "#ed7953"
             ],
             [
              0.7777777777777778,
              "#fb9f3a"
             ],
             [
              0.8888888888888888,
              "#fdca26"
             ],
             [
              1,
              "#f0f921"
             ]
            ],
            "type": "histogram2dcontour"
           }
          ],
          "mesh3d": [
           {
            "colorbar": {
             "outlinewidth": 0,
             "ticks": ""
            },
            "type": "mesh3d"
           }
          ],
          "parcoords": [
           {
            "line": {
             "colorbar": {
              "outlinewidth": 0,
              "ticks": ""
             }
            },
            "type": "parcoords"
           }
          ],
          "pie": [
           {
            "automargin": true,
            "type": "pie"
           }
          ],
          "scatter": [
           {
            "marker": {
             "colorbar": {
              "outlinewidth": 0,
              "ticks": ""
             }
            },
            "type": "scatter"
           }
          ],
          "scatter3d": [
           {
            "line": {
             "colorbar": {
              "outlinewidth": 0,
              "ticks": ""
             }
            },
            "marker": {
             "colorbar": {
              "outlinewidth": 0,
              "ticks": ""
             }
            },
            "type": "scatter3d"
           }
          ],
          "scattercarpet": [
           {
            "marker": {
             "colorbar": {
              "outlinewidth": 0,
              "ticks": ""
             }
            },
            "type": "scattercarpet"
           }
          ],
          "scattergeo": [
           {
            "marker": {
             "colorbar": {
              "outlinewidth": 0,
              "ticks": ""
             }
            },
            "type": "scattergeo"
           }
          ],
          "scattergl": [
           {
            "marker": {
             "colorbar": {
              "outlinewidth": 0,
              "ticks": ""
             }
            },
            "type": "scattergl"
           }
          ],
          "scattermapbox": [
           {
            "marker": {
             "colorbar": {
              "outlinewidth": 0,
              "ticks": ""
             }
            },
            "type": "scattermapbox"
           }
          ],
          "scatterpolar": [
           {
            "marker": {
             "colorbar": {
              "outlinewidth": 0,
              "ticks": ""
             }
            },
            "type": "scatterpolar"
           }
          ],
          "scatterpolargl": [
           {
            "marker": {
             "colorbar": {
              "outlinewidth": 0,
              "ticks": ""
             }
            },
            "type": "scatterpolargl"
           }
          ],
          "scatterternary": [
           {
            "marker": {
             "colorbar": {
              "outlinewidth": 0,
              "ticks": ""
             }
            },
            "type": "scatterternary"
           }
          ],
          "surface": [
           {
            "colorbar": {
             "outlinewidth": 0,
             "ticks": ""
            },
            "colorscale": [
             [
              0,
              "#0d0887"
             ],
             [
              0.1111111111111111,
              "#46039f"
             ],
             [
              0.2222222222222222,
              "#7201a8"
             ],
             [
              0.3333333333333333,
              "#9c179e"
             ],
             [
              0.4444444444444444,
              "#bd3786"
             ],
             [
              0.5555555555555556,
              "#d8576b"
             ],
             [
              0.6666666666666666,
              "#ed7953"
             ],
             [
              0.7777777777777778,
              "#fb9f3a"
             ],
             [
              0.8888888888888888,
              "#fdca26"
             ],
             [
              1,
              "#f0f921"
             ]
            ],
            "type": "surface"
           }
          ],
          "table": [
           {
            "cells": {
             "fill": {
              "color": "#EBF0F8"
             },
             "line": {
              "color": "white"
             }
            },
            "header": {
             "fill": {
              "color": "#C8D4E3"
             },
             "line": {
              "color": "white"
             }
            },
            "type": "table"
           }
          ]
         },
         "layout": {
          "annotationdefaults": {
           "arrowcolor": "#2a3f5f",
           "arrowhead": 0,
           "arrowwidth": 1
          },
          "coloraxis": {
           "colorbar": {
            "outlinewidth": 0,
            "ticks": ""
           }
          },
          "colorscale": {
           "diverging": [
            [
             0,
             "#8e0152"
            ],
            [
             0.1,
             "#c51b7d"
            ],
            [
             0.2,
             "#de77ae"
            ],
            [
             0.3,
             "#f1b6da"
            ],
            [
             0.4,
             "#fde0ef"
            ],
            [
             0.5,
             "#f7f7f7"
            ],
            [
             0.6,
             "#e6f5d0"
            ],
            [
             0.7,
             "#b8e186"
            ],
            [
             0.8,
             "#7fbc41"
            ],
            [
             0.9,
             "#4d9221"
            ],
            [
             1,
             "#276419"
            ]
           ],
           "sequential": [
            [
             0,
             "#0d0887"
            ],
            [
             0.1111111111111111,
             "#46039f"
            ],
            [
             0.2222222222222222,
             "#7201a8"
            ],
            [
             0.3333333333333333,
             "#9c179e"
            ],
            [
             0.4444444444444444,
             "#bd3786"
            ],
            [
             0.5555555555555556,
             "#d8576b"
            ],
            [
             0.6666666666666666,
             "#ed7953"
            ],
            [
             0.7777777777777778,
             "#fb9f3a"
            ],
            [
             0.8888888888888888,
             "#fdca26"
            ],
            [
             1,
             "#f0f921"
            ]
           ],
           "sequentialminus": [
            [
             0,
             "#0d0887"
            ],
            [
             0.1111111111111111,
             "#46039f"
            ],
            [
             0.2222222222222222,
             "#7201a8"
            ],
            [
             0.3333333333333333,
             "#9c179e"
            ],
            [
             0.4444444444444444,
             "#bd3786"
            ],
            [
             0.5555555555555556,
             "#d8576b"
            ],
            [
             0.6666666666666666,
             "#ed7953"
            ],
            [
             0.7777777777777778,
             "#fb9f3a"
            ],
            [
             0.8888888888888888,
             "#fdca26"
            ],
            [
             1,
             "#f0f921"
            ]
           ]
          },
          "colorway": [
           "#636efa",
           "#EF553B",
           "#00cc96",
           "#ab63fa",
           "#FFA15A",
           "#19d3f3",
           "#FF6692",
           "#B6E880",
           "#FF97FF",
           "#FECB52"
          ],
          "font": {
           "color": "#2a3f5f"
          },
          "geo": {
           "bgcolor": "white",
           "lakecolor": "white",
           "landcolor": "#E5ECF6",
           "showlakes": true,
           "showland": true,
           "subunitcolor": "white"
          },
          "hoverlabel": {
           "align": "left"
          },
          "hovermode": "closest",
          "mapbox": {
           "style": "light"
          },
          "paper_bgcolor": "white",
          "plot_bgcolor": "#E5ECF6",
          "polar": {
           "angularaxis": {
            "gridcolor": "white",
            "linecolor": "white",
            "ticks": ""
           },
           "bgcolor": "#E5ECF6",
           "radialaxis": {
            "gridcolor": "white",
            "linecolor": "white",
            "ticks": ""
           }
          },
          "scene": {
           "xaxis": {
            "backgroundcolor": "#E5ECF6",
            "gridcolor": "white",
            "gridwidth": 2,
            "linecolor": "white",
            "showbackground": true,
            "ticks": "",
            "zerolinecolor": "white"
           },
           "yaxis": {
            "backgroundcolor": "#E5ECF6",
            "gridcolor": "white",
            "gridwidth": 2,
            "linecolor": "white",
            "showbackground": true,
            "ticks": "",
            "zerolinecolor": "white"
           },
           "zaxis": {
            "backgroundcolor": "#E5ECF6",
            "gridcolor": "white",
            "gridwidth": 2,
            "linecolor": "white",
            "showbackground": true,
            "ticks": "",
            "zerolinecolor": "white"
           }
          },
          "shapedefaults": {
           "line": {
            "color": "#2a3f5f"
           }
          },
          "ternary": {
           "aaxis": {
            "gridcolor": "white",
            "linecolor": "white",
            "ticks": ""
           },
           "baxis": {
            "gridcolor": "white",
            "linecolor": "white",
            "ticks": ""
           },
           "bgcolor": "#E5ECF6",
           "caxis": {
            "gridcolor": "white",
            "linecolor": "white",
            "ticks": ""
           }
          },
          "title": {
           "x": 0.05
          },
          "xaxis": {
           "automargin": true,
           "gridcolor": "white",
           "linecolor": "white",
           "ticks": "",
           "title": {
            "standoff": 15
           },
           "zerolinecolor": "white",
           "zerolinewidth": 2
          },
          "yaxis": {
           "automargin": true,
           "gridcolor": "white",
           "linecolor": "white",
           "ticks": "",
           "title": {
            "standoff": 15
           },
           "zerolinecolor": "white",
           "zerolinewidth": 2
          }
         }
        }
       }
      },
      "text/html": [
       "<div>                            <div id=\"f6a3612b-51a7-4eb0-ba2c-89313bfc5e33\" class=\"plotly-graph-div\" style=\"height:525px; width:100%;\"></div>            <script type=\"text/javascript\">                require([\"plotly\"], function(Plotly) {                    window.PLOTLYENV=window.PLOTLYENV || {};                                    if (document.getElementById(\"f6a3612b-51a7-4eb0-ba2c-89313bfc5e33\")) {                    Plotly.newPlot(                        \"f6a3612b-51a7-4eb0-ba2c-89313bfc5e33\",                        [{\"type\": \"scatter\", \"x\": [\"2019-09-07T00:00:00\", \"2019-09-14T00:00:00\", \"2019-09-21T00:00:00\", \"2019-10-01T00:00:00\", \"2019-10-07T00:00:00\", \"2019-10-14T00:00:00\", \"2019-10-21T00:00:00\", \"2019-11-01T00:00:00\", \"2019-11-07T00:00:00\", \"2019-11-14T00:00:00\", \"2019-11-21T00:00:00\", \"2019-12-01T00:00:00\", \"2019-12-07T00:00:00\", \"2019-12-14T00:00:00\"], \"y\": [8833.203333333333, 7139.950362712166, 7530.603446339034, 7362.792047350409, 7415.982104582196, 7222.736216781367, 7173.408364560715, 8287.202004611867, 7048.662338999819, 7270.531804952303, 7944.440304803975, 7433.523842110885, 7495.025405357091, 7198.682358086639]}],                        {\"template\": {\"data\": {\"bar\": [{\"error_x\": {\"color\": \"#2a3f5f\"}, \"error_y\": {\"color\": \"#2a3f5f\"}, \"marker\": {\"line\": {\"color\": \"#E5ECF6\", \"width\": 0.5}}, \"type\": \"bar\"}], \"barpolar\": [{\"marker\": {\"line\": {\"color\": \"#E5ECF6\", \"width\": 0.5}}, \"type\": \"barpolar\"}], \"carpet\": [{\"aaxis\": {\"endlinecolor\": \"#2a3f5f\", \"gridcolor\": \"white\", \"linecolor\": \"white\", \"minorgridcolor\": \"white\", \"startlinecolor\": \"#2a3f5f\"}, \"baxis\": {\"endlinecolor\": \"#2a3f5f\", \"gridcolor\": \"white\", \"linecolor\": \"white\", \"minorgridcolor\": \"white\", \"startlinecolor\": \"#2a3f5f\"}, \"type\": \"carpet\"}], \"choropleth\": [{\"colorbar\": {\"outlinewidth\": 0, \"ticks\": \"\"}, \"type\": \"choropleth\"}], \"contour\": [{\"colorbar\": {\"outlinewidth\": 0, \"ticks\": \"\"}, \"colorscale\": [[0.0, \"#0d0887\"], [0.1111111111111111, \"#46039f\"], [0.2222222222222222, \"#7201a8\"], [0.3333333333333333, \"#9c179e\"], [0.4444444444444444, \"#bd3786\"], [0.5555555555555556, \"#d8576b\"], [0.6666666666666666, \"#ed7953\"], [0.7777777777777778, \"#fb9f3a\"], [0.8888888888888888, \"#fdca26\"], [1.0, \"#f0f921\"]], \"type\": \"contour\"}], \"contourcarpet\": [{\"colorbar\": {\"outlinewidth\": 0, \"ticks\": \"\"}, \"type\": \"contourcarpet\"}], \"heatmap\": [{\"colorbar\": {\"outlinewidth\": 0, \"ticks\": \"\"}, \"colorscale\": [[0.0, \"#0d0887\"], [0.1111111111111111, \"#46039f\"], [0.2222222222222222, \"#7201a8\"], [0.3333333333333333, \"#9c179e\"], [0.4444444444444444, \"#bd3786\"], [0.5555555555555556, \"#d8576b\"], [0.6666666666666666, \"#ed7953\"], [0.7777777777777778, \"#fb9f3a\"], [0.8888888888888888, \"#fdca26\"], [1.0, \"#f0f921\"]], \"type\": \"heatmap\"}], \"heatmapgl\": [{\"colorbar\": {\"outlinewidth\": 0, \"ticks\": \"\"}, \"colorscale\": [[0.0, \"#0d0887\"], [0.1111111111111111, \"#46039f\"], [0.2222222222222222, \"#7201a8\"], [0.3333333333333333, \"#9c179e\"], [0.4444444444444444, \"#bd3786\"], [0.5555555555555556, \"#d8576b\"], [0.6666666666666666, \"#ed7953\"], [0.7777777777777778, \"#fb9f3a\"], [0.8888888888888888, \"#fdca26\"], [1.0, \"#f0f921\"]], \"type\": \"heatmapgl\"}], \"histogram\": [{\"marker\": {\"colorbar\": {\"outlinewidth\": 0, \"ticks\": \"\"}}, \"type\": \"histogram\"}], \"histogram2d\": [{\"colorbar\": {\"outlinewidth\": 0, \"ticks\": \"\"}, \"colorscale\": [[0.0, \"#0d0887\"], [0.1111111111111111, \"#46039f\"], [0.2222222222222222, \"#7201a8\"], [0.3333333333333333, \"#9c179e\"], [0.4444444444444444, \"#bd3786\"], [0.5555555555555556, \"#d8576b\"], [0.6666666666666666, \"#ed7953\"], [0.7777777777777778, \"#fb9f3a\"], [0.8888888888888888, \"#fdca26\"], [1.0, \"#f0f921\"]], \"type\": \"histogram2d\"}], \"histogram2dcontour\": [{\"colorbar\": {\"outlinewidth\": 0, \"ticks\": \"\"}, \"colorscale\": [[0.0, \"#0d0887\"], [0.1111111111111111, \"#46039f\"], [0.2222222222222222, \"#7201a8\"], [0.3333333333333333, \"#9c179e\"], [0.4444444444444444, \"#bd3786\"], [0.5555555555555556, \"#d8576b\"], [0.6666666666666666, \"#ed7953\"], [0.7777777777777778, \"#fb9f3a\"], [0.8888888888888888, \"#fdca26\"], [1.0, \"#f0f921\"]], \"type\": \"histogram2dcontour\"}], \"mesh3d\": [{\"colorbar\": {\"outlinewidth\": 0, \"ticks\": \"\"}, \"type\": \"mesh3d\"}], \"parcoords\": [{\"line\": {\"colorbar\": {\"outlinewidth\": 0, \"ticks\": \"\"}}, \"type\": \"parcoords\"}], \"pie\": [{\"automargin\": true, \"type\": \"pie\"}], \"scatter\": [{\"marker\": {\"colorbar\": {\"outlinewidth\": 0, \"ticks\": \"\"}}, \"type\": \"scatter\"}], \"scatter3d\": [{\"line\": {\"colorbar\": {\"outlinewidth\": 0, \"ticks\": \"\"}}, \"marker\": {\"colorbar\": {\"outlinewidth\": 0, \"ticks\": \"\"}}, \"type\": \"scatter3d\"}], \"scattercarpet\": [{\"marker\": {\"colorbar\": {\"outlinewidth\": 0, \"ticks\": \"\"}}, \"type\": \"scattercarpet\"}], \"scattergeo\": [{\"marker\": {\"colorbar\": {\"outlinewidth\": 0, \"ticks\": \"\"}}, \"type\": \"scattergeo\"}], \"scattergl\": [{\"marker\": {\"colorbar\": {\"outlinewidth\": 0, \"ticks\": \"\"}}, \"type\": \"scattergl\"}], \"scattermapbox\": [{\"marker\": {\"colorbar\": {\"outlinewidth\": 0, \"ticks\": \"\"}}, \"type\": \"scattermapbox\"}], \"scatterpolar\": [{\"marker\": {\"colorbar\": {\"outlinewidth\": 0, \"ticks\": \"\"}}, \"type\": \"scatterpolar\"}], \"scatterpolargl\": [{\"marker\": {\"colorbar\": {\"outlinewidth\": 0, \"ticks\": \"\"}}, \"type\": \"scatterpolargl\"}], \"scatterternary\": [{\"marker\": {\"colorbar\": {\"outlinewidth\": 0, \"ticks\": \"\"}}, \"type\": \"scatterternary\"}], \"surface\": [{\"colorbar\": {\"outlinewidth\": 0, \"ticks\": \"\"}, \"colorscale\": [[0.0, \"#0d0887\"], [0.1111111111111111, \"#46039f\"], [0.2222222222222222, \"#7201a8\"], [0.3333333333333333, \"#9c179e\"], [0.4444444444444444, \"#bd3786\"], [0.5555555555555556, \"#d8576b\"], [0.6666666666666666, \"#ed7953\"], [0.7777777777777778, \"#fb9f3a\"], [0.8888888888888888, \"#fdca26\"], [1.0, \"#f0f921\"]], \"type\": \"surface\"}], \"table\": [{\"cells\": {\"fill\": {\"color\": \"#EBF0F8\"}, \"line\": {\"color\": \"white\"}}, \"header\": {\"fill\": {\"color\": \"#C8D4E3\"}, \"line\": {\"color\": \"white\"}}, \"type\": \"table\"}]}, \"layout\": {\"annotationdefaults\": {\"arrowcolor\": \"#2a3f5f\", \"arrowhead\": 0, \"arrowwidth\": 1}, \"coloraxis\": {\"colorbar\": {\"outlinewidth\": 0, \"ticks\": \"\"}}, \"colorscale\": {\"diverging\": [[0, \"#8e0152\"], [0.1, \"#c51b7d\"], [0.2, \"#de77ae\"], [0.3, \"#f1b6da\"], [0.4, \"#fde0ef\"], [0.5, \"#f7f7f7\"], [0.6, \"#e6f5d0\"], [0.7, \"#b8e186\"], [0.8, \"#7fbc41\"], [0.9, \"#4d9221\"], [1, \"#276419\"]], \"sequential\": [[0.0, \"#0d0887\"], [0.1111111111111111, \"#46039f\"], [0.2222222222222222, \"#7201a8\"], [0.3333333333333333, \"#9c179e\"], [0.4444444444444444, \"#bd3786\"], [0.5555555555555556, \"#d8576b\"], [0.6666666666666666, \"#ed7953\"], [0.7777777777777778, \"#fb9f3a\"], [0.8888888888888888, \"#fdca26\"], [1.0, \"#f0f921\"]], \"sequentialminus\": [[0.0, \"#0d0887\"], [0.1111111111111111, \"#46039f\"], [0.2222222222222222, \"#7201a8\"], [0.3333333333333333, \"#9c179e\"], [0.4444444444444444, \"#bd3786\"], [0.5555555555555556, \"#d8576b\"], [0.6666666666666666, \"#ed7953\"], [0.7777777777777778, \"#fb9f3a\"], [0.8888888888888888, \"#fdca26\"], [1.0, \"#f0f921\"]]}, \"colorway\": [\"#636efa\", \"#EF553B\", \"#00cc96\", \"#ab63fa\", \"#FFA15A\", \"#19d3f3\", \"#FF6692\", \"#B6E880\", \"#FF97FF\", \"#FECB52\"], \"font\": {\"color\": \"#2a3f5f\"}, \"geo\": {\"bgcolor\": \"white\", \"lakecolor\": \"white\", \"landcolor\": \"#E5ECF6\", \"showlakes\": true, \"showland\": true, \"subunitcolor\": \"white\"}, \"hoverlabel\": {\"align\": \"left\"}, \"hovermode\": \"closest\", \"mapbox\": {\"style\": \"light\"}, \"paper_bgcolor\": \"white\", \"plot_bgcolor\": \"#E5ECF6\", \"polar\": {\"angularaxis\": {\"gridcolor\": \"white\", \"linecolor\": \"white\", \"ticks\": \"\"}, \"bgcolor\": \"#E5ECF6\", \"radialaxis\": {\"gridcolor\": \"white\", \"linecolor\": \"white\", \"ticks\": \"\"}}, \"scene\": {\"xaxis\": {\"backgroundcolor\": \"#E5ECF6\", \"gridcolor\": \"white\", \"gridwidth\": 2, \"linecolor\": \"white\", \"showbackground\": true, \"ticks\": \"\", \"zerolinecolor\": \"white\"}, \"yaxis\": {\"backgroundcolor\": \"#E5ECF6\", \"gridcolor\": \"white\", \"gridwidth\": 2, \"linecolor\": \"white\", \"showbackground\": true, \"ticks\": \"\", \"zerolinecolor\": \"white\"}, \"zaxis\": {\"backgroundcolor\": \"#E5ECF6\", \"gridcolor\": \"white\", \"gridwidth\": 2, \"linecolor\": \"white\", \"showbackground\": true, \"ticks\": \"\", \"zerolinecolor\": \"white\"}}, \"shapedefaults\": {\"line\": {\"color\": \"#2a3f5f\"}}, \"ternary\": {\"aaxis\": {\"gridcolor\": \"white\", \"linecolor\": \"white\", \"ticks\": \"\"}, \"baxis\": {\"gridcolor\": \"white\", \"linecolor\": \"white\", \"ticks\": \"\"}, \"bgcolor\": \"#E5ECF6\", \"caxis\": {\"gridcolor\": \"white\", \"linecolor\": \"white\", \"ticks\": \"\"}}, \"title\": {\"x\": 0.05}, \"xaxis\": {\"automargin\": true, \"gridcolor\": \"white\", \"linecolor\": \"white\", \"ticks\": \"\", \"title\": {\"standoff\": 15}, \"zerolinecolor\": \"white\", \"zerolinewidth\": 2}, \"yaxis\": {\"automargin\": true, \"gridcolor\": \"white\", \"linecolor\": \"white\", \"ticks\": \"\", \"title\": {\"standoff\": 15}, \"zerolinecolor\": \"white\", \"zerolinewidth\": 2}}}},                        {\"responsive\": true}                    ).then(function(){\n",
       "                            \n",
       "var gd = document.getElementById('f6a3612b-51a7-4eb0-ba2c-89313bfc5e33');\n",
       "var x = new MutationObserver(function (mutations, observer) {{\n",
       "        var display = window.getComputedStyle(gd).display;\n",
       "        if (!display || display === 'none') {{\n",
       "            console.log([gd, 'removed!']);\n",
       "            Plotly.purge(gd);\n",
       "            observer.disconnect();\n",
       "        }}\n",
       "}});\n",
       "\n",
       "// Listen for the removal of the full notebook cells\n",
       "var notebookContainer = gd.closest('#notebook-container');\n",
       "if (notebookContainer) {{\n",
       "    x.observe(notebookContainer, {childList: true});\n",
       "}}\n",
       "\n",
       "// Listen for the clearing of the current output cell\n",
       "var outputEl = gd.closest('.output');\n",
       "if (outputEl) {{\n",
       "    x.observe(outputEl, {childList: true});\n",
       "}}\n",
       "\n",
       "                        })                };                });            </script>        </div>"
      ]
     },
     "metadata": {},
     "output_type": "display_data"
    }
   ],
   "source": [
    "#Clothers\n",
    "fig = go.Figure([go.Scatter(x=Clothers['week'], y=Clothers['amount_x'])])\n",
    "fig.show()"
   ]
  },
  {
   "cell_type": "code",
   "execution_count": 281,
   "metadata": {},
   "outputs": [],
   "source": [
    "H_M = pd.DataFrame(transactions_clothes[(transactions_clothes['store_name'] == 'H&M') & (transactions_clothes['Income']=='Middle')].groupby(by='week').mean()['amount_x']).reset_index()"
   ]
  },
  {
   "cell_type": "code",
   "execution_count": 282,
   "metadata": {},
   "outputs": [
    {
     "data": {
      "application/vnd.plotly.v1+json": {
       "config": {
        "plotlyServerURL": "https://plot.ly"
       },
       "data": [
        {
         "type": "scatter",
         "x": [
          "2019-09-14T00:00:00",
          "2019-09-21T00:00:00",
          "2019-10-01T00:00:00",
          "2019-10-07T00:00:00",
          "2019-10-14T00:00:00",
          "2019-10-21T00:00:00",
          "2019-11-01T00:00:00",
          "2019-11-07T00:00:00",
          "2019-11-14T00:00:00",
          "2019-11-21T00:00:00",
          "2019-12-01T00:00:00",
          "2019-12-07T00:00:00",
          "2019-12-14T00:00:00"
         ],
         "y": [
          2183.761584932476,
          2189.86198283119,
          2138.5303001631373,
          2052.9498136818756,
          2035.8032649071383,
          1948.101167883221,
          2033.427529209625,
          2026.881101666102,
          1935.845640653357,
          1879.4724731861506,
          1956.7366576964441,
          1939.5430431871498,
          1989.0556943366955
         ]
        }
       ],
       "layout": {
        "template": {
         "data": {
          "bar": [
           {
            "error_x": {
             "color": "#2a3f5f"
            },
            "error_y": {
             "color": "#2a3f5f"
            },
            "marker": {
             "line": {
              "color": "#E5ECF6",
              "width": 0.5
             }
            },
            "type": "bar"
           }
          ],
          "barpolar": [
           {
            "marker": {
             "line": {
              "color": "#E5ECF6",
              "width": 0.5
             }
            },
            "type": "barpolar"
           }
          ],
          "carpet": [
           {
            "aaxis": {
             "endlinecolor": "#2a3f5f",
             "gridcolor": "white",
             "linecolor": "white",
             "minorgridcolor": "white",
             "startlinecolor": "#2a3f5f"
            },
            "baxis": {
             "endlinecolor": "#2a3f5f",
             "gridcolor": "white",
             "linecolor": "white",
             "minorgridcolor": "white",
             "startlinecolor": "#2a3f5f"
            },
            "type": "carpet"
           }
          ],
          "choropleth": [
           {
            "colorbar": {
             "outlinewidth": 0,
             "ticks": ""
            },
            "type": "choropleth"
           }
          ],
          "contour": [
           {
            "colorbar": {
             "outlinewidth": 0,
             "ticks": ""
            },
            "colorscale": [
             [
              0,
              "#0d0887"
             ],
             [
              0.1111111111111111,
              "#46039f"
             ],
             [
              0.2222222222222222,
              "#7201a8"
             ],
             [
              0.3333333333333333,
              "#9c179e"
             ],
             [
              0.4444444444444444,
              "#bd3786"
             ],
             [
              0.5555555555555556,
              "#d8576b"
             ],
             [
              0.6666666666666666,
              "#ed7953"
             ],
             [
              0.7777777777777778,
              "#fb9f3a"
             ],
             [
              0.8888888888888888,
              "#fdca26"
             ],
             [
              1,
              "#f0f921"
             ]
            ],
            "type": "contour"
           }
          ],
          "contourcarpet": [
           {
            "colorbar": {
             "outlinewidth": 0,
             "ticks": ""
            },
            "type": "contourcarpet"
           }
          ],
          "heatmap": [
           {
            "colorbar": {
             "outlinewidth": 0,
             "ticks": ""
            },
            "colorscale": [
             [
              0,
              "#0d0887"
             ],
             [
              0.1111111111111111,
              "#46039f"
             ],
             [
              0.2222222222222222,
              "#7201a8"
             ],
             [
              0.3333333333333333,
              "#9c179e"
             ],
             [
              0.4444444444444444,
              "#bd3786"
             ],
             [
              0.5555555555555556,
              "#d8576b"
             ],
             [
              0.6666666666666666,
              "#ed7953"
             ],
             [
              0.7777777777777778,
              "#fb9f3a"
             ],
             [
              0.8888888888888888,
              "#fdca26"
             ],
             [
              1,
              "#f0f921"
             ]
            ],
            "type": "heatmap"
           }
          ],
          "heatmapgl": [
           {
            "colorbar": {
             "outlinewidth": 0,
             "ticks": ""
            },
            "colorscale": [
             [
              0,
              "#0d0887"
             ],
             [
              0.1111111111111111,
              "#46039f"
             ],
             [
              0.2222222222222222,
              "#7201a8"
             ],
             [
              0.3333333333333333,
              "#9c179e"
             ],
             [
              0.4444444444444444,
              "#bd3786"
             ],
             [
              0.5555555555555556,
              "#d8576b"
             ],
             [
              0.6666666666666666,
              "#ed7953"
             ],
             [
              0.7777777777777778,
              "#fb9f3a"
             ],
             [
              0.8888888888888888,
              "#fdca26"
             ],
             [
              1,
              "#f0f921"
             ]
            ],
            "type": "heatmapgl"
           }
          ],
          "histogram": [
           {
            "marker": {
             "colorbar": {
              "outlinewidth": 0,
              "ticks": ""
             }
            },
            "type": "histogram"
           }
          ],
          "histogram2d": [
           {
            "colorbar": {
             "outlinewidth": 0,
             "ticks": ""
            },
            "colorscale": [
             [
              0,
              "#0d0887"
             ],
             [
              0.1111111111111111,
              "#46039f"
             ],
             [
              0.2222222222222222,
              "#7201a8"
             ],
             [
              0.3333333333333333,
              "#9c179e"
             ],
             [
              0.4444444444444444,
              "#bd3786"
             ],
             [
              0.5555555555555556,
              "#d8576b"
             ],
             [
              0.6666666666666666,
              "#ed7953"
             ],
             [
              0.7777777777777778,
              "#fb9f3a"
             ],
             [
              0.8888888888888888,
              "#fdca26"
             ],
             [
              1,
              "#f0f921"
             ]
            ],
            "type": "histogram2d"
           }
          ],
          "histogram2dcontour": [
           {
            "colorbar": {
             "outlinewidth": 0,
             "ticks": ""
            },
            "colorscale": [
             [
              0,
              "#0d0887"
             ],
             [
              0.1111111111111111,
              "#46039f"
             ],
             [
              0.2222222222222222,
              "#7201a8"
             ],
             [
              0.3333333333333333,
              "#9c179e"
             ],
             [
              0.4444444444444444,
              "#bd3786"
             ],
             [
              0.5555555555555556,
              "#d8576b"
             ],
             [
              0.6666666666666666,
              "#ed7953"
             ],
             [
              0.7777777777777778,
              "#fb9f3a"
             ],
             [
              0.8888888888888888,
              "#fdca26"
             ],
             [
              1,
              "#f0f921"
             ]
            ],
            "type": "histogram2dcontour"
           }
          ],
          "mesh3d": [
           {
            "colorbar": {
             "outlinewidth": 0,
             "ticks": ""
            },
            "type": "mesh3d"
           }
          ],
          "parcoords": [
           {
            "line": {
             "colorbar": {
              "outlinewidth": 0,
              "ticks": ""
             }
            },
            "type": "parcoords"
           }
          ],
          "pie": [
           {
            "automargin": true,
            "type": "pie"
           }
          ],
          "scatter": [
           {
            "marker": {
             "colorbar": {
              "outlinewidth": 0,
              "ticks": ""
             }
            },
            "type": "scatter"
           }
          ],
          "scatter3d": [
           {
            "line": {
             "colorbar": {
              "outlinewidth": 0,
              "ticks": ""
             }
            },
            "marker": {
             "colorbar": {
              "outlinewidth": 0,
              "ticks": ""
             }
            },
            "type": "scatter3d"
           }
          ],
          "scattercarpet": [
           {
            "marker": {
             "colorbar": {
              "outlinewidth": 0,
              "ticks": ""
             }
            },
            "type": "scattercarpet"
           }
          ],
          "scattergeo": [
           {
            "marker": {
             "colorbar": {
              "outlinewidth": 0,
              "ticks": ""
             }
            },
            "type": "scattergeo"
           }
          ],
          "scattergl": [
           {
            "marker": {
             "colorbar": {
              "outlinewidth": 0,
              "ticks": ""
             }
            },
            "type": "scattergl"
           }
          ],
          "scattermapbox": [
           {
            "marker": {
             "colorbar": {
              "outlinewidth": 0,
              "ticks": ""
             }
            },
            "type": "scattermapbox"
           }
          ],
          "scatterpolar": [
           {
            "marker": {
             "colorbar": {
              "outlinewidth": 0,
              "ticks": ""
             }
            },
            "type": "scatterpolar"
           }
          ],
          "scatterpolargl": [
           {
            "marker": {
             "colorbar": {
              "outlinewidth": 0,
              "ticks": ""
             }
            },
            "type": "scatterpolargl"
           }
          ],
          "scatterternary": [
           {
            "marker": {
             "colorbar": {
              "outlinewidth": 0,
              "ticks": ""
             }
            },
            "type": "scatterternary"
           }
          ],
          "surface": [
           {
            "colorbar": {
             "outlinewidth": 0,
             "ticks": ""
            },
            "colorscale": [
             [
              0,
              "#0d0887"
             ],
             [
              0.1111111111111111,
              "#46039f"
             ],
             [
              0.2222222222222222,
              "#7201a8"
             ],
             [
              0.3333333333333333,
              "#9c179e"
             ],
             [
              0.4444444444444444,
              "#bd3786"
             ],
             [
              0.5555555555555556,
              "#d8576b"
             ],
             [
              0.6666666666666666,
              "#ed7953"
             ],
             [
              0.7777777777777778,
              "#fb9f3a"
             ],
             [
              0.8888888888888888,
              "#fdca26"
             ],
             [
              1,
              "#f0f921"
             ]
            ],
            "type": "surface"
           }
          ],
          "table": [
           {
            "cells": {
             "fill": {
              "color": "#EBF0F8"
             },
             "line": {
              "color": "white"
             }
            },
            "header": {
             "fill": {
              "color": "#C8D4E3"
             },
             "line": {
              "color": "white"
             }
            },
            "type": "table"
           }
          ]
         },
         "layout": {
          "annotationdefaults": {
           "arrowcolor": "#2a3f5f",
           "arrowhead": 0,
           "arrowwidth": 1
          },
          "coloraxis": {
           "colorbar": {
            "outlinewidth": 0,
            "ticks": ""
           }
          },
          "colorscale": {
           "diverging": [
            [
             0,
             "#8e0152"
            ],
            [
             0.1,
             "#c51b7d"
            ],
            [
             0.2,
             "#de77ae"
            ],
            [
             0.3,
             "#f1b6da"
            ],
            [
             0.4,
             "#fde0ef"
            ],
            [
             0.5,
             "#f7f7f7"
            ],
            [
             0.6,
             "#e6f5d0"
            ],
            [
             0.7,
             "#b8e186"
            ],
            [
             0.8,
             "#7fbc41"
            ],
            [
             0.9,
             "#4d9221"
            ],
            [
             1,
             "#276419"
            ]
           ],
           "sequential": [
            [
             0,
             "#0d0887"
            ],
            [
             0.1111111111111111,
             "#46039f"
            ],
            [
             0.2222222222222222,
             "#7201a8"
            ],
            [
             0.3333333333333333,
             "#9c179e"
            ],
            [
             0.4444444444444444,
             "#bd3786"
            ],
            [
             0.5555555555555556,
             "#d8576b"
            ],
            [
             0.6666666666666666,
             "#ed7953"
            ],
            [
             0.7777777777777778,
             "#fb9f3a"
            ],
            [
             0.8888888888888888,
             "#fdca26"
            ],
            [
             1,
             "#f0f921"
            ]
           ],
           "sequentialminus": [
            [
             0,
             "#0d0887"
            ],
            [
             0.1111111111111111,
             "#46039f"
            ],
            [
             0.2222222222222222,
             "#7201a8"
            ],
            [
             0.3333333333333333,
             "#9c179e"
            ],
            [
             0.4444444444444444,
             "#bd3786"
            ],
            [
             0.5555555555555556,
             "#d8576b"
            ],
            [
             0.6666666666666666,
             "#ed7953"
            ],
            [
             0.7777777777777778,
             "#fb9f3a"
            ],
            [
             0.8888888888888888,
             "#fdca26"
            ],
            [
             1,
             "#f0f921"
            ]
           ]
          },
          "colorway": [
           "#636efa",
           "#EF553B",
           "#00cc96",
           "#ab63fa",
           "#FFA15A",
           "#19d3f3",
           "#FF6692",
           "#B6E880",
           "#FF97FF",
           "#FECB52"
          ],
          "font": {
           "color": "#2a3f5f"
          },
          "geo": {
           "bgcolor": "white",
           "lakecolor": "white",
           "landcolor": "#E5ECF6",
           "showlakes": true,
           "showland": true,
           "subunitcolor": "white"
          },
          "hoverlabel": {
           "align": "left"
          },
          "hovermode": "closest",
          "mapbox": {
           "style": "light"
          },
          "paper_bgcolor": "white",
          "plot_bgcolor": "#E5ECF6",
          "polar": {
           "angularaxis": {
            "gridcolor": "white",
            "linecolor": "white",
            "ticks": ""
           },
           "bgcolor": "#E5ECF6",
           "radialaxis": {
            "gridcolor": "white",
            "linecolor": "white",
            "ticks": ""
           }
          },
          "scene": {
           "xaxis": {
            "backgroundcolor": "#E5ECF6",
            "gridcolor": "white",
            "gridwidth": 2,
            "linecolor": "white",
            "showbackground": true,
            "ticks": "",
            "zerolinecolor": "white"
           },
           "yaxis": {
            "backgroundcolor": "#E5ECF6",
            "gridcolor": "white",
            "gridwidth": 2,
            "linecolor": "white",
            "showbackground": true,
            "ticks": "",
            "zerolinecolor": "white"
           },
           "zaxis": {
            "backgroundcolor": "#E5ECF6",
            "gridcolor": "white",
            "gridwidth": 2,
            "linecolor": "white",
            "showbackground": true,
            "ticks": "",
            "zerolinecolor": "white"
           }
          },
          "shapedefaults": {
           "line": {
            "color": "#2a3f5f"
           }
          },
          "ternary": {
           "aaxis": {
            "gridcolor": "white",
            "linecolor": "white",
            "ticks": ""
           },
           "baxis": {
            "gridcolor": "white",
            "linecolor": "white",
            "ticks": ""
           },
           "bgcolor": "#E5ECF6",
           "caxis": {
            "gridcolor": "white",
            "linecolor": "white",
            "ticks": ""
           }
          },
          "title": {
           "x": 0.05
          },
          "xaxis": {
           "automargin": true,
           "gridcolor": "white",
           "linecolor": "white",
           "ticks": "",
           "title": {
            "standoff": 15
           },
           "zerolinecolor": "white",
           "zerolinewidth": 2
          },
          "yaxis": {
           "automargin": true,
           "gridcolor": "white",
           "linecolor": "white",
           "ticks": "",
           "title": {
            "standoff": 15
           },
           "zerolinecolor": "white",
           "zerolinewidth": 2
          }
         }
        }
       }
      },
      "text/html": [
       "<div>                            <div id=\"3659b89e-d23a-4f54-9007-85a0964315ec\" class=\"plotly-graph-div\" style=\"height:525px; width:100%;\"></div>            <script type=\"text/javascript\">                require([\"plotly\"], function(Plotly) {                    window.PLOTLYENV=window.PLOTLYENV || {};                                    if (document.getElementById(\"3659b89e-d23a-4f54-9007-85a0964315ec\")) {                    Plotly.newPlot(                        \"3659b89e-d23a-4f54-9007-85a0964315ec\",                        [{\"type\": \"scatter\", \"x\": [\"2019-09-14T00:00:00\", \"2019-09-21T00:00:00\", \"2019-10-01T00:00:00\", \"2019-10-07T00:00:00\", \"2019-10-14T00:00:00\", \"2019-10-21T00:00:00\", \"2019-11-01T00:00:00\", \"2019-11-07T00:00:00\", \"2019-11-14T00:00:00\", \"2019-11-21T00:00:00\", \"2019-12-01T00:00:00\", \"2019-12-07T00:00:00\", \"2019-12-14T00:00:00\"], \"y\": [2183.761584932476, 2189.86198283119, 2138.5303001631373, 2052.9498136818756, 2035.8032649071383, 1948.101167883221, 2033.427529209625, 2026.881101666102, 1935.845640653357, 1879.4724731861506, 1956.7366576964441, 1939.5430431871498, 1989.0556943366955]}],                        {\"template\": {\"data\": {\"bar\": [{\"error_x\": {\"color\": \"#2a3f5f\"}, \"error_y\": {\"color\": \"#2a3f5f\"}, \"marker\": {\"line\": {\"color\": \"#E5ECF6\", \"width\": 0.5}}, \"type\": \"bar\"}], \"barpolar\": [{\"marker\": {\"line\": {\"color\": \"#E5ECF6\", \"width\": 0.5}}, \"type\": \"barpolar\"}], \"carpet\": [{\"aaxis\": {\"endlinecolor\": \"#2a3f5f\", \"gridcolor\": \"white\", \"linecolor\": \"white\", \"minorgridcolor\": \"white\", \"startlinecolor\": \"#2a3f5f\"}, \"baxis\": {\"endlinecolor\": \"#2a3f5f\", \"gridcolor\": \"white\", \"linecolor\": \"white\", \"minorgridcolor\": \"white\", \"startlinecolor\": \"#2a3f5f\"}, \"type\": \"carpet\"}], \"choropleth\": [{\"colorbar\": {\"outlinewidth\": 0, \"ticks\": \"\"}, \"type\": \"choropleth\"}], \"contour\": [{\"colorbar\": {\"outlinewidth\": 0, \"ticks\": \"\"}, \"colorscale\": [[0.0, \"#0d0887\"], [0.1111111111111111, \"#46039f\"], [0.2222222222222222, \"#7201a8\"], [0.3333333333333333, \"#9c179e\"], [0.4444444444444444, \"#bd3786\"], [0.5555555555555556, \"#d8576b\"], [0.6666666666666666, \"#ed7953\"], [0.7777777777777778, \"#fb9f3a\"], [0.8888888888888888, \"#fdca26\"], [1.0, \"#f0f921\"]], \"type\": \"contour\"}], \"contourcarpet\": [{\"colorbar\": {\"outlinewidth\": 0, \"ticks\": \"\"}, \"type\": \"contourcarpet\"}], \"heatmap\": [{\"colorbar\": {\"outlinewidth\": 0, \"ticks\": \"\"}, \"colorscale\": [[0.0, \"#0d0887\"], [0.1111111111111111, \"#46039f\"], [0.2222222222222222, \"#7201a8\"], [0.3333333333333333, \"#9c179e\"], [0.4444444444444444, \"#bd3786\"], [0.5555555555555556, \"#d8576b\"], [0.6666666666666666, \"#ed7953\"], [0.7777777777777778, \"#fb9f3a\"], [0.8888888888888888, \"#fdca26\"], [1.0, \"#f0f921\"]], \"type\": \"heatmap\"}], \"heatmapgl\": [{\"colorbar\": {\"outlinewidth\": 0, \"ticks\": \"\"}, \"colorscale\": [[0.0, \"#0d0887\"], [0.1111111111111111, \"#46039f\"], [0.2222222222222222, \"#7201a8\"], [0.3333333333333333, \"#9c179e\"], [0.4444444444444444, \"#bd3786\"], [0.5555555555555556, \"#d8576b\"], [0.6666666666666666, \"#ed7953\"], [0.7777777777777778, \"#fb9f3a\"], [0.8888888888888888, \"#fdca26\"], [1.0, \"#f0f921\"]], \"type\": \"heatmapgl\"}], \"histogram\": [{\"marker\": {\"colorbar\": {\"outlinewidth\": 0, \"ticks\": \"\"}}, \"type\": \"histogram\"}], \"histogram2d\": [{\"colorbar\": {\"outlinewidth\": 0, \"ticks\": \"\"}, \"colorscale\": [[0.0, \"#0d0887\"], [0.1111111111111111, \"#46039f\"], [0.2222222222222222, \"#7201a8\"], [0.3333333333333333, \"#9c179e\"], [0.4444444444444444, \"#bd3786\"], [0.5555555555555556, \"#d8576b\"], [0.6666666666666666, \"#ed7953\"], [0.7777777777777778, \"#fb9f3a\"], [0.8888888888888888, \"#fdca26\"], [1.0, \"#f0f921\"]], \"type\": \"histogram2d\"}], \"histogram2dcontour\": [{\"colorbar\": {\"outlinewidth\": 0, \"ticks\": \"\"}, \"colorscale\": [[0.0, \"#0d0887\"], [0.1111111111111111, \"#46039f\"], [0.2222222222222222, \"#7201a8\"], [0.3333333333333333, \"#9c179e\"], [0.4444444444444444, \"#bd3786\"], [0.5555555555555556, \"#d8576b\"], [0.6666666666666666, \"#ed7953\"], [0.7777777777777778, \"#fb9f3a\"], [0.8888888888888888, \"#fdca26\"], [1.0, \"#f0f921\"]], \"type\": \"histogram2dcontour\"}], \"mesh3d\": [{\"colorbar\": {\"outlinewidth\": 0, \"ticks\": \"\"}, \"type\": \"mesh3d\"}], \"parcoords\": [{\"line\": {\"colorbar\": {\"outlinewidth\": 0, \"ticks\": \"\"}}, \"type\": \"parcoords\"}], \"pie\": [{\"automargin\": true, \"type\": \"pie\"}], \"scatter\": [{\"marker\": {\"colorbar\": {\"outlinewidth\": 0, \"ticks\": \"\"}}, \"type\": \"scatter\"}], \"scatter3d\": [{\"line\": {\"colorbar\": {\"outlinewidth\": 0, \"ticks\": \"\"}}, \"marker\": {\"colorbar\": {\"outlinewidth\": 0, \"ticks\": \"\"}}, \"type\": \"scatter3d\"}], \"scattercarpet\": [{\"marker\": {\"colorbar\": {\"outlinewidth\": 0, \"ticks\": \"\"}}, \"type\": \"scattercarpet\"}], \"scattergeo\": [{\"marker\": {\"colorbar\": {\"outlinewidth\": 0, \"ticks\": \"\"}}, \"type\": \"scattergeo\"}], \"scattergl\": [{\"marker\": {\"colorbar\": {\"outlinewidth\": 0, \"ticks\": \"\"}}, \"type\": \"scattergl\"}], \"scattermapbox\": [{\"marker\": {\"colorbar\": {\"outlinewidth\": 0, \"ticks\": \"\"}}, \"type\": \"scattermapbox\"}], \"scatterpolar\": [{\"marker\": {\"colorbar\": {\"outlinewidth\": 0, \"ticks\": \"\"}}, \"type\": \"scatterpolar\"}], \"scatterpolargl\": [{\"marker\": {\"colorbar\": {\"outlinewidth\": 0, \"ticks\": \"\"}}, \"type\": \"scatterpolargl\"}], \"scatterternary\": [{\"marker\": {\"colorbar\": {\"outlinewidth\": 0, \"ticks\": \"\"}}, \"type\": \"scatterternary\"}], \"surface\": [{\"colorbar\": {\"outlinewidth\": 0, \"ticks\": \"\"}, \"colorscale\": [[0.0, \"#0d0887\"], [0.1111111111111111, \"#46039f\"], [0.2222222222222222, \"#7201a8\"], [0.3333333333333333, \"#9c179e\"], [0.4444444444444444, \"#bd3786\"], [0.5555555555555556, \"#d8576b\"], [0.6666666666666666, \"#ed7953\"], [0.7777777777777778, \"#fb9f3a\"], [0.8888888888888888, \"#fdca26\"], [1.0, \"#f0f921\"]], \"type\": \"surface\"}], \"table\": [{\"cells\": {\"fill\": {\"color\": \"#EBF0F8\"}, \"line\": {\"color\": \"white\"}}, \"header\": {\"fill\": {\"color\": \"#C8D4E3\"}, \"line\": {\"color\": \"white\"}}, \"type\": \"table\"}]}, \"layout\": {\"annotationdefaults\": {\"arrowcolor\": \"#2a3f5f\", \"arrowhead\": 0, \"arrowwidth\": 1}, \"coloraxis\": {\"colorbar\": {\"outlinewidth\": 0, \"ticks\": \"\"}}, \"colorscale\": {\"diverging\": [[0, \"#8e0152\"], [0.1, \"#c51b7d\"], [0.2, \"#de77ae\"], [0.3, \"#f1b6da\"], [0.4, \"#fde0ef\"], [0.5, \"#f7f7f7\"], [0.6, \"#e6f5d0\"], [0.7, \"#b8e186\"], [0.8, \"#7fbc41\"], [0.9, \"#4d9221\"], [1, \"#276419\"]], \"sequential\": [[0.0, \"#0d0887\"], [0.1111111111111111, \"#46039f\"], [0.2222222222222222, \"#7201a8\"], [0.3333333333333333, \"#9c179e\"], [0.4444444444444444, \"#bd3786\"], [0.5555555555555556, \"#d8576b\"], [0.6666666666666666, \"#ed7953\"], [0.7777777777777778, \"#fb9f3a\"], [0.8888888888888888, \"#fdca26\"], [1.0, \"#f0f921\"]], \"sequentialminus\": [[0.0, \"#0d0887\"], [0.1111111111111111, \"#46039f\"], [0.2222222222222222, \"#7201a8\"], [0.3333333333333333, \"#9c179e\"], [0.4444444444444444, \"#bd3786\"], [0.5555555555555556, \"#d8576b\"], [0.6666666666666666, \"#ed7953\"], [0.7777777777777778, \"#fb9f3a\"], [0.8888888888888888, \"#fdca26\"], [1.0, \"#f0f921\"]]}, \"colorway\": [\"#636efa\", \"#EF553B\", \"#00cc96\", \"#ab63fa\", \"#FFA15A\", \"#19d3f3\", \"#FF6692\", \"#B6E880\", \"#FF97FF\", \"#FECB52\"], \"font\": {\"color\": \"#2a3f5f\"}, \"geo\": {\"bgcolor\": \"white\", \"lakecolor\": \"white\", \"landcolor\": \"#E5ECF6\", \"showlakes\": true, \"showland\": true, \"subunitcolor\": \"white\"}, \"hoverlabel\": {\"align\": \"left\"}, \"hovermode\": \"closest\", \"mapbox\": {\"style\": \"light\"}, \"paper_bgcolor\": \"white\", \"plot_bgcolor\": \"#E5ECF6\", \"polar\": {\"angularaxis\": {\"gridcolor\": \"white\", \"linecolor\": \"white\", \"ticks\": \"\"}, \"bgcolor\": \"#E5ECF6\", \"radialaxis\": {\"gridcolor\": \"white\", \"linecolor\": \"white\", \"ticks\": \"\"}}, \"scene\": {\"xaxis\": {\"backgroundcolor\": \"#E5ECF6\", \"gridcolor\": \"white\", \"gridwidth\": 2, \"linecolor\": \"white\", \"showbackground\": true, \"ticks\": \"\", \"zerolinecolor\": \"white\"}, \"yaxis\": {\"backgroundcolor\": \"#E5ECF6\", \"gridcolor\": \"white\", \"gridwidth\": 2, \"linecolor\": \"white\", \"showbackground\": true, \"ticks\": \"\", \"zerolinecolor\": \"white\"}, \"zaxis\": {\"backgroundcolor\": \"#E5ECF6\", \"gridcolor\": \"white\", \"gridwidth\": 2, \"linecolor\": \"white\", \"showbackground\": true, \"ticks\": \"\", \"zerolinecolor\": \"white\"}}, \"shapedefaults\": {\"line\": {\"color\": \"#2a3f5f\"}}, \"ternary\": {\"aaxis\": {\"gridcolor\": \"white\", \"linecolor\": \"white\", \"ticks\": \"\"}, \"baxis\": {\"gridcolor\": \"white\", \"linecolor\": \"white\", \"ticks\": \"\"}, \"bgcolor\": \"#E5ECF6\", \"caxis\": {\"gridcolor\": \"white\", \"linecolor\": \"white\", \"ticks\": \"\"}}, \"title\": {\"x\": 0.05}, \"xaxis\": {\"automargin\": true, \"gridcolor\": \"white\", \"linecolor\": \"white\", \"ticks\": \"\", \"title\": {\"standoff\": 15}, \"zerolinecolor\": \"white\", \"zerolinewidth\": 2}, \"yaxis\": {\"automargin\": true, \"gridcolor\": \"white\", \"linecolor\": \"white\", \"ticks\": \"\", \"title\": {\"standoff\": 15}, \"zerolinecolor\": \"white\", \"zerolinewidth\": 2}}}},                        {\"responsive\": true}                    ).then(function(){\n",
       "                            \n",
       "var gd = document.getElementById('3659b89e-d23a-4f54-9007-85a0964315ec');\n",
       "var x = new MutationObserver(function (mutations, observer) {{\n",
       "        var display = window.getComputedStyle(gd).display;\n",
       "        if (!display || display === 'none') {{\n",
       "            console.log([gd, 'removed!']);\n",
       "            Plotly.purge(gd);\n",
       "            observer.disconnect();\n",
       "        }}\n",
       "}});\n",
       "\n",
       "// Listen for the removal of the full notebook cells\n",
       "var notebookContainer = gd.closest('#notebook-container');\n",
       "if (notebookContainer) {{\n",
       "    x.observe(notebookContainer, {childList: true});\n",
       "}}\n",
       "\n",
       "// Listen for the clearing of the current output cell\n",
       "var outputEl = gd.closest('.output');\n",
       "if (outputEl) {{\n",
       "    x.observe(outputEl, {childList: true});\n",
       "}}\n",
       "\n",
       "                        })                };                });            </script>        </div>"
      ]
     },
     "metadata": {},
     "output_type": "display_data"
    }
   ],
   "source": [
    "#H_M\n",
    "fig = go.Figure([go.Scatter(x=H_M['week'], y=H_M['amount_x'])])\n",
    "fig.show()"
   ]
  },
  {
   "cell_type": "markdown",
   "metadata": {},
   "source": [
    "# Возраст"
   ]
  },
  {
   "cell_type": "code",
   "execution_count": null,
   "metadata": {},
   "outputs": [],
   "source": []
  },
  {
   "cell_type": "code",
   "execution_count": null,
   "metadata": {},
   "outputs": [],
   "source": []
  },
  {
   "cell_type": "code",
   "execution_count": 288,
   "metadata": {},
   "outputs": [
    {
     "data": {
      "text/html": [
       "<div>\n",
       "<style scoped>\n",
       "    .dataframe tbody tr th:only-of-type {\n",
       "        vertical-align: middle;\n",
       "    }\n",
       "\n",
       "    .dataframe tbody tr th {\n",
       "        vertical-align: top;\n",
       "    }\n",
       "\n",
       "    .dataframe thead th {\n",
       "        text-align: right;\n",
       "    }\n",
       "</style>\n",
       "<table border=\"1\" class=\"dataframe\">\n",
       "  <thead>\n",
       "    <tr style=\"text-align: right;\">\n",
       "      <th></th>\n",
       "      <th>Unnamed: 0</th>\n",
       "      <th>purchdate</th>\n",
       "      <th>amount</th>\n",
       "      <th>mcc</th>\n",
       "      <th>mrchcity</th>\n",
       "      <th>mrchname</th>\n",
       "      <th>cnum</th>\n",
       "      <th>category</th>\n",
       "      <th>store_name</th>\n",
       "      <th>merchant_name</th>\n",
       "      <th>created_at</th>\n",
       "      <th>cnum_</th>\n",
       "      <th>categorycode</th>\n",
       "      <th>gender</th>\n",
       "      <th>age</th>\n",
       "      <th>married_</th>\n",
       "      <th>residenttype</th>\n",
       "      <th>week</th>\n",
       "    </tr>\n",
       "  </thead>\n",
       "  <tbody>\n",
       "    <tr>\n",
       "      <th>0</th>\n",
       "      <td>69</td>\n",
       "      <td>2019-10-26 00:00:00</td>\n",
       "      <td>2097.0</td>\n",
       "      <td>5651</td>\n",
       "      <td>KRASNOYARSK</td>\n",
       "      <td>A&amp;C F6G</td>\n",
       "      <td>ELCMDT</td>\n",
       "      <td>Clothes</td>\n",
       "      <td>H&amp;M</td>\n",
       "      <td>A&amp;C F6G</td>\n",
       "      <td>2019-10-26</td>\n",
       "      <td>ELCMDT</td>\n",
       "      <td>81</td>\n",
       "      <td>M</td>\n",
       "      <td>50</td>\n",
       "      <td>married</td>\n",
       "      <td>R</td>\n",
       "      <td>2019-10-21</td>\n",
       "    </tr>\n",
       "    <tr>\n",
       "      <th>1</th>\n",
       "      <td>73</td>\n",
       "      <td>2019-11-02 00:00:00</td>\n",
       "      <td>6696.0</td>\n",
       "      <td>5651</td>\n",
       "      <td>PSKOV</td>\n",
       "      <td>XKE4D K29</td>\n",
       "      <td>ELCMDT</td>\n",
       "      <td>Clothes</td>\n",
       "      <td>O`Stin</td>\n",
       "      <td>XKE4D K29</td>\n",
       "      <td>2019-11-02</td>\n",
       "      <td>ELCMDT</td>\n",
       "      <td>81</td>\n",
       "      <td>M</td>\n",
       "      <td>50</td>\n",
       "      <td>married</td>\n",
       "      <td>R</td>\n",
       "      <td>2019-11-01</td>\n",
       "    </tr>\n",
       "    <tr>\n",
       "      <th>2</th>\n",
       "      <td>82</td>\n",
       "      <td>2019-09-26 00:00:00</td>\n",
       "      <td>1997.0</td>\n",
       "      <td>5691</td>\n",
       "      <td>KRASNOYARSK</td>\n",
       "      <td>J1K1JT18</td>\n",
       "      <td>ELCMDT</td>\n",
       "      <td>Clothes</td>\n",
       "      <td>Reserved</td>\n",
       "      <td>J1K1JT18</td>\n",
       "      <td>2019-09-26</td>\n",
       "      <td>ELCMDT</td>\n",
       "      <td>81</td>\n",
       "      <td>M</td>\n",
       "      <td>50</td>\n",
       "      <td>married</td>\n",
       "      <td>R</td>\n",
       "      <td>2019-09-21</td>\n",
       "    </tr>\n",
       "    <tr>\n",
       "      <th>3</th>\n",
       "      <td>126</td>\n",
       "      <td>2019-11-07 00:00:00</td>\n",
       "      <td>1299.0</td>\n",
       "      <td>5691</td>\n",
       "      <td>KRASNOYARSK</td>\n",
       "      <td>C7DZX WH7D1E7</td>\n",
       "      <td>ELCMDT</td>\n",
       "      <td>Clothes</td>\n",
       "      <td>�����</td>\n",
       "      <td>C7DZX WH7D1E7</td>\n",
       "      <td>2019-11-07</td>\n",
       "      <td>ELCMDT</td>\n",
       "      <td>81</td>\n",
       "      <td>M</td>\n",
       "      <td>50</td>\n",
       "      <td>married</td>\n",
       "      <td>R</td>\n",
       "      <td>2019-11-07</td>\n",
       "    </tr>\n",
       "    <tr>\n",
       "      <th>4</th>\n",
       "      <td>127</td>\n",
       "      <td>2019-11-09 00:00:00</td>\n",
       "      <td>2249.0</td>\n",
       "      <td>5691</td>\n",
       "      <td>KRASNOYARSK</td>\n",
       "      <td>C7DZX WH7D1E7</td>\n",
       "      <td>ELCMDT</td>\n",
       "      <td>Clothes</td>\n",
       "      <td>�����</td>\n",
       "      <td>C7DZX WH7D1E7</td>\n",
       "      <td>2019-11-09</td>\n",
       "      <td>ELCMDT</td>\n",
       "      <td>81</td>\n",
       "      <td>M</td>\n",
       "      <td>50</td>\n",
       "      <td>married</td>\n",
       "      <td>R</td>\n",
       "      <td>2019-11-07</td>\n",
       "    </tr>\n",
       "    <tr>\n",
       "      <th>...</th>\n",
       "      <td>...</td>\n",
       "      <td>...</td>\n",
       "      <td>...</td>\n",
       "      <td>...</td>\n",
       "      <td>...</td>\n",
       "      <td>...</td>\n",
       "      <td>...</td>\n",
       "      <td>...</td>\n",
       "      <td>...</td>\n",
       "      <td>...</td>\n",
       "      <td>...</td>\n",
       "      <td>...</td>\n",
       "      <td>...</td>\n",
       "      <td>...</td>\n",
       "      <td>...</td>\n",
       "      <td>...</td>\n",
       "      <td>...</td>\n",
       "      <td>...</td>\n",
       "    </tr>\n",
       "    <tr>\n",
       "      <th>1476465</th>\n",
       "      <td>70500231</td>\n",
       "      <td>2019-12-12 00:00:00</td>\n",
       "      <td>25000.0</td>\n",
       "      <td>5948</td>\n",
       "      <td>MOSCOW</td>\n",
       "      <td>1TJXW1YK34Y</td>\n",
       "      <td>MXGFYY</td>\n",
       "      <td>Clothes</td>\n",
       "      <td>�����������</td>\n",
       "      <td>1TJXW1YK34Y</td>\n",
       "      <td>2019-12-12</td>\n",
       "      <td>MXGFYY</td>\n",
       "      <td>70</td>\n",
       "      <td>M</td>\n",
       "      <td>42</td>\n",
       "      <td>married</td>\n",
       "      <td>R</td>\n",
       "      <td>2019-12-07</td>\n",
       "    </tr>\n",
       "    <tr>\n",
       "      <th>1476466</th>\n",
       "      <td>70507511</td>\n",
       "      <td>2019-09-20 00:00:00</td>\n",
       "      <td>1999.0</td>\n",
       "      <td>5691</td>\n",
       "      <td>MOSKVA</td>\n",
       "      <td>37H148XKIXW1</td>\n",
       "      <td>E4AVHQ</td>\n",
       "      <td>Clothes</td>\n",
       "      <td>����������� ���</td>\n",
       "      <td>37H148XKIXW1</td>\n",
       "      <td>2019-09-20</td>\n",
       "      <td>E4AVHQ</td>\n",
       "      <td>70</td>\n",
       "      <td>M</td>\n",
       "      <td>70</td>\n",
       "      <td>not_married</td>\n",
       "      <td>R</td>\n",
       "      <td>2019-09-14</td>\n",
       "    </tr>\n",
       "    <tr>\n",
       "      <th>1476467</th>\n",
       "      <td>70510166</td>\n",
       "      <td>2019-11-11 00:00:00</td>\n",
       "      <td>22.0</td>\n",
       "      <td>5621</td>\n",
       "      <td>SANKT-PETERBU</td>\n",
       "      <td>WJX8L3EO Q</td>\n",
       "      <td>EL5SX7</td>\n",
       "      <td>Clothes</td>\n",
       "      <td>����������� �������</td>\n",
       "      <td>WJX8L3EO Q</td>\n",
       "      <td>2019-11-11</td>\n",
       "      <td>EL5SX7</td>\n",
       "      <td>50</td>\n",
       "      <td>F</td>\n",
       "      <td>47</td>\n",
       "      <td>not_married</td>\n",
       "      <td>R</td>\n",
       "      <td>2019-11-07</td>\n",
       "    </tr>\n",
       "    <tr>\n",
       "      <th>1476468</th>\n",
       "      <td>70510220</td>\n",
       "      <td>2019-11-16 00:00:00</td>\n",
       "      <td>30.0</td>\n",
       "      <td>5691</td>\n",
       "      <td>SURGUT</td>\n",
       "      <td>WJX8L3E4</td>\n",
       "      <td>8E44DO</td>\n",
       "      <td>Clothes</td>\n",
       "      <td>����������� �������</td>\n",
       "      <td>WJX8L3E4</td>\n",
       "      <td>2019-11-16</td>\n",
       "      <td>8E44DO</td>\n",
       "      <td>50</td>\n",
       "      <td>M</td>\n",
       "      <td>19</td>\n",
       "      <td>not_married</td>\n",
       "      <td>N</td>\n",
       "      <td>2019-11-14</td>\n",
       "    </tr>\n",
       "    <tr>\n",
       "      <th>1476469</th>\n",
       "      <td>70513797</td>\n",
       "      <td>2019-09-25 00:00:00</td>\n",
       "      <td>200.0</td>\n",
       "      <td>5949</td>\n",
       "      <td>SURGUT</td>\n",
       "      <td>JL3X81HD4EK7</td>\n",
       "      <td>2XSFCS</td>\n",
       "      <td>Clothes</td>\n",
       "      <td>������������ ������</td>\n",
       "      <td>JL3X81HD4EK7</td>\n",
       "      <td>2019-09-25</td>\n",
       "      <td>2XSFCS</td>\n",
       "      <td>70</td>\n",
       "      <td>F</td>\n",
       "      <td>47</td>\n",
       "      <td>not_married</td>\n",
       "      <td>R</td>\n",
       "      <td>2019-09-21</td>\n",
       "    </tr>\n",
       "  </tbody>\n",
       "</table>\n",
       "<p>1476470 rows × 18 columns</p>\n",
       "</div>"
      ],
      "text/plain": [
       "         Unnamed: 0            purchdate   amount   mcc       mrchcity  \\\n",
       "0                69  2019-10-26 00:00:00   2097.0  5651    KRASNOYARSK   \n",
       "1                73  2019-11-02 00:00:00   6696.0  5651          PSKOV   \n",
       "2                82  2019-09-26 00:00:00   1997.0  5691    KRASNOYARSK   \n",
       "3               126  2019-11-07 00:00:00   1299.0  5691    KRASNOYARSK   \n",
       "4               127  2019-11-09 00:00:00   2249.0  5691    KRASNOYARSK   \n",
       "...             ...                  ...      ...   ...            ...   \n",
       "1476465    70500231  2019-12-12 00:00:00  25000.0  5948         MOSCOW   \n",
       "1476466    70507511  2019-09-20 00:00:00   1999.0  5691         MOSKVA   \n",
       "1476467    70510166  2019-11-11 00:00:00     22.0  5621  SANKT-PETERBU   \n",
       "1476468    70510220  2019-11-16 00:00:00     30.0  5691         SURGUT   \n",
       "1476469    70513797  2019-09-25 00:00:00    200.0  5949         SURGUT   \n",
       "\n",
       "              mrchname    cnum category           store_name  merchant_name  \\\n",
       "0              A&C F6G  ELCMDT  Clothes                  H&M        A&C F6G   \n",
       "1            XKE4D K29  ELCMDT  Clothes               O`Stin      XKE4D K29   \n",
       "2             J1K1JT18  ELCMDT  Clothes             Reserved       J1K1JT18   \n",
       "3        C7DZX WH7D1E7  ELCMDT  Clothes                �����  C7DZX WH7D1E7   \n",
       "4        C7DZX WH7D1E7  ELCMDT  Clothes                �����  C7DZX WH7D1E7   \n",
       "...                ...     ...      ...                  ...            ...   \n",
       "1476465    1TJXW1YK34Y  MXGFYY  Clothes          �����������    1TJXW1YK34Y   \n",
       "1476466   37H148XKIXW1  E4AVHQ  Clothes      ����������� ���   37H148XKIXW1   \n",
       "1476467     WJX8L3EO Q  EL5SX7  Clothes  ����������� �������     WJX8L3EO Q   \n",
       "1476468       WJX8L3E4  8E44DO  Clothes  ����������� �������       WJX8L3E4   \n",
       "1476469   JL3X81HD4EK7  2XSFCS  Clothes  ������������ ������   JL3X81HD4EK7   \n",
       "\n",
       "        created_at   cnum_  categorycode gender  age     married_  \\\n",
       "0       2019-10-26  ELCMDT            81      M   50      married   \n",
       "1       2019-11-02  ELCMDT            81      M   50      married   \n",
       "2       2019-09-26  ELCMDT            81      M   50      married   \n",
       "3       2019-11-07  ELCMDT            81      M   50      married   \n",
       "4       2019-11-09  ELCMDT            81      M   50      married   \n",
       "...            ...     ...           ...    ...  ...          ...   \n",
       "1476465 2019-12-12  MXGFYY            70      M   42      married   \n",
       "1476466 2019-09-20  E4AVHQ            70      M   70  not_married   \n",
       "1476467 2019-11-11  EL5SX7            50      F   47  not_married   \n",
       "1476468 2019-11-16  8E44DO            50      M   19  not_married   \n",
       "1476469 2019-09-25  2XSFCS            70      F   47  not_married   \n",
       "\n",
       "        residenttype       week  \n",
       "0                  R 2019-10-21  \n",
       "1                  R 2019-11-01  \n",
       "2                  R 2019-09-21  \n",
       "3                  R 2019-11-07  \n",
       "4                  R 2019-11-07  \n",
       "...              ...        ...  \n",
       "1476465            R 2019-12-07  \n",
       "1476466            R 2019-09-14  \n",
       "1476467            R 2019-11-07  \n",
       "1476468            N 2019-11-14  \n",
       "1476469            R 2019-09-21  \n",
       "\n",
       "[1476470 rows x 18 columns]"
      ]
     },
     "execution_count": 288,
     "metadata": {},
     "output_type": "execute_result"
    }
   ],
   "source": [
    "#transactions_clothes\n",
    "\n",
    "#transactions_clothes = pd.read_csv(\"transactions_clothes.csv\")\n",
    "transactions_clothes"
   ]
  },
  {
   "cell_type": "code",
   "execution_count": 291,
   "metadata": {},
   "outputs": [
    {
     "data": {
      "text/plain": [
       "Middle    991143\n",
       "Young     317685\n",
       "Old       167642\n",
       "Name: age_cat, dtype: int64"
      ]
     },
     "execution_count": 291,
     "metadata": {},
     "output_type": "execute_result"
    }
   ],
   "source": [
    "def get_age(age):\n",
    "    if age <= 30:\n",
    "        return 'Young'\n",
    "    elif age>30 and age<=50:\n",
    "        return 'Middle'\n",
    "    else:\n",
    "        return 'Old'\n",
    "    \n",
    "#get_income(1200)\n",
    "\n",
    "transactions_clothes['age_cat'] = transactions_clothes.age.apply(get_age)\n",
    "transactions_clothes['age_cat'].value_counts()\n",
    "\n",
    "#transactions_clothes=transactions_clothes.merge(display, left_on='cnum', right_on='cnum')\n",
    "#transactions_clothes"
   ]
  },
  {
   "cell_type": "code",
   "execution_count": 307,
   "metadata": {},
   "outputs": [],
   "source": [
    "H_M = pd.DataFrame(transactions_clothes[(transactions_clothes['age_cat']=='Young')].groupby(by='week').mean()['amount']).reset_index()"
   ]
  },
  {
   "cell_type": "code",
   "execution_count": 308,
   "metadata": {},
   "outputs": [
    {
     "data": {
      "application/vnd.plotly.v1+json": {
       "config": {
        "plotlyServerURL": "https://plot.ly"
       },
       "data": [
        {
         "type": "scatter",
         "x": [
          "2019-09-07T00:00:00",
          "2019-09-14T00:00:00",
          "2019-09-21T00:00:00",
          "2019-10-01T00:00:00",
          "2019-10-07T00:00:00",
          "2019-10-14T00:00:00",
          "2019-10-21T00:00:00",
          "2019-11-01T00:00:00",
          "2019-11-07T00:00:00",
          "2019-11-14T00:00:00",
          "2019-11-21T00:00:00",
          "2019-12-01T00:00:00",
          "2019-12-07T00:00:00",
          "2019-12-14T00:00:00"
         ],
         "y": [
          2065.6150000000002,
          2873.712364107642,
          2962.268263968672,
          2959.2186326939786,
          2985.0387198666544,
          2839.6002631350348,
          2793.58488166792,
          3138.2828957743554,
          2893.4346381055916,
          2923.3510671066997,
          3020.7105878582242,
          2999.717933340399,
          2712.6344504322783,
          2706.107329102433
         ]
        }
       ],
       "layout": {
        "template": {
         "data": {
          "bar": [
           {
            "error_x": {
             "color": "#2a3f5f"
            },
            "error_y": {
             "color": "#2a3f5f"
            },
            "marker": {
             "line": {
              "color": "#E5ECF6",
              "width": 0.5
             }
            },
            "type": "bar"
           }
          ],
          "barpolar": [
           {
            "marker": {
             "line": {
              "color": "#E5ECF6",
              "width": 0.5
             }
            },
            "type": "barpolar"
           }
          ],
          "carpet": [
           {
            "aaxis": {
             "endlinecolor": "#2a3f5f",
             "gridcolor": "white",
             "linecolor": "white",
             "minorgridcolor": "white",
             "startlinecolor": "#2a3f5f"
            },
            "baxis": {
             "endlinecolor": "#2a3f5f",
             "gridcolor": "white",
             "linecolor": "white",
             "minorgridcolor": "white",
             "startlinecolor": "#2a3f5f"
            },
            "type": "carpet"
           }
          ],
          "choropleth": [
           {
            "colorbar": {
             "outlinewidth": 0,
             "ticks": ""
            },
            "type": "choropleth"
           }
          ],
          "contour": [
           {
            "colorbar": {
             "outlinewidth": 0,
             "ticks": ""
            },
            "colorscale": [
             [
              0,
              "#0d0887"
             ],
             [
              0.1111111111111111,
              "#46039f"
             ],
             [
              0.2222222222222222,
              "#7201a8"
             ],
             [
              0.3333333333333333,
              "#9c179e"
             ],
             [
              0.4444444444444444,
              "#bd3786"
             ],
             [
              0.5555555555555556,
              "#d8576b"
             ],
             [
              0.6666666666666666,
              "#ed7953"
             ],
             [
              0.7777777777777778,
              "#fb9f3a"
             ],
             [
              0.8888888888888888,
              "#fdca26"
             ],
             [
              1,
              "#f0f921"
             ]
            ],
            "type": "contour"
           }
          ],
          "contourcarpet": [
           {
            "colorbar": {
             "outlinewidth": 0,
             "ticks": ""
            },
            "type": "contourcarpet"
           }
          ],
          "heatmap": [
           {
            "colorbar": {
             "outlinewidth": 0,
             "ticks": ""
            },
            "colorscale": [
             [
              0,
              "#0d0887"
             ],
             [
              0.1111111111111111,
              "#46039f"
             ],
             [
              0.2222222222222222,
              "#7201a8"
             ],
             [
              0.3333333333333333,
              "#9c179e"
             ],
             [
              0.4444444444444444,
              "#bd3786"
             ],
             [
              0.5555555555555556,
              "#d8576b"
             ],
             [
              0.6666666666666666,
              "#ed7953"
             ],
             [
              0.7777777777777778,
              "#fb9f3a"
             ],
             [
              0.8888888888888888,
              "#fdca26"
             ],
             [
              1,
              "#f0f921"
             ]
            ],
            "type": "heatmap"
           }
          ],
          "heatmapgl": [
           {
            "colorbar": {
             "outlinewidth": 0,
             "ticks": ""
            },
            "colorscale": [
             [
              0,
              "#0d0887"
             ],
             [
              0.1111111111111111,
              "#46039f"
             ],
             [
              0.2222222222222222,
              "#7201a8"
             ],
             [
              0.3333333333333333,
              "#9c179e"
             ],
             [
              0.4444444444444444,
              "#bd3786"
             ],
             [
              0.5555555555555556,
              "#d8576b"
             ],
             [
              0.6666666666666666,
              "#ed7953"
             ],
             [
              0.7777777777777778,
              "#fb9f3a"
             ],
             [
              0.8888888888888888,
              "#fdca26"
             ],
             [
              1,
              "#f0f921"
             ]
            ],
            "type": "heatmapgl"
           }
          ],
          "histogram": [
           {
            "marker": {
             "colorbar": {
              "outlinewidth": 0,
              "ticks": ""
             }
            },
            "type": "histogram"
           }
          ],
          "histogram2d": [
           {
            "colorbar": {
             "outlinewidth": 0,
             "ticks": ""
            },
            "colorscale": [
             [
              0,
              "#0d0887"
             ],
             [
              0.1111111111111111,
              "#46039f"
             ],
             [
              0.2222222222222222,
              "#7201a8"
             ],
             [
              0.3333333333333333,
              "#9c179e"
             ],
             [
              0.4444444444444444,
              "#bd3786"
             ],
             [
              0.5555555555555556,
              "#d8576b"
             ],
             [
              0.6666666666666666,
              "#ed7953"
             ],
             [
              0.7777777777777778,
              "#fb9f3a"
             ],
             [
              0.8888888888888888,
              "#fdca26"
             ],
             [
              1,
              "#f0f921"
             ]
            ],
            "type": "histogram2d"
           }
          ],
          "histogram2dcontour": [
           {
            "colorbar": {
             "outlinewidth": 0,
             "ticks": ""
            },
            "colorscale": [
             [
              0,
              "#0d0887"
             ],
             [
              0.1111111111111111,
              "#46039f"
             ],
             [
              0.2222222222222222,
              "#7201a8"
             ],
             [
              0.3333333333333333,
              "#9c179e"
             ],
             [
              0.4444444444444444,
              "#bd3786"
             ],
             [
              0.5555555555555556,
              "#d8576b"
             ],
             [
              0.6666666666666666,
              "#ed7953"
             ],
             [
              0.7777777777777778,
              "#fb9f3a"
             ],
             [
              0.8888888888888888,
              "#fdca26"
             ],
             [
              1,
              "#f0f921"
             ]
            ],
            "type": "histogram2dcontour"
           }
          ],
          "mesh3d": [
           {
            "colorbar": {
             "outlinewidth": 0,
             "ticks": ""
            },
            "type": "mesh3d"
           }
          ],
          "parcoords": [
           {
            "line": {
             "colorbar": {
              "outlinewidth": 0,
              "ticks": ""
             }
            },
            "type": "parcoords"
           }
          ],
          "pie": [
           {
            "automargin": true,
            "type": "pie"
           }
          ],
          "scatter": [
           {
            "marker": {
             "colorbar": {
              "outlinewidth": 0,
              "ticks": ""
             }
            },
            "type": "scatter"
           }
          ],
          "scatter3d": [
           {
            "line": {
             "colorbar": {
              "outlinewidth": 0,
              "ticks": ""
             }
            },
            "marker": {
             "colorbar": {
              "outlinewidth": 0,
              "ticks": ""
             }
            },
            "type": "scatter3d"
           }
          ],
          "scattercarpet": [
           {
            "marker": {
             "colorbar": {
              "outlinewidth": 0,
              "ticks": ""
             }
            },
            "type": "scattercarpet"
           }
          ],
          "scattergeo": [
           {
            "marker": {
             "colorbar": {
              "outlinewidth": 0,
              "ticks": ""
             }
            },
            "type": "scattergeo"
           }
          ],
          "scattergl": [
           {
            "marker": {
             "colorbar": {
              "outlinewidth": 0,
              "ticks": ""
             }
            },
            "type": "scattergl"
           }
          ],
          "scattermapbox": [
           {
            "marker": {
             "colorbar": {
              "outlinewidth": 0,
              "ticks": ""
             }
            },
            "type": "scattermapbox"
           }
          ],
          "scatterpolar": [
           {
            "marker": {
             "colorbar": {
              "outlinewidth": 0,
              "ticks": ""
             }
            },
            "type": "scatterpolar"
           }
          ],
          "scatterpolargl": [
           {
            "marker": {
             "colorbar": {
              "outlinewidth": 0,
              "ticks": ""
             }
            },
            "type": "scatterpolargl"
           }
          ],
          "scatterternary": [
           {
            "marker": {
             "colorbar": {
              "outlinewidth": 0,
              "ticks": ""
             }
            },
            "type": "scatterternary"
           }
          ],
          "surface": [
           {
            "colorbar": {
             "outlinewidth": 0,
             "ticks": ""
            },
            "colorscale": [
             [
              0,
              "#0d0887"
             ],
             [
              0.1111111111111111,
              "#46039f"
             ],
             [
              0.2222222222222222,
              "#7201a8"
             ],
             [
              0.3333333333333333,
              "#9c179e"
             ],
             [
              0.4444444444444444,
              "#bd3786"
             ],
             [
              0.5555555555555556,
              "#d8576b"
             ],
             [
              0.6666666666666666,
              "#ed7953"
             ],
             [
              0.7777777777777778,
              "#fb9f3a"
             ],
             [
              0.8888888888888888,
              "#fdca26"
             ],
             [
              1,
              "#f0f921"
             ]
            ],
            "type": "surface"
           }
          ],
          "table": [
           {
            "cells": {
             "fill": {
              "color": "#EBF0F8"
             },
             "line": {
              "color": "white"
             }
            },
            "header": {
             "fill": {
              "color": "#C8D4E3"
             },
             "line": {
              "color": "white"
             }
            },
            "type": "table"
           }
          ]
         },
         "layout": {
          "annotationdefaults": {
           "arrowcolor": "#2a3f5f",
           "arrowhead": 0,
           "arrowwidth": 1
          },
          "coloraxis": {
           "colorbar": {
            "outlinewidth": 0,
            "ticks": ""
           }
          },
          "colorscale": {
           "diverging": [
            [
             0,
             "#8e0152"
            ],
            [
             0.1,
             "#c51b7d"
            ],
            [
             0.2,
             "#de77ae"
            ],
            [
             0.3,
             "#f1b6da"
            ],
            [
             0.4,
             "#fde0ef"
            ],
            [
             0.5,
             "#f7f7f7"
            ],
            [
             0.6,
             "#e6f5d0"
            ],
            [
             0.7,
             "#b8e186"
            ],
            [
             0.8,
             "#7fbc41"
            ],
            [
             0.9,
             "#4d9221"
            ],
            [
             1,
             "#276419"
            ]
           ],
           "sequential": [
            [
             0,
             "#0d0887"
            ],
            [
             0.1111111111111111,
             "#46039f"
            ],
            [
             0.2222222222222222,
             "#7201a8"
            ],
            [
             0.3333333333333333,
             "#9c179e"
            ],
            [
             0.4444444444444444,
             "#bd3786"
            ],
            [
             0.5555555555555556,
             "#d8576b"
            ],
            [
             0.6666666666666666,
             "#ed7953"
            ],
            [
             0.7777777777777778,
             "#fb9f3a"
            ],
            [
             0.8888888888888888,
             "#fdca26"
            ],
            [
             1,
             "#f0f921"
            ]
           ],
           "sequentialminus": [
            [
             0,
             "#0d0887"
            ],
            [
             0.1111111111111111,
             "#46039f"
            ],
            [
             0.2222222222222222,
             "#7201a8"
            ],
            [
             0.3333333333333333,
             "#9c179e"
            ],
            [
             0.4444444444444444,
             "#bd3786"
            ],
            [
             0.5555555555555556,
             "#d8576b"
            ],
            [
             0.6666666666666666,
             "#ed7953"
            ],
            [
             0.7777777777777778,
             "#fb9f3a"
            ],
            [
             0.8888888888888888,
             "#fdca26"
            ],
            [
             1,
             "#f0f921"
            ]
           ]
          },
          "colorway": [
           "#636efa",
           "#EF553B",
           "#00cc96",
           "#ab63fa",
           "#FFA15A",
           "#19d3f3",
           "#FF6692",
           "#B6E880",
           "#FF97FF",
           "#FECB52"
          ],
          "font": {
           "color": "#2a3f5f"
          },
          "geo": {
           "bgcolor": "white",
           "lakecolor": "white",
           "landcolor": "#E5ECF6",
           "showlakes": true,
           "showland": true,
           "subunitcolor": "white"
          },
          "hoverlabel": {
           "align": "left"
          },
          "hovermode": "closest",
          "mapbox": {
           "style": "light"
          },
          "paper_bgcolor": "white",
          "plot_bgcolor": "#E5ECF6",
          "polar": {
           "angularaxis": {
            "gridcolor": "white",
            "linecolor": "white",
            "ticks": ""
           },
           "bgcolor": "#E5ECF6",
           "radialaxis": {
            "gridcolor": "white",
            "linecolor": "white",
            "ticks": ""
           }
          },
          "scene": {
           "xaxis": {
            "backgroundcolor": "#E5ECF6",
            "gridcolor": "white",
            "gridwidth": 2,
            "linecolor": "white",
            "showbackground": true,
            "ticks": "",
            "zerolinecolor": "white"
           },
           "yaxis": {
            "backgroundcolor": "#E5ECF6",
            "gridcolor": "white",
            "gridwidth": 2,
            "linecolor": "white",
            "showbackground": true,
            "ticks": "",
            "zerolinecolor": "white"
           },
           "zaxis": {
            "backgroundcolor": "#E5ECF6",
            "gridcolor": "white",
            "gridwidth": 2,
            "linecolor": "white",
            "showbackground": true,
            "ticks": "",
            "zerolinecolor": "white"
           }
          },
          "shapedefaults": {
           "line": {
            "color": "#2a3f5f"
           }
          },
          "ternary": {
           "aaxis": {
            "gridcolor": "white",
            "linecolor": "white",
            "ticks": ""
           },
           "baxis": {
            "gridcolor": "white",
            "linecolor": "white",
            "ticks": ""
           },
           "bgcolor": "#E5ECF6",
           "caxis": {
            "gridcolor": "white",
            "linecolor": "white",
            "ticks": ""
           }
          },
          "title": {
           "x": 0.05
          },
          "xaxis": {
           "automargin": true,
           "gridcolor": "white",
           "linecolor": "white",
           "ticks": "",
           "title": {
            "standoff": 15
           },
           "zerolinecolor": "white",
           "zerolinewidth": 2
          },
          "yaxis": {
           "automargin": true,
           "gridcolor": "white",
           "linecolor": "white",
           "ticks": "",
           "title": {
            "standoff": 15
           },
           "zerolinecolor": "white",
           "zerolinewidth": 2
          }
         }
        }
       }
      },
      "text/html": [
       "<div>                            <div id=\"60fde2bf-d65b-455d-98dc-ba1e4b1e0ff9\" class=\"plotly-graph-div\" style=\"height:525px; width:100%;\"></div>            <script type=\"text/javascript\">                require([\"plotly\"], function(Plotly) {                    window.PLOTLYENV=window.PLOTLYENV || {};                                    if (document.getElementById(\"60fde2bf-d65b-455d-98dc-ba1e4b1e0ff9\")) {                    Plotly.newPlot(                        \"60fde2bf-d65b-455d-98dc-ba1e4b1e0ff9\",                        [{\"type\": \"scatter\", \"x\": [\"2019-09-07T00:00:00\", \"2019-09-14T00:00:00\", \"2019-09-21T00:00:00\", \"2019-10-01T00:00:00\", \"2019-10-07T00:00:00\", \"2019-10-14T00:00:00\", \"2019-10-21T00:00:00\", \"2019-11-01T00:00:00\", \"2019-11-07T00:00:00\", \"2019-11-14T00:00:00\", \"2019-11-21T00:00:00\", \"2019-12-01T00:00:00\", \"2019-12-07T00:00:00\", \"2019-12-14T00:00:00\"], \"y\": [2065.6150000000002, 2873.712364107642, 2962.268263968672, 2959.2186326939786, 2985.0387198666544, 2839.6002631350348, 2793.58488166792, 3138.2828957743554, 2893.4346381055916, 2923.3510671066997, 3020.7105878582242, 2999.717933340399, 2712.6344504322783, 2706.107329102433]}],                        {\"template\": {\"data\": {\"bar\": [{\"error_x\": {\"color\": \"#2a3f5f\"}, \"error_y\": {\"color\": \"#2a3f5f\"}, \"marker\": {\"line\": {\"color\": \"#E5ECF6\", \"width\": 0.5}}, \"type\": \"bar\"}], \"barpolar\": [{\"marker\": {\"line\": {\"color\": \"#E5ECF6\", \"width\": 0.5}}, \"type\": \"barpolar\"}], \"carpet\": [{\"aaxis\": {\"endlinecolor\": \"#2a3f5f\", \"gridcolor\": \"white\", \"linecolor\": \"white\", \"minorgridcolor\": \"white\", \"startlinecolor\": \"#2a3f5f\"}, \"baxis\": {\"endlinecolor\": \"#2a3f5f\", \"gridcolor\": \"white\", \"linecolor\": \"white\", \"minorgridcolor\": \"white\", \"startlinecolor\": \"#2a3f5f\"}, \"type\": \"carpet\"}], \"choropleth\": [{\"colorbar\": {\"outlinewidth\": 0, \"ticks\": \"\"}, \"type\": \"choropleth\"}], \"contour\": [{\"colorbar\": {\"outlinewidth\": 0, \"ticks\": \"\"}, \"colorscale\": [[0.0, \"#0d0887\"], [0.1111111111111111, \"#46039f\"], [0.2222222222222222, \"#7201a8\"], [0.3333333333333333, \"#9c179e\"], [0.4444444444444444, \"#bd3786\"], [0.5555555555555556, \"#d8576b\"], [0.6666666666666666, \"#ed7953\"], [0.7777777777777778, \"#fb9f3a\"], [0.8888888888888888, \"#fdca26\"], [1.0, \"#f0f921\"]], \"type\": \"contour\"}], \"contourcarpet\": [{\"colorbar\": {\"outlinewidth\": 0, \"ticks\": \"\"}, \"type\": \"contourcarpet\"}], \"heatmap\": [{\"colorbar\": {\"outlinewidth\": 0, \"ticks\": \"\"}, \"colorscale\": [[0.0, \"#0d0887\"], [0.1111111111111111, \"#46039f\"], [0.2222222222222222, \"#7201a8\"], [0.3333333333333333, \"#9c179e\"], [0.4444444444444444, \"#bd3786\"], [0.5555555555555556, \"#d8576b\"], [0.6666666666666666, \"#ed7953\"], [0.7777777777777778, \"#fb9f3a\"], [0.8888888888888888, \"#fdca26\"], [1.0, \"#f0f921\"]], \"type\": \"heatmap\"}], \"heatmapgl\": [{\"colorbar\": {\"outlinewidth\": 0, \"ticks\": \"\"}, \"colorscale\": [[0.0, \"#0d0887\"], [0.1111111111111111, \"#46039f\"], [0.2222222222222222, \"#7201a8\"], [0.3333333333333333, \"#9c179e\"], [0.4444444444444444, \"#bd3786\"], [0.5555555555555556, \"#d8576b\"], [0.6666666666666666, \"#ed7953\"], [0.7777777777777778, \"#fb9f3a\"], [0.8888888888888888, \"#fdca26\"], [1.0, \"#f0f921\"]], \"type\": \"heatmapgl\"}], \"histogram\": [{\"marker\": {\"colorbar\": {\"outlinewidth\": 0, \"ticks\": \"\"}}, \"type\": \"histogram\"}], \"histogram2d\": [{\"colorbar\": {\"outlinewidth\": 0, \"ticks\": \"\"}, \"colorscale\": [[0.0, \"#0d0887\"], [0.1111111111111111, \"#46039f\"], [0.2222222222222222, \"#7201a8\"], [0.3333333333333333, \"#9c179e\"], [0.4444444444444444, \"#bd3786\"], [0.5555555555555556, \"#d8576b\"], [0.6666666666666666, \"#ed7953\"], [0.7777777777777778, \"#fb9f3a\"], [0.8888888888888888, \"#fdca26\"], [1.0, \"#f0f921\"]], \"type\": \"histogram2d\"}], \"histogram2dcontour\": [{\"colorbar\": {\"outlinewidth\": 0, \"ticks\": \"\"}, \"colorscale\": [[0.0, \"#0d0887\"], [0.1111111111111111, \"#46039f\"], [0.2222222222222222, \"#7201a8\"], [0.3333333333333333, \"#9c179e\"], [0.4444444444444444, \"#bd3786\"], [0.5555555555555556, \"#d8576b\"], [0.6666666666666666, \"#ed7953\"], [0.7777777777777778, \"#fb9f3a\"], [0.8888888888888888, \"#fdca26\"], [1.0, \"#f0f921\"]], \"type\": \"histogram2dcontour\"}], \"mesh3d\": [{\"colorbar\": {\"outlinewidth\": 0, \"ticks\": \"\"}, \"type\": \"mesh3d\"}], \"parcoords\": [{\"line\": {\"colorbar\": {\"outlinewidth\": 0, \"ticks\": \"\"}}, \"type\": \"parcoords\"}], \"pie\": [{\"automargin\": true, \"type\": \"pie\"}], \"scatter\": [{\"marker\": {\"colorbar\": {\"outlinewidth\": 0, \"ticks\": \"\"}}, \"type\": \"scatter\"}], \"scatter3d\": [{\"line\": {\"colorbar\": {\"outlinewidth\": 0, \"ticks\": \"\"}}, \"marker\": {\"colorbar\": {\"outlinewidth\": 0, \"ticks\": \"\"}}, \"type\": \"scatter3d\"}], \"scattercarpet\": [{\"marker\": {\"colorbar\": {\"outlinewidth\": 0, \"ticks\": \"\"}}, \"type\": \"scattercarpet\"}], \"scattergeo\": [{\"marker\": {\"colorbar\": {\"outlinewidth\": 0, \"ticks\": \"\"}}, \"type\": \"scattergeo\"}], \"scattergl\": [{\"marker\": {\"colorbar\": {\"outlinewidth\": 0, \"ticks\": \"\"}}, \"type\": \"scattergl\"}], \"scattermapbox\": [{\"marker\": {\"colorbar\": {\"outlinewidth\": 0, \"ticks\": \"\"}}, \"type\": \"scattermapbox\"}], \"scatterpolar\": [{\"marker\": {\"colorbar\": {\"outlinewidth\": 0, \"ticks\": \"\"}}, \"type\": \"scatterpolar\"}], \"scatterpolargl\": [{\"marker\": {\"colorbar\": {\"outlinewidth\": 0, \"ticks\": \"\"}}, \"type\": \"scatterpolargl\"}], \"scatterternary\": [{\"marker\": {\"colorbar\": {\"outlinewidth\": 0, \"ticks\": \"\"}}, \"type\": \"scatterternary\"}], \"surface\": [{\"colorbar\": {\"outlinewidth\": 0, \"ticks\": \"\"}, \"colorscale\": [[0.0, \"#0d0887\"], [0.1111111111111111, \"#46039f\"], [0.2222222222222222, \"#7201a8\"], [0.3333333333333333, \"#9c179e\"], [0.4444444444444444, \"#bd3786\"], [0.5555555555555556, \"#d8576b\"], [0.6666666666666666, \"#ed7953\"], [0.7777777777777778, \"#fb9f3a\"], [0.8888888888888888, \"#fdca26\"], [1.0, \"#f0f921\"]], \"type\": \"surface\"}], \"table\": [{\"cells\": {\"fill\": {\"color\": \"#EBF0F8\"}, \"line\": {\"color\": \"white\"}}, \"header\": {\"fill\": {\"color\": \"#C8D4E3\"}, \"line\": {\"color\": \"white\"}}, \"type\": \"table\"}]}, \"layout\": {\"annotationdefaults\": {\"arrowcolor\": \"#2a3f5f\", \"arrowhead\": 0, \"arrowwidth\": 1}, \"coloraxis\": {\"colorbar\": {\"outlinewidth\": 0, \"ticks\": \"\"}}, \"colorscale\": {\"diverging\": [[0, \"#8e0152\"], [0.1, \"#c51b7d\"], [0.2, \"#de77ae\"], [0.3, \"#f1b6da\"], [0.4, \"#fde0ef\"], [0.5, \"#f7f7f7\"], [0.6, \"#e6f5d0\"], [0.7, \"#b8e186\"], [0.8, \"#7fbc41\"], [0.9, \"#4d9221\"], [1, \"#276419\"]], \"sequential\": [[0.0, \"#0d0887\"], [0.1111111111111111, \"#46039f\"], [0.2222222222222222, \"#7201a8\"], [0.3333333333333333, \"#9c179e\"], [0.4444444444444444, \"#bd3786\"], [0.5555555555555556, \"#d8576b\"], [0.6666666666666666, \"#ed7953\"], [0.7777777777777778, \"#fb9f3a\"], [0.8888888888888888, \"#fdca26\"], [1.0, \"#f0f921\"]], \"sequentialminus\": [[0.0, \"#0d0887\"], [0.1111111111111111, \"#46039f\"], [0.2222222222222222, \"#7201a8\"], [0.3333333333333333, \"#9c179e\"], [0.4444444444444444, \"#bd3786\"], [0.5555555555555556, \"#d8576b\"], [0.6666666666666666, \"#ed7953\"], [0.7777777777777778, \"#fb9f3a\"], [0.8888888888888888, \"#fdca26\"], [1.0, \"#f0f921\"]]}, \"colorway\": [\"#636efa\", \"#EF553B\", \"#00cc96\", \"#ab63fa\", \"#FFA15A\", \"#19d3f3\", \"#FF6692\", \"#B6E880\", \"#FF97FF\", \"#FECB52\"], \"font\": {\"color\": \"#2a3f5f\"}, \"geo\": {\"bgcolor\": \"white\", \"lakecolor\": \"white\", \"landcolor\": \"#E5ECF6\", \"showlakes\": true, \"showland\": true, \"subunitcolor\": \"white\"}, \"hoverlabel\": {\"align\": \"left\"}, \"hovermode\": \"closest\", \"mapbox\": {\"style\": \"light\"}, \"paper_bgcolor\": \"white\", \"plot_bgcolor\": \"#E5ECF6\", \"polar\": {\"angularaxis\": {\"gridcolor\": \"white\", \"linecolor\": \"white\", \"ticks\": \"\"}, \"bgcolor\": \"#E5ECF6\", \"radialaxis\": {\"gridcolor\": \"white\", \"linecolor\": \"white\", \"ticks\": \"\"}}, \"scene\": {\"xaxis\": {\"backgroundcolor\": \"#E5ECF6\", \"gridcolor\": \"white\", \"gridwidth\": 2, \"linecolor\": \"white\", \"showbackground\": true, \"ticks\": \"\", \"zerolinecolor\": \"white\"}, \"yaxis\": {\"backgroundcolor\": \"#E5ECF6\", \"gridcolor\": \"white\", \"gridwidth\": 2, \"linecolor\": \"white\", \"showbackground\": true, \"ticks\": \"\", \"zerolinecolor\": \"white\"}, \"zaxis\": {\"backgroundcolor\": \"#E5ECF6\", \"gridcolor\": \"white\", \"gridwidth\": 2, \"linecolor\": \"white\", \"showbackground\": true, \"ticks\": \"\", \"zerolinecolor\": \"white\"}}, \"shapedefaults\": {\"line\": {\"color\": \"#2a3f5f\"}}, \"ternary\": {\"aaxis\": {\"gridcolor\": \"white\", \"linecolor\": \"white\", \"ticks\": \"\"}, \"baxis\": {\"gridcolor\": \"white\", \"linecolor\": \"white\", \"ticks\": \"\"}, \"bgcolor\": \"#E5ECF6\", \"caxis\": {\"gridcolor\": \"white\", \"linecolor\": \"white\", \"ticks\": \"\"}}, \"title\": {\"x\": 0.05}, \"xaxis\": {\"automargin\": true, \"gridcolor\": \"white\", \"linecolor\": \"white\", \"ticks\": \"\", \"title\": {\"standoff\": 15}, \"zerolinecolor\": \"white\", \"zerolinewidth\": 2}, \"yaxis\": {\"automargin\": true, \"gridcolor\": \"white\", \"linecolor\": \"white\", \"ticks\": \"\", \"title\": {\"standoff\": 15}, \"zerolinecolor\": \"white\", \"zerolinewidth\": 2}}}},                        {\"responsive\": true}                    ).then(function(){\n",
       "                            \n",
       "var gd = document.getElementById('60fde2bf-d65b-455d-98dc-ba1e4b1e0ff9');\n",
       "var x = new MutationObserver(function (mutations, observer) {{\n",
       "        var display = window.getComputedStyle(gd).display;\n",
       "        if (!display || display === 'none') {{\n",
       "            console.log([gd, 'removed!']);\n",
       "            Plotly.purge(gd);\n",
       "            observer.disconnect();\n",
       "        }}\n",
       "}});\n",
       "\n",
       "// Listen for the removal of the full notebook cells\n",
       "var notebookContainer = gd.closest('#notebook-container');\n",
       "if (notebookContainer) {{\n",
       "    x.observe(notebookContainer, {childList: true});\n",
       "}}\n",
       "\n",
       "// Listen for the clearing of the current output cell\n",
       "var outputEl = gd.closest('.output');\n",
       "if (outputEl) {{\n",
       "    x.observe(outputEl, {childList: true});\n",
       "}}\n",
       "\n",
       "                        })                };                });            </script>        </div>"
      ]
     },
     "metadata": {},
     "output_type": "display_data"
    }
   ],
   "source": [
    "#H_M\n",
    "fig = go.Figure([go.Scatter(x=H_M['week'], y=H_M['amount'])])\n",
    "fig.show()"
   ]
  }
 ],
 "metadata": {
  "kernelspec": {
   "display_name": "Python 3",
   "language": "python",
   "name": "python3"
  },
  "language_info": {
   "codemirror_mode": {
    "name": "ipython",
    "version": 3
   },
   "file_extension": ".py",
   "mimetype": "text/x-python",
   "name": "python",
   "nbconvert_exporter": "python",
   "pygments_lexer": "ipython3",
   "version": "3.7.6"
  }
 },
 "nbformat": 4,
 "nbformat_minor": 4
}
