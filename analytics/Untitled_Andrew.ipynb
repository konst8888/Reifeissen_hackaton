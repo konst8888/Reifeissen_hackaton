{
 "cells": [
  {
   "cell_type": "code",
   "execution_count": 1,
   "metadata": {},
   "outputs": [],
   "source": [
    "import pandas as pd"
   ]
  },
  {
   "cell_type": "code",
   "execution_count": 16,
   "metadata": {},
   "outputs": [],
   "source": [
    "client_categories = pd.read_csv(\"client_categories.csv\", delimiter = ';')\n",
    "clients_last_2_fixed = pd.read_csv(\"clients_last_2_fixed.csv\", delimiter = ';')\n",
    "skidki = pd.read_csv('skidki.csv', delimiter=';', engine='python')\n",
    "MCC_last = pd.read_excel('MCC_last.xlsx', delimiter=';')\n",
    "MCC = pd.read_excel('MCC.xlsx', delimiter=';')\n",
    "store_last_2 = pd.read_csv('store_last_2.csv', delimiter=';', engine='python')"
   ]
  },
  {
   "cell_type": "code",
   "execution_count": 54,
   "metadata": {},
   "outputs": [],
   "source": [
    "transactions_last_2 = client_categories = pd.read_csv(\"transactions_last_2.csv\", delimiter = ';', nrows=1000000)"
   ]
  },
  {
   "cell_type": "code",
   "execution_count": 23,
   "metadata": {},
   "outputs": [
    {
     "data": {
      "text/plain": [
       "Tourism                      631\n",
       "Other                         37\n",
       "Maintenance and building      24\n",
       "Medical                       20\n",
       "Auto                          18\n",
       "Clothes                       16\n",
       "Services                      15\n",
       "Cultural life                 15\n",
       "Legal and  insurance          14\n",
       "Active rest                   11\n",
       "Design, print                 11\n",
       "Furniture, home                9\n",
       "Supermarkets                   8\n",
       "Soft                           7\n",
       "Sport                          6\n",
       "Kids                           6\n",
       "Postal services, delivery      5\n",
       "Education                      5\n",
       "Providers                      4\n",
       "Payments                       4\n",
       "Discount                       4\n",
       "Railway and sea transport      3\n",
       "Parking&Fuel                   3\n",
       "Gift, hobby                    3\n",
       "Money                          3\n",
       "Beauty                         2\n",
       "Alcohol and tobacco            2\n",
       "Pet                            2\n",
       "Restaurants                    2\n",
       "Local and autotransport        2\n",
       "Taxi                           1\n",
       "Gambling                       1\n",
       "Fast Food                      1\n",
       "Video games                    1\n",
       "Name: category, dtype: int64"
      ]
     },
     "execution_count": 23,
     "metadata": {},
     "output_type": "execute_result"
    }
   ],
   "source": [
    "MCC['category'].value_counts()"
   ]
  },
  {
   "cell_type": "code",
   "execution_count": 45,
   "metadata": {},
   "outputs": [],
   "source": [
    "#transactions_last_2\n",
    "#purch_mrch = transactions_last_2.merge(MCC, left_on='mcc', right_on='mcc')\n",
    "transactions_last_2.merge(MCC, left_on='mcc', right_on='mcc').reset_index(inplace=True)"
   ]
  },
  {
   "cell_type": "code",
   "execution_count": 37,
   "metadata": {},
   "outputs": [
    {
     "data": {
      "text/html": [
       "<div>\n",
       "<style scoped>\n",
       "    .dataframe tbody tr th:only-of-type {\n",
       "        vertical-align: middle;\n",
       "    }\n",
       "\n",
       "    .dataframe tbody tr th {\n",
       "        vertical-align: top;\n",
       "    }\n",
       "\n",
       "    .dataframe thead th {\n",
       "        text-align: right;\n",
       "    }\n",
       "</style>\n",
       "<table border=\"1\" class=\"dataframe\">\n",
       "  <thead>\n",
       "    <tr style=\"text-align: right;\">\n",
       "      <th></th>\n",
       "      <th>purchdate</th>\n",
       "      <th>amount</th>\n",
       "      <th>mcc</th>\n",
       "      <th>mrchcity</th>\n",
       "      <th>mrchname</th>\n",
       "      <th>cnum</th>\n",
       "      <th>category</th>\n",
       "      <th>store_name</th>\n",
       "      <th>merchant_name</th>\n",
       "    </tr>\n",
       "  </thead>\n",
       "  <tbody>\n",
       "    <tr>\n",
       "      <th>0</th>\n",
       "      <td>2019-11-02 00:00:00</td>\n",
       "      <td>9000000.0</td>\n",
       "      <td>5691</td>\n",
       "      <td>MOSCOW</td>\n",
       "      <td>IA7D1H Z1D1T7</td>\n",
       "      <td>MJNLMQ</td>\n",
       "      <td>Clothes</td>\n",
       "      <td>Chanel</td>\n",
       "      <td>IA7D1H Z1D1T7</td>\n",
       "    </tr>\n",
       "    <tr>\n",
       "      <th>1</th>\n",
       "      <td>2019-11-02 00:00:00</td>\n",
       "      <td>9000000.0</td>\n",
       "      <td>5691</td>\n",
       "      <td>MOSCOW</td>\n",
       "      <td>IA7D1H Z1D1T7</td>\n",
       "      <td>MJNLMQ</td>\n",
       "      <td>Clothes</td>\n",
       "      <td>Chanel</td>\n",
       "      <td>IA7D1H Z1D1T7</td>\n",
       "    </tr>\n",
       "    <tr>\n",
       "      <th>2</th>\n",
       "      <td>2019-11-02 00:00:00</td>\n",
       "      <td>5000000.0</td>\n",
       "      <td>5691</td>\n",
       "      <td>MOSCOW</td>\n",
       "      <td>IA7D1H Z1D1T7</td>\n",
       "      <td>MJNLMQ</td>\n",
       "      <td>Clothes</td>\n",
       "      <td>Chanel</td>\n",
       "      <td>IA7D1H Z1D1T7</td>\n",
       "    </tr>\n",
       "    <tr>\n",
       "      <th>3</th>\n",
       "      <td>2019-11-02 00:00:00</td>\n",
       "      <td>5000000.0</td>\n",
       "      <td>5691</td>\n",
       "      <td>MOSCOW</td>\n",
       "      <td>IA7D1H Z1D1T7</td>\n",
       "      <td>MJNLMQ</td>\n",
       "      <td>Clothes</td>\n",
       "      <td>Chanel</td>\n",
       "      <td>IA7D1H Z1D1T7</td>\n",
       "    </tr>\n",
       "    <tr>\n",
       "      <th>4</th>\n",
       "      <td>2019-12-10 00:00:00</td>\n",
       "      <td>2371100.0</td>\n",
       "      <td>5691</td>\n",
       "      <td>MOSCOW</td>\n",
       "      <td>IA7D1H Z1D1T7</td>\n",
       "      <td>EEQ4VM</td>\n",
       "      <td>Clothes</td>\n",
       "      <td>Chanel</td>\n",
       "      <td>IA7D1H Z1D1T7</td>\n",
       "    </tr>\n",
       "  </tbody>\n",
       "</table>\n",
       "</div>"
      ],
      "text/plain": [
       "             purchdate     amount   mcc mrchcity       mrchname    cnum  \\\n",
       "0  2019-11-02 00:00:00  9000000.0  5691   MOSCOW  IA7D1H Z1D1T7  MJNLMQ   \n",
       "1  2019-11-02 00:00:00  9000000.0  5691   MOSCOW  IA7D1H Z1D1T7  MJNLMQ   \n",
       "2  2019-11-02 00:00:00  5000000.0  5691   MOSCOW  IA7D1H Z1D1T7  MJNLMQ   \n",
       "3  2019-11-02 00:00:00  5000000.0  5691   MOSCOW  IA7D1H Z1D1T7  MJNLMQ   \n",
       "4  2019-12-10 00:00:00  2371100.0  5691   MOSCOW  IA7D1H Z1D1T7  EEQ4VM   \n",
       "\n",
       "  category store_name  merchant_name  \n",
       "0  Clothes     Chanel  IA7D1H Z1D1T7  \n",
       "1  Clothes     Chanel  IA7D1H Z1D1T7  \n",
       "2  Clothes     Chanel  IA7D1H Z1D1T7  \n",
       "3  Clothes     Chanel  IA7D1H Z1D1T7  \n",
       "4  Clothes     Chanel  IA7D1H Z1D1T7  "
      ]
     },
     "execution_count": 37,
     "metadata": {},
     "output_type": "execute_result"
    }
   ],
   "source": [
    "#71JX9HXE W7X \n",
    "purch_store_category = purch_mrch.merge(store_last_2, left_on='mrchname', right_on='merchant_name')\n",
    "purch_store_category.head()\n"
   ]
  },
  {
   "cell_type": "code",
   "execution_count": 88,
   "metadata": {},
   "outputs": [],
   "source": [
    "#Chanel\t\n",
    "#Clothes\n",
    "\n",
    "Louis_Vuitton = pd.DataFrame(purch_store_category[purch_store_category['store_name'] == 'Louis Vuitton'].groupby(by='purchdate').mean()['amount']/1000).reset_index()"
   ]
  },
  {
   "cell_type": "code",
   "execution_count": 48,
   "metadata": {},
   "outputs": [
    {
     "data": {
      "text/plain": [
       "Louis Vuitton       486\n",
       "Bosco               464\n",
       "Снежная Королева    380\n",
       "ЦУМ                 365\n",
       "Prada               293\n",
       "                   ... \n",
       "Город ТЦ              1\n",
       "Outlandia             1\n",
       "Киномода              1\n",
       "Crocus Сток           1\n",
       "Laurel                1\n",
       "Name: store_name, Length: 435, dtype: int64"
      ]
     },
     "execution_count": 48,
     "metadata": {},
     "output_type": "execute_result"
    }
   ],
   "source": [
    "purch_store_category[purch_store_category['category'] == 'Clothes']['store_name'].value_counts()"
   ]
  },
  {
   "cell_type": "code",
   "execution_count": 59,
   "metadata": {},
   "outputs": [
    {
     "data": {
      "text/plain": [
       "purchdate\n",
       "2019-09-11 00:00:00    118.050000\n",
       "2019-09-15 00:00:00    123.581340\n",
       "2019-09-16 00:00:00    100.220728\n",
       "2019-09-17 00:00:00    156.077812\n",
       "2019-09-18 00:00:00    110.216663\n",
       "                          ...    \n",
       "2019-12-15 00:00:00    129.855694\n",
       "2019-12-16 00:00:00    156.504834\n",
       "2019-12-17 00:00:00    154.392002\n",
       "2019-12-18 00:00:00    133.139759\n",
       "2019-12-19 00:00:00     59.121667\n",
       "Name: amount, Length: 97, dtype: float64"
      ]
     },
     "execution_count": 59,
     "metadata": {},
     "output_type": "execute_result"
    }
   ],
   "source": [
    "purch_store_category[purch_store_category['category'] == 'Clothes'].groupby(by='purchdate').mean()['amount']/1000"
   ]
  },
  {
   "cell_type": "code",
   "execution_count": 84,
   "metadata": {},
   "outputs": [],
   "source": [
    "Clothers = pd.DataFrame(purch_store_category[purch_store_category['category'] == 'Clothes'].groupby(by='purchdate').mean()['amount']/1000).reset_index()"
   ]
  },
  {
   "cell_type": "code",
   "execution_count": 85,
   "metadata": {},
   "outputs": [
    {
     "data": {
      "text/html": [
       "<div>\n",
       "<style scoped>\n",
       "    .dataframe tbody tr th:only-of-type {\n",
       "        vertical-align: middle;\n",
       "    }\n",
       "\n",
       "    .dataframe tbody tr th {\n",
       "        vertical-align: top;\n",
       "    }\n",
       "\n",
       "    .dataframe thead th {\n",
       "        text-align: right;\n",
       "    }\n",
       "</style>\n",
       "<table border=\"1\" class=\"dataframe\">\n",
       "  <thead>\n",
       "    <tr style=\"text-align: right;\">\n",
       "      <th></th>\n",
       "      <th>purchdate</th>\n",
       "      <th>amount</th>\n",
       "    </tr>\n",
       "  </thead>\n",
       "  <tbody>\n",
       "    <tr>\n",
       "      <th>0</th>\n",
       "      <td>2019-09-11 00:00:00</td>\n",
       "      <td>118.050000</td>\n",
       "    </tr>\n",
       "    <tr>\n",
       "      <th>1</th>\n",
       "      <td>2019-09-15 00:00:00</td>\n",
       "      <td>123.581340</td>\n",
       "    </tr>\n",
       "    <tr>\n",
       "      <th>2</th>\n",
       "      <td>2019-09-16 00:00:00</td>\n",
       "      <td>100.220728</td>\n",
       "    </tr>\n",
       "    <tr>\n",
       "      <th>3</th>\n",
       "      <td>2019-09-17 00:00:00</td>\n",
       "      <td>156.077812</td>\n",
       "    </tr>\n",
       "    <tr>\n",
       "      <th>4</th>\n",
       "      <td>2019-09-18 00:00:00</td>\n",
       "      <td>110.216663</td>\n",
       "    </tr>\n",
       "    <tr>\n",
       "      <th>...</th>\n",
       "      <td>...</td>\n",
       "      <td>...</td>\n",
       "    </tr>\n",
       "    <tr>\n",
       "      <th>92</th>\n",
       "      <td>2019-12-15 00:00:00</td>\n",
       "      <td>129.855694</td>\n",
       "    </tr>\n",
       "    <tr>\n",
       "      <th>93</th>\n",
       "      <td>2019-12-16 00:00:00</td>\n",
       "      <td>156.504834</td>\n",
       "    </tr>\n",
       "    <tr>\n",
       "      <th>94</th>\n",
       "      <td>2019-12-17 00:00:00</td>\n",
       "      <td>154.392002</td>\n",
       "    </tr>\n",
       "    <tr>\n",
       "      <th>95</th>\n",
       "      <td>2019-12-18 00:00:00</td>\n",
       "      <td>133.139759</td>\n",
       "    </tr>\n",
       "    <tr>\n",
       "      <th>96</th>\n",
       "      <td>2019-12-19 00:00:00</td>\n",
       "      <td>59.121667</td>\n",
       "    </tr>\n",
       "  </tbody>\n",
       "</table>\n",
       "<p>97 rows × 2 columns</p>\n",
       "</div>"
      ],
      "text/plain": [
       "              purchdate      amount\n",
       "0   2019-09-11 00:00:00  118.050000\n",
       "1   2019-09-15 00:00:00  123.581340\n",
       "2   2019-09-16 00:00:00  100.220728\n",
       "3   2019-09-17 00:00:00  156.077812\n",
       "4   2019-09-18 00:00:00  110.216663\n",
       "..                  ...         ...\n",
       "92  2019-12-15 00:00:00  129.855694\n",
       "93  2019-12-16 00:00:00  156.504834\n",
       "94  2019-12-17 00:00:00  154.392002\n",
       "95  2019-12-18 00:00:00  133.139759\n",
       "96  2019-12-19 00:00:00   59.121667\n",
       "\n",
       "[97 rows x 2 columns]"
      ]
     },
     "execution_count": 85,
     "metadata": {},
     "output_type": "execute_result"
    }
   ],
   "source": [
    "#transactions_last_2.to_csv('trans_million.csv', index=False)\n",
    "Clothers"
   ]
  },
  {
   "cell_type": "code",
   "execution_count": 62,
   "metadata": {},
   "outputs": [],
   "source": [
    "import plotly.graph_objects as go"
   ]
  },
  {
   "cell_type": "code",
   "execution_count": 89,
   "metadata": {},
   "outputs": [
    {
     "data": {
      "application/vnd.plotly.v1+json": {
       "config": {
        "plotlyServerURL": "https://plot.ly"
       },
       "data": [
        {
         "type": "scatter",
         "x": [
          "2019-09-11 00:00:00",
          "2019-09-15 00:00:00",
          "2019-09-16 00:00:00",
          "2019-09-17 00:00:00",
          "2019-09-18 00:00:00",
          "2019-09-19 00:00:00",
          "2019-09-20 00:00:00",
          "2019-09-21 00:00:00",
          "2019-09-22 00:00:00",
          "2019-09-23 00:00:00",
          "2019-09-24 00:00:00",
          "2019-09-25 00:00:00",
          "2019-09-26 00:00:00",
          "2019-09-27 00:00:00",
          "2019-09-28 00:00:00",
          "2019-09-29 00:00:00",
          "2019-09-30 00:00:00",
          "2019-10-01 00:00:00",
          "2019-10-02 00:00:00",
          "2019-10-03 00:00:00",
          "2019-10-04 00:00:00",
          "2019-10-05 00:00:00",
          "2019-10-06 00:00:00",
          "2019-10-07 00:00:00",
          "2019-10-08 00:00:00",
          "2019-10-09 00:00:00",
          "2019-10-10 00:00:00",
          "2019-10-11 00:00:00",
          "2019-10-12 00:00:00",
          "2019-10-13 00:00:00",
          "2019-10-14 00:00:00",
          "2019-10-15 00:00:00",
          "2019-10-16 00:00:00",
          "2019-10-17 00:00:00",
          "2019-10-18 00:00:00",
          "2019-10-19 00:00:00",
          "2019-10-20 00:00:00",
          "2019-10-21 00:00:00",
          "2019-10-22 00:00:00",
          "2019-10-23 00:00:00",
          "2019-10-24 00:00:00",
          "2019-10-25 00:00:00",
          "2019-10-26 00:00:00",
          "2019-10-27 00:00:00",
          "2019-10-28 00:00:00",
          "2019-10-29 00:00:00",
          "2019-10-30 00:00:00",
          "2019-10-31 00:00:00",
          "2019-11-01 00:00:00",
          "2019-11-02 00:00:00",
          "2019-11-03 00:00:00",
          "2019-11-04 00:00:00",
          "2019-11-05 00:00:00",
          "2019-11-06 00:00:00",
          "2019-11-07 00:00:00",
          "2019-11-08 00:00:00",
          "2019-11-09 00:00:00",
          "2019-11-10 00:00:00",
          "2019-11-11 00:00:00",
          "2019-11-12 00:00:00",
          "2019-11-13 00:00:00",
          "2019-11-14 00:00:00",
          "2019-11-15 00:00:00",
          "2019-11-16 00:00:00",
          "2019-11-17 00:00:00",
          "2019-11-18 00:00:00",
          "2019-11-19 00:00:00",
          "2019-11-20 00:00:00",
          "2019-11-21 00:00:00",
          "2019-11-22 00:00:00",
          "2019-11-23 00:00:00",
          "2019-11-24 00:00:00",
          "2019-11-25 00:00:00",
          "2019-11-26 00:00:00",
          "2019-11-27 00:00:00",
          "2019-11-28 00:00:00",
          "2019-11-29 00:00:00",
          "2019-11-30 00:00:00",
          "2019-12-01 00:00:00",
          "2019-12-02 00:00:00",
          "2019-12-03 00:00:00",
          "2019-12-04 00:00:00",
          "2019-12-05 00:00:00",
          "2019-12-06 00:00:00",
          "2019-12-07 00:00:00",
          "2019-12-08 00:00:00",
          "2019-12-09 00:00:00",
          "2019-12-10 00:00:00",
          "2019-12-11 00:00:00",
          "2019-12-12 00:00:00",
          "2019-12-13 00:00:00",
          "2019-12-14 00:00:00",
          "2019-12-15 00:00:00",
          "2019-12-16 00:00:00",
          "2019-12-17 00:00:00",
          "2019-12-18 00:00:00",
          "2019-12-19 00:00:00"
         ],
         "y": [
          118.05,
          123.58134000000001,
          100.22072775000001,
          156.07781153846153,
          110.21666276595747,
          114.01898255319148,
          109.23649871794869,
          133.91097776859507,
          119.31794312000001,
          134.853796875,
          132.10488746478873,
          122.67132301204818,
          102.3960389380531,
          117.19853896907216,
          119.92749772058822,
          112.04854166666664,
          132.32404642857142,
          124.03619675,
          92.95734485294119,
          140.90197616438354,
          115.00860578947368,
          114.26887317241379,
          102.52785816000001,
          131.84452666666667,
          114.498958,
          136.24245200000001,
          99.11091084507042,
          92.84904880434783,
          113.30567063492063,
          112.3835348888889,
          108.80908712121213,
          131.56158311475411,
          104.71040588235293,
          130.78831914285715,
          97.65679681159419,
          111.39524729323308,
          133.35080247524752,
          103.57569059701494,
          130.40743061538458,
          131.34509030303033,
          101.51030555555556,
          214.7647854651163,
          120.62748343999999,
          93.57569096153846,
          116.1708750980392,
          128.7685759090909,
          103.21710069444444,
          101.11545194444444,
          153.92719533333334,
          309.46807633587787,
          91.8209787037037,
          119.9944973873874,
          103.27731276923078,
          159.01713310344826,
          91.5927724590164,
          97.74009970149254,
          104.58964888888889,
          115.01085052631578,
          90.2992651724138,
          108.0896196875,
          143.36199206349207,
          121.58428060606059,
          141.3154079787234,
          127.98288807407407,
          89.31262358333333,
          146.34052166666666,
          94.05350423076922,
          113.40238192982456,
          102.7684036470588,
          158.75236123966943,
          118.43237274285713,
          109.13639485875706,
          128.95855975609757,
          129.1447405882353,
          170.2783237037037,
          140.11820613636365,
          100.3303446357616,
          140.71232265957448,
          119.13733975903614,
          98.99083786666667,
          144.99220671052632,
          96.48239652173912,
          192.80173166666665,
          105.86058451219512,
          135.20306282208585,
          124.1181936231884,
          156.81956742424242,
          165.8590491780822,
          133.9767284883721,
          136.12767256410257,
          110.85631598214285,
          132.6818636036036,
          129.8556937593985,
          156.50483406779662,
          154.39200209302325,
          133.13975869565218,
          59.12166666666666
         ]
        }
       ],
       "layout": {
        "template": {
         "data": {
          "bar": [
           {
            "error_x": {
             "color": "#2a3f5f"
            },
            "error_y": {
             "color": "#2a3f5f"
            },
            "marker": {
             "line": {
              "color": "#E5ECF6",
              "width": 0.5
             }
            },
            "type": "bar"
           }
          ],
          "barpolar": [
           {
            "marker": {
             "line": {
              "color": "#E5ECF6",
              "width": 0.5
             }
            },
            "type": "barpolar"
           }
          ],
          "carpet": [
           {
            "aaxis": {
             "endlinecolor": "#2a3f5f",
             "gridcolor": "white",
             "linecolor": "white",
             "minorgridcolor": "white",
             "startlinecolor": "#2a3f5f"
            },
            "baxis": {
             "endlinecolor": "#2a3f5f",
             "gridcolor": "white",
             "linecolor": "white",
             "minorgridcolor": "white",
             "startlinecolor": "#2a3f5f"
            },
            "type": "carpet"
           }
          ],
          "choropleth": [
           {
            "colorbar": {
             "outlinewidth": 0,
             "ticks": ""
            },
            "type": "choropleth"
           }
          ],
          "contour": [
           {
            "colorbar": {
             "outlinewidth": 0,
             "ticks": ""
            },
            "colorscale": [
             [
              0,
              "#0d0887"
             ],
             [
              0.1111111111111111,
              "#46039f"
             ],
             [
              0.2222222222222222,
              "#7201a8"
             ],
             [
              0.3333333333333333,
              "#9c179e"
             ],
             [
              0.4444444444444444,
              "#bd3786"
             ],
             [
              0.5555555555555556,
              "#d8576b"
             ],
             [
              0.6666666666666666,
              "#ed7953"
             ],
             [
              0.7777777777777778,
              "#fb9f3a"
             ],
             [
              0.8888888888888888,
              "#fdca26"
             ],
             [
              1,
              "#f0f921"
             ]
            ],
            "type": "contour"
           }
          ],
          "contourcarpet": [
           {
            "colorbar": {
             "outlinewidth": 0,
             "ticks": ""
            },
            "type": "contourcarpet"
           }
          ],
          "heatmap": [
           {
            "colorbar": {
             "outlinewidth": 0,
             "ticks": ""
            },
            "colorscale": [
             [
              0,
              "#0d0887"
             ],
             [
              0.1111111111111111,
              "#46039f"
             ],
             [
              0.2222222222222222,
              "#7201a8"
             ],
             [
              0.3333333333333333,
              "#9c179e"
             ],
             [
              0.4444444444444444,
              "#bd3786"
             ],
             [
              0.5555555555555556,
              "#d8576b"
             ],
             [
              0.6666666666666666,
              "#ed7953"
             ],
             [
              0.7777777777777778,
              "#fb9f3a"
             ],
             [
              0.8888888888888888,
              "#fdca26"
             ],
             [
              1,
              "#f0f921"
             ]
            ],
            "type": "heatmap"
           }
          ],
          "heatmapgl": [
           {
            "colorbar": {
             "outlinewidth": 0,
             "ticks": ""
            },
            "colorscale": [
             [
              0,
              "#0d0887"
             ],
             [
              0.1111111111111111,
              "#46039f"
             ],
             [
              0.2222222222222222,
              "#7201a8"
             ],
             [
              0.3333333333333333,
              "#9c179e"
             ],
             [
              0.4444444444444444,
              "#bd3786"
             ],
             [
              0.5555555555555556,
              "#d8576b"
             ],
             [
              0.6666666666666666,
              "#ed7953"
             ],
             [
              0.7777777777777778,
              "#fb9f3a"
             ],
             [
              0.8888888888888888,
              "#fdca26"
             ],
             [
              1,
              "#f0f921"
             ]
            ],
            "type": "heatmapgl"
           }
          ],
          "histogram": [
           {
            "marker": {
             "colorbar": {
              "outlinewidth": 0,
              "ticks": ""
             }
            },
            "type": "histogram"
           }
          ],
          "histogram2d": [
           {
            "colorbar": {
             "outlinewidth": 0,
             "ticks": ""
            },
            "colorscale": [
             [
              0,
              "#0d0887"
             ],
             [
              0.1111111111111111,
              "#46039f"
             ],
             [
              0.2222222222222222,
              "#7201a8"
             ],
             [
              0.3333333333333333,
              "#9c179e"
             ],
             [
              0.4444444444444444,
              "#bd3786"
             ],
             [
              0.5555555555555556,
              "#d8576b"
             ],
             [
              0.6666666666666666,
              "#ed7953"
             ],
             [
              0.7777777777777778,
              "#fb9f3a"
             ],
             [
              0.8888888888888888,
              "#fdca26"
             ],
             [
              1,
              "#f0f921"
             ]
            ],
            "type": "histogram2d"
           }
          ],
          "histogram2dcontour": [
           {
            "colorbar": {
             "outlinewidth": 0,
             "ticks": ""
            },
            "colorscale": [
             [
              0,
              "#0d0887"
             ],
             [
              0.1111111111111111,
              "#46039f"
             ],
             [
              0.2222222222222222,
              "#7201a8"
             ],
             [
              0.3333333333333333,
              "#9c179e"
             ],
             [
              0.4444444444444444,
              "#bd3786"
             ],
             [
              0.5555555555555556,
              "#d8576b"
             ],
             [
              0.6666666666666666,
              "#ed7953"
             ],
             [
              0.7777777777777778,
              "#fb9f3a"
             ],
             [
              0.8888888888888888,
              "#fdca26"
             ],
             [
              1,
              "#f0f921"
             ]
            ],
            "type": "histogram2dcontour"
           }
          ],
          "mesh3d": [
           {
            "colorbar": {
             "outlinewidth": 0,
             "ticks": ""
            },
            "type": "mesh3d"
           }
          ],
          "parcoords": [
           {
            "line": {
             "colorbar": {
              "outlinewidth": 0,
              "ticks": ""
             }
            },
            "type": "parcoords"
           }
          ],
          "pie": [
           {
            "automargin": true,
            "type": "pie"
           }
          ],
          "scatter": [
           {
            "marker": {
             "colorbar": {
              "outlinewidth": 0,
              "ticks": ""
             }
            },
            "type": "scatter"
           }
          ],
          "scatter3d": [
           {
            "line": {
             "colorbar": {
              "outlinewidth": 0,
              "ticks": ""
             }
            },
            "marker": {
             "colorbar": {
              "outlinewidth": 0,
              "ticks": ""
             }
            },
            "type": "scatter3d"
           }
          ],
          "scattercarpet": [
           {
            "marker": {
             "colorbar": {
              "outlinewidth": 0,
              "ticks": ""
             }
            },
            "type": "scattercarpet"
           }
          ],
          "scattergeo": [
           {
            "marker": {
             "colorbar": {
              "outlinewidth": 0,
              "ticks": ""
             }
            },
            "type": "scattergeo"
           }
          ],
          "scattergl": [
           {
            "marker": {
             "colorbar": {
              "outlinewidth": 0,
              "ticks": ""
             }
            },
            "type": "scattergl"
           }
          ],
          "scattermapbox": [
           {
            "marker": {
             "colorbar": {
              "outlinewidth": 0,
              "ticks": ""
             }
            },
            "type": "scattermapbox"
           }
          ],
          "scatterpolar": [
           {
            "marker": {
             "colorbar": {
              "outlinewidth": 0,
              "ticks": ""
             }
            },
            "type": "scatterpolar"
           }
          ],
          "scatterpolargl": [
           {
            "marker": {
             "colorbar": {
              "outlinewidth": 0,
              "ticks": ""
             }
            },
            "type": "scatterpolargl"
           }
          ],
          "scatterternary": [
           {
            "marker": {
             "colorbar": {
              "outlinewidth": 0,
              "ticks": ""
             }
            },
            "type": "scatterternary"
           }
          ],
          "surface": [
           {
            "colorbar": {
             "outlinewidth": 0,
             "ticks": ""
            },
            "colorscale": [
             [
              0,
              "#0d0887"
             ],
             [
              0.1111111111111111,
              "#46039f"
             ],
             [
              0.2222222222222222,
              "#7201a8"
             ],
             [
              0.3333333333333333,
              "#9c179e"
             ],
             [
              0.4444444444444444,
              "#bd3786"
             ],
             [
              0.5555555555555556,
              "#d8576b"
             ],
             [
              0.6666666666666666,
              "#ed7953"
             ],
             [
              0.7777777777777778,
              "#fb9f3a"
             ],
             [
              0.8888888888888888,
              "#fdca26"
             ],
             [
              1,
              "#f0f921"
             ]
            ],
            "type": "surface"
           }
          ],
          "table": [
           {
            "cells": {
             "fill": {
              "color": "#EBF0F8"
             },
             "line": {
              "color": "white"
             }
            },
            "header": {
             "fill": {
              "color": "#C8D4E3"
             },
             "line": {
              "color": "white"
             }
            },
            "type": "table"
           }
          ]
         },
         "layout": {
          "annotationdefaults": {
           "arrowcolor": "#2a3f5f",
           "arrowhead": 0,
           "arrowwidth": 1
          },
          "coloraxis": {
           "colorbar": {
            "outlinewidth": 0,
            "ticks": ""
           }
          },
          "colorscale": {
           "diverging": [
            [
             0,
             "#8e0152"
            ],
            [
             0.1,
             "#c51b7d"
            ],
            [
             0.2,
             "#de77ae"
            ],
            [
             0.3,
             "#f1b6da"
            ],
            [
             0.4,
             "#fde0ef"
            ],
            [
             0.5,
             "#f7f7f7"
            ],
            [
             0.6,
             "#e6f5d0"
            ],
            [
             0.7,
             "#b8e186"
            ],
            [
             0.8,
             "#7fbc41"
            ],
            [
             0.9,
             "#4d9221"
            ],
            [
             1,
             "#276419"
            ]
           ],
           "sequential": [
            [
             0,
             "#0d0887"
            ],
            [
             0.1111111111111111,
             "#46039f"
            ],
            [
             0.2222222222222222,
             "#7201a8"
            ],
            [
             0.3333333333333333,
             "#9c179e"
            ],
            [
             0.4444444444444444,
             "#bd3786"
            ],
            [
             0.5555555555555556,
             "#d8576b"
            ],
            [
             0.6666666666666666,
             "#ed7953"
            ],
            [
             0.7777777777777778,
             "#fb9f3a"
            ],
            [
             0.8888888888888888,
             "#fdca26"
            ],
            [
             1,
             "#f0f921"
            ]
           ],
           "sequentialminus": [
            [
             0,
             "#0d0887"
            ],
            [
             0.1111111111111111,
             "#46039f"
            ],
            [
             0.2222222222222222,
             "#7201a8"
            ],
            [
             0.3333333333333333,
             "#9c179e"
            ],
            [
             0.4444444444444444,
             "#bd3786"
            ],
            [
             0.5555555555555556,
             "#d8576b"
            ],
            [
             0.6666666666666666,
             "#ed7953"
            ],
            [
             0.7777777777777778,
             "#fb9f3a"
            ],
            [
             0.8888888888888888,
             "#fdca26"
            ],
            [
             1,
             "#f0f921"
            ]
           ]
          },
          "colorway": [
           "#636efa",
           "#EF553B",
           "#00cc96",
           "#ab63fa",
           "#FFA15A",
           "#19d3f3",
           "#FF6692",
           "#B6E880",
           "#FF97FF",
           "#FECB52"
          ],
          "font": {
           "color": "#2a3f5f"
          },
          "geo": {
           "bgcolor": "white",
           "lakecolor": "white",
           "landcolor": "#E5ECF6",
           "showlakes": true,
           "showland": true,
           "subunitcolor": "white"
          },
          "hoverlabel": {
           "align": "left"
          },
          "hovermode": "closest",
          "mapbox": {
           "style": "light"
          },
          "paper_bgcolor": "white",
          "plot_bgcolor": "#E5ECF6",
          "polar": {
           "angularaxis": {
            "gridcolor": "white",
            "linecolor": "white",
            "ticks": ""
           },
           "bgcolor": "#E5ECF6",
           "radialaxis": {
            "gridcolor": "white",
            "linecolor": "white",
            "ticks": ""
           }
          },
          "scene": {
           "xaxis": {
            "backgroundcolor": "#E5ECF6",
            "gridcolor": "white",
            "gridwidth": 2,
            "linecolor": "white",
            "showbackground": true,
            "ticks": "",
            "zerolinecolor": "white"
           },
           "yaxis": {
            "backgroundcolor": "#E5ECF6",
            "gridcolor": "white",
            "gridwidth": 2,
            "linecolor": "white",
            "showbackground": true,
            "ticks": "",
            "zerolinecolor": "white"
           },
           "zaxis": {
            "backgroundcolor": "#E5ECF6",
            "gridcolor": "white",
            "gridwidth": 2,
            "linecolor": "white",
            "showbackground": true,
            "ticks": "",
            "zerolinecolor": "white"
           }
          },
          "shapedefaults": {
           "line": {
            "color": "#2a3f5f"
           }
          },
          "ternary": {
           "aaxis": {
            "gridcolor": "white",
            "linecolor": "white",
            "ticks": ""
           },
           "baxis": {
            "gridcolor": "white",
            "linecolor": "white",
            "ticks": ""
           },
           "bgcolor": "#E5ECF6",
           "caxis": {
            "gridcolor": "white",
            "linecolor": "white",
            "ticks": ""
           }
          },
          "title": {
           "x": 0.05
          },
          "xaxis": {
           "automargin": true,
           "gridcolor": "white",
           "linecolor": "white",
           "ticks": "",
           "title": {
            "standoff": 15
           },
           "zerolinecolor": "white",
           "zerolinewidth": 2
          },
          "yaxis": {
           "automargin": true,
           "gridcolor": "white",
           "linecolor": "white",
           "ticks": "",
           "title": {
            "standoff": 15
           },
           "zerolinecolor": "white",
           "zerolinewidth": 2
          }
         }
        }
       }
      },
      "text/html": [
       "<div>                            <div id=\"f49874d5-3194-4826-a996-d0ca0d34e480\" class=\"plotly-graph-div\" style=\"height:525px; width:100%;\"></div>            <script type=\"text/javascript\">                require([\"plotly\"], function(Plotly) {                    window.PLOTLYENV=window.PLOTLYENV || {};                                    if (document.getElementById(\"f49874d5-3194-4826-a996-d0ca0d34e480\")) {                    Plotly.newPlot(                        \"f49874d5-3194-4826-a996-d0ca0d34e480\",                        [{\"type\": \"scatter\", \"x\": [\"2019-09-11 00:00:00\", \"2019-09-15 00:00:00\", \"2019-09-16 00:00:00\", \"2019-09-17 00:00:00\", \"2019-09-18 00:00:00\", \"2019-09-19 00:00:00\", \"2019-09-20 00:00:00\", \"2019-09-21 00:00:00\", \"2019-09-22 00:00:00\", \"2019-09-23 00:00:00\", \"2019-09-24 00:00:00\", \"2019-09-25 00:00:00\", \"2019-09-26 00:00:00\", \"2019-09-27 00:00:00\", \"2019-09-28 00:00:00\", \"2019-09-29 00:00:00\", \"2019-09-30 00:00:00\", \"2019-10-01 00:00:00\", \"2019-10-02 00:00:00\", \"2019-10-03 00:00:00\", \"2019-10-04 00:00:00\", \"2019-10-05 00:00:00\", \"2019-10-06 00:00:00\", \"2019-10-07 00:00:00\", \"2019-10-08 00:00:00\", \"2019-10-09 00:00:00\", \"2019-10-10 00:00:00\", \"2019-10-11 00:00:00\", \"2019-10-12 00:00:00\", \"2019-10-13 00:00:00\", \"2019-10-14 00:00:00\", \"2019-10-15 00:00:00\", \"2019-10-16 00:00:00\", \"2019-10-17 00:00:00\", \"2019-10-18 00:00:00\", \"2019-10-19 00:00:00\", \"2019-10-20 00:00:00\", \"2019-10-21 00:00:00\", \"2019-10-22 00:00:00\", \"2019-10-23 00:00:00\", \"2019-10-24 00:00:00\", \"2019-10-25 00:00:00\", \"2019-10-26 00:00:00\", \"2019-10-27 00:00:00\", \"2019-10-28 00:00:00\", \"2019-10-29 00:00:00\", \"2019-10-30 00:00:00\", \"2019-10-31 00:00:00\", \"2019-11-01 00:00:00\", \"2019-11-02 00:00:00\", \"2019-11-03 00:00:00\", \"2019-11-04 00:00:00\", \"2019-11-05 00:00:00\", \"2019-11-06 00:00:00\", \"2019-11-07 00:00:00\", \"2019-11-08 00:00:00\", \"2019-11-09 00:00:00\", \"2019-11-10 00:00:00\", \"2019-11-11 00:00:00\", \"2019-11-12 00:00:00\", \"2019-11-13 00:00:00\", \"2019-11-14 00:00:00\", \"2019-11-15 00:00:00\", \"2019-11-16 00:00:00\", \"2019-11-17 00:00:00\", \"2019-11-18 00:00:00\", \"2019-11-19 00:00:00\", \"2019-11-20 00:00:00\", \"2019-11-21 00:00:00\", \"2019-11-22 00:00:00\", \"2019-11-23 00:00:00\", \"2019-11-24 00:00:00\", \"2019-11-25 00:00:00\", \"2019-11-26 00:00:00\", \"2019-11-27 00:00:00\", \"2019-11-28 00:00:00\", \"2019-11-29 00:00:00\", \"2019-11-30 00:00:00\", \"2019-12-01 00:00:00\", \"2019-12-02 00:00:00\", \"2019-12-03 00:00:00\", \"2019-12-04 00:00:00\", \"2019-12-05 00:00:00\", \"2019-12-06 00:00:00\", \"2019-12-07 00:00:00\", \"2019-12-08 00:00:00\", \"2019-12-09 00:00:00\", \"2019-12-10 00:00:00\", \"2019-12-11 00:00:00\", \"2019-12-12 00:00:00\", \"2019-12-13 00:00:00\", \"2019-12-14 00:00:00\", \"2019-12-15 00:00:00\", \"2019-12-16 00:00:00\", \"2019-12-17 00:00:00\", \"2019-12-18 00:00:00\", \"2019-12-19 00:00:00\"], \"y\": [118.05, 123.58134000000001, 100.22072775000001, 156.07781153846153, 110.21666276595747, 114.01898255319148, 109.23649871794869, 133.91097776859507, 119.31794312000001, 134.853796875, 132.10488746478873, 122.67132301204818, 102.3960389380531, 117.19853896907216, 119.92749772058822, 112.04854166666664, 132.32404642857142, 124.03619675, 92.95734485294119, 140.90197616438354, 115.00860578947368, 114.26887317241379, 102.52785816000001, 131.84452666666667, 114.498958, 136.24245200000001, 99.11091084507042, 92.84904880434783, 113.30567063492063, 112.3835348888889, 108.80908712121213, 131.56158311475411, 104.71040588235293, 130.78831914285715, 97.65679681159419, 111.39524729323308, 133.35080247524752, 103.57569059701494, 130.40743061538458, 131.34509030303033, 101.51030555555556, 214.7647854651163, 120.62748343999999, 93.57569096153846, 116.1708750980392, 128.7685759090909, 103.21710069444444, 101.11545194444444, 153.92719533333334, 309.46807633587787, 91.8209787037037, 119.9944973873874, 103.27731276923078, 159.01713310344826, 91.5927724590164, 97.74009970149254, 104.58964888888889, 115.01085052631578, 90.2992651724138, 108.0896196875, 143.36199206349207, 121.58428060606059, 141.3154079787234, 127.98288807407407, 89.31262358333333, 146.34052166666666, 94.05350423076922, 113.40238192982456, 102.7684036470588, 158.75236123966943, 118.43237274285713, 109.13639485875706, 128.95855975609757, 129.1447405882353, 170.2783237037037, 140.11820613636365, 100.3303446357616, 140.71232265957448, 119.13733975903614, 98.99083786666667, 144.99220671052632, 96.48239652173912, 192.80173166666665, 105.86058451219512, 135.20306282208585, 124.1181936231884, 156.81956742424242, 165.8590491780822, 133.9767284883721, 136.12767256410257, 110.85631598214285, 132.6818636036036, 129.8556937593985, 156.50483406779662, 154.39200209302325, 133.13975869565218, 59.12166666666666]}],                        {\"template\": {\"data\": {\"bar\": [{\"error_x\": {\"color\": \"#2a3f5f\"}, \"error_y\": {\"color\": \"#2a3f5f\"}, \"marker\": {\"line\": {\"color\": \"#E5ECF6\", \"width\": 0.5}}, \"type\": \"bar\"}], \"barpolar\": [{\"marker\": {\"line\": {\"color\": \"#E5ECF6\", \"width\": 0.5}}, \"type\": \"barpolar\"}], \"carpet\": [{\"aaxis\": {\"endlinecolor\": \"#2a3f5f\", \"gridcolor\": \"white\", \"linecolor\": \"white\", \"minorgridcolor\": \"white\", \"startlinecolor\": \"#2a3f5f\"}, \"baxis\": {\"endlinecolor\": \"#2a3f5f\", \"gridcolor\": \"white\", \"linecolor\": \"white\", \"minorgridcolor\": \"white\", \"startlinecolor\": \"#2a3f5f\"}, \"type\": \"carpet\"}], \"choropleth\": [{\"colorbar\": {\"outlinewidth\": 0, \"ticks\": \"\"}, \"type\": \"choropleth\"}], \"contour\": [{\"colorbar\": {\"outlinewidth\": 0, \"ticks\": \"\"}, \"colorscale\": [[0.0, \"#0d0887\"], [0.1111111111111111, \"#46039f\"], [0.2222222222222222, \"#7201a8\"], [0.3333333333333333, \"#9c179e\"], [0.4444444444444444, \"#bd3786\"], [0.5555555555555556, \"#d8576b\"], [0.6666666666666666, \"#ed7953\"], [0.7777777777777778, \"#fb9f3a\"], [0.8888888888888888, \"#fdca26\"], [1.0, \"#f0f921\"]], \"type\": \"contour\"}], \"contourcarpet\": [{\"colorbar\": {\"outlinewidth\": 0, \"ticks\": \"\"}, \"type\": \"contourcarpet\"}], \"heatmap\": [{\"colorbar\": {\"outlinewidth\": 0, \"ticks\": \"\"}, \"colorscale\": [[0.0, \"#0d0887\"], [0.1111111111111111, \"#46039f\"], [0.2222222222222222, \"#7201a8\"], [0.3333333333333333, \"#9c179e\"], [0.4444444444444444, \"#bd3786\"], [0.5555555555555556, \"#d8576b\"], [0.6666666666666666, \"#ed7953\"], [0.7777777777777778, \"#fb9f3a\"], [0.8888888888888888, \"#fdca26\"], [1.0, \"#f0f921\"]], \"type\": \"heatmap\"}], \"heatmapgl\": [{\"colorbar\": {\"outlinewidth\": 0, \"ticks\": \"\"}, \"colorscale\": [[0.0, \"#0d0887\"], [0.1111111111111111, \"#46039f\"], [0.2222222222222222, \"#7201a8\"], [0.3333333333333333, \"#9c179e\"], [0.4444444444444444, \"#bd3786\"], [0.5555555555555556, \"#d8576b\"], [0.6666666666666666, \"#ed7953\"], [0.7777777777777778, \"#fb9f3a\"], [0.8888888888888888, \"#fdca26\"], [1.0, \"#f0f921\"]], \"type\": \"heatmapgl\"}], \"histogram\": [{\"marker\": {\"colorbar\": {\"outlinewidth\": 0, \"ticks\": \"\"}}, \"type\": \"histogram\"}], \"histogram2d\": [{\"colorbar\": {\"outlinewidth\": 0, \"ticks\": \"\"}, \"colorscale\": [[0.0, \"#0d0887\"], [0.1111111111111111, \"#46039f\"], [0.2222222222222222, \"#7201a8\"], [0.3333333333333333, \"#9c179e\"], [0.4444444444444444, \"#bd3786\"], [0.5555555555555556, \"#d8576b\"], [0.6666666666666666, \"#ed7953\"], [0.7777777777777778, \"#fb9f3a\"], [0.8888888888888888, \"#fdca26\"], [1.0, \"#f0f921\"]], \"type\": \"histogram2d\"}], \"histogram2dcontour\": [{\"colorbar\": {\"outlinewidth\": 0, \"ticks\": \"\"}, \"colorscale\": [[0.0, \"#0d0887\"], [0.1111111111111111, \"#46039f\"], [0.2222222222222222, \"#7201a8\"], [0.3333333333333333, \"#9c179e\"], [0.4444444444444444, \"#bd3786\"], [0.5555555555555556, \"#d8576b\"], [0.6666666666666666, \"#ed7953\"], [0.7777777777777778, \"#fb9f3a\"], [0.8888888888888888, \"#fdca26\"], [1.0, \"#f0f921\"]], \"type\": \"histogram2dcontour\"}], \"mesh3d\": [{\"colorbar\": {\"outlinewidth\": 0, \"ticks\": \"\"}, \"type\": \"mesh3d\"}], \"parcoords\": [{\"line\": {\"colorbar\": {\"outlinewidth\": 0, \"ticks\": \"\"}}, \"type\": \"parcoords\"}], \"pie\": [{\"automargin\": true, \"type\": \"pie\"}], \"scatter\": [{\"marker\": {\"colorbar\": {\"outlinewidth\": 0, \"ticks\": \"\"}}, \"type\": \"scatter\"}], \"scatter3d\": [{\"line\": {\"colorbar\": {\"outlinewidth\": 0, \"ticks\": \"\"}}, \"marker\": {\"colorbar\": {\"outlinewidth\": 0, \"ticks\": \"\"}}, \"type\": \"scatter3d\"}], \"scattercarpet\": [{\"marker\": {\"colorbar\": {\"outlinewidth\": 0, \"ticks\": \"\"}}, \"type\": \"scattercarpet\"}], \"scattergeo\": [{\"marker\": {\"colorbar\": {\"outlinewidth\": 0, \"ticks\": \"\"}}, \"type\": \"scattergeo\"}], \"scattergl\": [{\"marker\": {\"colorbar\": {\"outlinewidth\": 0, \"ticks\": \"\"}}, \"type\": \"scattergl\"}], \"scattermapbox\": [{\"marker\": {\"colorbar\": {\"outlinewidth\": 0, \"ticks\": \"\"}}, \"type\": \"scattermapbox\"}], \"scatterpolar\": [{\"marker\": {\"colorbar\": {\"outlinewidth\": 0, \"ticks\": \"\"}}, \"type\": \"scatterpolar\"}], \"scatterpolargl\": [{\"marker\": {\"colorbar\": {\"outlinewidth\": 0, \"ticks\": \"\"}}, \"type\": \"scatterpolargl\"}], \"scatterternary\": [{\"marker\": {\"colorbar\": {\"outlinewidth\": 0, \"ticks\": \"\"}}, \"type\": \"scatterternary\"}], \"surface\": [{\"colorbar\": {\"outlinewidth\": 0, \"ticks\": \"\"}, \"colorscale\": [[0.0, \"#0d0887\"], [0.1111111111111111, \"#46039f\"], [0.2222222222222222, \"#7201a8\"], [0.3333333333333333, \"#9c179e\"], [0.4444444444444444, \"#bd3786\"], [0.5555555555555556, \"#d8576b\"], [0.6666666666666666, \"#ed7953\"], [0.7777777777777778, \"#fb9f3a\"], [0.8888888888888888, \"#fdca26\"], [1.0, \"#f0f921\"]], \"type\": \"surface\"}], \"table\": [{\"cells\": {\"fill\": {\"color\": \"#EBF0F8\"}, \"line\": {\"color\": \"white\"}}, \"header\": {\"fill\": {\"color\": \"#C8D4E3\"}, \"line\": {\"color\": \"white\"}}, \"type\": \"table\"}]}, \"layout\": {\"annotationdefaults\": {\"arrowcolor\": \"#2a3f5f\", \"arrowhead\": 0, \"arrowwidth\": 1}, \"coloraxis\": {\"colorbar\": {\"outlinewidth\": 0, \"ticks\": \"\"}}, \"colorscale\": {\"diverging\": [[0, \"#8e0152\"], [0.1, \"#c51b7d\"], [0.2, \"#de77ae\"], [0.3, \"#f1b6da\"], [0.4, \"#fde0ef\"], [0.5, \"#f7f7f7\"], [0.6, \"#e6f5d0\"], [0.7, \"#b8e186\"], [0.8, \"#7fbc41\"], [0.9, \"#4d9221\"], [1, \"#276419\"]], \"sequential\": [[0.0, \"#0d0887\"], [0.1111111111111111, \"#46039f\"], [0.2222222222222222, \"#7201a8\"], [0.3333333333333333, \"#9c179e\"], [0.4444444444444444, \"#bd3786\"], [0.5555555555555556, \"#d8576b\"], [0.6666666666666666, \"#ed7953\"], [0.7777777777777778, \"#fb9f3a\"], [0.8888888888888888, \"#fdca26\"], [1.0, \"#f0f921\"]], \"sequentialminus\": [[0.0, \"#0d0887\"], [0.1111111111111111, \"#46039f\"], [0.2222222222222222, \"#7201a8\"], [0.3333333333333333, \"#9c179e\"], [0.4444444444444444, \"#bd3786\"], [0.5555555555555556, \"#d8576b\"], [0.6666666666666666, \"#ed7953\"], [0.7777777777777778, \"#fb9f3a\"], [0.8888888888888888, \"#fdca26\"], [1.0, \"#f0f921\"]]}, \"colorway\": [\"#636efa\", \"#EF553B\", \"#00cc96\", \"#ab63fa\", \"#FFA15A\", \"#19d3f3\", \"#FF6692\", \"#B6E880\", \"#FF97FF\", \"#FECB52\"], \"font\": {\"color\": \"#2a3f5f\"}, \"geo\": {\"bgcolor\": \"white\", \"lakecolor\": \"white\", \"landcolor\": \"#E5ECF6\", \"showlakes\": true, \"showland\": true, \"subunitcolor\": \"white\"}, \"hoverlabel\": {\"align\": \"left\"}, \"hovermode\": \"closest\", \"mapbox\": {\"style\": \"light\"}, \"paper_bgcolor\": \"white\", \"plot_bgcolor\": \"#E5ECF6\", \"polar\": {\"angularaxis\": {\"gridcolor\": \"white\", \"linecolor\": \"white\", \"ticks\": \"\"}, \"bgcolor\": \"#E5ECF6\", \"radialaxis\": {\"gridcolor\": \"white\", \"linecolor\": \"white\", \"ticks\": \"\"}}, \"scene\": {\"xaxis\": {\"backgroundcolor\": \"#E5ECF6\", \"gridcolor\": \"white\", \"gridwidth\": 2, \"linecolor\": \"white\", \"showbackground\": true, \"ticks\": \"\", \"zerolinecolor\": \"white\"}, \"yaxis\": {\"backgroundcolor\": \"#E5ECF6\", \"gridcolor\": \"white\", \"gridwidth\": 2, \"linecolor\": \"white\", \"showbackground\": true, \"ticks\": \"\", \"zerolinecolor\": \"white\"}, \"zaxis\": {\"backgroundcolor\": \"#E5ECF6\", \"gridcolor\": \"white\", \"gridwidth\": 2, \"linecolor\": \"white\", \"showbackground\": true, \"ticks\": \"\", \"zerolinecolor\": \"white\"}}, \"shapedefaults\": {\"line\": {\"color\": \"#2a3f5f\"}}, \"ternary\": {\"aaxis\": {\"gridcolor\": \"white\", \"linecolor\": \"white\", \"ticks\": \"\"}, \"baxis\": {\"gridcolor\": \"white\", \"linecolor\": \"white\", \"ticks\": \"\"}, \"bgcolor\": \"#E5ECF6\", \"caxis\": {\"gridcolor\": \"white\", \"linecolor\": \"white\", \"ticks\": \"\"}}, \"title\": {\"x\": 0.05}, \"xaxis\": {\"automargin\": true, \"gridcolor\": \"white\", \"linecolor\": \"white\", \"ticks\": \"\", \"title\": {\"standoff\": 15}, \"zerolinecolor\": \"white\", \"zerolinewidth\": 2}, \"yaxis\": {\"automargin\": true, \"gridcolor\": \"white\", \"linecolor\": \"white\", \"ticks\": \"\", \"title\": {\"standoff\": 15}, \"zerolinecolor\": \"white\", \"zerolinewidth\": 2}}}},                        {\"responsive\": true}                    ).then(function(){\n",
       "                            \n",
       "var gd = document.getElementById('f49874d5-3194-4826-a996-d0ca0d34e480');\n",
       "var x = new MutationObserver(function (mutations, observer) {{\n",
       "        var display = window.getComputedStyle(gd).display;\n",
       "        if (!display || display === 'none') {{\n",
       "            console.log([gd, 'removed!']);\n",
       "            Plotly.purge(gd);\n",
       "            observer.disconnect();\n",
       "        }}\n",
       "}});\n",
       "\n",
       "// Listen for the removal of the full notebook cells\n",
       "var notebookContainer = gd.closest('#notebook-container');\n",
       "if (notebookContainer) {{\n",
       "    x.observe(notebookContainer, {childList: true});\n",
       "}}\n",
       "\n",
       "// Listen for the clearing of the current output cell\n",
       "var outputEl = gd.closest('.output');\n",
       "if (outputEl) {{\n",
       "    x.observe(outputEl, {childList: true});\n",
       "}}\n",
       "\n",
       "                        })                };                });            </script>        </div>"
      ]
     },
     "metadata": {},
     "output_type": "display_data"
    }
   ],
   "source": [
    "fig = go.Figure([go.Scatter(x=Clothers['purchdate'], y=Clothers['amount'])])\n",
    "fig.show()"
   ]
  },
  {
   "cell_type": "code",
   "execution_count": 95,
   "metadata": {},
   "outputs": [
    {
     "data": {
      "application/vnd.plotly.v1+json": {
       "config": {
        "plotlyServerURL": "https://plot.ly"
       },
       "data": [
        {
         "type": "scatter",
         "x": [
          "2019-09-16 00:00:00",
          "2019-09-17 00:00:00",
          "2019-09-18 00:00:00",
          "2019-09-19 00:00:00",
          "2019-09-20 00:00:00",
          "2019-09-21 00:00:00",
          "2019-09-22 00:00:00",
          "2019-09-23 00:00:00",
          "2019-09-24 00:00:00",
          "2019-09-25 00:00:00",
          "2019-09-26 00:00:00",
          "2019-09-27 00:00:00",
          "2019-09-28 00:00:00",
          "2019-09-29 00:00:00",
          "2019-09-30 00:00:00",
          "2019-10-01 00:00:00",
          "2019-10-02 00:00:00",
          "2019-10-03 00:00:00",
          "2019-10-04 00:00:00",
          "2019-10-05 00:00:00",
          "2019-10-06 00:00:00",
          "2019-10-07 00:00:00",
          "2019-10-08 00:00:00",
          "2019-10-09 00:00:00",
          "2019-10-10 00:00:00",
          "2019-10-11 00:00:00",
          "2019-10-12 00:00:00",
          "2019-10-13 00:00:00",
          "2019-10-14 00:00:00",
          "2019-10-15 00:00:00",
          "2019-10-16 00:00:00",
          "2019-10-17 00:00:00",
          "2019-10-18 00:00:00",
          "2019-10-19 00:00:00",
          "2019-10-20 00:00:00",
          "2019-10-21 00:00:00",
          "2019-10-22 00:00:00",
          "2019-10-23 00:00:00",
          "2019-10-24 00:00:00",
          "2019-10-25 00:00:00",
          "2019-10-26 00:00:00",
          "2019-10-27 00:00:00",
          "2019-10-28 00:00:00",
          "2019-10-29 00:00:00",
          "2019-10-30 00:00:00",
          "2019-10-31 00:00:00",
          "2019-11-01 00:00:00",
          "2019-11-02 00:00:00",
          "2019-11-03 00:00:00",
          "2019-11-04 00:00:00",
          "2019-11-05 00:00:00",
          "2019-11-06 00:00:00",
          "2019-11-07 00:00:00",
          "2019-11-08 00:00:00",
          "2019-11-09 00:00:00",
          "2019-11-10 00:00:00",
          "2019-11-12 00:00:00",
          "2019-11-13 00:00:00",
          "2019-11-14 00:00:00",
          "2019-11-15 00:00:00",
          "2019-11-16 00:00:00",
          "2019-11-17 00:00:00",
          "2019-11-18 00:00:00",
          "2019-11-19 00:00:00",
          "2019-11-20 00:00:00",
          "2019-11-21 00:00:00",
          "2019-11-22 00:00:00",
          "2019-11-23 00:00:00",
          "2019-11-24 00:00:00",
          "2019-11-25 00:00:00",
          "2019-11-26 00:00:00",
          "2019-11-27 00:00:00",
          "2019-11-28 00:00:00",
          "2019-11-29 00:00:00",
          "2019-11-30 00:00:00",
          "2019-12-01 00:00:00",
          "2019-12-02 00:00:00",
          "2019-12-03 00:00:00",
          "2019-12-04 00:00:00",
          "2019-12-05 00:00:00",
          "2019-12-06 00:00:00",
          "2019-12-07 00:00:00",
          "2019-12-08 00:00:00",
          "2019-12-09 00:00:00",
          "2019-12-10 00:00:00",
          "2019-12-11 00:00:00",
          "2019-12-12 00:00:00",
          "2019-12-13 00:00:00",
          "2019-12-14 00:00:00",
          "2019-12-15 00:00:00",
          "2019-12-16 00:00:00",
          "2019-12-17 00:00:00"
         ],
         "y": [
          160.375,
          87,
          114.44,
          143.27777777777777,
          207.75,
          90.16666666666667,
          94.52,
          276.75,
          101.48,
          157.8,
          99.925,
          139.04,
          110.66666666666667,
          161.72222222222223,
          241.4,
          98.85,
          128.925,
          50,
          79.125,
          110.9875,
          115.07142857142857,
          160.8,
          425.8,
          198.0625,
          120.95,
          121.8,
          81.7,
          93.35714285714286,
          92.25,
          155.35,
          150.99285714285713,
          155.36,
          150.53333333333333,
          139.16666666666666,
          136.16666666666666,
          127.6525,
          125.49166666666667,
          117,
          111.5375,
          1385.9833333333333,
          83.35714285714286,
          107.6,
          57.7,
          110.66666666666667,
          127.03333333333333,
          161.075,
          97.1,
          108.71428571428571,
          100.44,
          124,
          130.625,
          99.38125,
          94.33333333333333,
          206.9055,
          136.55,
          98.16666666666667,
          117,
          93.4,
          155.625,
          103.5,
          163.38888888888889,
          110.44,
          356.4166666666667,
          200.33333333333334,
          78.325,
          74.2,
          65.55,
          137.25666666666666,
          143.8,
          70.0625,
          58.95,
          102.7,
          127.64285714285714,
          160.86763200000001,
          156.525,
          111.27777777777779,
          72.13333333333333,
          84.725,
          87.56666666666668,
          73.6,
          118,
          155.3357142857143,
          234.45,
          106.43333333333332,
          117.4,
          79.525,
          79.25,
          173.16363636363636,
          168.6153846153846,
          143.8923076923077,
          67,
          119
         ]
        }
       ],
       "layout": {
        "template": {
         "data": {
          "bar": [
           {
            "error_x": {
             "color": "#2a3f5f"
            },
            "error_y": {
             "color": "#2a3f5f"
            },
            "marker": {
             "line": {
              "color": "#E5ECF6",
              "width": 0.5
             }
            },
            "type": "bar"
           }
          ],
          "barpolar": [
           {
            "marker": {
             "line": {
              "color": "#E5ECF6",
              "width": 0.5
             }
            },
            "type": "barpolar"
           }
          ],
          "carpet": [
           {
            "aaxis": {
             "endlinecolor": "#2a3f5f",
             "gridcolor": "white",
             "linecolor": "white",
             "minorgridcolor": "white",
             "startlinecolor": "#2a3f5f"
            },
            "baxis": {
             "endlinecolor": "#2a3f5f",
             "gridcolor": "white",
             "linecolor": "white",
             "minorgridcolor": "white",
             "startlinecolor": "#2a3f5f"
            },
            "type": "carpet"
           }
          ],
          "choropleth": [
           {
            "colorbar": {
             "outlinewidth": 0,
             "ticks": ""
            },
            "type": "choropleth"
           }
          ],
          "contour": [
           {
            "colorbar": {
             "outlinewidth": 0,
             "ticks": ""
            },
            "colorscale": [
             [
              0,
              "#0d0887"
             ],
             [
              0.1111111111111111,
              "#46039f"
             ],
             [
              0.2222222222222222,
              "#7201a8"
             ],
             [
              0.3333333333333333,
              "#9c179e"
             ],
             [
              0.4444444444444444,
              "#bd3786"
             ],
             [
              0.5555555555555556,
              "#d8576b"
             ],
             [
              0.6666666666666666,
              "#ed7953"
             ],
             [
              0.7777777777777778,
              "#fb9f3a"
             ],
             [
              0.8888888888888888,
              "#fdca26"
             ],
             [
              1,
              "#f0f921"
             ]
            ],
            "type": "contour"
           }
          ],
          "contourcarpet": [
           {
            "colorbar": {
             "outlinewidth": 0,
             "ticks": ""
            },
            "type": "contourcarpet"
           }
          ],
          "heatmap": [
           {
            "colorbar": {
             "outlinewidth": 0,
             "ticks": ""
            },
            "colorscale": [
             [
              0,
              "#0d0887"
             ],
             [
              0.1111111111111111,
              "#46039f"
             ],
             [
              0.2222222222222222,
              "#7201a8"
             ],
             [
              0.3333333333333333,
              "#9c179e"
             ],
             [
              0.4444444444444444,
              "#bd3786"
             ],
             [
              0.5555555555555556,
              "#d8576b"
             ],
             [
              0.6666666666666666,
              "#ed7953"
             ],
             [
              0.7777777777777778,
              "#fb9f3a"
             ],
             [
              0.8888888888888888,
              "#fdca26"
             ],
             [
              1,
              "#f0f921"
             ]
            ],
            "type": "heatmap"
           }
          ],
          "heatmapgl": [
           {
            "colorbar": {
             "outlinewidth": 0,
             "ticks": ""
            },
            "colorscale": [
             [
              0,
              "#0d0887"
             ],
             [
              0.1111111111111111,
              "#46039f"
             ],
             [
              0.2222222222222222,
              "#7201a8"
             ],
             [
              0.3333333333333333,
              "#9c179e"
             ],
             [
              0.4444444444444444,
              "#bd3786"
             ],
             [
              0.5555555555555556,
              "#d8576b"
             ],
             [
              0.6666666666666666,
              "#ed7953"
             ],
             [
              0.7777777777777778,
              "#fb9f3a"
             ],
             [
              0.8888888888888888,
              "#fdca26"
             ],
             [
              1,
              "#f0f921"
             ]
            ],
            "type": "heatmapgl"
           }
          ],
          "histogram": [
           {
            "marker": {
             "colorbar": {
              "outlinewidth": 0,
              "ticks": ""
             }
            },
            "type": "histogram"
           }
          ],
          "histogram2d": [
           {
            "colorbar": {
             "outlinewidth": 0,
             "ticks": ""
            },
            "colorscale": [
             [
              0,
              "#0d0887"
             ],
             [
              0.1111111111111111,
              "#46039f"
             ],
             [
              0.2222222222222222,
              "#7201a8"
             ],
             [
              0.3333333333333333,
              "#9c179e"
             ],
             [
              0.4444444444444444,
              "#bd3786"
             ],
             [
              0.5555555555555556,
              "#d8576b"
             ],
             [
              0.6666666666666666,
              "#ed7953"
             ],
             [
              0.7777777777777778,
              "#fb9f3a"
             ],
             [
              0.8888888888888888,
              "#fdca26"
             ],
             [
              1,
              "#f0f921"
             ]
            ],
            "type": "histogram2d"
           }
          ],
          "histogram2dcontour": [
           {
            "colorbar": {
             "outlinewidth": 0,
             "ticks": ""
            },
            "colorscale": [
             [
              0,
              "#0d0887"
             ],
             [
              0.1111111111111111,
              "#46039f"
             ],
             [
              0.2222222222222222,
              "#7201a8"
             ],
             [
              0.3333333333333333,
              "#9c179e"
             ],
             [
              0.4444444444444444,
              "#bd3786"
             ],
             [
              0.5555555555555556,
              "#d8576b"
             ],
             [
              0.6666666666666666,
              "#ed7953"
             ],
             [
              0.7777777777777778,
              "#fb9f3a"
             ],
             [
              0.8888888888888888,
              "#fdca26"
             ],
             [
              1,
              "#f0f921"
             ]
            ],
            "type": "histogram2dcontour"
           }
          ],
          "mesh3d": [
           {
            "colorbar": {
             "outlinewidth": 0,
             "ticks": ""
            },
            "type": "mesh3d"
           }
          ],
          "parcoords": [
           {
            "line": {
             "colorbar": {
              "outlinewidth": 0,
              "ticks": ""
             }
            },
            "type": "parcoords"
           }
          ],
          "pie": [
           {
            "automargin": true,
            "type": "pie"
           }
          ],
          "scatter": [
           {
            "marker": {
             "colorbar": {
              "outlinewidth": 0,
              "ticks": ""
             }
            },
            "type": "scatter"
           }
          ],
          "scatter3d": [
           {
            "line": {
             "colorbar": {
              "outlinewidth": 0,
              "ticks": ""
             }
            },
            "marker": {
             "colorbar": {
              "outlinewidth": 0,
              "ticks": ""
             }
            },
            "type": "scatter3d"
           }
          ],
          "scattercarpet": [
           {
            "marker": {
             "colorbar": {
              "outlinewidth": 0,
              "ticks": ""
             }
            },
            "type": "scattercarpet"
           }
          ],
          "scattergeo": [
           {
            "marker": {
             "colorbar": {
              "outlinewidth": 0,
              "ticks": ""
             }
            },
            "type": "scattergeo"
           }
          ],
          "scattergl": [
           {
            "marker": {
             "colorbar": {
              "outlinewidth": 0,
              "ticks": ""
             }
            },
            "type": "scattergl"
           }
          ],
          "scattermapbox": [
           {
            "marker": {
             "colorbar": {
              "outlinewidth": 0,
              "ticks": ""
             }
            },
            "type": "scattermapbox"
           }
          ],
          "scatterpolar": [
           {
            "marker": {
             "colorbar": {
              "outlinewidth": 0,
              "ticks": ""
             }
            },
            "type": "scatterpolar"
           }
          ],
          "scatterpolargl": [
           {
            "marker": {
             "colorbar": {
              "outlinewidth": 0,
              "ticks": ""
             }
            },
            "type": "scatterpolargl"
           }
          ],
          "scatterternary": [
           {
            "marker": {
             "colorbar": {
              "outlinewidth": 0,
              "ticks": ""
             }
            },
            "type": "scatterternary"
           }
          ],
          "surface": [
           {
            "colorbar": {
             "outlinewidth": 0,
             "ticks": ""
            },
            "colorscale": [
             [
              0,
              "#0d0887"
             ],
             [
              0.1111111111111111,
              "#46039f"
             ],
             [
              0.2222222222222222,
              "#7201a8"
             ],
             [
              0.3333333333333333,
              "#9c179e"
             ],
             [
              0.4444444444444444,
              "#bd3786"
             ],
             [
              0.5555555555555556,
              "#d8576b"
             ],
             [
              0.6666666666666666,
              "#ed7953"
             ],
             [
              0.7777777777777778,
              "#fb9f3a"
             ],
             [
              0.8888888888888888,
              "#fdca26"
             ],
             [
              1,
              "#f0f921"
             ]
            ],
            "type": "surface"
           }
          ],
          "table": [
           {
            "cells": {
             "fill": {
              "color": "#EBF0F8"
             },
             "line": {
              "color": "white"
             }
            },
            "header": {
             "fill": {
              "color": "#C8D4E3"
             },
             "line": {
              "color": "white"
             }
            },
            "type": "table"
           }
          ]
         },
         "layout": {
          "annotationdefaults": {
           "arrowcolor": "#2a3f5f",
           "arrowhead": 0,
           "arrowwidth": 1
          },
          "coloraxis": {
           "colorbar": {
            "outlinewidth": 0,
            "ticks": ""
           }
          },
          "colorscale": {
           "diverging": [
            [
             0,
             "#8e0152"
            ],
            [
             0.1,
             "#c51b7d"
            ],
            [
             0.2,
             "#de77ae"
            ],
            [
             0.3,
             "#f1b6da"
            ],
            [
             0.4,
             "#fde0ef"
            ],
            [
             0.5,
             "#f7f7f7"
            ],
            [
             0.6,
             "#e6f5d0"
            ],
            [
             0.7,
             "#b8e186"
            ],
            [
             0.8,
             "#7fbc41"
            ],
            [
             0.9,
             "#4d9221"
            ],
            [
             1,
             "#276419"
            ]
           ],
           "sequential": [
            [
             0,
             "#0d0887"
            ],
            [
             0.1111111111111111,
             "#46039f"
            ],
            [
             0.2222222222222222,
             "#7201a8"
            ],
            [
             0.3333333333333333,
             "#9c179e"
            ],
            [
             0.4444444444444444,
             "#bd3786"
            ],
            [
             0.5555555555555556,
             "#d8576b"
            ],
            [
             0.6666666666666666,
             "#ed7953"
            ],
            [
             0.7777777777777778,
             "#fb9f3a"
            ],
            [
             0.8888888888888888,
             "#fdca26"
            ],
            [
             1,
             "#f0f921"
            ]
           ],
           "sequentialminus": [
            [
             0,
             "#0d0887"
            ],
            [
             0.1111111111111111,
             "#46039f"
            ],
            [
             0.2222222222222222,
             "#7201a8"
            ],
            [
             0.3333333333333333,
             "#9c179e"
            ],
            [
             0.4444444444444444,
             "#bd3786"
            ],
            [
             0.5555555555555556,
             "#d8576b"
            ],
            [
             0.6666666666666666,
             "#ed7953"
            ],
            [
             0.7777777777777778,
             "#fb9f3a"
            ],
            [
             0.8888888888888888,
             "#fdca26"
            ],
            [
             1,
             "#f0f921"
            ]
           ]
          },
          "colorway": [
           "#636efa",
           "#EF553B",
           "#00cc96",
           "#ab63fa",
           "#FFA15A",
           "#19d3f3",
           "#FF6692",
           "#B6E880",
           "#FF97FF",
           "#FECB52"
          ],
          "font": {
           "color": "#2a3f5f"
          },
          "geo": {
           "bgcolor": "white",
           "lakecolor": "white",
           "landcolor": "#E5ECF6",
           "showlakes": true,
           "showland": true,
           "subunitcolor": "white"
          },
          "hoverlabel": {
           "align": "left"
          },
          "hovermode": "closest",
          "mapbox": {
           "style": "light"
          },
          "paper_bgcolor": "white",
          "plot_bgcolor": "#E5ECF6",
          "polar": {
           "angularaxis": {
            "gridcolor": "white",
            "linecolor": "white",
            "ticks": ""
           },
           "bgcolor": "#E5ECF6",
           "radialaxis": {
            "gridcolor": "white",
            "linecolor": "white",
            "ticks": ""
           }
          },
          "scene": {
           "xaxis": {
            "backgroundcolor": "#E5ECF6",
            "gridcolor": "white",
            "gridwidth": 2,
            "linecolor": "white",
            "showbackground": true,
            "ticks": "",
            "zerolinecolor": "white"
           },
           "yaxis": {
            "backgroundcolor": "#E5ECF6",
            "gridcolor": "white",
            "gridwidth": 2,
            "linecolor": "white",
            "showbackground": true,
            "ticks": "",
            "zerolinecolor": "white"
           },
           "zaxis": {
            "backgroundcolor": "#E5ECF6",
            "gridcolor": "white",
            "gridwidth": 2,
            "linecolor": "white",
            "showbackground": true,
            "ticks": "",
            "zerolinecolor": "white"
           }
          },
          "shapedefaults": {
           "line": {
            "color": "#2a3f5f"
           }
          },
          "ternary": {
           "aaxis": {
            "gridcolor": "white",
            "linecolor": "white",
            "ticks": ""
           },
           "baxis": {
            "gridcolor": "white",
            "linecolor": "white",
            "ticks": ""
           },
           "bgcolor": "#E5ECF6",
           "caxis": {
            "gridcolor": "white",
            "linecolor": "white",
            "ticks": ""
           }
          },
          "title": {
           "x": 0.05
          },
          "xaxis": {
           "automargin": true,
           "gridcolor": "white",
           "linecolor": "white",
           "ticks": "",
           "title": {
            "standoff": 15
           },
           "zerolinecolor": "white",
           "zerolinewidth": 2
          },
          "yaxis": {
           "automargin": true,
           "gridcolor": "white",
           "linecolor": "white",
           "ticks": "",
           "title": {
            "standoff": 15
           },
           "zerolinecolor": "white",
           "zerolinewidth": 2
          }
         }
        }
       }
      },
      "text/html": [
       "<div>                            <div id=\"6adca6f1-bc38-4c2e-8825-454f0c7cea39\" class=\"plotly-graph-div\" style=\"height:525px; width:100%;\"></div>            <script type=\"text/javascript\">                require([\"plotly\"], function(Plotly) {                    window.PLOTLYENV=window.PLOTLYENV || {};                                    if (document.getElementById(\"6adca6f1-bc38-4c2e-8825-454f0c7cea39\")) {                    Plotly.newPlot(                        \"6adca6f1-bc38-4c2e-8825-454f0c7cea39\",                        [{\"type\": \"scatter\", \"x\": [\"2019-09-16 00:00:00\", \"2019-09-17 00:00:00\", \"2019-09-18 00:00:00\", \"2019-09-19 00:00:00\", \"2019-09-20 00:00:00\", \"2019-09-21 00:00:00\", \"2019-09-22 00:00:00\", \"2019-09-23 00:00:00\", \"2019-09-24 00:00:00\", \"2019-09-25 00:00:00\", \"2019-09-26 00:00:00\", \"2019-09-27 00:00:00\", \"2019-09-28 00:00:00\", \"2019-09-29 00:00:00\", \"2019-09-30 00:00:00\", \"2019-10-01 00:00:00\", \"2019-10-02 00:00:00\", \"2019-10-03 00:00:00\", \"2019-10-04 00:00:00\", \"2019-10-05 00:00:00\", \"2019-10-06 00:00:00\", \"2019-10-07 00:00:00\", \"2019-10-08 00:00:00\", \"2019-10-09 00:00:00\", \"2019-10-10 00:00:00\", \"2019-10-11 00:00:00\", \"2019-10-12 00:00:00\", \"2019-10-13 00:00:00\", \"2019-10-14 00:00:00\", \"2019-10-15 00:00:00\", \"2019-10-16 00:00:00\", \"2019-10-17 00:00:00\", \"2019-10-18 00:00:00\", \"2019-10-19 00:00:00\", \"2019-10-20 00:00:00\", \"2019-10-21 00:00:00\", \"2019-10-22 00:00:00\", \"2019-10-23 00:00:00\", \"2019-10-24 00:00:00\", \"2019-10-25 00:00:00\", \"2019-10-26 00:00:00\", \"2019-10-27 00:00:00\", \"2019-10-28 00:00:00\", \"2019-10-29 00:00:00\", \"2019-10-30 00:00:00\", \"2019-10-31 00:00:00\", \"2019-11-01 00:00:00\", \"2019-11-02 00:00:00\", \"2019-11-03 00:00:00\", \"2019-11-04 00:00:00\", \"2019-11-05 00:00:00\", \"2019-11-06 00:00:00\", \"2019-11-07 00:00:00\", \"2019-11-08 00:00:00\", \"2019-11-09 00:00:00\", \"2019-11-10 00:00:00\", \"2019-11-12 00:00:00\", \"2019-11-13 00:00:00\", \"2019-11-14 00:00:00\", \"2019-11-15 00:00:00\", \"2019-11-16 00:00:00\", \"2019-11-17 00:00:00\", \"2019-11-18 00:00:00\", \"2019-11-19 00:00:00\", \"2019-11-20 00:00:00\", \"2019-11-21 00:00:00\", \"2019-11-22 00:00:00\", \"2019-11-23 00:00:00\", \"2019-11-24 00:00:00\", \"2019-11-25 00:00:00\", \"2019-11-26 00:00:00\", \"2019-11-27 00:00:00\", \"2019-11-28 00:00:00\", \"2019-11-29 00:00:00\", \"2019-11-30 00:00:00\", \"2019-12-01 00:00:00\", \"2019-12-02 00:00:00\", \"2019-12-03 00:00:00\", \"2019-12-04 00:00:00\", \"2019-12-05 00:00:00\", \"2019-12-06 00:00:00\", \"2019-12-07 00:00:00\", \"2019-12-08 00:00:00\", \"2019-12-09 00:00:00\", \"2019-12-10 00:00:00\", \"2019-12-11 00:00:00\", \"2019-12-12 00:00:00\", \"2019-12-13 00:00:00\", \"2019-12-14 00:00:00\", \"2019-12-15 00:00:00\", \"2019-12-16 00:00:00\", \"2019-12-17 00:00:00\"], \"y\": [160.375, 87.0, 114.44, 143.27777777777777, 207.75, 90.16666666666667, 94.52, 276.75, 101.48, 157.8, 99.925, 139.04, 110.66666666666667, 161.72222222222223, 241.4, 98.85, 128.925, 50.0, 79.125, 110.9875, 115.07142857142857, 160.8, 425.8, 198.0625, 120.95, 121.8, 81.7, 93.35714285714286, 92.25, 155.35, 150.99285714285713, 155.36, 150.53333333333333, 139.16666666666666, 136.16666666666666, 127.6525, 125.49166666666667, 117.0, 111.5375, 1385.9833333333333, 83.35714285714286, 107.6, 57.7, 110.66666666666667, 127.03333333333333, 161.075, 97.1, 108.71428571428571, 100.44, 124.0, 130.625, 99.38125, 94.33333333333333, 206.9055, 136.55, 98.16666666666667, 117.0, 93.4, 155.625, 103.5, 163.38888888888889, 110.44, 356.4166666666667, 200.33333333333334, 78.325, 74.2, 65.55, 137.25666666666666, 143.8, 70.0625, 58.95, 102.7, 127.64285714285714, 160.86763200000001, 156.525, 111.27777777777779, 72.13333333333333, 84.725, 87.56666666666668, 73.6, 118.0, 155.3357142857143, 234.45, 106.43333333333332, 117.4, 79.525, 79.25, 173.16363636363636, 168.6153846153846, 143.8923076923077, 67.0, 119.0]}],                        {\"template\": {\"data\": {\"bar\": [{\"error_x\": {\"color\": \"#2a3f5f\"}, \"error_y\": {\"color\": \"#2a3f5f\"}, \"marker\": {\"line\": {\"color\": \"#E5ECF6\", \"width\": 0.5}}, \"type\": \"bar\"}], \"barpolar\": [{\"marker\": {\"line\": {\"color\": \"#E5ECF6\", \"width\": 0.5}}, \"type\": \"barpolar\"}], \"carpet\": [{\"aaxis\": {\"endlinecolor\": \"#2a3f5f\", \"gridcolor\": \"white\", \"linecolor\": \"white\", \"minorgridcolor\": \"white\", \"startlinecolor\": \"#2a3f5f\"}, \"baxis\": {\"endlinecolor\": \"#2a3f5f\", \"gridcolor\": \"white\", \"linecolor\": \"white\", \"minorgridcolor\": \"white\", \"startlinecolor\": \"#2a3f5f\"}, \"type\": \"carpet\"}], \"choropleth\": [{\"colorbar\": {\"outlinewidth\": 0, \"ticks\": \"\"}, \"type\": \"choropleth\"}], \"contour\": [{\"colorbar\": {\"outlinewidth\": 0, \"ticks\": \"\"}, \"colorscale\": [[0.0, \"#0d0887\"], [0.1111111111111111, \"#46039f\"], [0.2222222222222222, \"#7201a8\"], [0.3333333333333333, \"#9c179e\"], [0.4444444444444444, \"#bd3786\"], [0.5555555555555556, \"#d8576b\"], [0.6666666666666666, \"#ed7953\"], [0.7777777777777778, \"#fb9f3a\"], [0.8888888888888888, \"#fdca26\"], [1.0, \"#f0f921\"]], \"type\": \"contour\"}], \"contourcarpet\": [{\"colorbar\": {\"outlinewidth\": 0, \"ticks\": \"\"}, \"type\": \"contourcarpet\"}], \"heatmap\": [{\"colorbar\": {\"outlinewidth\": 0, \"ticks\": \"\"}, \"colorscale\": [[0.0, \"#0d0887\"], [0.1111111111111111, \"#46039f\"], [0.2222222222222222, \"#7201a8\"], [0.3333333333333333, \"#9c179e\"], [0.4444444444444444, \"#bd3786\"], [0.5555555555555556, \"#d8576b\"], [0.6666666666666666, \"#ed7953\"], [0.7777777777777778, \"#fb9f3a\"], [0.8888888888888888, \"#fdca26\"], [1.0, \"#f0f921\"]], \"type\": \"heatmap\"}], \"heatmapgl\": [{\"colorbar\": {\"outlinewidth\": 0, \"ticks\": \"\"}, \"colorscale\": [[0.0, \"#0d0887\"], [0.1111111111111111, \"#46039f\"], [0.2222222222222222, \"#7201a8\"], [0.3333333333333333, \"#9c179e\"], [0.4444444444444444, \"#bd3786\"], [0.5555555555555556, \"#d8576b\"], [0.6666666666666666, \"#ed7953\"], [0.7777777777777778, \"#fb9f3a\"], [0.8888888888888888, \"#fdca26\"], [1.0, \"#f0f921\"]], \"type\": \"heatmapgl\"}], \"histogram\": [{\"marker\": {\"colorbar\": {\"outlinewidth\": 0, \"ticks\": \"\"}}, \"type\": \"histogram\"}], \"histogram2d\": [{\"colorbar\": {\"outlinewidth\": 0, \"ticks\": \"\"}, \"colorscale\": [[0.0, \"#0d0887\"], [0.1111111111111111, \"#46039f\"], [0.2222222222222222, \"#7201a8\"], [0.3333333333333333, \"#9c179e\"], [0.4444444444444444, \"#bd3786\"], [0.5555555555555556, \"#d8576b\"], [0.6666666666666666, \"#ed7953\"], [0.7777777777777778, \"#fb9f3a\"], [0.8888888888888888, \"#fdca26\"], [1.0, \"#f0f921\"]], \"type\": \"histogram2d\"}], \"histogram2dcontour\": [{\"colorbar\": {\"outlinewidth\": 0, \"ticks\": \"\"}, \"colorscale\": [[0.0, \"#0d0887\"], [0.1111111111111111, \"#46039f\"], [0.2222222222222222, \"#7201a8\"], [0.3333333333333333, \"#9c179e\"], [0.4444444444444444, \"#bd3786\"], [0.5555555555555556, \"#d8576b\"], [0.6666666666666666, \"#ed7953\"], [0.7777777777777778, \"#fb9f3a\"], [0.8888888888888888, \"#fdca26\"], [1.0, \"#f0f921\"]], \"type\": \"histogram2dcontour\"}], \"mesh3d\": [{\"colorbar\": {\"outlinewidth\": 0, \"ticks\": \"\"}, \"type\": \"mesh3d\"}], \"parcoords\": [{\"line\": {\"colorbar\": {\"outlinewidth\": 0, \"ticks\": \"\"}}, \"type\": \"parcoords\"}], \"pie\": [{\"automargin\": true, \"type\": \"pie\"}], \"scatter\": [{\"marker\": {\"colorbar\": {\"outlinewidth\": 0, \"ticks\": \"\"}}, \"type\": \"scatter\"}], \"scatter3d\": [{\"line\": {\"colorbar\": {\"outlinewidth\": 0, \"ticks\": \"\"}}, \"marker\": {\"colorbar\": {\"outlinewidth\": 0, \"ticks\": \"\"}}, \"type\": \"scatter3d\"}], \"scattercarpet\": [{\"marker\": {\"colorbar\": {\"outlinewidth\": 0, \"ticks\": \"\"}}, \"type\": \"scattercarpet\"}], \"scattergeo\": [{\"marker\": {\"colorbar\": {\"outlinewidth\": 0, \"ticks\": \"\"}}, \"type\": \"scattergeo\"}], \"scattergl\": [{\"marker\": {\"colorbar\": {\"outlinewidth\": 0, \"ticks\": \"\"}}, \"type\": \"scattergl\"}], \"scattermapbox\": [{\"marker\": {\"colorbar\": {\"outlinewidth\": 0, \"ticks\": \"\"}}, \"type\": \"scattermapbox\"}], \"scatterpolar\": [{\"marker\": {\"colorbar\": {\"outlinewidth\": 0, \"ticks\": \"\"}}, \"type\": \"scatterpolar\"}], \"scatterpolargl\": [{\"marker\": {\"colorbar\": {\"outlinewidth\": 0, \"ticks\": \"\"}}, \"type\": \"scatterpolargl\"}], \"scatterternary\": [{\"marker\": {\"colorbar\": {\"outlinewidth\": 0, \"ticks\": \"\"}}, \"type\": \"scatterternary\"}], \"surface\": [{\"colorbar\": {\"outlinewidth\": 0, \"ticks\": \"\"}, \"colorscale\": [[0.0, \"#0d0887\"], [0.1111111111111111, \"#46039f\"], [0.2222222222222222, \"#7201a8\"], [0.3333333333333333, \"#9c179e\"], [0.4444444444444444, \"#bd3786\"], [0.5555555555555556, \"#d8576b\"], [0.6666666666666666, \"#ed7953\"], [0.7777777777777778, \"#fb9f3a\"], [0.8888888888888888, \"#fdca26\"], [1.0, \"#f0f921\"]], \"type\": \"surface\"}], \"table\": [{\"cells\": {\"fill\": {\"color\": \"#EBF0F8\"}, \"line\": {\"color\": \"white\"}}, \"header\": {\"fill\": {\"color\": \"#C8D4E3\"}, \"line\": {\"color\": \"white\"}}, \"type\": \"table\"}]}, \"layout\": {\"annotationdefaults\": {\"arrowcolor\": \"#2a3f5f\", \"arrowhead\": 0, \"arrowwidth\": 1}, \"coloraxis\": {\"colorbar\": {\"outlinewidth\": 0, \"ticks\": \"\"}}, \"colorscale\": {\"diverging\": [[0, \"#8e0152\"], [0.1, \"#c51b7d\"], [0.2, \"#de77ae\"], [0.3, \"#f1b6da\"], [0.4, \"#fde0ef\"], [0.5, \"#f7f7f7\"], [0.6, \"#e6f5d0\"], [0.7, \"#b8e186\"], [0.8, \"#7fbc41\"], [0.9, \"#4d9221\"], [1, \"#276419\"]], \"sequential\": [[0.0, \"#0d0887\"], [0.1111111111111111, \"#46039f\"], [0.2222222222222222, \"#7201a8\"], [0.3333333333333333, \"#9c179e\"], [0.4444444444444444, \"#bd3786\"], [0.5555555555555556, \"#d8576b\"], [0.6666666666666666, \"#ed7953\"], [0.7777777777777778, \"#fb9f3a\"], [0.8888888888888888, \"#fdca26\"], [1.0, \"#f0f921\"]], \"sequentialminus\": [[0.0, \"#0d0887\"], [0.1111111111111111, \"#46039f\"], [0.2222222222222222, \"#7201a8\"], [0.3333333333333333, \"#9c179e\"], [0.4444444444444444, \"#bd3786\"], [0.5555555555555556, \"#d8576b\"], [0.6666666666666666, \"#ed7953\"], [0.7777777777777778, \"#fb9f3a\"], [0.8888888888888888, \"#fdca26\"], [1.0, \"#f0f921\"]]}, \"colorway\": [\"#636efa\", \"#EF553B\", \"#00cc96\", \"#ab63fa\", \"#FFA15A\", \"#19d3f3\", \"#FF6692\", \"#B6E880\", \"#FF97FF\", \"#FECB52\"], \"font\": {\"color\": \"#2a3f5f\"}, \"geo\": {\"bgcolor\": \"white\", \"lakecolor\": \"white\", \"landcolor\": \"#E5ECF6\", \"showlakes\": true, \"showland\": true, \"subunitcolor\": \"white\"}, \"hoverlabel\": {\"align\": \"left\"}, \"hovermode\": \"closest\", \"mapbox\": {\"style\": \"light\"}, \"paper_bgcolor\": \"white\", \"plot_bgcolor\": \"#E5ECF6\", \"polar\": {\"angularaxis\": {\"gridcolor\": \"white\", \"linecolor\": \"white\", \"ticks\": \"\"}, \"bgcolor\": \"#E5ECF6\", \"radialaxis\": {\"gridcolor\": \"white\", \"linecolor\": \"white\", \"ticks\": \"\"}}, \"scene\": {\"xaxis\": {\"backgroundcolor\": \"#E5ECF6\", \"gridcolor\": \"white\", \"gridwidth\": 2, \"linecolor\": \"white\", \"showbackground\": true, \"ticks\": \"\", \"zerolinecolor\": \"white\"}, \"yaxis\": {\"backgroundcolor\": \"#E5ECF6\", \"gridcolor\": \"white\", \"gridwidth\": 2, \"linecolor\": \"white\", \"showbackground\": true, \"ticks\": \"\", \"zerolinecolor\": \"white\"}, \"zaxis\": {\"backgroundcolor\": \"#E5ECF6\", \"gridcolor\": \"white\", \"gridwidth\": 2, \"linecolor\": \"white\", \"showbackground\": true, \"ticks\": \"\", \"zerolinecolor\": \"white\"}}, \"shapedefaults\": {\"line\": {\"color\": \"#2a3f5f\"}}, \"ternary\": {\"aaxis\": {\"gridcolor\": \"white\", \"linecolor\": \"white\", \"ticks\": \"\"}, \"baxis\": {\"gridcolor\": \"white\", \"linecolor\": \"white\", \"ticks\": \"\"}, \"bgcolor\": \"#E5ECF6\", \"caxis\": {\"gridcolor\": \"white\", \"linecolor\": \"white\", \"ticks\": \"\"}}, \"title\": {\"x\": 0.05}, \"xaxis\": {\"automargin\": true, \"gridcolor\": \"white\", \"linecolor\": \"white\", \"ticks\": \"\", \"title\": {\"standoff\": 15}, \"zerolinecolor\": \"white\", \"zerolinewidth\": 2}, \"yaxis\": {\"automargin\": true, \"gridcolor\": \"white\", \"linecolor\": \"white\", \"ticks\": \"\", \"title\": {\"standoff\": 15}, \"zerolinecolor\": \"white\", \"zerolinewidth\": 2}}}},                        {\"responsive\": true}                    ).then(function(){\n",
       "                            \n",
       "var gd = document.getElementById('6adca6f1-bc38-4c2e-8825-454f0c7cea39');\n",
       "var x = new MutationObserver(function (mutations, observer) {{\n",
       "        var display = window.getComputedStyle(gd).display;\n",
       "        if (!display || display === 'none') {{\n",
       "            console.log([gd, 'removed!']);\n",
       "            Plotly.purge(gd);\n",
       "            observer.disconnect();\n",
       "        }}\n",
       "}});\n",
       "\n",
       "// Listen for the removal of the full notebook cells\n",
       "var notebookContainer = gd.closest('#notebook-container');\n",
       "if (notebookContainer) {{\n",
       "    x.observe(notebookContainer, {childList: true});\n",
       "}}\n",
       "\n",
       "// Listen for the clearing of the current output cell\n",
       "var outputEl = gd.closest('.output');\n",
       "if (outputEl) {{\n",
       "    x.observe(outputEl, {childList: true});\n",
       "}}\n",
       "\n",
       "                        })                };                });            </script>        </div>"
      ]
     },
     "metadata": {},
     "output_type": "display_data"
    }
   ],
   "source": [
    "#Louis_Vuitton\n",
    "fig = go.Figure([go.Scatter(x=Louis_Vuitton['purchdate'], y=Louis_Vuitton['amount'])])\n",
    "fig.show()"
   ]
  }
 ],
 "metadata": {
  "kernelspec": {
   "display_name": "Python 3",
   "language": "python",
   "name": "python3"
  },
  "language_info": {
   "codemirror_mode": {
    "name": "ipython",
    "version": 3
   },
   "file_extension": ".py",
   "mimetype": "text/x-python",
   "name": "python",
   "nbconvert_exporter": "python",
   "pygments_lexer": "ipython3",
   "version": "3.7.6"
  }
 },
 "nbformat": 4,
 "nbformat_minor": 4
}
