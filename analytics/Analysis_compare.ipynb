{
 "cells": [
  {
   "cell_type": "code",
   "execution_count": 101,
   "metadata": {},
   "outputs": [],
   "source": [
    "import pandas as pd\n",
    "import numpy as np\n",
    "import datetime as dt\n",
    "from tqdm import tqdm\n",
    "import matplotlib.pyplot as plt\n",
    "\n",
    "plt.rcParams['figure.figsize'] = 12, 7"
   ]
  },
  {
   "cell_type": "code",
   "execution_count": 12,
   "metadata": {},
   "outputs": [
    {
     "name": "stderr",
     "output_type": "stream",
     "text": [
      "/home/konstantinlipkin/anaconda3/lib/python3.8/site-packages/numpy/lib/arraysetops.py:569: FutureWarning: elementwise comparison failed; returning scalar instead, but in the future will perform elementwise comparison\n",
      "  mask |= (ar1 == a)\n"
     ]
    },
    {
     "name": "stdout",
     "output_type": "stream",
     "text": [
      "(1476470, 16)\n"
     ]
    },
    {
     "data": {
      "text/html": [
       "<div>\n",
       "<style scoped>\n",
       "    .dataframe tbody tr th:only-of-type {\n",
       "        vertical-align: middle;\n",
       "    }\n",
       "\n",
       "    .dataframe tbody tr th {\n",
       "        vertical-align: top;\n",
       "    }\n",
       "\n",
       "    .dataframe thead th {\n",
       "        text-align: right;\n",
       "    }\n",
       "</style>\n",
       "<table border=\"1\" class=\"dataframe\">\n",
       "  <thead>\n",
       "    <tr style=\"text-align: right;\">\n",
       "      <th></th>\n",
       "      <th>purchdate</th>\n",
       "      <th>amount</th>\n",
       "      <th>mcc</th>\n",
       "      <th>mrchcity</th>\n",
       "      <th>mrchname</th>\n",
       "      <th>cnum</th>\n",
       "      <th>category</th>\n",
       "      <th>store_name</th>\n",
       "      <th>merchant_name</th>\n",
       "      <th>created_at</th>\n",
       "      <th>cnum_</th>\n",
       "      <th>categorycode</th>\n",
       "      <th>gender</th>\n",
       "      <th>age</th>\n",
       "      <th>married_</th>\n",
       "      <th>residenttype</th>\n",
       "    </tr>\n",
       "  </thead>\n",
       "  <tbody>\n",
       "    <tr>\n",
       "      <th>69</th>\n",
       "      <td>2019-10-26 00:00:00</td>\n",
       "      <td>2097.0</td>\n",
       "      <td>5651</td>\n",
       "      <td>KRASNOYARSK</td>\n",
       "      <td>A&amp;C F6G</td>\n",
       "      <td>ELCMDT</td>\n",
       "      <td>Clothes</td>\n",
       "      <td>H&amp;M</td>\n",
       "      <td>A&amp;C F6G</td>\n",
       "      <td>2019-10-26</td>\n",
       "      <td>ELCMDT</td>\n",
       "      <td>81</td>\n",
       "      <td>M</td>\n",
       "      <td>50</td>\n",
       "      <td>married</td>\n",
       "      <td>R</td>\n",
       "    </tr>\n",
       "    <tr>\n",
       "      <th>73</th>\n",
       "      <td>2019-11-02 00:00:00</td>\n",
       "      <td>6696.0</td>\n",
       "      <td>5651</td>\n",
       "      <td>PSKOV</td>\n",
       "      <td>XKE4D K29</td>\n",
       "      <td>ELCMDT</td>\n",
       "      <td>Clothes</td>\n",
       "      <td>O`Stin</td>\n",
       "      <td>XKE4D K29</td>\n",
       "      <td>2019-11-02</td>\n",
       "      <td>ELCMDT</td>\n",
       "      <td>81</td>\n",
       "      <td>M</td>\n",
       "      <td>50</td>\n",
       "      <td>married</td>\n",
       "      <td>R</td>\n",
       "    </tr>\n",
       "    <tr>\n",
       "      <th>82</th>\n",
       "      <td>2019-09-26 00:00:00</td>\n",
       "      <td>1997.0</td>\n",
       "      <td>5691</td>\n",
       "      <td>KRASNOYARSK</td>\n",
       "      <td>J1K1JT18</td>\n",
       "      <td>ELCMDT</td>\n",
       "      <td>Clothes</td>\n",
       "      <td>Reserved</td>\n",
       "      <td>J1K1JT18</td>\n",
       "      <td>2019-09-26</td>\n",
       "      <td>ELCMDT</td>\n",
       "      <td>81</td>\n",
       "      <td>M</td>\n",
       "      <td>50</td>\n",
       "      <td>married</td>\n",
       "      <td>R</td>\n",
       "    </tr>\n",
       "    <tr>\n",
       "      <th>126</th>\n",
       "      <td>2019-11-07 00:00:00</td>\n",
       "      <td>1299.0</td>\n",
       "      <td>5691</td>\n",
       "      <td>KRASNOYARSK</td>\n",
       "      <td>C7DZX WH7D1E7</td>\n",
       "      <td>ELCMDT</td>\n",
       "      <td>Clothes</td>\n",
       "      <td>�����</td>\n",
       "      <td>C7DZX WH7D1E7</td>\n",
       "      <td>2019-11-07</td>\n",
       "      <td>ELCMDT</td>\n",
       "      <td>81</td>\n",
       "      <td>M</td>\n",
       "      <td>50</td>\n",
       "      <td>married</td>\n",
       "      <td>R</td>\n",
       "    </tr>\n",
       "    <tr>\n",
       "      <th>127</th>\n",
       "      <td>2019-11-09 00:00:00</td>\n",
       "      <td>2249.0</td>\n",
       "      <td>5691</td>\n",
       "      <td>KRASNOYARSK</td>\n",
       "      <td>C7DZX WH7D1E7</td>\n",
       "      <td>ELCMDT</td>\n",
       "      <td>Clothes</td>\n",
       "      <td>�����</td>\n",
       "      <td>C7DZX WH7D1E7</td>\n",
       "      <td>2019-11-09</td>\n",
       "      <td>ELCMDT</td>\n",
       "      <td>81</td>\n",
       "      <td>M</td>\n",
       "      <td>50</td>\n",
       "      <td>married</td>\n",
       "      <td>R</td>\n",
       "    </tr>\n",
       "  </tbody>\n",
       "</table>\n",
       "</div>"
      ],
      "text/plain": [
       "               purchdate  amount   mcc     mrchcity       mrchname    cnum  \\\n",
       "69   2019-10-26 00:00:00  2097.0  5651  KRASNOYARSK        A&C F6G  ELCMDT   \n",
       "73   2019-11-02 00:00:00  6696.0  5651        PSKOV      XKE4D K29  ELCMDT   \n",
       "82   2019-09-26 00:00:00  1997.0  5691  KRASNOYARSK       J1K1JT18  ELCMDT   \n",
       "126  2019-11-07 00:00:00  1299.0  5691  KRASNOYARSK  C7DZX WH7D1E7  ELCMDT   \n",
       "127  2019-11-09 00:00:00  2249.0  5691  KRASNOYARSK  C7DZX WH7D1E7  ELCMDT   \n",
       "\n",
       "    category store_name  merchant_name  created_at   cnum_  categorycode  \\\n",
       "69   Clothes        H&M        A&C F6G  2019-10-26  ELCMDT            81   \n",
       "73   Clothes     O`Stin      XKE4D K29  2019-11-02  ELCMDT            81   \n",
       "82   Clothes   Reserved       J1K1JT18  2019-09-26  ELCMDT            81   \n",
       "126  Clothes      �����  C7DZX WH7D1E7  2019-11-07  ELCMDT            81   \n",
       "127  Clothes      �����  C7DZX WH7D1E7  2019-11-09  ELCMDT            81   \n",
       "\n",
       "    gender  age married_ residenttype  \n",
       "69       M   50  married            R  \n",
       "73       M   50  married            R  \n",
       "82       M   50  married            R  \n",
       "126      M   50  married            R  \n",
       "127      M   50  married            R  "
      ]
     },
     "execution_count": 12,
     "metadata": {},
     "output_type": "execute_result"
    }
   ],
   "source": [
    "#df_trans = pd.read_csv('/tmp/.fr-2qZZCD/transactions_last_2.csv', delimiter=';', nrows=10e6)\n",
    "df_trans = pd.read_csv('transactions_clothes.csv', index_col=0)\n",
    "print(df_trans.shape)\n",
    "df_trans.head()"
   ]
  },
  {
   "cell_type": "code",
   "execution_count": 3,
   "metadata": {},
   "outputs": [
    {
     "name": "stdout",
     "output_type": "stream",
     "text": [
      "(27, 2)\n"
     ]
    },
    {
     "data": {
      "text/html": [
       "<div>\n",
       "<style scoped>\n",
       "    .dataframe tbody tr th:only-of-type {\n",
       "        vertical-align: middle;\n",
       "    }\n",
       "\n",
       "    .dataframe tbody tr th {\n",
       "        vertical-align: top;\n",
       "    }\n",
       "\n",
       "    .dataframe thead th {\n",
       "        text-align: right;\n",
       "    }\n",
       "</style>\n",
       "<table border=\"1\" class=\"dataframe\">\n",
       "  <thead>\n",
       "    <tr style=\"text-align: right;\">\n",
       "      <th></th>\n",
       "      <th>category</th>\n",
       "      <th>description</th>\n",
       "    </tr>\n",
       "  </thead>\n",
       "  <tbody>\n",
       "    <tr>\n",
       "      <th>0</th>\n",
       "      <td>10</td>\n",
       "      <td>VIP/ Management recommendations</td>\n",
       "    </tr>\n",
       "    <tr>\n",
       "      <th>1</th>\n",
       "      <td>11</td>\n",
       "      <td>VIP/ Management recommendations (family)</td>\n",
       "    </tr>\n",
       "    <tr>\n",
       "      <th>2</th>\n",
       "      <td>17</td>\n",
       "      <td>Private Banking customers walk-in</td>\n",
       "    </tr>\n",
       "    <tr>\n",
       "      <th>3</th>\n",
       "      <td>18</td>\n",
       "      <td>Private banking customers payroll</td>\n",
       "    </tr>\n",
       "    <tr>\n",
       "      <th>4</th>\n",
       "      <td>20</td>\n",
       "      <td>High income individuals</td>\n",
       "    </tr>\n",
       "  </tbody>\n",
       "</table>\n",
       "</div>"
      ],
      "text/plain": [
       "   category                               description\n",
       "0        10           VIP/ Management recommendations\n",
       "1        11  VIP/ Management recommendations (family)\n",
       "2        17         Private Banking customers walk-in\n",
       "3        18         Private banking customers payroll\n",
       "4        20                   High income individuals"
      ]
     },
     "execution_count": 3,
     "metadata": {},
     "output_type": "execute_result"
    }
   ],
   "source": [
    "df_cc = pd.read_csv('client_categories.csv', delimiter=';')\n",
    "print(df_cc.shape)\n",
    "df_cc.head()"
   ]
  },
  {
   "cell_type": "code",
   "execution_count": 4,
   "metadata": {},
   "outputs": [
    {
     "name": "stdout",
     "output_type": "stream",
     "text": [
      "(1355925, 6)\n"
     ]
    },
    {
     "data": {
      "text/html": [
       "<div>\n",
       "<style scoped>\n",
       "    .dataframe tbody tr th:only-of-type {\n",
       "        vertical-align: middle;\n",
       "    }\n",
       "\n",
       "    .dataframe tbody tr th {\n",
       "        vertical-align: top;\n",
       "    }\n",
       "\n",
       "    .dataframe thead th {\n",
       "        text-align: right;\n",
       "    }\n",
       "</style>\n",
       "<table border=\"1\" class=\"dataframe\">\n",
       "  <thead>\n",
       "    <tr style=\"text-align: right;\">\n",
       "      <th></th>\n",
       "      <th>cnum_</th>\n",
       "      <th>categorycode</th>\n",
       "      <th>gender</th>\n",
       "      <th>age</th>\n",
       "      <th>married_</th>\n",
       "      <th>residenttype</th>\n",
       "    </tr>\n",
       "  </thead>\n",
       "  <tbody>\n",
       "    <tr>\n",
       "      <th>0</th>\n",
       "      <td>0CCCDO</td>\n",
       "      <td>81</td>\n",
       "      <td>M</td>\n",
       "      <td>32</td>\n",
       "      <td>not_married</td>\n",
       "      <td>R</td>\n",
       "    </tr>\n",
       "    <tr>\n",
       "      <th>1</th>\n",
       "      <td>0CCCFO</td>\n",
       "      <td>70</td>\n",
       "      <td>F</td>\n",
       "      <td>42</td>\n",
       "      <td>not_married</td>\n",
       "      <td>R</td>\n",
       "    </tr>\n",
       "    <tr>\n",
       "      <th>2</th>\n",
       "      <td>0CCCGC</td>\n",
       "      <td>50</td>\n",
       "      <td>F</td>\n",
       "      <td>33</td>\n",
       "      <td>married</td>\n",
       "      <td>R</td>\n",
       "    </tr>\n",
       "    <tr>\n",
       "      <th>3</th>\n",
       "      <td>0CCCGG</td>\n",
       "      <td>70</td>\n",
       "      <td>M</td>\n",
       "      <td>58</td>\n",
       "      <td>not_married</td>\n",
       "      <td>R</td>\n",
       "    </tr>\n",
       "    <tr>\n",
       "      <th>4</th>\n",
       "      <td>0CCCGO</td>\n",
       "      <td>60</td>\n",
       "      <td>M</td>\n",
       "      <td>38</td>\n",
       "      <td>married</td>\n",
       "      <td>R</td>\n",
       "    </tr>\n",
       "  </tbody>\n",
       "</table>\n",
       "</div>"
      ],
      "text/plain": [
       "    cnum_  categorycode gender  age     married_ residenttype\n",
       "0  0CCCDO            81      M   32  not_married            R\n",
       "1  0CCCFO            70      F   42  not_married            R\n",
       "2  0CCCGC            50      F   33      married            R\n",
       "3  0CCCGG            70      M   58  not_married            R\n",
       "4  0CCCGO            60      M   38      married            R"
      ]
     },
     "execution_count": 4,
     "metadata": {},
     "output_type": "execute_result"
    }
   ],
   "source": [
    "df_cf = pd.read_csv('clients_last_2_fixed.csv', delimiter=';')\n",
    "print(df_cf.shape)\n",
    "df_cf.head()"
   ]
  },
  {
   "cell_type": "code",
   "execution_count": 5,
   "metadata": {},
   "outputs": [
    {
     "name": "stdout",
     "output_type": "stream",
     "text": [
      "(896, 2)\n"
     ]
    },
    {
     "data": {
      "text/html": [
       "<div>\n",
       "<style scoped>\n",
       "    .dataframe tbody tr th:only-of-type {\n",
       "        vertical-align: middle;\n",
       "    }\n",
       "\n",
       "    .dataframe tbody tr th {\n",
       "        vertical-align: top;\n",
       "    }\n",
       "\n",
       "    .dataframe thead th {\n",
       "        text-align: right;\n",
       "    }\n",
       "</style>\n",
       "<table border=\"1\" class=\"dataframe\">\n",
       "  <thead>\n",
       "    <tr style=\"text-align: right;\">\n",
       "      <th></th>\n",
       "      <th>mcc</th>\n",
       "      <th>category</th>\n",
       "    </tr>\n",
       "  </thead>\n",
       "  <tbody>\n",
       "    <tr>\n",
       "      <th>0</th>\n",
       "      <td>742</td>\n",
       "      <td>Pet</td>\n",
       "    </tr>\n",
       "    <tr>\n",
       "      <th>1</th>\n",
       "      <td>763</td>\n",
       "      <td>Other</td>\n",
       "    </tr>\n",
       "    <tr>\n",
       "      <th>2</th>\n",
       "      <td>780</td>\n",
       "      <td>Maintenance and building</td>\n",
       "    </tr>\n",
       "    <tr>\n",
       "      <th>3</th>\n",
       "      <td>1520</td>\n",
       "      <td>Maintenance and building</td>\n",
       "    </tr>\n",
       "    <tr>\n",
       "      <th>4</th>\n",
       "      <td>1711</td>\n",
       "      <td>Maintenance and building</td>\n",
       "    </tr>\n",
       "  </tbody>\n",
       "</table>\n",
       "</div>"
      ],
      "text/plain": [
       "    mcc                  category\n",
       "0   742                       Pet\n",
       "1   763                     Other\n",
       "2   780  Maintenance and building\n",
       "3  1520  Maintenance and building\n",
       "4  1711  Maintenance and building"
      ]
     },
     "execution_count": 5,
     "metadata": {},
     "output_type": "execute_result"
    }
   ],
   "source": [
    "df_mcc = pd.read_excel('MCC.xlsx', delimiter=';')\n",
    "print(df_mcc.shape)\n",
    "df_mcc.head()"
   ]
  },
  {
   "cell_type": "code",
   "execution_count": 6,
   "metadata": {},
   "outputs": [
    {
     "name": "stdout",
     "output_type": "stream",
     "text": [
      "(925, 2)\n"
     ]
    },
    {
     "data": {
      "text/html": [
       "<div>\n",
       "<style scoped>\n",
       "    .dataframe tbody tr th:only-of-type {\n",
       "        vertical-align: middle;\n",
       "    }\n",
       "\n",
       "    .dataframe tbody tr th {\n",
       "        vertical-align: top;\n",
       "    }\n",
       "\n",
       "    .dataframe thead th {\n",
       "        text-align: right;\n",
       "    }\n",
       "</style>\n",
       "<table border=\"1\" class=\"dataframe\">\n",
       "  <thead>\n",
       "    <tr style=\"text-align: right;\">\n",
       "      <th></th>\n",
       "      <th>mcc</th>\n",
       "      <th>category</th>\n",
       "    </tr>\n",
       "  </thead>\n",
       "  <tbody>\n",
       "    <tr>\n",
       "      <th>0</th>\n",
       "      <td>742</td>\n",
       "      <td>Pet</td>\n",
       "    </tr>\n",
       "    <tr>\n",
       "      <th>1</th>\n",
       "      <td>763</td>\n",
       "      <td>Other</td>\n",
       "    </tr>\n",
       "    <tr>\n",
       "      <th>2</th>\n",
       "      <td>780</td>\n",
       "      <td>Maintenance and building</td>\n",
       "    </tr>\n",
       "    <tr>\n",
       "      <th>3</th>\n",
       "      <td>1520</td>\n",
       "      <td>Maintenance and building</td>\n",
       "    </tr>\n",
       "    <tr>\n",
       "      <th>4</th>\n",
       "      <td>1711</td>\n",
       "      <td>Maintenance and building</td>\n",
       "    </tr>\n",
       "  </tbody>\n",
       "</table>\n",
       "</div>"
      ],
      "text/plain": [
       "    mcc                  category\n",
       "0   742                       Pet\n",
       "1   763                     Other\n",
       "2   780  Maintenance and building\n",
       "3  1520  Maintenance and building\n",
       "4  1711  Maintenance and building"
      ]
     },
     "execution_count": 6,
     "metadata": {},
     "output_type": "execute_result"
    }
   ],
   "source": [
    "df_mccl = pd.read_excel('MCC_last.xlsx', delimiter=';')\n",
    "print(df_mccl.shape)\n",
    "df_mccl.head()"
   ]
  },
  {
   "cell_type": "code",
   "execution_count": 7,
   "metadata": {},
   "outputs": [
    {
     "data": {
      "text/plain": [
       "(939, 2)"
      ]
     },
     "execution_count": 7,
     "metadata": {},
     "output_type": "execute_result"
    }
   ],
   "source": [
    "df_mcc.append(df_mccl).drop_duplicates().shape"
   ]
  },
  {
   "cell_type": "code",
   "execution_count": 8,
   "metadata": {},
   "outputs": [
    {
     "ename": "NameError",
     "evalue": "name 'df_sl' is not defined",
     "output_type": "error",
     "traceback": [
      "\u001b[0;31m---------------------------------------------------------------------------\u001b[0m",
      "\u001b[0;31mNameError\u001b[0m                                 Traceback (most recent call last)",
      "\u001b[0;32m<ipython-input-8-3b25db8f214f>\u001b[0m in \u001b[0;36m<module>\u001b[0;34m\u001b[0m\n\u001b[0;32m----> 1\u001b[0;31m \u001b[0mdf_sl\u001b[0m\u001b[0;34m.\u001b[0m\u001b[0mstore_name\u001b[0m\u001b[0;34m.\u001b[0m\u001b[0misin\u001b[0m\u001b[0;34m(\u001b[0m\u001b[0mdf_s\u001b[0m\u001b[0;34m.\u001b[0m\u001b[0mpartner_name\u001b[0m\u001b[0;34m)\u001b[0m\u001b[0;34m.\u001b[0m\u001b[0msum\u001b[0m\u001b[0;34m(\u001b[0m\u001b[0;34m)\u001b[0m\u001b[0;34m\u001b[0m\u001b[0;34m\u001b[0m\u001b[0m\n\u001b[0m",
      "\u001b[0;31mNameError\u001b[0m: name 'df_sl' is not defined"
     ]
    }
   ],
   "source": [
    "df_sl.store_name.isin(df_s.partner_name).sum()"
   ]
  },
  {
   "cell_type": "code",
   "execution_count": 9,
   "metadata": {},
   "outputs": [
    {
     "name": "stdout",
     "output_type": "stream",
     "text": [
      "(52, 8)\n"
     ]
    },
    {
     "data": {
      "text/html": [
       "<div>\n",
       "<style scoped>\n",
       "    .dataframe tbody tr th:only-of-type {\n",
       "        vertical-align: middle;\n",
       "    }\n",
       "\n",
       "    .dataframe tbody tr th {\n",
       "        vertical-align: top;\n",
       "    }\n",
       "\n",
       "    .dataframe thead th {\n",
       "        text-align: right;\n",
       "    }\n",
       "</style>\n",
       "<table border=\"1\" class=\"dataframe\">\n",
       "  <thead>\n",
       "    <tr style=\"text-align: right;\">\n",
       "      <th></th>\n",
       "      <th>partner_name</th>\n",
       "      <th>offer_name</th>\n",
       "      <th>category</th>\n",
       "      <th>percents_</th>\n",
       "      <th>selltype</th>\n",
       "      <th>city_name</th>\n",
       "      <th>comment</th>\n",
       "      <th>enddate</th>\n",
       "    </tr>\n",
       "  </thead>\n",
       "  <tbody>\n",
       "    <tr>\n",
       "      <th>0</th>\n",
       "      <td>Teana</td>\n",
       "      <td>Tean�</td>\n",
       "      <td>���������� � ���������</td>\n",
       "      <td>10.0</td>\n",
       "      <td>Online</td>\n",
       "      <td>NaN</td>\n",
       "      <td>����������� ������������� ������ � ��������-��...</td>\n",
       "      <td>2021-10-01 03:00:00</td>\n",
       "    </tr>\n",
       "    <tr>\n",
       "      <th>1</th>\n",
       "      <td>Prime Travel</td>\n",
       "      <td>Prime Travel</td>\n",
       "      <td>�����������</td>\n",
       "      <td>5.0</td>\n",
       "      <td>Online</td>\n",
       "      <td>NaN</td>\n",
       "      <td>������ � ������� �������.����� ���������� ����...</td>\n",
       "      <td>2020-12-31 03:00:00</td>\n",
       "    </tr>\n",
       "    <tr>\n",
       "      <th>2</th>\n",
       "      <td>Special Travel Club</td>\n",
       "      <td>Special Travel Club</td>\n",
       "      <td>�����������</td>\n",
       "      <td>12.0</td>\n",
       "      <td>Online</td>\n",
       "      <td>NaN</td>\n",
       "      <td>NaN</td>\n",
       "      <td>2020-12-31 03:00:00</td>\n",
       "    </tr>\n",
       "    <tr>\n",
       "      <th>3</th>\n",
       "      <td>Hotels.com</td>\n",
       "      <td>Hotels.com</td>\n",
       "      <td>�����������</td>\n",
       "      <td>10.0</td>\n",
       "      <td>NaN</td>\n",
       "      <td>NaN</td>\n",
       "      <td>�������� ��������� ������ �� �����, ����������...</td>\n",
       "      <td>2020-12-31 03:00:00</td>\n",
       "    </tr>\n",
       "    <tr>\n",
       "      <th>4</th>\n",
       "      <td>������.����</td>\n",
       "      <td>������.����</td>\n",
       "      <td>����� � �����������</td>\n",
       "      <td>NaN</td>\n",
       "      <td>Online</td>\n",
       "      <td>NaN</td>\n",
       "      <td>90 ���� �������� ������.����. ��������� �� ���...</td>\n",
       "      <td>2020-12-31 03:00:00</td>\n",
       "    </tr>\n",
       "  </tbody>\n",
       "</table>\n",
       "</div>"
      ],
      "text/plain": [
       "          partner_name           offer_name                category  \\\n",
       "0                Teana                Tean�  ���������� � ���������   \n",
       "1        Prime Travel          Prime Travel             �����������   \n",
       "2  Special Travel Club  Special Travel Club             �����������   \n",
       "3           Hotels.com           Hotels.com             �����������   \n",
       "4          ������.����          ������.����     ����� � �����������   \n",
       "\n",
       "   percents_ selltype city_name  \\\n",
       "0       10.0   Online       NaN   \n",
       "1        5.0   Online       NaN   \n",
       "2       12.0   Online       NaN   \n",
       "3       10.0      NaN       NaN   \n",
       "4        NaN   Online       NaN   \n",
       "\n",
       "                                             comment              enddate  \n",
       "0  ����������� ������������� ������ � ��������-��...  2021-10-01 03:00:00  \n",
       "1  ������ � ������� �������.����� ���������� ����...  2020-12-31 03:00:00  \n",
       "2                                                NaN  2020-12-31 03:00:00  \n",
       "3  �������� ��������� ������ �� �����, ����������...  2020-12-31 03:00:00  \n",
       "4  90 ���� �������� ������.����. ��������� �� ���...  2020-12-31 03:00:00  "
      ]
     },
     "execution_count": 9,
     "metadata": {},
     "output_type": "execute_result"
    }
   ],
   "source": [
    "df_s = pd.read_csv('skidki.csv', delimiter=';', engine='python')\n",
    "print(df_s.shape)\n",
    "df_s.head()"
   ]
  },
  {
   "cell_type": "code",
   "execution_count": 10,
   "metadata": {},
   "outputs": [
    {
     "name": "stdout",
     "output_type": "stream",
     "text": [
      "(503285, 2)\n"
     ]
    },
    {
     "data": {
      "text/html": [
       "<div>\n",
       "<style scoped>\n",
       "    .dataframe tbody tr th:only-of-type {\n",
       "        vertical-align: middle;\n",
       "    }\n",
       "\n",
       "    .dataframe tbody tr th {\n",
       "        vertical-align: top;\n",
       "    }\n",
       "\n",
       "    .dataframe thead th {\n",
       "        text-align: right;\n",
       "    }\n",
       "</style>\n",
       "<table border=\"1\" class=\"dataframe\">\n",
       "  <thead>\n",
       "    <tr style=\"text-align: right;\">\n",
       "      <th></th>\n",
       "      <th>store_name</th>\n",
       "      <th>merchant_name</th>\n",
       "    </tr>\n",
       "  </thead>\n",
       "  <tbody>\n",
       "    <tr>\n",
       "      <th>0</th>\n",
       "      <td>��������</td>\n",
       "      <td>VVVVVVVVVVVVSG/W7J4K 07ZL</td>\n",
       "    </tr>\n",
       "    <tr>\n",
       "      <th>1</th>\n",
       "      <td>����</td>\n",
       "      <td>VVVVVVVVVVVVR4U4 CXD1O</td>\n",
       "    </tr>\n",
       "    <tr>\n",
       "      <th>2</th>\n",
       "      <td>��������</td>\n",
       "      <td>VVVVVVVVVVV/078 WXWLH7J K</td>\n",
       "    </tr>\n",
       "    <tr>\n",
       "      <th>3</th>\n",
       "      <td>��������</td>\n",
       "      <td>VVVVVVVVVVV/08 7JJ4T7H AK</td>\n",
       "    </tr>\n",
       "    <tr>\n",
       "      <th>4</th>\n",
       "      <td>��������</td>\n",
       "      <td>VVVVVVVVVVV1SV6</td>\n",
       "    </tr>\n",
       "  </tbody>\n",
       "</table>\n",
       "</div>"
      ],
      "text/plain": [
       "  store_name              merchant_name\n",
       "0   ��������  VVVVVVVVVVVVSG/W7J4K 07ZL\n",
       "1       ����     VVVVVVVVVVVVR4U4 CXD1O\n",
       "2   ��������  VVVVVVVVVVV/078 WXWLH7J K\n",
       "3   ��������  VVVVVVVVVVV/08 7JJ4T7H AK\n",
       "4   ��������            VVVVVVVVVVV1SV6"
      ]
     },
     "execution_count": 10,
     "metadata": {},
     "output_type": "execute_result"
    }
   ],
   "source": [
    "df_sl = pd.read_csv('store_last_2.csv', delimiter=';', engine='python')\n",
    "print(df_sl.shape)\n",
    "df_sl.head()"
   ]
  },
  {
   "cell_type": "code",
   "execution_count": null,
   "metadata": {},
   "outputs": [],
   "source": []
  },
  {
   "cell_type": "code",
   "execution_count": 11,
   "metadata": {},
   "outputs": [
    {
     "name": "stdout",
     "output_type": "stream",
     "text": [
      "(1476470, 19)\n"
     ]
    },
    {
     "data": {
      "text/html": [
       "<div>\n",
       "<style scoped>\n",
       "    .dataframe tbody tr th:only-of-type {\n",
       "        vertical-align: middle;\n",
       "    }\n",
       "\n",
       "    .dataframe tbody tr th {\n",
       "        vertical-align: top;\n",
       "    }\n",
       "\n",
       "    .dataframe thead th {\n",
       "        text-align: right;\n",
       "    }\n",
       "</style>\n",
       "<table border=\"1\" class=\"dataframe\">\n",
       "  <thead>\n",
       "    <tr style=\"text-align: right;\">\n",
       "      <th></th>\n",
       "      <th>purchdate</th>\n",
       "      <th>amount</th>\n",
       "      <th>mcc</th>\n",
       "      <th>mrchcity</th>\n",
       "      <th>mrchname</th>\n",
       "      <th>cnum</th>\n",
       "      <th>category_x</th>\n",
       "      <th>store_name_x</th>\n",
       "      <th>merchant_name_x</th>\n",
       "      <th>created_at</th>\n",
       "      <th>cnum_</th>\n",
       "      <th>categorycode</th>\n",
       "      <th>gender</th>\n",
       "      <th>age</th>\n",
       "      <th>married_</th>\n",
       "      <th>residenttype</th>\n",
       "      <th>category_y</th>\n",
       "      <th>store_name_y</th>\n",
       "      <th>merchant_name_y</th>\n",
       "    </tr>\n",
       "  </thead>\n",
       "  <tbody>\n",
       "    <tr>\n",
       "      <th>0</th>\n",
       "      <td>2019-10-26 00:00:00</td>\n",
       "      <td>2097.00</td>\n",
       "      <td>5651</td>\n",
       "      <td>KRASNOYARSK</td>\n",
       "      <td>A&amp;C F6G</td>\n",
       "      <td>ELCMDT</td>\n",
       "      <td>Clothes</td>\n",
       "      <td>H&amp;M</td>\n",
       "      <td>A&amp;C F6G</td>\n",
       "      <td>2019-10-26</td>\n",
       "      <td>ELCMDT</td>\n",
       "      <td>81</td>\n",
       "      <td>M</td>\n",
       "      <td>50</td>\n",
       "      <td>married</td>\n",
       "      <td>R</td>\n",
       "      <td>Clothes</td>\n",
       "      <td>H&amp;M</td>\n",
       "      <td>A&amp;C F6G</td>\n",
       "    </tr>\n",
       "    <tr>\n",
       "      <th>1</th>\n",
       "      <td>2019-12-08 00:00:00</td>\n",
       "      <td>349.00</td>\n",
       "      <td>5651</td>\n",
       "      <td>KRASNOYARSK</td>\n",
       "      <td>A&amp;C F6G</td>\n",
       "      <td>QNQJMT</td>\n",
       "      <td>Clothes</td>\n",
       "      <td>H&amp;M</td>\n",
       "      <td>A&amp;C F6G</td>\n",
       "      <td>2019-12-08</td>\n",
       "      <td>QNQJMT</td>\n",
       "      <td>70</td>\n",
       "      <td>M</td>\n",
       "      <td>41</td>\n",
       "      <td>not_married</td>\n",
       "      <td>R</td>\n",
       "      <td>Clothes</td>\n",
       "      <td>H&amp;M</td>\n",
       "      <td>A&amp;C F6G</td>\n",
       "    </tr>\n",
       "    <tr>\n",
       "      <th>2</th>\n",
       "      <td>2019-12-14 00:00:00</td>\n",
       "      <td>1199.00</td>\n",
       "      <td>5651</td>\n",
       "      <td>KRASNOYARSK</td>\n",
       "      <td>A&amp;C F6G</td>\n",
       "      <td>7YCOHH</td>\n",
       "      <td>Clothes</td>\n",
       "      <td>H&amp;M</td>\n",
       "      <td>A&amp;C F6G</td>\n",
       "      <td>2019-12-14</td>\n",
       "      <td>7YCOHH</td>\n",
       "      <td>50</td>\n",
       "      <td>M</td>\n",
       "      <td>51</td>\n",
       "      <td>married</td>\n",
       "      <td>R</td>\n",
       "      <td>Clothes</td>\n",
       "      <td>H&amp;M</td>\n",
       "      <td>A&amp;C F6G</td>\n",
       "    </tr>\n",
       "    <tr>\n",
       "      <th>3</th>\n",
       "      <td>2019-10-06 00:00:00</td>\n",
       "      <td>1104.15</td>\n",
       "      <td>5651</td>\n",
       "      <td>KRASNOYARSK</td>\n",
       "      <td>A&amp;C F6G</td>\n",
       "      <td>EEQAEO</td>\n",
       "      <td>Clothes</td>\n",
       "      <td>H&amp;M</td>\n",
       "      <td>A&amp;C F6G</td>\n",
       "      <td>2019-10-06</td>\n",
       "      <td>EEQAEO</td>\n",
       "      <td>50</td>\n",
       "      <td>M</td>\n",
       "      <td>39</td>\n",
       "      <td>married</td>\n",
       "      <td>R</td>\n",
       "      <td>Clothes</td>\n",
       "      <td>H&amp;M</td>\n",
       "      <td>A&amp;C F6G</td>\n",
       "    </tr>\n",
       "    <tr>\n",
       "      <th>4</th>\n",
       "      <td>2019-11-26 00:00:00</td>\n",
       "      <td>799.00</td>\n",
       "      <td>5651</td>\n",
       "      <td>KRASNOYARSK</td>\n",
       "      <td>A&amp;C F6G</td>\n",
       "      <td>ELXNTK</td>\n",
       "      <td>Clothes</td>\n",
       "      <td>H&amp;M</td>\n",
       "      <td>A&amp;C F6G</td>\n",
       "      <td>2019-11-26</td>\n",
       "      <td>ELXNTK</td>\n",
       "      <td>70</td>\n",
       "      <td>M</td>\n",
       "      <td>40</td>\n",
       "      <td>married</td>\n",
       "      <td>R</td>\n",
       "      <td>Clothes</td>\n",
       "      <td>H&amp;M</td>\n",
       "      <td>A&amp;C F6G</td>\n",
       "    </tr>\n",
       "  </tbody>\n",
       "</table>\n",
       "</div>"
      ],
      "text/plain": [
       "             purchdate   amount   mcc     mrchcity mrchname    cnum  \\\n",
       "0  2019-10-26 00:00:00  2097.00  5651  KRASNOYARSK  A&C F6G  ELCMDT   \n",
       "1  2019-12-08 00:00:00   349.00  5651  KRASNOYARSK  A&C F6G  QNQJMT   \n",
       "2  2019-12-14 00:00:00  1199.00  5651  KRASNOYARSK  A&C F6G  7YCOHH   \n",
       "3  2019-10-06 00:00:00  1104.15  5651  KRASNOYARSK  A&C F6G  EEQAEO   \n",
       "4  2019-11-26 00:00:00   799.00  5651  KRASNOYARSK  A&C F6G  ELXNTK   \n",
       "\n",
       "  category_x store_name_x merchant_name_x  created_at   cnum_  categorycode  \\\n",
       "0    Clothes          H&M         A&C F6G  2019-10-26  ELCMDT            81   \n",
       "1    Clothes          H&M         A&C F6G  2019-12-08  QNQJMT            70   \n",
       "2    Clothes          H&M         A&C F6G  2019-12-14  7YCOHH            50   \n",
       "3    Clothes          H&M         A&C F6G  2019-10-06  EEQAEO            50   \n",
       "4    Clothes          H&M         A&C F6G  2019-11-26  ELXNTK            70   \n",
       "\n",
       "  gender  age     married_ residenttype category_y store_name_y  \\\n",
       "0      M   50      married            R    Clothes          H&M   \n",
       "1      M   41  not_married            R    Clothes          H&M   \n",
       "2      M   51      married            R    Clothes          H&M   \n",
       "3      M   39      married            R    Clothes          H&M   \n",
       "4      M   40      married            R    Clothes          H&M   \n",
       "\n",
       "  merchant_name_y  \n",
       "0         A&C F6G  \n",
       "1         A&C F6G  \n",
       "2         A&C F6G  \n",
       "3         A&C F6G  \n",
       "4         A&C F6G  "
      ]
     },
     "execution_count": 11,
     "metadata": {},
     "output_type": "execute_result"
    }
   ],
   "source": [
    "df_trans = df_trans.merge(\n",
    "    df_mcc.append(df_mccl).drop_duplicates(), \n",
    "    on='mcc', how='inner')\n",
    "df_trans = df_trans.merge(df_sl, left_on='mrchname', right_on='merchant_name')\n",
    "print(df_trans.shape)\n",
    "df_trans.head()"
   ]
  },
  {
   "cell_type": "code",
   "execution_count": 29,
   "metadata": {},
   "outputs": [
    {
     "data": {
      "text/plain": [
       "Clothes    1476470\n",
       "Name: category, dtype: int64"
      ]
     },
     "execution_count": 29,
     "metadata": {},
     "output_type": "execute_result"
    }
   ],
   "source": [
    "df_trans.category.value_counts()"
   ]
  },
  {
   "cell_type": "code",
   "execution_count": 110,
   "metadata": {},
   "outputs": [
    {
     "data": {
      "text/plain": [
       "Tous               589\n",
       "Crockid            585\n",
       "Mario Mikke        577\n",
       "The outnet         561\n",
       "Banana Republic    558\n",
       "Michael Kors       552\n",
       "Albione            552\n",
       "Swarovski          551\n",
       "������ �������     537\n",
       "Togas              535\n",
       "Triumph            532\n",
       "Deseo              525\n",
       "Armani Exchange    525\n",
       "Quiksilver         521\n",
       "Lc waikiki         517\n",
       "H&m                515\n",
       "Low price          507\n",
       "Kupivip.ru         497\n",
       "Prada              492\n",
       "Stefanel           489\n",
       "Name: store_name, dtype: int64"
      ]
     },
     "execution_count": 110,
     "metadata": {},
     "output_type": "execute_result"
    }
   ],
   "source": [
    "df_trans[df_trans.category == 'Clothes'].store_name.value_counts()[190:210]"
   ]
  },
  {
   "cell_type": "code",
   "execution_count": 158,
   "metadata": {},
   "outputs": [],
   "source": [
    "#store_name = 'Metro Cash&Carry'\n",
    "store_name = 'Louis Vuitton'\n",
    "store_name = 'H&M'"
   ]
  },
  {
   "cell_type": "code",
   "execution_count": 14,
   "metadata": {},
   "outputs": [
    {
     "name": "stderr",
     "output_type": "stream",
     "text": [
      "/home/konstantinlipkin/anaconda3/lib/python3.8/site-packages/tqdm/std.py:668: FutureWarning: The Panel class is removed from pandas. Accessing it from the top-level namespace will also be removed in the next version\n",
      "  from pandas import Panel\n",
      "100%|██████████| 1476470/1476470 [00:13<00:00, 106514.40it/s]\n"
     ]
    }
   ],
   "source": [
    "tqdm.pandas()\n",
    "df_trans['created_at'] = df_trans.purchdate.progress_apply(lambda x: dt.datetime.strptime(x, \"%Y-%m-%d %H:%M:%S\"))"
   ]
  },
  {
   "cell_type": "code",
   "execution_count": 32,
   "metadata": {},
   "outputs": [
    {
     "data": {
      "text/plain": [
       "Timestamp('2019-12-20 00:00:00')"
      ]
     },
     "execution_count": 32,
     "metadata": {},
     "output_type": "execute_result"
    }
   ],
   "source": [
    "df_trans.created_at.max()"
   ]
  },
  {
   "cell_type": "code",
   "execution_count": 70,
   "metadata": {},
   "outputs": [],
   "source": [
    "df_trans.sort_values(by=['created_at'], inplace=True)"
   ]
  },
  {
   "cell_type": "code",
   "execution_count": 71,
   "metadata": {},
   "outputs": [
    {
     "data": {
      "text/plain": [
       "14"
      ]
     },
     "execution_count": 71,
     "metadata": {},
     "output_type": "execute_result"
    }
   ],
   "source": [
    "def get_week(date):\n",
    "    day = date.day\n",
    "    if day < 7:\n",
    "        day = 1\n",
    "    elif day < 14:\n",
    "        day = 7\n",
    "    elif day < 21:\n",
    "        day = 14\n",
    "    else:\n",
    "        day = 21\n",
    "    return date.replace(day=day)\n",
    "    \n",
    "\n",
    "#dates_sorted = sorted(df_trans.created_at.apply(lambda x: x.replace(day=1)).unique())\n",
    "dates_sorted = sorted(df_trans.created_at.apply(get_week).unique())\n",
    "len(dates_sorted)"
   ]
  },
  {
   "cell_type": "code",
   "execution_count": 72,
   "metadata": {},
   "outputs": [
    {
     "name": "stderr",
     "output_type": "stream",
     "text": [
      "897it [00:00, 1297.65it/s]\n"
     ]
    }
   ],
   "source": [
    "#dates_sorted = df_trans.created_at.sort_values().unique()\n",
    "#dates_sorted = sorted(set([d.replace(day=1) for d in dates_sorted if isinstance(d, )]))\n",
    "\n",
    "#dates_sorted = sorted(dates_sorted.created_at.apply(lambda x: x.replace(day=1)).unique())\n",
    "\n",
    "res = pd.DataFrame(np.zeros((len(dates_sorted), len(dates_sorted))), columns=list(range(len(dates_sorted))), index=dates_sorted)\n",
    "\n",
    "unique_users = list()\n",
    "dates = list()\n",
    "\n",
    "for idx, row in tqdm(df_trans[df_trans.store_name == store_name].iterrows()):\n",
    "    #created_at = row.created_at.replace(day=1)\n",
    "    created_at = get_week(row.created_at)\n",
    "    if row.cnum not in unique_users:\n",
    "        unique_users.append(row.cnum)\n",
    "        dates.append(created_at)\n",
    "    else:\n",
    "        #print(unique_users.index(row['cnum']))\n",
    "        #print(row['created_at'])\n",
    "        #print(dates[unique_users.index(row['cnum'])])\n",
    "        #print((row['created_at'] - dates[unique_users.index(row['cnum'])]).days)\n",
    "        res.loc[dates[unique_users.index(row['cnum'])], int((created_at - dates[unique_users.index(row['cnum'])]).days / 7)] += 1"
   ]
  },
  {
   "cell_type": "code",
   "execution_count": 73,
   "metadata": {},
   "outputs": [
    {
     "data": {
      "text/plain": [
       "Timestamp('2019-12-01 00:00:00')"
      ]
     },
     "execution_count": 73,
     "metadata": {},
     "output_type": "execute_result"
    }
   ],
   "source": [
    "dates[unique_users.index(row['cnum'])]"
   ]
  },
  {
   "cell_type": "code",
   "execution_count": 49,
   "metadata": {},
   "outputs": [
    {
     "data": {
      "text/plain": [
       "58366.675"
      ]
     },
     "execution_count": 49,
     "metadata": {},
     "output_type": "execute_result"
    }
   ],
   "source": [
    "df_trans[df_trans.cnum == 'ELETCO'].amount.median()"
   ]
  },
  {
   "cell_type": "code",
   "execution_count": 74,
   "metadata": {},
   "outputs": [
    {
     "data": {
      "text/html": [
       "<div>\n",
       "<style scoped>\n",
       "    .dataframe tbody tr th:only-of-type {\n",
       "        vertical-align: middle;\n",
       "    }\n",
       "\n",
       "    .dataframe tbody tr th {\n",
       "        vertical-align: top;\n",
       "    }\n",
       "\n",
       "    .dataframe thead th {\n",
       "        text-align: right;\n",
       "    }\n",
       "</style>\n",
       "<table border=\"1\" class=\"dataframe\">\n",
       "  <thead>\n",
       "    <tr style=\"text-align: right;\">\n",
       "      <th></th>\n",
       "      <th>0</th>\n",
       "      <th>1</th>\n",
       "      <th>2</th>\n",
       "      <th>3</th>\n",
       "      <th>4</th>\n",
       "      <th>5</th>\n",
       "      <th>6</th>\n",
       "      <th>7</th>\n",
       "      <th>8</th>\n",
       "      <th>9</th>\n",
       "      <th>10</th>\n",
       "      <th>11</th>\n",
       "      <th>12</th>\n",
       "      <th>13</th>\n",
       "    </tr>\n",
       "  </thead>\n",
       "  <tbody>\n",
       "    <tr>\n",
       "      <th>2019-09-07</th>\n",
       "      <td>0.0</td>\n",
       "      <td>0.0</td>\n",
       "      <td>0.0</td>\n",
       "      <td>0.0</td>\n",
       "      <td>0.0</td>\n",
       "      <td>0.0</td>\n",
       "      <td>0.0</td>\n",
       "      <td>0.0</td>\n",
       "      <td>0.0</td>\n",
       "      <td>0.0</td>\n",
       "      <td>0.0</td>\n",
       "      <td>0.0</td>\n",
       "      <td>0.0</td>\n",
       "      <td>0.0</td>\n",
       "    </tr>\n",
       "    <tr>\n",
       "      <th>2019-09-14</th>\n",
       "      <td>1.0</td>\n",
       "      <td>1.0</td>\n",
       "      <td>2.0</td>\n",
       "      <td>3.0</td>\n",
       "      <td>2.0</td>\n",
       "      <td>0.0</td>\n",
       "      <td>0.0</td>\n",
       "      <td>0.0</td>\n",
       "      <td>2.0</td>\n",
       "      <td>0.0</td>\n",
       "      <td>0.0</td>\n",
       "      <td>1.0</td>\n",
       "      <td>1.0</td>\n",
       "      <td>1.0</td>\n",
       "    </tr>\n",
       "    <tr>\n",
       "      <th>2019-09-21</th>\n",
       "      <td>8.0</td>\n",
       "      <td>1.0</td>\n",
       "      <td>3.0</td>\n",
       "      <td>1.0</td>\n",
       "      <td>3.0</td>\n",
       "      <td>2.0</td>\n",
       "      <td>4.0</td>\n",
       "      <td>2.0</td>\n",
       "      <td>2.0</td>\n",
       "      <td>0.0</td>\n",
       "      <td>0.0</td>\n",
       "      <td>2.0</td>\n",
       "      <td>2.0</td>\n",
       "      <td>0.0</td>\n",
       "    </tr>\n",
       "    <tr>\n",
       "      <th>2019-10-01</th>\n",
       "      <td>2.0</td>\n",
       "      <td>0.0</td>\n",
       "      <td>0.0</td>\n",
       "      <td>0.0</td>\n",
       "      <td>0.0</td>\n",
       "      <td>0.0</td>\n",
       "      <td>0.0</td>\n",
       "      <td>1.0</td>\n",
       "      <td>0.0</td>\n",
       "      <td>0.0</td>\n",
       "      <td>0.0</td>\n",
       "      <td>0.0</td>\n",
       "      <td>0.0</td>\n",
       "      <td>0.0</td>\n",
       "    </tr>\n",
       "    <tr>\n",
       "      <th>2019-10-07</th>\n",
       "      <td>4.0</td>\n",
       "      <td>2.0</td>\n",
       "      <td>2.0</td>\n",
       "      <td>1.0</td>\n",
       "      <td>1.0</td>\n",
       "      <td>2.0</td>\n",
       "      <td>1.0</td>\n",
       "      <td>2.0</td>\n",
       "      <td>4.0</td>\n",
       "      <td>0.0</td>\n",
       "      <td>0.0</td>\n",
       "      <td>0.0</td>\n",
       "      <td>0.0</td>\n",
       "      <td>0.0</td>\n",
       "    </tr>\n",
       "    <tr>\n",
       "      <th>2019-10-14</th>\n",
       "      <td>3.0</td>\n",
       "      <td>2.0</td>\n",
       "      <td>2.0</td>\n",
       "      <td>2.0</td>\n",
       "      <td>1.0</td>\n",
       "      <td>5.0</td>\n",
       "      <td>1.0</td>\n",
       "      <td>1.0</td>\n",
       "      <td>1.0</td>\n",
       "      <td>0.0</td>\n",
       "      <td>0.0</td>\n",
       "      <td>0.0</td>\n",
       "      <td>0.0</td>\n",
       "      <td>0.0</td>\n",
       "    </tr>\n",
       "    <tr>\n",
       "      <th>2019-10-21</th>\n",
       "      <td>10.0</td>\n",
       "      <td>2.0</td>\n",
       "      <td>0.0</td>\n",
       "      <td>2.0</td>\n",
       "      <td>4.0</td>\n",
       "      <td>0.0</td>\n",
       "      <td>0.0</td>\n",
       "      <td>0.0</td>\n",
       "      <td>0.0</td>\n",
       "      <td>0.0</td>\n",
       "      <td>0.0</td>\n",
       "      <td>0.0</td>\n",
       "      <td>0.0</td>\n",
       "      <td>0.0</td>\n",
       "    </tr>\n",
       "    <tr>\n",
       "      <th>2019-11-01</th>\n",
       "      <td>7.0</td>\n",
       "      <td>3.0</td>\n",
       "      <td>0.0</td>\n",
       "      <td>0.0</td>\n",
       "      <td>0.0</td>\n",
       "      <td>4.0</td>\n",
       "      <td>0.0</td>\n",
       "      <td>0.0</td>\n",
       "      <td>0.0</td>\n",
       "      <td>0.0</td>\n",
       "      <td>0.0</td>\n",
       "      <td>0.0</td>\n",
       "      <td>0.0</td>\n",
       "      <td>0.0</td>\n",
       "    </tr>\n",
       "    <tr>\n",
       "      <th>2019-11-07</th>\n",
       "      <td>1.0</td>\n",
       "      <td>3.0</td>\n",
       "      <td>2.0</td>\n",
       "      <td>0.0</td>\n",
       "      <td>0.0</td>\n",
       "      <td>0.0</td>\n",
       "      <td>0.0</td>\n",
       "      <td>0.0</td>\n",
       "      <td>0.0</td>\n",
       "      <td>0.0</td>\n",
       "      <td>0.0</td>\n",
       "      <td>0.0</td>\n",
       "      <td>0.0</td>\n",
       "      <td>0.0</td>\n",
       "    </tr>\n",
       "    <tr>\n",
       "      <th>2019-11-14</th>\n",
       "      <td>3.0</td>\n",
       "      <td>3.0</td>\n",
       "      <td>4.0</td>\n",
       "      <td>5.0</td>\n",
       "      <td>0.0</td>\n",
       "      <td>0.0</td>\n",
       "      <td>0.0</td>\n",
       "      <td>0.0</td>\n",
       "      <td>0.0</td>\n",
       "      <td>0.0</td>\n",
       "      <td>0.0</td>\n",
       "      <td>0.0</td>\n",
       "      <td>0.0</td>\n",
       "      <td>0.0</td>\n",
       "    </tr>\n",
       "    <tr>\n",
       "      <th>2019-11-21</th>\n",
       "      <td>4.0</td>\n",
       "      <td>3.0</td>\n",
       "      <td>5.0</td>\n",
       "      <td>1.0</td>\n",
       "      <td>0.0</td>\n",
       "      <td>0.0</td>\n",
       "      <td>0.0</td>\n",
       "      <td>0.0</td>\n",
       "      <td>0.0</td>\n",
       "      <td>0.0</td>\n",
       "      <td>0.0</td>\n",
       "      <td>0.0</td>\n",
       "      <td>0.0</td>\n",
       "      <td>0.0</td>\n",
       "    </tr>\n",
       "    <tr>\n",
       "      <th>2019-12-01</th>\n",
       "      <td>6.0</td>\n",
       "      <td>2.0</td>\n",
       "      <td>0.0</td>\n",
       "      <td>0.0</td>\n",
       "      <td>0.0</td>\n",
       "      <td>0.0</td>\n",
       "      <td>0.0</td>\n",
       "      <td>0.0</td>\n",
       "      <td>0.0</td>\n",
       "      <td>0.0</td>\n",
       "      <td>0.0</td>\n",
       "      <td>0.0</td>\n",
       "      <td>0.0</td>\n",
       "      <td>0.0</td>\n",
       "    </tr>\n",
       "    <tr>\n",
       "      <th>2019-12-07</th>\n",
       "      <td>8.0</td>\n",
       "      <td>4.0</td>\n",
       "      <td>0.0</td>\n",
       "      <td>0.0</td>\n",
       "      <td>0.0</td>\n",
       "      <td>0.0</td>\n",
       "      <td>0.0</td>\n",
       "      <td>0.0</td>\n",
       "      <td>0.0</td>\n",
       "      <td>0.0</td>\n",
       "      <td>0.0</td>\n",
       "      <td>0.0</td>\n",
       "      <td>0.0</td>\n",
       "      <td>0.0</td>\n",
       "    </tr>\n",
       "    <tr>\n",
       "      <th>2019-12-14</th>\n",
       "      <td>3.0</td>\n",
       "      <td>0.0</td>\n",
       "      <td>0.0</td>\n",
       "      <td>0.0</td>\n",
       "      <td>0.0</td>\n",
       "      <td>0.0</td>\n",
       "      <td>0.0</td>\n",
       "      <td>0.0</td>\n",
       "      <td>0.0</td>\n",
       "      <td>0.0</td>\n",
       "      <td>0.0</td>\n",
       "      <td>0.0</td>\n",
       "      <td>0.0</td>\n",
       "      <td>0.0</td>\n",
       "    </tr>\n",
       "  </tbody>\n",
       "</table>\n",
       "</div>"
      ],
      "text/plain": [
       "              0    1    2    3    4    5    6    7    8    9    10   11   12  \\\n",
       "2019-09-07   0.0  0.0  0.0  0.0  0.0  0.0  0.0  0.0  0.0  0.0  0.0  0.0  0.0   \n",
       "2019-09-14   1.0  1.0  2.0  3.0  2.0  0.0  0.0  0.0  2.0  0.0  0.0  1.0  1.0   \n",
       "2019-09-21   8.0  1.0  3.0  1.0  3.0  2.0  4.0  2.0  2.0  0.0  0.0  2.0  2.0   \n",
       "2019-10-01   2.0  0.0  0.0  0.0  0.0  0.0  0.0  1.0  0.0  0.0  0.0  0.0  0.0   \n",
       "2019-10-07   4.0  2.0  2.0  1.0  1.0  2.0  1.0  2.0  4.0  0.0  0.0  0.0  0.0   \n",
       "2019-10-14   3.0  2.0  2.0  2.0  1.0  5.0  1.0  1.0  1.0  0.0  0.0  0.0  0.0   \n",
       "2019-10-21  10.0  2.0  0.0  2.0  4.0  0.0  0.0  0.0  0.0  0.0  0.0  0.0  0.0   \n",
       "2019-11-01   7.0  3.0  0.0  0.0  0.0  4.0  0.0  0.0  0.0  0.0  0.0  0.0  0.0   \n",
       "2019-11-07   1.0  3.0  2.0  0.0  0.0  0.0  0.0  0.0  0.0  0.0  0.0  0.0  0.0   \n",
       "2019-11-14   3.0  3.0  4.0  5.0  0.0  0.0  0.0  0.0  0.0  0.0  0.0  0.0  0.0   \n",
       "2019-11-21   4.0  3.0  5.0  1.0  0.0  0.0  0.0  0.0  0.0  0.0  0.0  0.0  0.0   \n",
       "2019-12-01   6.0  2.0  0.0  0.0  0.0  0.0  0.0  0.0  0.0  0.0  0.0  0.0  0.0   \n",
       "2019-12-07   8.0  4.0  0.0  0.0  0.0  0.0  0.0  0.0  0.0  0.0  0.0  0.0  0.0   \n",
       "2019-12-14   3.0  0.0  0.0  0.0  0.0  0.0  0.0  0.0  0.0  0.0  0.0  0.0  0.0   \n",
       "\n",
       "             13  \n",
       "2019-09-07  0.0  \n",
       "2019-09-14  1.0  \n",
       "2019-09-21  0.0  \n",
       "2019-10-01  0.0  \n",
       "2019-10-07  0.0  \n",
       "2019-10-14  0.0  \n",
       "2019-10-21  0.0  \n",
       "2019-11-01  0.0  \n",
       "2019-11-07  0.0  \n",
       "2019-11-14  0.0  \n",
       "2019-11-21  0.0  \n",
       "2019-12-01  0.0  \n",
       "2019-12-07  0.0  \n",
       "2019-12-14  0.0  "
      ]
     },
     "execution_count": 74,
     "metadata": {},
     "output_type": "execute_result"
    }
   ],
   "source": [
    "res"
   ]
  },
  {
   "cell_type": "code",
   "execution_count": 75,
   "metadata": {},
   "outputs": [
    {
     "data": {
      "text/plain": [
       "0     1.000000\n",
       "1     0.433333\n",
       "2     0.333333\n",
       "3     0.250000\n",
       "4     0.183333\n",
       "5     0.216667\n",
       "6     0.100000\n",
       "7     0.100000\n",
       "8     0.150000\n",
       "9     0.000000\n",
       "10    0.000000\n",
       "11    0.050000\n",
       "12    0.050000\n",
       "13    0.016667\n",
       "dtype: float64"
      ]
     },
     "execution_count": 75,
     "metadata": {},
     "output_type": "execute_result"
    }
   ],
   "source": [
    "res.sum(axis=0) / res.sum(axis=0).max()"
   ]
  },
  {
   "cell_type": "code",
   "execution_count": 76,
   "metadata": {},
   "outputs": [
    {
     "name": "stdout",
     "output_type": "stream",
     "text": [
      "2019-12-01 00:00:00\n",
      "2019-12-14 00:00:00\n"
     ]
    }
   ],
   "source": [
    "print(dates[unique_users.index(row['cnum'])])\n",
    "print(created_at)"
   ]
  },
  {
   "cell_type": "code",
   "execution_count": 77,
   "metadata": {},
   "outputs": [
    {
     "data": {
      "text/html": [
       "<div>\n",
       "<style scoped>\n",
       "    .dataframe tbody tr th:only-of-type {\n",
       "        vertical-align: middle;\n",
       "    }\n",
       "\n",
       "    .dataframe tbody tr th {\n",
       "        vertical-align: top;\n",
       "    }\n",
       "\n",
       "    .dataframe thead th {\n",
       "        text-align: right;\n",
       "    }\n",
       "</style>\n",
       "<table border=\"1\" class=\"dataframe\">\n",
       "  <thead>\n",
       "    <tr style=\"text-align: right;\">\n",
       "      <th></th>\n",
       "      <th>%</th>\n",
       "      <th>week_delta</th>\n",
       "    </tr>\n",
       "  </thead>\n",
       "  <tbody>\n",
       "    <tr>\n",
       "      <th>0</th>\n",
       "      <td>1.000000</td>\n",
       "      <td>0</td>\n",
       "    </tr>\n",
       "    <tr>\n",
       "      <th>1</th>\n",
       "      <td>0.433333</td>\n",
       "      <td>1</td>\n",
       "    </tr>\n",
       "    <tr>\n",
       "      <th>2</th>\n",
       "      <td>0.333333</td>\n",
       "      <td>2</td>\n",
       "    </tr>\n",
       "    <tr>\n",
       "      <th>3</th>\n",
       "      <td>0.250000</td>\n",
       "      <td>3</td>\n",
       "    </tr>\n",
       "    <tr>\n",
       "      <th>4</th>\n",
       "      <td>0.183333</td>\n",
       "      <td>4</td>\n",
       "    </tr>\n",
       "    <tr>\n",
       "      <th>5</th>\n",
       "      <td>0.216667</td>\n",
       "      <td>5</td>\n",
       "    </tr>\n",
       "    <tr>\n",
       "      <th>6</th>\n",
       "      <td>0.100000</td>\n",
       "      <td>6</td>\n",
       "    </tr>\n",
       "    <tr>\n",
       "      <th>7</th>\n",
       "      <td>0.100000</td>\n",
       "      <td>7</td>\n",
       "    </tr>\n",
       "    <tr>\n",
       "      <th>8</th>\n",
       "      <td>0.150000</td>\n",
       "      <td>8</td>\n",
       "    </tr>\n",
       "    <tr>\n",
       "      <th>9</th>\n",
       "      <td>0.000000</td>\n",
       "      <td>9</td>\n",
       "    </tr>\n",
       "    <tr>\n",
       "      <th>10</th>\n",
       "      <td>0.000000</td>\n",
       "      <td>10</td>\n",
       "    </tr>\n",
       "    <tr>\n",
       "      <th>11</th>\n",
       "      <td>0.050000</td>\n",
       "      <td>11</td>\n",
       "    </tr>\n",
       "    <tr>\n",
       "      <th>12</th>\n",
       "      <td>0.050000</td>\n",
       "      <td>12</td>\n",
       "    </tr>\n",
       "    <tr>\n",
       "      <th>13</th>\n",
       "      <td>0.016667</td>\n",
       "      <td>13</td>\n",
       "    </tr>\n",
       "  </tbody>\n",
       "</table>\n",
       "</div>"
      ],
      "text/plain": [
       "           %  week_delta\n",
       "0   1.000000           0\n",
       "1   0.433333           1\n",
       "2   0.333333           2\n",
       "3   0.250000           3\n",
       "4   0.183333           4\n",
       "5   0.216667           5\n",
       "6   0.100000           6\n",
       "7   0.100000           7\n",
       "8   0.150000           8\n",
       "9   0.000000           9\n",
       "10  0.000000          10\n",
       "11  0.050000          11\n",
       "12  0.050000          12\n",
       "13  0.016667          13"
      ]
     },
     "execution_count": 77,
     "metadata": {},
     "output_type": "execute_result"
    }
   ],
   "source": [
    "df_plot = pd.DataFrame(res.sum(axis=0) / res.sum(axis=0).max(), columns=['%'])\n",
    "df_plot['week_delta'] = range(len(df_plot))\n",
    "df_plot"
   ]
  },
  {
   "cell_type": "code",
   "execution_count": 88,
   "metadata": {},
   "outputs": [
    {
     "name": "stderr",
     "output_type": "stream",
     "text": [
      " 51%|█████     | 48/95 [13:51<13:34, 17.33s/it]  \n"
     ]
    }
   ],
   "source": [
    "#dates_sorted = df_trans.created_at.sort_values().unique()\n",
    "#dates_sorted = sorted(set([d.replace(day=1) for d in dates_sorted if isinstance(d, )]))\n",
    "\n",
    "#dates_sorted = sorted(dates_sorted.created_at.apply(lambda x: x.replace(day=1)).unique())\n",
    "\n",
    "retention_all = []\n",
    "\n",
    "for sn in tqdm(df_trans.store_name.unique()[::20], total=len(df_trans.store_name.unique()[::10])):\n",
    "    dates_sorted = sorted(df_trans.created_at.apply(get_week).unique())\n",
    "\n",
    "    res_all = pd.DataFrame(np.zeros((len(dates_sorted), len(dates_sorted))), columns=list(range(len(dates_sorted))), index=dates_sorted)\n",
    "\n",
    "    unique_users = list()\n",
    "    dates = list()\n",
    "\n",
    "    for idx, row in df_trans[df_trans.store_name == sn].iterrows():\n",
    "        #created_at = row.created_at.replace(day=1)\n",
    "        created_at = get_week(row.created_at)\n",
    "        if row.cnum not in unique_users:\n",
    "            unique_users.append(row.cnum)\n",
    "            dates.append(created_at)\n",
    "        else:\n",
    "            #print(unique_users.index(row['cnum']))\n",
    "            #print(row['created_at'])\n",
    "            #print(dates[unique_users.index(row['cnum'])])\n",
    "            #print((row['created_at'] - dates[unique_users.index(row['cnum'])]).days)\n",
    "            res_all.loc[dates[unique_users.index(row['cnum'])], int((created_at - dates[unique_users.index(row['cnum'])]).days / 7)] += 1\n",
    "            \n",
    "    ret = (res_all.sum(axis=0) / res_all.sum(axis=0).max()).fillna(0.)\n",
    "    \n",
    "    if len(retention_all) == 0:\n",
    "        retention_all = ret\n",
    "    else:\n",
    "        retention_all += ret"
   ]
  },
  {
   "cell_type": "code",
   "execution_count": 94,
   "metadata": {},
   "outputs": [
    {
     "data": {
      "text/html": [
       "<div>\n",
       "<style scoped>\n",
       "    .dataframe tbody tr th:only-of-type {\n",
       "        vertical-align: middle;\n",
       "    }\n",
       "\n",
       "    .dataframe tbody tr th {\n",
       "        vertical-align: top;\n",
       "    }\n",
       "\n",
       "    .dataframe thead th {\n",
       "        text-align: right;\n",
       "    }\n",
       "</style>\n",
       "<table border=\"1\" class=\"dataframe\">\n",
       "  <thead>\n",
       "    <tr style=\"text-align: right;\">\n",
       "      <th></th>\n",
       "      <th>%</th>\n",
       "      <th>week_delta</th>\n",
       "    </tr>\n",
       "  </thead>\n",
       "  <tbody>\n",
       "    <tr>\n",
       "      <th>0</th>\n",
       "      <td>0.611111</td>\n",
       "      <td>0</td>\n",
       "    </tr>\n",
       "    <tr>\n",
       "      <th>1</th>\n",
       "      <td>0.216480</td>\n",
       "      <td>1</td>\n",
       "    </tr>\n",
       "    <tr>\n",
       "      <th>2</th>\n",
       "      <td>0.162540</td>\n",
       "      <td>2</td>\n",
       "    </tr>\n",
       "    <tr>\n",
       "      <th>3</th>\n",
       "      <td>0.131244</td>\n",
       "      <td>3</td>\n",
       "    </tr>\n",
       "    <tr>\n",
       "      <th>4</th>\n",
       "      <td>0.163945</td>\n",
       "      <td>4</td>\n",
       "    </tr>\n",
       "    <tr>\n",
       "      <th>5</th>\n",
       "      <td>0.118988</td>\n",
       "      <td>5</td>\n",
       "    </tr>\n",
       "    <tr>\n",
       "      <th>6</th>\n",
       "      <td>0.122268</td>\n",
       "      <td>6</td>\n",
       "    </tr>\n",
       "    <tr>\n",
       "      <th>7</th>\n",
       "      <td>0.093618</td>\n",
       "      <td>7</td>\n",
       "    </tr>\n",
       "    <tr>\n",
       "      <th>8</th>\n",
       "      <td>0.109685</td>\n",
       "      <td>8</td>\n",
       "    </tr>\n",
       "    <tr>\n",
       "      <th>9</th>\n",
       "      <td>0.038387</td>\n",
       "      <td>9</td>\n",
       "    </tr>\n",
       "    <tr>\n",
       "      <th>10</th>\n",
       "      <td>0.015663</td>\n",
       "      <td>10</td>\n",
       "    </tr>\n",
       "    <tr>\n",
       "      <th>11</th>\n",
       "      <td>0.023714</td>\n",
       "      <td>11</td>\n",
       "    </tr>\n",
       "    <tr>\n",
       "      <th>12</th>\n",
       "      <td>0.028291</td>\n",
       "      <td>12</td>\n",
       "    </tr>\n",
       "    <tr>\n",
       "      <th>13</th>\n",
       "      <td>0.009670</td>\n",
       "      <td>13</td>\n",
       "    </tr>\n",
       "  </tbody>\n",
       "</table>\n",
       "</div>"
      ],
      "text/plain": [
       "           %  week_delta\n",
       "0   0.611111           0\n",
       "1   0.216480           1\n",
       "2   0.162540           2\n",
       "3   0.131244           3\n",
       "4   0.163945           4\n",
       "5   0.118988           5\n",
       "6   0.122268           6\n",
       "7   0.093618           7\n",
       "8   0.109685           8\n",
       "9   0.038387           9\n",
       "10  0.015663          10\n",
       "11  0.023714          11\n",
       "12  0.028291          12\n",
       "13  0.009670          13"
      ]
     },
     "execution_count": 94,
     "metadata": {},
     "output_type": "execute_result"
    }
   ],
   "source": [
    "df_plot_all = pd.DataFrame(retention_all / 48, columns=['%'])\n",
    "df_plot_all['week_delta'] = range(len(df_plot_all))\n",
    "df_plot_all"
   ]
  },
  {
   "cell_type": "code",
   "execution_count": 95,
   "metadata": {},
   "outputs": [
    {
     "data": {
      "image/png": "[encoded data removed]",
      "text/plain": [
       "<Figure size 432x288 with 1 Axes>"
      ]
     },
     "metadata": {
      "needs_background": "light"
     },
     "output_type": "display_data"
    }
   ],
   "source": [
    "import seaborn as sns\n",
    "\n",
    "ax = sns.lineplot(data=df_plot, x='week_delta', y='%');\n",
    "sns.lineplot(data=df_plot_all, x='week_delta', y='%');\n",
    "ax.set_title('Retention');"
   ]
  },
  {
   "cell_type": "code",
   "execution_count": 23,
   "metadata": {},
   "outputs": [
    {
     "name": "stderr",
     "output_type": "stream",
     "text": [
      "100%|██████████| 1476470/1476470 [00:09<00:00, 148746.48it/s]\n"
     ]
    }
   ],
   "source": [
    "df_trans['month'] = df_trans.created_at.progress_apply(lambda x: x.replace(day=1))"
   ]
  },
  {
   "cell_type": "code",
   "execution_count": 34,
   "metadata": {},
   "outputs": [],
   "source": [
    "df_trans['current_store_name'] = df_trans.store_name.apply(lambda x: x if x == store_name else 'Others')"
   ]
  },
  {
   "cell_type": "code",
   "execution_count": 37,
   "metadata": {},
   "outputs": [
    {
     "data": {
      "image/png": "[encoded data removed]",
      "text/plain": [
       "<Figure size 432x288 with 1 Axes>"
      ]
     },
     "metadata": {
      "needs_background": "light"
     },
     "output_type": "display_data"
    }
   ],
   "source": [
    "sns.countplot(data=df_trans, x='month', hue='current_store_name');"
   ]
  },
  {
   "cell_type": "code",
   "execution_count": 159,
   "metadata": {},
   "outputs": [],
   "source": [
    "pivot = df_trans.pivot_table(['mcc'], ['store_name'], aggfunc='count')\n",
    "pivot.rename(columns={'mcc': 'purchase_count'}, inplace=True)\n",
    "pivot.sort_values(by='purchase_count', ascending=False, inplace=True)\n",
    "\n",
    "stores_of_interest = [store_name] + pivot.index.to_list()[:20]"
   ]
  },
  {
   "cell_type": "code",
   "execution_count": 177,
   "metadata": {},
   "outputs": [],
   "source": [
    "pivot = df_trans.pivot_table(['created_at', 'mcc'], ['store_name'], aggfunc={'created_at': 'min', 'mcc': 'count'})\n",
    "pivot.rename(columns={'mcc': 'purchase_count'}, inplace=True)\n",
    "pivot.sort_values(by=['purchase_count', 'created_at'], ascending=False, inplace=True)\n",
    "\n",
    "top_k = 15\n",
    "if store_name not in pivot.index.to_list()[:top_k]:\n",
    "    stores_of_interest = [store_name] + pivot.index.to_list()[:top_k]\n",
    "else:\n",
    "    stores_of_interest = pivot.index.to_list()[:top_k]\n",
    "    stores_of_interest.remove(store_name)\n",
    "    stores_of_interest = [store_name] + stores_of_interest\n",
    "    \n",
    "#stores_of_interest.insert(0, stores_of_interest.pop(-1))"
   ]
  },
  {
   "cell_type": "code",
   "execution_count": 178,
   "metadata": {},
   "outputs": [
    {
     "data": {
      "image/png": "[encoded data removed]",
      "text/plain": [
       "<Figure size 864x504 with 1 Axes>"
      ]
     },
     "metadata": {
      "needs_background": "light"
     },
     "output_type": "display_data"
    }
   ],
   "source": [
    "sns.countplot(data=df_trans[df_trans.store_name.isin(stores_of_interest)], y='month', hue='store_name', hue_order=stores_of_interest);"
   ]
  },
  {
   "cell_type": "code",
   "execution_count": 179,
   "metadata": {},
   "outputs": [
    {
     "data": {
      "text/plain": [
       "<matplotlib.legend.Legend at 0x7f894274c070>"
      ]
     },
     "execution_count": 179,
     "metadata": {},
     "output_type": "execute_result"
    },
    {
     "data": {
      "image/png": "[encoded data removed]",
      "text/plain": [
       "<Figure size 864x504 with 1 Axes>"
      ]
     },
     "metadata": {
      "needs_background": "light"
     },
     "output_type": "display_data"
    }
   ],
   "source": [
    "sns.lineplot(data=df_trans[df_trans.store_name.isin(stores_of_interest)].pivot_table(['amount'], ['month', 'store_name'], aggfunc='median').reset_index(), x='month', y='amount', hue='store_name', hue_order=stores_of_interest, );\n",
    "plt.legend(bbox_to_anchor=(1.05, 1), loc=2, borderaxespad=0.)"
   ]
  },
  {
   "cell_type": "code",
   "execution_count": null,
   "metadata": {},
   "outputs": [],
   "source": []
  }
 ],
 "metadata": {
  "kernelspec": {
   "display_name": "Python 3",
   "language": "python",
   "name": "python3"
  },
  "language_info": {
   "codemirror_mode": {
    "name": "ipython",
    "version": 3
   },
   "file_extension": ".py",
   "mimetype": "text/x-python",
   "name": "python",
   "nbconvert_exporter": "python",
   "pygments_lexer": "ipython3",
   "version": "3.8.3"
  }
 },
 "nbformat": 4,
 "nbformat_minor": 4
}
